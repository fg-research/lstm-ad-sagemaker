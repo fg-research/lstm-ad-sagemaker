{
 "cells": [
  {
   "cell_type": "markdown",
   "id": "87deba9d-ff5b-4e7b-ade5-b30c341a7afa",
   "metadata": {},
   "source": [
    "# ECG Anomaly Detection with the LSTM-AD SageMaker Algorithm"
   ]
  },
  {
   "cell_type": "markdown",
   "id": "2161c326-9263-4f5c-b7b0-8c8ed60f956c",
   "metadata": {},
   "source": [
    "**Dataset link:** https://www.cs.ucr.edu/~eamonn/time_series_data_2018/UCR_TimeSeriesAnomalyDatasets2021.zip\n",
    "\n",
    "**Blog post:** https://fg-research.com/blog/product/posts/lstm-ad-ecg-anomaly-detection.html"
   ]
  },
  {
   "cell_type": "markdown",
   "id": "f56f1a46-73b9-4cde-b939-a326a6807009",
   "metadata": {},
   "source": [
    "### 1. Environment set-up"
   ]
  },
  {
   "cell_type": "markdown",
   "id": "8ee3df38-2d9f-4377-9931-3525900b6478",
   "metadata": {},
   "source": [
    "1. This notebook contains elements which render correctly in Jupyter interface. Open this notebook from an Amazon SageMaker Notebook Instance or Amazon SageMaker Studio.\n",
    "1. Ensure that IAM role used has **AmazonSageMakerFullAccess**\n",
    "1. Some hands-on experience using [Amazon SageMaker](https://aws.amazon.com/sagemaker/).\n",
    "1. To use this algorithm successfully, ensure that:\n",
    "    1. Either your IAM role has these three permissions and you have authority to make AWS Marketplace subscriptions in the AWS account used: \n",
    "        1. **aws-marketplace:ViewSubscriptions**\n",
    "        1. **aws-marketplace:Unsubscribe**\n",
    "        1. **aws-marketplace:Subscribe**  \n",
    "    2. or your AWS account has a subscription to the [Time Series Anomaly Detection (LSTM-AD) Algorithm from AWS Marketplace](https://aws.amazon.com/marketplace/pp/prodview-4pbvedtnnlphw).\n",
    "\n",
    "To subscribe to the algorithm:\n",
    "1. Open the algorithm listing page.\n",
    "1. On the AWS Marketplace listing, click on the **Continue to subscribe** button.\n",
    "1. On the **Subscribe to this software** page, review and click on **\"Accept Offer\"** if you agree with EULA, pricing, and support terms. \n",
    "1. Once you click on the **Continue to configuration** button and then choose a **region**, you will see a **Product ARN**. This is the algorithm ARN that you need to specify while training a custom ML model. **Copy the ARN corresponding to your region and specify the same in the following cell.**"
   ]
  },
  {
   "cell_type": "code",
   "execution_count": 1,
   "id": "fd89b7a5-3e1c-4fd5-9661-1dcc86626b10",
   "metadata": {
    "tags": []
   },
   "outputs": [],
   "source": [
    "# SageMaker algorithm ARN, replace the placeholder below with your AWS Marketplace ARN\n",
    "algo_arn = \"arn:aws:sagemaker:<...>\""
   ]
  },
  {
   "cell_type": "code",
   "execution_count": 2,
   "id": "b72fa188-ea07-4ee4-ad66-a9dfb7d8cd7e",
   "metadata": {
    "tags": []
   },
   "outputs": [
    {
     "name": "stderr",
     "output_type": "stream",
     "text": [
      "/home/ec2-user/anaconda3/envs/python3/lib/python3.10/site-packages/sagemaker/base_serializers.py:28: UserWarning: A NumPy version >=1.23.5 and <2.3.0 is required for this version of SciPy (detected version 1.22.4)\n",
      "  import scipy.sparse\n"
     ]
    },
    {
     "name": "stdout",
     "output_type": "stream",
     "text": [
      "sagemaker.config INFO - Not applying SDK defaults from location: /etc/xdg/sagemaker/config.yaml\n",
      "sagemaker.config INFO - Not applying SDK defaults from location: /home/ec2-user/.config/sagemaker/config.yaml\n"
     ]
    }
   ],
   "source": [
    "import io\n",
    "import sagemaker\n",
    "import pandas as pd\n",
    "import numpy as np\n",
    "import matplotlib.pyplot as plt\n",
    "\n",
    "# SageMaker session\n",
    "sagemaker_session = sagemaker.Session()\n",
    "\n",
    "# SageMaker role\n",
    "role = sagemaker.get_execution_role()\n",
    "\n",
    "# S3 bucket\n",
    "bucket = sagemaker_session.default_bucket()\n",
    "\n",
    "# EC2 instance\n",
    "instance_type = \"ml.m5.2xlarge\""
   ]
  },
  {
   "cell_type": "markdown",
   "id": "49491ac8-2585-429f-8acb-8b3d3e082a7b",
   "metadata": {},
   "source": [
    "### 2. Data preparation"
   ]
  },
  {
   "cell_type": "markdown",
   "id": "2fe35c9b-7f7b-4634-a618-6bd18278556f",
   "metadata": {},
   "source": [
    "Load the data."
   ]
  },
  {
   "cell_type": "code",
   "execution_count": 3,
   "id": "1bdf6675-a1c3-4474-9a3e-5a281ab559b9",
   "metadata": {
    "tags": []
   },
   "outputs": [],
   "source": [
    "dataset_name = \"179_UCR_Anomaly_ltstdbs30791AS_23000_52600_52800\"\n",
    "cutoff = 23000  # train-test cutoff\n",
    "start = 52600   # start of anomalous time interval\n",
    "end = 52800     # end of anomalous time interval\n",
    "k = 2           # number of anomalies to extract"
   ]
  },
  {
   "cell_type": "code",
   "execution_count": 4,
   "id": "62b85cf0-9ed0-4499-9c31-ebb9f7aff474",
   "metadata": {
    "tags": []
   },
   "outputs": [],
   "source": [
    "dataset = pd.DataFrame(data=np.genfromtxt(f\"{dataset_name}.txt\"))"
   ]
  },
  {
   "cell_type": "code",
   "execution_count": 5,
   "id": "69ba4b55-ec1d-46c3-9161-c2d6f8b8c671",
   "metadata": {
    "tags": []
   },
   "outputs": [
    {
     "data": {
      "text/plain": [
       "(55000, 1)"
      ]
     },
     "execution_count": 5,
     "metadata": {},
     "output_type": "execute_result"
    }
   ],
   "source": [
    "dataset.shape"
   ]
  },
  {
   "cell_type": "code",
   "execution_count": 6,
   "id": "e399d772-749d-4e3f-8c58-2bbea4261499",
   "metadata": {
    "tags": []
   },
   "outputs": [
    {
     "data": {
      "text/html": [
       "<div>\n",
       "<style scoped>\n",
       "    .dataframe tbody tr th:only-of-type {\n",
       "        vertical-align: middle;\n",
       "    }\n",
       "\n",
       "    .dataframe tbody tr th {\n",
       "        vertical-align: top;\n",
       "    }\n",
       "\n",
       "    .dataframe thead th {\n",
       "        text-align: right;\n",
       "    }\n",
       "</style>\n",
       "<table border=\"1\" class=\"dataframe\">\n",
       "  <thead>\n",
       "    <tr style=\"text-align: right;\">\n",
       "      <th></th>\n",
       "      <th>0</th>\n",
       "    </tr>\n",
       "  </thead>\n",
       "  <tbody>\n",
       "    <tr>\n",
       "      <th>0</th>\n",
       "      <td>-1.0</td>\n",
       "    </tr>\n",
       "    <tr>\n",
       "      <th>1</th>\n",
       "      <td>-1.0</td>\n",
       "    </tr>\n",
       "    <tr>\n",
       "      <th>2</th>\n",
       "      <td>-1.0</td>\n",
       "    </tr>\n",
       "    <tr>\n",
       "      <th>3</th>\n",
       "      <td>-1.0</td>\n",
       "    </tr>\n",
       "    <tr>\n",
       "      <th>4</th>\n",
       "      <td>-1.0</td>\n",
       "    </tr>\n",
       "  </tbody>\n",
       "</table>\n",
       "</div>"
      ],
      "text/plain": [
       "     0\n",
       "0 -1.0\n",
       "1 -1.0\n",
       "2 -1.0\n",
       "3 -1.0\n",
       "4 -1.0"
      ]
     },
     "execution_count": 6,
     "metadata": {},
     "output_type": "execute_result"
    }
   ],
   "source": [
    "dataset.head()"
   ]
  },
  {
   "cell_type": "code",
   "execution_count": 7,
   "id": "c1142757-d2ba-40dc-a389-efc9612649e2",
   "metadata": {
    "tags": []
   },
   "outputs": [
    {
     "data": {
      "text/html": [
       "<div>\n",
       "<style scoped>\n",
       "    .dataframe tbody tr th:only-of-type {\n",
       "        vertical-align: middle;\n",
       "    }\n",
       "\n",
       "    .dataframe tbody tr th {\n",
       "        vertical-align: top;\n",
       "    }\n",
       "\n",
       "    .dataframe thead th {\n",
       "        text-align: right;\n",
       "    }\n",
       "</style>\n",
       "<table border=\"1\" class=\"dataframe\">\n",
       "  <thead>\n",
       "    <tr style=\"text-align: right;\">\n",
       "      <th></th>\n",
       "      <th>0</th>\n",
       "    </tr>\n",
       "  </thead>\n",
       "  <tbody>\n",
       "    <tr>\n",
       "      <th>54995</th>\n",
       "      <td>27.0</td>\n",
       "    </tr>\n",
       "    <tr>\n",
       "      <th>54996</th>\n",
       "      <td>24.0</td>\n",
       "    </tr>\n",
       "    <tr>\n",
       "      <th>54997</th>\n",
       "      <td>22.0</td>\n",
       "    </tr>\n",
       "    <tr>\n",
       "      <th>54998</th>\n",
       "      <td>21.0</td>\n",
       "    </tr>\n",
       "    <tr>\n",
       "      <th>54999</th>\n",
       "      <td>19.0</td>\n",
       "    </tr>\n",
       "  </tbody>\n",
       "</table>\n",
       "</div>"
      ],
      "text/plain": [
       "          0\n",
       "54995  27.0\n",
       "54996  24.0\n",
       "54997  22.0\n",
       "54998  21.0\n",
       "54999  19.0"
      ]
     },
     "execution_count": 7,
     "metadata": {},
     "output_type": "execute_result"
    }
   ],
   "source": [
    "dataset.tail()"
   ]
  },
  {
   "cell_type": "markdown",
   "id": "4ffe7dfe-08cc-4550-bdd0-351e62739558",
   "metadata": {},
   "source": [
    "Visualize the data."
   ]
  },
  {
   "cell_type": "code",
   "execution_count": 8,
   "id": "d79b0a5c-00ec-4df4-898f-a05245281c94",
   "metadata": {
    "tags": []
   },
   "outputs": [
    {
     "data": {
      "image/png": "[encoded data removed]",
      "text/plain": [
       "<Figure size 600x350 with 1 Axes>"
      ]
     },
     "metadata": {},
     "output_type": "display_data"
    }
   ],
   "source": [
    "fig, ax = plt.subplots(nrows=1, ncols=1, sharex=True, figsize=(6, 3.5))\n",
    "ax.set_title(\"Time Series\", size=10)\n",
    "ax.plot(dataset, color=\"#AFB8C1\", lw=0.3)\n",
    "ax.set(xlabel=\"Time\", ylabel=\"Value\")\n",
    "ax.tick_params(axis=\"both\", which=\"major\", labelsize=7)\n",
    "ax.tick_params(axis=\"both\", which=\"minor\", labelsize=7)\n",
    "fig.tight_layout()\n",
    "fig.show()"
   ]
  },
  {
   "cell_type": "markdown",
   "id": "2e0b09b4-ae21-4551-825c-dcd279753b51",
   "metadata": {},
   "source": [
    "Split the data."
   ]
  },
  {
   "cell_type": "code",
   "execution_count": 9,
   "id": "9b0699df-9439-45c2-ba70-ca11983d843f",
   "metadata": {
    "tags": []
   },
   "outputs": [],
   "source": [
    "training_dataset = dataset.iloc[:cutoff]"
   ]
  },
  {
   "cell_type": "code",
   "execution_count": 10,
   "id": "24adddd2-ab77-4137-98ea-faec2ae3d67d",
   "metadata": {
    "tags": []
   },
   "outputs": [
    {
     "data": {
      "text/plain": [
       "(23000, 1)"
      ]
     },
     "execution_count": 10,
     "metadata": {},
     "output_type": "execute_result"
    }
   ],
   "source": [
    "training_dataset.shape"
   ]
  },
  {
   "cell_type": "code",
   "execution_count": 11,
   "id": "34af9186-27ef-4038-a9de-0e206b89202b",
   "metadata": {
    "tags": []
   },
   "outputs": [],
   "source": [
    "test_dataset = dataset.iloc[cutoff:]"
   ]
  },
  {
   "cell_type": "code",
   "execution_count": 12,
   "id": "4dde60d8-0340-44de-9912-acf9fe2a0633",
   "metadata": {
    "tags": []
   },
   "outputs": [
    {
     "data": {
      "text/plain": [
       "(32000, 1)"
      ]
     },
     "execution_count": 12,
     "metadata": {},
     "output_type": "execute_result"
    }
   ],
   "source": [
    "test_dataset.shape"
   ]
  },
  {
   "cell_type": "markdown",
   "id": "7586de04-bfeb-4942-8937-9ff7c42f5931",
   "metadata": {},
   "source": [
    "Upload the data to S3."
   ]
  },
  {
   "cell_type": "code",
   "execution_count": 13,
   "id": "7fe9e74c-6a57-419e-865d-233e51106857",
   "metadata": {
    "tags": []
   },
   "outputs": [],
   "source": [
    "training_data = sagemaker_session.upload_string_as_file_body(\n",
    "    body=training_dataset.to_csv(index=False, header=False),\n",
    "    bucket=bucket,\n",
    "    key=f\"{dataset_name}_train.csv\"\n",
    ")"
   ]
  },
  {
   "cell_type": "code",
   "execution_count": 14,
   "id": "851460a4-32ac-444a-ab90-a61df3257256",
   "metadata": {
    "tags": []
   },
   "outputs": [
    {
     "data": {
      "text/plain": [
       "'s3://sagemaker-eu-west-1-661670223746/179_UCR_Anomaly_ltstdbs30791AS_23000_52600_52800_train.csv'"
      ]
     },
     "execution_count": 14,
     "metadata": {},
     "output_type": "execute_result"
    }
   ],
   "source": [
    "training_data"
   ]
  },
  {
   "cell_type": "code",
   "execution_count": 15,
   "id": "e2062e41-eb07-43c2-9b86-370a63d45599",
   "metadata": {
    "tags": []
   },
   "outputs": [],
   "source": [
    "test_data = sagemaker_session.upload_string_as_file_body(\n",
    "    body=test_dataset.to_csv(index=False, header=False),\n",
    "    bucket=bucket,\n",
    "    key=f\"{dataset_name}_test.csv\"\n",
    ")"
   ]
  },
  {
   "cell_type": "code",
   "execution_count": 16,
   "id": "4225ecdd-a68e-4824-bb64-f2a7ab3426b8",
   "metadata": {
    "tags": []
   },
   "outputs": [
    {
     "data": {
      "text/plain": [
       "'s3://sagemaker-eu-west-1-661670223746/179_UCR_Anomaly_ltstdbs30791AS_23000_52600_52800_test.csv'"
      ]
     },
     "execution_count": 16,
     "metadata": {},
     "output_type": "execute_result"
    }
   ],
   "source": [
    "test_data"
   ]
  },
  {
   "cell_type": "markdown",
   "id": "6a91f5ac-d6bb-4a50-9de3-69436c33b814",
   "metadata": {},
   "source": [
    "### 3. Training"
   ]
  },
  {
   "cell_type": "markdown",
   "id": "6ad88d3f-50cf-4835-9120-fa6a0da910f0",
   "metadata": {},
   "source": [
    "Fit the model to the training set."
   ]
  },
  {
   "cell_type": "code",
   "execution_count": 17,
   "id": "d870d366-06fc-4a7c-a676-bc33795be3aa",
   "metadata": {},
   "outputs": [
    {
     "name": "stderr",
     "output_type": "stream",
     "text": [
      "INFO:sagemaker:Creating training-job with name: lstm-ad-v1-12-2024-09-11-16-47-19-459\n"
     ]
    },
    {
     "name": "stdout",
     "output_type": "stream",
     "text": [
      "2024-09-11 16:47:23 Starting - Starting the training job...\n",
      "2024-09-11 16:47:36 Starting - Preparing the instances for training...\n",
      "2024-09-11 16:48:10 Downloading - Downloading the training image..................\n",
      "2024-09-11 16:51:12 Training - Training image download completed. Training in progress..\u001b[34mbash: cannot set terminal process group (-1): Inappropriate ioctl for device\u001b[0m\n",
      "\u001b[34mbash: no job control in this shell\u001b[0m\n",
      "\u001b[34m/opt/conda/lib/python3.10/site-packages/paramiko/pkey.py:100: CryptographyDeprecationWarning: TripleDES has been moved to cryptography.hazmat.decrepit.ciphers.algorithms.TripleDES and will be removed from this module in 48.0.0.\n",
      "  \"cipher\": algorithms.TripleDES,\u001b[0m\n",
      "\u001b[34m/opt/conda/lib/python3.10/site-packages/paramiko/transport.py:259: CryptographyDeprecationWarning: TripleDES has been moved to cryptography.hazmat.decrepit.ciphers.algorithms.TripleDES and will be removed from this module in 48.0.0.\n",
      "  \"class\": algorithms.TripleDES,\u001b[0m\n",
      "\u001b[34m2024-09-11 16:51:26,599 sagemaker-training-toolkit INFO     Imported framework sagemaker_pytorch_container.training\u001b[0m\n",
      "\u001b[34m2024-09-11 16:51:26,600 sagemaker-training-toolkit INFO     No GPUs detected (normal if no gpus installed)\u001b[0m\n",
      "\u001b[34m2024-09-11 16:51:26,600 sagemaker-training-toolkit INFO     No Neurons detected (normal if no neurons installed)\u001b[0m\n",
      "\u001b[34m2024-09-11 16:51:26,610 sagemaker_pytorch_container.training INFO     Block until all host DNS lookups succeed.\u001b[0m\n",
      "\u001b[34m2024-09-11 16:51:26,612 sagemaker_pytorch_container.training INFO     Invoking user training script.\u001b[0m\n",
      "\u001b[34m2024-09-11 16:51:28,032 sagemaker-training-toolkit INFO     No GPUs detected (normal if no gpus installed)\u001b[0m\n",
      "\u001b[34m2024-09-11 16:51:28,033 sagemaker-training-toolkit INFO     No Neurons detected (normal if no neurons installed)\u001b[0m\n",
      "\u001b[34m2024-09-11 16:51:28,044 sagemaker-training-toolkit INFO     No GPUs detected (normal if no gpus installed)\u001b[0m\n",
      "\u001b[34m2024-09-11 16:51:28,045 sagemaker-training-toolkit INFO     No Neurons detected (normal if no neurons installed)\u001b[0m\n",
      "\u001b[34m2024-09-11 16:51:28,056 sagemaker-training-toolkit INFO     No GPUs detected (normal if no gpus installed)\u001b[0m\n",
      "\u001b[34m2024-09-11 16:51:28,057 sagemaker-training-toolkit INFO     No Neurons detected (normal if no neurons installed)\u001b[0m\n",
      "\u001b[34m2024-09-11 16:51:28,069 sagemaker-training-toolkit INFO     Invoking user script\u001b[0m\n",
      "\u001b[34mTraining Env:\u001b[0m\n",
      "\u001b[34m{\n",
      "    \"additional_framework_parameters\": {},\n",
      "    \"channel_input_dirs\": {\n",
      "        \"training\": \"/opt/ml/input/data/training\"\n",
      "    },\n",
      "    \"current_host\": \"algo-1\",\n",
      "    \"current_instance_group\": \"homogeneousCluster\",\n",
      "    \"current_instance_group_hosts\": [\n",
      "        \"algo-1\"\n",
      "    ],\n",
      "    \"current_instance_type\": \"ml.m5.2xlarge\",\n",
      "    \"distribution_hosts\": [],\n",
      "    \"distribution_instance_groups\": [],\n",
      "    \"framework_module\": \"sagemaker_pytorch_container.training:main\",\n",
      "    \"hosts\": [\n",
      "        \"algo-1\"\n",
      "    ],\n",
      "    \"hyperparameters\": {\n",
      "        \"batch-size\": 128,\n",
      "        \"context-length\": 100,\n",
      "        \"dropout\": 0.5,\n",
      "        \"epochs\": 100,\n",
      "        \"hidden-size\": 32,\n",
      "        \"lr\": 0.001,\n",
      "        \"num-layers\": 2,\n",
      "        \"prediction-length\": 10,\n",
      "        \"sequence-stride\": 10\n",
      "    },\n",
      "    \"input_config_dir\": \"/opt/ml/input/config\",\n",
      "    \"input_data_config\": {\n",
      "        \"training\": {\n",
      "            \"TrainingInputMode\": \"File\",\n",
      "            \"S3DistributionType\": \"FullyReplicated\",\n",
      "            \"RecordWrapperType\": \"None\"\n",
      "        }\n",
      "    },\n",
      "    \"input_dir\": \"/opt/ml/input\",\n",
      "    \"instance_groups\": [\n",
      "        \"homogeneousCluster\"\n",
      "    ],\n",
      "    \"instance_groups_dict\": {\n",
      "        \"homogeneousCluster\": {\n",
      "            \"instance_group_name\": \"homogeneousCluster\",\n",
      "            \"instance_type\": \"ml.m5.2xlarge\",\n",
      "            \"hosts\": [\n",
      "                \"algo-1\"\n",
      "            ]\n",
      "        }\n",
      "    },\n",
      "    \"is_hetero\": false,\n",
      "    \"is_master\": true,\n",
      "    \"is_modelparallel_enabled\": null,\n",
      "    \"is_smddpmprun_installed\": false,\n",
      "    \"is_smddprun_installed\": true,\n",
      "    \"job_name\": \"lstm-ad-v1-12-2024-09-11-16-47-19-459\",\n",
      "    \"log_level\": 20,\n",
      "    \"master_hostname\": \"algo-1\",\n",
      "    \"model_dir\": \"/opt/ml/model\",\n",
      "    \"module_dir\": \"/opt/ml/code\",\n",
      "    \"module_name\": \"training\",\n",
      "    \"network_interface_name\": \"eth0\",\n",
      "    \"num_cpus\": 8,\n",
      "    \"num_gpus\": 0,\n",
      "    \"num_neurons\": 0,\n",
      "    \"output_data_dir\": \"/opt/ml/output/data\",\n",
      "    \"output_dir\": \"/opt/ml/output\",\n",
      "    \"output_intermediate_dir\": \"/opt/ml/output/intermediate\",\n",
      "    \"resource_config\": {\n",
      "        \"current_host\": \"algo-1\",\n",
      "        \"current_instance_type\": \"ml.m5.2xlarge\",\n",
      "        \"current_group_name\": \"homogeneousCluster\",\n",
      "        \"hosts\": [\n",
      "            \"algo-1\"\n",
      "        ],\n",
      "        \"instance_groups\": [\n",
      "            {\n",
      "                \"instance_group_name\": \"homogeneousCluster\",\n",
      "                \"instance_type\": \"ml.m5.2xlarge\",\n",
      "                \"hosts\": [\n",
      "                    \"algo-1\"\n",
      "                ]\n",
      "            }\n",
      "        ],\n",
      "        \"network_interface_name\": \"eth0\"\n",
      "    },\n",
      "    \"user_entry_point\": \"training.py\"\u001b[0m\n",
      "\u001b[34m}\u001b[0m\n",
      "\u001b[34mEnvironment variables:\u001b[0m\n",
      "\u001b[34mSM_HOSTS=[\"algo-1\"]\u001b[0m\n",
      "\u001b[34mSM_NETWORK_INTERFACE_NAME=eth0\u001b[0m\n",
      "\u001b[34mSM_HPS={\"batch-size\":128,\"context-length\":100,\"dropout\":0.5,\"epochs\":100,\"hidden-size\":32,\"lr\":0.001,\"num-layers\":2,\"prediction-length\":10,\"sequence-stride\":10}\u001b[0m\n",
      "\u001b[34mSM_USER_ENTRY_POINT=training.py\u001b[0m\n",
      "\u001b[34mSM_FRAMEWORK_PARAMS={}\u001b[0m\n",
      "\u001b[34mSM_RESOURCE_CONFIG={\"current_group_name\":\"homogeneousCluster\",\"current_host\":\"algo-1\",\"current_instance_type\":\"ml.m5.2xlarge\",\"hosts\":[\"algo-1\"],\"instance_groups\":[{\"hosts\":[\"algo-1\"],\"instance_group_name\":\"homogeneousCluster\",\"instance_type\":\"ml.m5.2xlarge\"}],\"network_interface_name\":\"eth0\"}\u001b[0m\n",
      "\u001b[34mSM_INPUT_DATA_CONFIG={\"training\":{\"RecordWrapperType\":\"None\",\"S3DistributionType\":\"FullyReplicated\",\"TrainingInputMode\":\"File\"}}\u001b[0m\n",
      "\u001b[34mSM_OUTPUT_DATA_DIR=/opt/ml/output/data\u001b[0m\n",
      "\u001b[34mSM_CHANNELS=[\"training\"]\u001b[0m\n",
      "\u001b[34mSM_CURRENT_HOST=algo-1\u001b[0m\n",
      "\u001b[34mSM_CURRENT_INSTANCE_TYPE=ml.m5.2xlarge\u001b[0m\n",
      "\u001b[34mSM_CURRENT_INSTANCE_GROUP=homogeneousCluster\u001b[0m\n",
      "\u001b[34mSM_CURRENT_INSTANCE_GROUP_HOSTS=[\"algo-1\"]\u001b[0m\n",
      "\u001b[34mSM_INSTANCE_GROUPS=[\"homogeneousCluster\"]\u001b[0m\n",
      "\u001b[34mSM_INSTANCE_GROUPS_DICT={\"homogeneousCluster\":{\"hosts\":[\"algo-1\"],\"instance_group_name\":\"homogeneousCluster\",\"instance_type\":\"ml.m5.2xlarge\"}}\u001b[0m\n",
      "\u001b[34mSM_DISTRIBUTION_INSTANCE_GROUPS=[]\u001b[0m\n",
      "\u001b[34mSM_IS_HETERO=false\u001b[0m\n",
      "\u001b[34mSM_MODULE_NAME=training\u001b[0m\n",
      "\u001b[34mSM_LOG_LEVEL=20\u001b[0m\n",
      "\u001b[34mSM_FRAMEWORK_MODULE=sagemaker_pytorch_container.training:main\u001b[0m\n",
      "\u001b[34mSM_INPUT_DIR=/opt/ml/input\u001b[0m\n",
      "\u001b[34mSM_INPUT_CONFIG_DIR=/opt/ml/input/config\u001b[0m\n",
      "\u001b[34mSM_OUTPUT_DIR=/opt/ml/output\u001b[0m\n",
      "\u001b[34mSM_NUM_CPUS=8\u001b[0m\n",
      "\u001b[34mSM_NUM_GPUS=0\u001b[0m\n",
      "\u001b[34mSM_NUM_NEURONS=0\u001b[0m\n",
      "\u001b[34mSM_MODEL_DIR=/opt/ml/model\u001b[0m\n",
      "\u001b[34mSM_MODULE_DIR=/opt/ml/code\u001b[0m\n",
      "\u001b[34mSM_TRAINING_ENV={\"additional_framework_parameters\":{},\"channel_input_dirs\":{\"training\":\"/opt/ml/input/data/training\"},\"current_host\":\"algo-1\",\"current_instance_group\":\"homogeneousCluster\",\"current_instance_group_hosts\":[\"algo-1\"],\"current_instance_type\":\"ml.m5.2xlarge\",\"distribution_hosts\":[],\"distribution_instance_groups\":[],\"framework_module\":\"sagemaker_pytorch_container.training:main\",\"hosts\":[\"algo-1\"],\"hyperparameters\":{\"batch-size\":128,\"context-length\":100,\"dropout\":0.5,\"epochs\":100,\"hidden-size\":32,\"lr\":0.001,\"num-layers\":2,\"prediction-length\":10,\"sequence-stride\":10},\"input_config_dir\":\"/opt/ml/input/config\",\"input_data_config\":{\"training\":{\"RecordWrapperType\":\"None\",\"S3DistributionType\":\"FullyReplicated\",\"TrainingInputMode\":\"File\"}},\"input_dir\":\"/opt/ml/input\",\"instance_groups\":[\"homogeneousCluster\"],\"instance_groups_dict\":{\"homogeneousCluster\":{\"hosts\":[\"algo-1\"],\"instance_group_name\":\"homogeneousCluster\",\"instance_type\":\"ml.m5.2xlarge\"}},\"is_hetero\":false,\"is_master\":true,\"is_modelparallel_enabled\":null,\"is_smddpmprun_installed\":false,\"is_smddprun_installed\":true,\"job_name\":\"lstm-ad-v1-12-2024-09-11-16-47-19-459\",\"log_level\":20,\"master_hostname\":\"algo-1\",\"model_dir\":\"/opt/ml/model\",\"module_dir\":\"/opt/ml/code\",\"module_name\":\"training\",\"network_interface_name\":\"eth0\",\"num_cpus\":8,\"num_gpus\":0,\"num_neurons\":0,\"output_data_dir\":\"/opt/ml/output/data\",\"output_dir\":\"/opt/ml/output\",\"output_intermediate_dir\":\"/opt/ml/output/intermediate\",\"resource_config\":{\"current_group_name\":\"homogeneousCluster\",\"current_host\":\"algo-1\",\"current_instance_type\":\"ml.m5.2xlarge\",\"hosts\":[\"algo-1\"],\"instance_groups\":[{\"hosts\":[\"algo-1\"],\"instance_group_name\":\"homogeneousCluster\",\"instance_type\":\"ml.m5.2xlarge\"}],\"network_interface_name\":\"eth0\"},\"user_entry_point\":\"training.py\"}\u001b[0m\n",
      "\u001b[34mSM_USER_ARGS=[\"--batch-size\",\"128\",\"--context-length\",\"100\",\"--dropout\",\"0.5\",\"--epochs\",\"100\",\"--hidden-size\",\"32\",\"--lr\",\"0.001\",\"--num-layers\",\"2\",\"--prediction-length\",\"10\",\"--sequence-stride\",\"10\"]\u001b[0m\n",
      "\u001b[34mSM_OUTPUT_INTERMEDIATE_DIR=/opt/ml/output/intermediate\u001b[0m\n",
      "\u001b[34mSM_CHANNEL_TRAINING=/opt/ml/input/data/training\u001b[0m\n",
      "\u001b[34mSM_HP_BATCH-SIZE=128\u001b[0m\n",
      "\u001b[34mSM_HP_CONTEXT-LENGTH=100\u001b[0m\n",
      "\u001b[34mSM_HP_DROPOUT=0.5\u001b[0m\n",
      "\u001b[34mSM_HP_EPOCHS=100\u001b[0m\n",
      "\u001b[34mSM_HP_HIDDEN-SIZE=32\u001b[0m\n",
      "\u001b[34mSM_HP_LR=0.001\u001b[0m\n",
      "\u001b[34mSM_HP_NUM-LAYERS=2\u001b[0m\n",
      "\u001b[34mSM_HP_PREDICTION-LENGTH=10\u001b[0m\n",
      "\u001b[34mSM_HP_SEQUENCE-STRIDE=10\u001b[0m\n",
      "\u001b[34mPYTHONPATH=/opt/ml/code:/opt/conda/bin:/opt/conda/lib/python310.zip:/opt/conda/lib/python3.10:/opt/conda/lib/python3.10/lib-dynload:/opt/conda/lib/python3.10/site-packages\u001b[0m\n",
      "\u001b[34mInvoking script with the following command:\u001b[0m\n",
      "\u001b[34m/opt/conda/bin/python3.10 training.py --batch-size 128 --context-length 100 --dropout 0.5 --epochs 100 --hidden-size 32 --lr 0.001 --num-layers 2 --prediction-length 10 --sequence-stride 10\u001b[0m\n",
      "\u001b[34m2024-09-11 16:51:28,069 sagemaker-training-toolkit INFO     Exceptions not imported for SageMaker Debugger as it is not installed.\u001b[0m\n",
      "\u001b[34m2024-09-11 16:51:28,069 sagemaker-training-toolkit INFO     Exceptions not imported for SageMaker TF as Tensorflow is not installed.\u001b[0m\n",
      "\u001b[34m--------------------------------------\u001b[0m\n",
      "\u001b[34mTraining on 1 time series.\u001b[0m\n",
      "\u001b[34mTime series length: 23000\u001b[0m\n",
      "\u001b[34m--------------------------------------\u001b[0m\n",
      "\u001b[34m--------------------------------------\u001b[0m\n",
      "\u001b[34mBuilding the model.\u001b[0m\n",
      "\u001b[34mNumber of parameters: 13258\u001b[0m\n",
      "\u001b[34m--------------------------------------\u001b[0m\n",
      "\u001b[34m--------------------------------------\u001b[0m\n",
      "\u001b[34mTraining the model.\u001b[0m\n",
      "\u001b[34mepoch: 1 train_mse: 0.02221333 train_mae: 0.09638524\u001b[0m\n",
      "\u001b[34mepoch: 2 train_mse: 0.01503475 train_mae: 0.07032009\u001b[0m\n",
      "\u001b[34mepoch: 3 train_mse: 0.01454318 train_mae: 0.06583817\u001b[0m\n",
      "\u001b[34mepoch: 4 train_mse: 0.01429290 train_mae: 0.06453086\u001b[0m\n",
      "\u001b[34mepoch: 5 train_mse: 0.01414815 train_mae: 0.06402103\u001b[0m\n",
      "\u001b[34mepoch: 6 train_mse: 0.01400094 train_mae: 0.06259536\u001b[0m\n",
      "\u001b[34mepoch: 7 train_mse: 0.01375448 train_mae: 0.06396225\u001b[0m\n",
      "\u001b[34mepoch: 8 train_mse: 0.01342783 train_mae: 0.06172625\u001b[0m\n",
      "\u001b[34mepoch: 9 train_mse: 0.01315868 train_mae: 0.06144434\u001b[0m\n",
      "\u001b[34mepoch: 10 train_mse: 0.01285931 train_mae: 0.05942885\u001b[0m\n",
      "\u001b[34mepoch: 11 train_mse: 0.01259342 train_mae: 0.05677049\u001b[0m\n",
      "\u001b[34mepoch: 12 train_mse: 0.01244600 train_mae: 0.05624394\u001b[0m\n",
      "\u001b[34mepoch: 13 train_mse: 0.01190118 train_mae: 0.05334624\u001b[0m\n",
      "\u001b[34mepoch: 14 train_mse: 0.01146113 train_mae: 0.05073622\u001b[0m\n",
      "\u001b[34mepoch: 15 train_mse: 0.01097568 train_mae: 0.05133355\u001b[0m\n",
      "\u001b[34mepoch: 16 train_mse: 0.01062940 train_mae: 0.04478185\u001b[0m\n",
      "\u001b[34mepoch: 17 train_mse: 0.01034102 train_mae: 0.04848699\u001b[0m\n",
      "\u001b[34mepoch: 18 train_mse: 0.01025996 train_mae: 0.05190206\u001b[0m\n",
      "\u001b[34mepoch: 19 train_mse: 0.01004365 train_mae: 0.04287963\u001b[0m\n",
      "\u001b[34mepoch: 20 train_mse: 0.00985964 train_mae: 0.04650824\u001b[0m\n",
      "\u001b[34mepoch: 21 train_mse: 0.00970605 train_mae: 0.04364055\u001b[0m\n",
      "\u001b[34mepoch: 22 train_mse: 0.00964688 train_mae: 0.04030295\u001b[0m\n",
      "\u001b[34mepoch: 23 train_mse: 0.00946170 train_mae: 0.04385968\u001b[0m\n",
      "\u001b[34mepoch: 24 train_mse: 0.00952426 train_mae: 0.04935564\u001b[0m\n",
      "\u001b[34mepoch: 25 train_mse: 0.00925608 train_mae: 0.04120180\u001b[0m\n",
      "\u001b[34mepoch: 26 train_mse: 0.00926214 train_mae: 0.04863579\u001b[0m\n",
      "\u001b[34mepoch: 27 train_mse: 0.00882222 train_mae: 0.04412093\u001b[0m\n",
      "\u001b[34mepoch: 28 train_mse: 0.00814804 train_mae: 0.03820885\u001b[0m\n",
      "\u001b[34mepoch: 29 train_mse: 0.00728383 train_mae: 0.03755497\u001b[0m\n",
      "\u001b[34mepoch: 30 train_mse: 0.00755499 train_mae: 0.03792470\u001b[0m\n",
      "\u001b[34mepoch: 31 train_mse: 0.00628981 train_mae: 0.04583178\u001b[0m\n",
      "\u001b[34mepoch: 32 train_mse: 0.00526585 train_mae: 0.03798118\u001b[0m\n",
      "\u001b[34mepoch: 33 train_mse: 0.00669606 train_mae: 0.03856144\u001b[0m\n",
      "\u001b[34mepoch: 34 train_mse: 0.00681137 train_mae: 0.04683725\u001b[0m\n",
      "\u001b[34mepoch: 35 train_mse: 0.00470979 train_mae: 0.03695722\u001b[0m\n",
      "\u001b[34mepoch: 36 train_mse: 0.00415228 train_mae: 0.03665086\u001b[0m\n",
      "\u001b[34mepoch: 37 train_mse: 0.00340559 train_mae: 0.03548481\u001b[0m\n",
      "\u001b[34mepoch: 38 train_mse: 0.00316711 train_mae: 0.03403424\u001b[0m\n",
      "\u001b[34mepoch: 39 train_mse: 0.00300789 train_mae: 0.03445382\u001b[0m\n",
      "\u001b[34mepoch: 40 train_mse: 0.00280944 train_mae: 0.03140667\u001b[0m\n",
      "\u001b[34mepoch: 41 train_mse: 0.00251409 train_mae: 0.03250883\u001b[0m\n",
      "\u001b[34mepoch: 42 train_mse: 0.00258202 train_mae: 0.03273638\u001b[0m\n",
      "\u001b[34mepoch: 43 train_mse: 0.00230507 train_mae: 0.02981380\u001b[0m\n",
      "\u001b[34mepoch: 44 train_mse: 0.00191430 train_mae: 0.02742247\u001b[0m\n",
      "\u001b[34mepoch: 45 train_mse: 0.00179451 train_mae: 0.02750775\u001b[0m\n",
      "\u001b[34mepoch: 46 train_mse: 0.00166587 train_mae: 0.02571600\u001b[0m\n",
      "\u001b[34mepoch: 47 train_mse: 0.00179055 train_mae: 0.02654258\u001b[0m\n",
      "\u001b[34mepoch: 48 train_mse: 0.00169004 train_mae: 0.02648425\u001b[0m\n",
      "\u001b[34mepoch: 49 train_mse: 0.00152179 train_mae: 0.02512868\u001b[0m\n",
      "\u001b[34mepoch: 50 train_mse: 0.00147268 train_mae: 0.02438224\u001b[0m\n",
      "\u001b[34mepoch: 51 train_mse: 0.00141554 train_mae: 0.02425940\u001b[0m\n",
      "\u001b[34mepoch: 52 train_mse: 0.00133462 train_mae: 0.02342234\u001b[0m\n",
      "\u001b[34mepoch: 53 train_mse: 0.00135547 train_mae: 0.02387474\u001b[0m\n",
      "\u001b[34mepoch: 54 train_mse: 0.00136394 train_mae: 0.02401223\u001b[0m\n",
      "\u001b[34mepoch: 55 train_mse: 0.00146859 train_mae: 0.02500986\u001b[0m\n",
      "\u001b[34mepoch: 56 train_mse: 0.00172352 train_mae: 0.02564906\u001b[0m\n",
      "\u001b[34mepoch: 57 train_mse: 0.00129086 train_mae: 0.02364258\u001b[0m\n",
      "\u001b[34mepoch: 58 train_mse: 0.00117606 train_mae: 0.02273890\u001b[0m\n",
      "\u001b[34mepoch: 59 train_mse: 0.00115706 train_mae: 0.02308262\u001b[0m\n",
      "\u001b[34mepoch: 60 train_mse: 0.00110234 train_mae: 0.02271648\u001b[0m\n",
      "\u001b[34mepoch: 61 train_mse: 0.00109285 train_mae: 0.02184261\u001b[0m\n",
      "\u001b[34mepoch: 62 train_mse: 0.00102983 train_mae: 0.02208451\u001b[0m\n",
      "\u001b[34mepoch: 63 train_mse: 0.00100319 train_mae: 0.02191387\u001b[0m\n",
      "\u001b[34mepoch: 64 train_mse: 0.00101168 train_mae: 0.02117400\u001b[0m\n",
      "\u001b[34mepoch: 65 train_mse: 0.00091753 train_mae: 0.02018413\u001b[0m\n",
      "\u001b[34mepoch: 66 train_mse: 0.00095898 train_mae: 0.01981330\u001b[0m\n",
      "\u001b[34mepoch: 67 train_mse: 0.00103444 train_mae: 0.02065533\u001b[0m\n",
      "\u001b[34mepoch: 68 train_mse: 0.00090482 train_mae: 0.01971298\u001b[0m\n",
      "\u001b[34mepoch: 69 train_mse: 0.00084920 train_mae: 0.01946496\u001b[0m\n",
      "\u001b[34mepoch: 70 train_mse: 0.00092127 train_mae: 0.01926228\u001b[0m\n",
      "\u001b[34mepoch: 71 train_mse: 0.00080372 train_mae: 0.01844461\u001b[0m\n",
      "\u001b[34mepoch: 72 train_mse: 0.00079082 train_mae: 0.01838537\u001b[0m\n",
      "\u001b[34mepoch: 73 train_mse: 0.00076474 train_mae: 0.01834232\u001b[0m\n",
      "\u001b[34mepoch: 74 train_mse: 0.00077820 train_mae: 0.01845325\u001b[0m\n",
      "\u001b[34mepoch: 75 train_mse: 0.00075356 train_mae: 0.01800441\u001b[0m\n",
      "\u001b[34mepoch: 76 train_mse: 0.00071070 train_mae: 0.01776149\u001b[0m\n",
      "\u001b[34mepoch: 77 train_mse: 0.00072019 train_mae: 0.01829496\u001b[0m\n",
      "\u001b[34mepoch: 78 train_mse: 0.00079384 train_mae: 0.01799054\u001b[0m\n",
      "\u001b[34mepoch: 79 train_mse: 0.00070533 train_mae: 0.01732695\u001b[0m\n",
      "\u001b[34mepoch: 80 train_mse: 0.00068432 train_mae: 0.01773591\u001b[0m\n",
      "\u001b[34mepoch: 81 train_mse: 0.00069784 train_mae: 0.01811703\u001b[0m\n",
      "\u001b[34mepoch: 82 train_mse: 0.00065841 train_mae: 0.01728306\u001b[0m\n",
      "\u001b[34mepoch: 83 train_mse: 0.00074544 train_mae: 0.01827462\u001b[0m\n",
      "\u001b[34mepoch: 84 train_mse: 0.00070863 train_mae: 0.01757831\u001b[0m\n",
      "\u001b[34mepoch: 85 train_mse: 0.00074181 train_mae: 0.01759167\u001b[0m\n",
      "\u001b[34mepoch: 86 train_mse: 0.00067319 train_mae: 0.01656441\u001b[0m\n",
      "\u001b[34mepoch: 87 train_mse: 0.00062947 train_mae: 0.01690377\u001b[0m\n",
      "\u001b[34mepoch: 88 train_mse: 0.00059944 train_mae: 0.01610918\u001b[0m\n",
      "\u001b[34mepoch: 89 train_mse: 0.00060329 train_mae: 0.01688431\u001b[0m\n",
      "\u001b[34mepoch: 90 train_mse: 0.00086959 train_mae: 0.01782672\u001b[0m\n",
      "\u001b[34mepoch: 91 train_mse: 0.00072756 train_mae: 0.01730900\u001b[0m\n",
      "\u001b[34mepoch: 92 train_mse: 0.00098420 train_mae: 0.02058894\u001b[0m\n",
      "\u001b[34mepoch: 93 train_mse: 0.00060455 train_mae: 0.01615057\u001b[0m\n",
      "\u001b[34mepoch: 94 train_mse: 0.00065764 train_mae: 0.01701779\u001b[0m\n",
      "\u001b[34mepoch: 95 train_mse: 0.00062682 train_mae: 0.01773804\u001b[0m\n",
      "\u001b[34mepoch: 96 train_mse: 0.00057519 train_mae: 0.01545120\u001b[0m\n",
      "\u001b[34mepoch: 97 train_mse: 0.00057540 train_mae: 0.01679364\u001b[0m\n",
      "\u001b[34mepoch: 98 train_mse: 0.00053844 train_mae: 0.01556979\u001b[0m\n",
      "\u001b[34mepoch: 99 train_mse: 0.00060378 train_mae: 0.01647082\u001b[0m\n",
      "\n",
      "2024-09-11 16:52:17 Uploading - Uploading generated training model\u001b[34mepoch: 100 train_mse: 0.00055183 train_mae: 0.01561063\u001b[0m\n",
      "\u001b[34m--------------------------------------\u001b[0m\n",
      "\u001b[34mScoring the model.\u001b[0m\n",
      "\u001b[34mtrain:mse 0.00055183\u001b[0m\n",
      "\u001b[34mtrain:mae 0.01561063\u001b[0m\n",
      "\u001b[34m--------------------------------------\u001b[0m\n",
      "\u001b[34m2024-09-11 16:52:12,744 sagemaker-training-toolkit INFO     Waiting for the process to finish and give a return code.\u001b[0m\n",
      "\u001b[34m2024-09-11 16:52:12,744 sagemaker-training-toolkit INFO     Done waiting for a return code. Received 0 from exiting process.\u001b[0m\n",
      "\u001b[34m2024-09-11 16:52:12,744 sagemaker-training-toolkit INFO     Reporting training SUCCESS\u001b[0m\n",
      "\n",
      "2024-09-11 16:52:30 Completed - Training job completed\n",
      "Training seconds: 275\n",
      "Billable seconds: 275\n"
     ]
    }
   ],
   "source": [
    "estimator = sagemaker.algorithm.AlgorithmEstimator(\n",
    "    algorithm_arn=algo_arn,\n",
    "    role=role,\n",
    "    instance_count=1,\n",
    "    instance_type=instance_type,\n",
    "    input_mode=\"File\",\n",
    "    sagemaker_session=sagemaker_session,\n",
    "    hyperparameters={\n",
    "        \"context-length\": 100,\n",
    "        \"prediction-length\": 10,\n",
    "        \"sequence-stride\": 10,\n",
    "        \"hidden-size\": 32,\n",
    "        \"num-layers\": 2,\n",
    "        \"dropout\": 0.5,\n",
    "        \"lr\": 0.001,\n",
    "        \"batch-size\": 128,\n",
    "        \"epochs\": 100,\n",
    "    }\n",
    ")\n",
    "\n",
    "estimator.fit({\"training\": training_data})"
   ]
  },
  {
   "cell_type": "markdown",
   "id": "929a3d35-a4ba-4a39-a7b0-8dbd4f9c2601",
   "metadata": {},
   "source": [
    "### 4. Inference"
   ]
  },
  {
   "cell_type": "markdown",
   "id": "8aecf50e-4c75-4273-a6c3-ce7004a8220b",
   "metadata": {},
   "source": [
    "Generate the test set predictions."
   ]
  },
  {
   "cell_type": "code",
   "execution_count": 18,
   "id": "a4657c35-0687-413a-829c-a028e6a9e9d7",
   "metadata": {},
   "outputs": [
    {
     "name": "stderr",
     "output_type": "stream",
     "text": [
      "INFO:sagemaker:Creating model package with name: lstm-ad-v1-12-2024-09-11-16-53-08-439\n"
     ]
    },
    {
     "name": "stdout",
     "output_type": "stream",
     "text": [
      "........."
     ]
    },
    {
     "name": "stderr",
     "output_type": "stream",
     "text": [
      "INFO:sagemaker:Creating model with name: lstm-ad-v1-12-2024-09-11-16-53-08-439-2024-09-11-16-53-53-957\n"
     ]
    },
    {
     "name": "stdout",
     "output_type": "stream",
     "text": [
      "\n"
     ]
    },
    {
     "name": "stderr",
     "output_type": "stream",
     "text": [
      "INFO:sagemaker:Creating transform job with name: lstm-ad-v1-12-2024-09-11-16-53-54-733\n"
     ]
    },
    {
     "name": "stdout",
     "output_type": "stream",
     "text": [
      "...........................................\u001b[34mWarning: TorchServe is using non-default JVM parameters: -XX:-UseContainerSupport\u001b[0m\n",
      "\u001b[35mWarning: TorchServe is using non-default JVM parameters: -XX:-UseContainerSupport\u001b[0m\n",
      "\u001b[34mWARNING: sun.reflect.Reflection.getCallerClass is not supported. This will impact performance.\u001b[0m\n",
      "\u001b[34m2024-09-11T17:00:59,935 [WARN ] main org.pytorch.serve.util.ConfigManager - Your torchserve instance can access any URL to load models. When deploying to production, make sure to limit the set of allowed_urls in config.properties\u001b[0m\n",
      "\u001b[34m2024-09-11T17:00:59,938 [INFO ] main org.pytorch.serve.servingsdk.impl.PluginsManager - Initializing plugins manager...\u001b[0m\n",
      "\u001b[34m2024-09-11T17:00:59,994 [INFO ] main org.pytorch.serve.metrics.configuration.MetricConfiguration - Successfully loaded metrics configuration from /opt/conda/lib/python3.10/site-packages/ts/configs/metrics.yaml\u001b[0m\n",
      "\u001b[34m2024-09-11T17:01:00,097 [INFO ] main org.pytorch.serve.ModelServer - \u001b[0m\n",
      "\u001b[34mTorchserve version: 0.11.0\u001b[0m\n",
      "\u001b[34mTS Home: /opt/conda/lib/python3.10/site-packages\u001b[0m\n",
      "\u001b[34mCurrent directory: /\u001b[0m\n",
      "\u001b[34mTemp directory: /home/model-server/tmp\u001b[0m\n",
      "\u001b[34mMetrics config path: /opt/conda/lib/python3.10/site-packages/ts/configs/metrics.yaml\u001b[0m\n",
      "\u001b[34mNumber of GPUs: 0\u001b[0m\n",
      "\u001b[34mNumber of CPUs: 8\u001b[0m\n",
      "\u001b[34mMax heap size: 7840 M\u001b[0m\n",
      "\u001b[34mPython executable: /opt/conda/bin/python3.10\u001b[0m\n",
      "\u001b[34mConfig file: /etc/sagemaker-ts.properties\u001b[0m\n",
      "\u001b[34mInference address: http://0.0.0.0:8080\u001b[0m\n",
      "\u001b[34mManagement address: http://0.0.0.0:8080\u001b[0m\n",
      "\u001b[34mMetrics address: http://127.0.0.1:8082\u001b[0m\n",
      "\u001b[34mModel Store: /.sagemaker/ts/models\u001b[0m\n",
      "\u001b[34mInitial Models: model=/opt/ml/model\u001b[0m\n",
      "\u001b[34mLog dir: /logs\u001b[0m\n",
      "\u001b[34mMetrics dir: /logs\u001b[0m\n",
      "\u001b[34mNetty threads: 0\u001b[0m\n",
      "\u001b[34mNetty client threads: 0\u001b[0m\n",
      "\u001b[34mDefault workers per model: 8\u001b[0m\n",
      "\u001b[34mBlacklist Regex: N/A\u001b[0m\n",
      "\u001b[34mMaximum Response Size: 6553500\u001b[0m\n",
      "\u001b[35mWARNING: sun.reflect.Reflection.getCallerClass is not supported. This will impact performance.\u001b[0m\n",
      "\u001b[35m2024-09-11T17:00:59,935 [WARN ] main org.pytorch.serve.util.ConfigManager - Your torchserve instance can access any URL to load models. When deploying to production, make sure to limit the set of allowed_urls in config.properties\u001b[0m\n",
      "\u001b[35m2024-09-11T17:00:59,938 [INFO ] main org.pytorch.serve.servingsdk.impl.PluginsManager - Initializing plugins manager...\u001b[0m\n",
      "\u001b[35m2024-09-11T17:00:59,994 [INFO ] main org.pytorch.serve.metrics.configuration.MetricConfiguration - Successfully loaded metrics configuration from /opt/conda/lib/python3.10/site-packages/ts/configs/metrics.yaml\u001b[0m\n",
      "\u001b[35m2024-09-11T17:01:00,097 [INFO ] main org.pytorch.serve.ModelServer - \u001b[0m\n",
      "\u001b[35mTorchserve version: 0.11.0\u001b[0m\n",
      "\u001b[35mTS Home: /opt/conda/lib/python3.10/site-packages\u001b[0m\n",
      "\u001b[35mCurrent directory: /\u001b[0m\n",
      "\u001b[35mTemp directory: /home/model-server/tmp\u001b[0m\n",
      "\u001b[35mMetrics config path: /opt/conda/lib/python3.10/site-packages/ts/configs/metrics.yaml\u001b[0m\n",
      "\u001b[35mNumber of GPUs: 0\u001b[0m\n",
      "\u001b[35mNumber of CPUs: 8\u001b[0m\n",
      "\u001b[35mMax heap size: 7840 M\u001b[0m\n",
      "\u001b[35mPython executable: /opt/conda/bin/python3.10\u001b[0m\n",
      "\u001b[35mConfig file: /etc/sagemaker-ts.properties\u001b[0m\n",
      "\u001b[35mInference address: http://0.0.0.0:8080\u001b[0m\n",
      "\u001b[35mManagement address: http://0.0.0.0:8080\u001b[0m\n",
      "\u001b[35mMetrics address: http://127.0.0.1:8082\u001b[0m\n",
      "\u001b[35mModel Store: /.sagemaker/ts/models\u001b[0m\n",
      "\u001b[35mInitial Models: model=/opt/ml/model\u001b[0m\n",
      "\u001b[35mLog dir: /logs\u001b[0m\n",
      "\u001b[35mMetrics dir: /logs\u001b[0m\n",
      "\u001b[35mNetty threads: 0\u001b[0m\n",
      "\u001b[35mNetty client threads: 0\u001b[0m\n",
      "\u001b[35mDefault workers per model: 8\u001b[0m\n",
      "\u001b[35mBlacklist Regex: N/A\u001b[0m\n",
      "\u001b[35mMaximum Response Size: 6553500\u001b[0m\n",
      "\u001b[34mMaximum Request Size: 6553500\u001b[0m\n",
      "\u001b[34mLimit Maximum Image Pixels: true\u001b[0m\n",
      "\u001b[34mPrefer direct buffer: false\u001b[0m\n",
      "\u001b[34mAllowed Urls: [file://.*|http(s)?://.*]\u001b[0m\n",
      "\u001b[34mCustom python dependency for model allowed: false\u001b[0m\n",
      "\u001b[34mEnable metrics API: true\u001b[0m\n",
      "\u001b[34mMetrics mode: LOG\u001b[0m\n",
      "\u001b[34mDisable system metrics: true\u001b[0m\n",
      "\u001b[34mWorkflow Store: /.sagemaker/ts/models\u001b[0m\n",
      "\u001b[34mCPP log config: N/A\u001b[0m\n",
      "\u001b[34mModel config: N/A\u001b[0m\n",
      "\u001b[34mSystem metrics command: default\u001b[0m\n",
      "\u001b[34m2024-09-11T17:01:00,104 [INFO ] main org.pytorch.serve.servingsdk.impl.PluginsManager -  Loading snapshot serializer plugin...\u001b[0m\n",
      "\u001b[34m2024-09-11T17:01:00,123 [INFO ] main org.pytorch.serve.ModelServer - Loading initial models: /opt/ml/model\u001b[0m\n",
      "\u001b[34m2024-09-11T17:01:00,132 [INFO ] main org.pytorch.serve.archive.model.ModelArchive - createTempDir /home/model-server/tmp/models/2f2a4eccaf5140b08922a89878fdb5fc\u001b[0m\n",
      "\u001b[34m2024-09-11T17:01:00,132 [INFO ] main org.pytorch.serve.archive.model.ModelArchive - createSymbolicDir /home/model-server/tmp/models/2f2a4eccaf5140b08922a89878fdb5fc/model\u001b[0m\n",
      "\u001b[34m2024-09-11T17:01:00,133 [WARN ] main org.pytorch.serve.archive.model.ModelArchive - Model archive version is not defined. Please upgrade to torch-model-archiver 0.2.0 or higher\u001b[0m\n",
      "\u001b[34m2024-09-11T17:01:00,133 [WARN ] main org.pytorch.serve.archive.model.ModelArchive - Model archive createdOn is not defined. Please upgrade to torch-model-archiver 0.2.0 or higher\u001b[0m\n",
      "\u001b[34m2024-09-11T17:01:00,135 [INFO ] main org.pytorch.serve.wlm.ModelManager - Model model loaded.\u001b[0m\n",
      "\u001b[34m2024-09-11T17:01:00,147 [INFO ] main org.pytorch.serve.ModelServer - Initialize Inference server with: EpollServerSocketChannel.\u001b[0m\n",
      "\u001b[34m2024-09-11T17:01:00,431 [INFO ] main org.pytorch.serve.ModelServer - Inference API bind to: http://0.0.0.0:8080\u001b[0m\n",
      "\u001b[34m2024-09-11T17:01:00,432 [INFO ] main org.pytorch.serve.ModelServer - Initialize Metrics server with: EpollServerSocketChannel.\u001b[0m\n",
      "\u001b[34m2024-09-11T17:01:00,448 [INFO ] main org.pytorch.serve.ModelServer - Metrics API bind to: http://127.0.0.1:8082\u001b[0m\n",
      "\u001b[34mModel server started.\u001b[0m\n",
      "\u001b[34m2024-09-11T17:01:02,844 [INFO ] W-9002-model_1.0-stdout MODEL_LOG - s_name_part0=/home/model-server/tmp/.ts.sock, s_name_part1=9002, pid=67\u001b[0m\n",
      "\u001b[34m2024-09-11T17:01:02,846 [INFO ] W-9002-model_1.0-stdout MODEL_LOG - Listening on port: /home/model-server/tmp/.ts.sock.9002\u001b[0m\n",
      "\u001b[34m2024-09-11T17:01:02,874 [INFO ] W-9001-model_1.0-stdout MODEL_LOG - s_name_part0=/home/model-server/tmp/.ts.sock, s_name_part1=9001, pid=62\u001b[0m\n",
      "\u001b[34m2024-09-11T17:01:02,883 [INFO ] W-9001-model_1.0-stdout MODEL_LOG - Listening on port: /home/model-server/tmp/.ts.sock.9001\u001b[0m\n",
      "\u001b[34m2024-09-11T17:01:02,927 [INFO ] W-9002-model_1.0-stdout MODEL_LOG - Successfully loaded /opt/conda/lib/python3.10/site-packages/ts/configs/metrics.yaml.\u001b[0m\n",
      "\u001b[34m2024-09-11T17:01:02,927 [INFO ] W-9002-model_1.0-stdout MODEL_LOG - [PID]67\u001b[0m\n",
      "\u001b[34m2024-09-11T17:01:02,928 [INFO ] W-9002-model_1.0-stdout MODEL_LOG - Torch worker started.\u001b[0m\n",
      "\u001b[35mMaximum Request Size: 6553500\u001b[0m\n",
      "\u001b[35mLimit Maximum Image Pixels: true\u001b[0m\n",
      "\u001b[35mPrefer direct buffer: false\u001b[0m\n",
      "\u001b[35mAllowed Urls: [file://.*|http(s)?://.*]\u001b[0m\n",
      "\u001b[35mCustom python dependency for model allowed: false\u001b[0m\n",
      "\u001b[35mEnable metrics API: true\u001b[0m\n",
      "\u001b[35mMetrics mode: LOG\u001b[0m\n",
      "\u001b[35mDisable system metrics: true\u001b[0m\n",
      "\u001b[35mWorkflow Store: /.sagemaker/ts/models\u001b[0m\n",
      "\u001b[35mCPP log config: N/A\u001b[0m\n",
      "\u001b[35mModel config: N/A\u001b[0m\n",
      "\u001b[35mSystem metrics command: default\u001b[0m\n",
      "\u001b[35m2024-09-11T17:01:00,104 [INFO ] main org.pytorch.serve.servingsdk.impl.PluginsManager -  Loading snapshot serializer plugin...\u001b[0m\n",
      "\u001b[35m2024-09-11T17:01:00,123 [INFO ] main org.pytorch.serve.ModelServer - Loading initial models: /opt/ml/model\u001b[0m\n",
      "\u001b[35m2024-09-11T17:01:00,132 [INFO ] main org.pytorch.serve.archive.model.ModelArchive - createTempDir /home/model-server/tmp/models/2f2a4eccaf5140b08922a89878fdb5fc\u001b[0m\n",
      "\u001b[35m2024-09-11T17:01:00,132 [INFO ] main org.pytorch.serve.archive.model.ModelArchive - createSymbolicDir /home/model-server/tmp/models/2f2a4eccaf5140b08922a89878fdb5fc/model\u001b[0m\n",
      "\u001b[35m2024-09-11T17:01:00,133 [WARN ] main org.pytorch.serve.archive.model.ModelArchive - Model archive version is not defined. Please upgrade to torch-model-archiver 0.2.0 or higher\u001b[0m\n",
      "\u001b[35m2024-09-11T17:01:00,133 [WARN ] main org.pytorch.serve.archive.model.ModelArchive - Model archive createdOn is not defined. Please upgrade to torch-model-archiver 0.2.0 or higher\u001b[0m\n",
      "\u001b[35m2024-09-11T17:01:00,135 [INFO ] main org.pytorch.serve.wlm.ModelManager - Model model loaded.\u001b[0m\n",
      "\u001b[35m2024-09-11T17:01:00,147 [INFO ] main org.pytorch.serve.ModelServer - Initialize Inference server with: EpollServerSocketChannel.\u001b[0m\n",
      "\u001b[35m2024-09-11T17:01:00,431 [INFO ] main org.pytorch.serve.ModelServer - Inference API bind to: http://0.0.0.0:8080\u001b[0m\n",
      "\u001b[35m2024-09-11T17:01:00,432 [INFO ] main org.pytorch.serve.ModelServer - Initialize Metrics server with: EpollServerSocketChannel.\u001b[0m\n",
      "\u001b[35m2024-09-11T17:01:00,448 [INFO ] main org.pytorch.serve.ModelServer - Metrics API bind to: http://127.0.0.1:8082\u001b[0m\n",
      "\u001b[35mModel server started.\u001b[0m\n",
      "\u001b[35m2024-09-11T17:01:02,844 [INFO ] W-9002-model_1.0-stdout MODEL_LOG - s_name_part0=/home/model-server/tmp/.ts.sock, s_name_part1=9002, pid=67\u001b[0m\n",
      "\u001b[35m2024-09-11T17:01:02,846 [INFO ] W-9002-model_1.0-stdout MODEL_LOG - Listening on port: /home/model-server/tmp/.ts.sock.9002\u001b[0m\n",
      "\u001b[35m2024-09-11T17:01:02,874 [INFO ] W-9001-model_1.0-stdout MODEL_LOG - s_name_part0=/home/model-server/tmp/.ts.sock, s_name_part1=9001, pid=62\u001b[0m\n",
      "\u001b[35m2024-09-11T17:01:02,883 [INFO ] W-9001-model_1.0-stdout MODEL_LOG - Listening on port: /home/model-server/tmp/.ts.sock.9001\u001b[0m\n",
      "\u001b[35m2024-09-11T17:01:02,927 [INFO ] W-9002-model_1.0-stdout MODEL_LOG - Successfully loaded /opt/conda/lib/python3.10/site-packages/ts/configs/metrics.yaml.\u001b[0m\n",
      "\u001b[35m2024-09-11T17:01:02,927 [INFO ] W-9002-model_1.0-stdout MODEL_LOG - [PID]67\u001b[0m\n",
      "\u001b[35m2024-09-11T17:01:02,928 [INFO ] W-9002-model_1.0-stdout MODEL_LOG - Torch worker started.\u001b[0m\n",
      "\u001b[34m2024-09-11T17:01:02,934 [INFO ] W-9002-model_1.0 org.pytorch.serve.wlm.WorkerThread - Connecting to: /home/model-server/tmp/.ts.sock.9002\u001b[0m\n",
      "\u001b[34m2024-09-11T17:01:02,934 [INFO ] W-9003-model_1.0-stdout MODEL_LOG - s_name_part0=/home/model-server/tmp/.ts.sock, s_name_part1=9003, pid=63\u001b[0m\n",
      "\u001b[34m2024-09-11T17:01:02,937 [INFO ] W-9002-model_1.0-stdout MODEL_LOG - Python runtime: 3.10.9\u001b[0m\n",
      "\u001b[34m2024-09-11T17:01:02,938 [INFO ] W-9003-model_1.0-stdout MODEL_LOG - Listening on port: /home/model-server/tmp/.ts.sock.9003\u001b[0m\n",
      "\u001b[34m2024-09-11T17:01:02,944 [INFO ] W-9002-model_1.0-stdout MODEL_LOG - Connection accepted: /home/model-server/tmp/.ts.sock.9002.\u001b[0m\n",
      "\u001b[34m2024-09-11T17:01:02,958 [INFO ] W-9002-model_1.0 org.pytorch.serve.wlm.WorkerThread - Looping backend response at: 1726074062958\u001b[0m\n",
      "\u001b[34m2024-09-11T17:01:02,970 [INFO ] W-9001-model_1.0-stdout MODEL_LOG - Successfully loaded /opt/conda/lib/python3.10/site-packages/ts/configs/metrics.yaml.\u001b[0m\n",
      "\u001b[34m2024-09-11T17:01:02,971 [INFO ] W-9001-model_1.0-stdout MODEL_LOG - [PID]62\u001b[0m\n",
      "\u001b[34m2024-09-11T17:01:02,972 [INFO ] W-9001-model_1.0-stdout MODEL_LOG - Torch worker started.\u001b[0m\n",
      "\u001b[34m2024-09-11T17:01:02,973 [INFO ] W-9001-model_1.0 org.pytorch.serve.wlm.WorkerThread - Connecting to: /home/model-server/tmp/.ts.sock.9001\u001b[0m\n",
      "\u001b[34m2024-09-11T17:01:02,976 [INFO ] W-9001-model_1.0-stdout MODEL_LOG - Python runtime: 3.10.9\u001b[0m\n",
      "\u001b[34m2024-09-11T17:01:02,984 [INFO ] W-9004-model_1.0-stdout MODEL_LOG - s_name_part0=/home/model-server/tmp/.ts.sock, s_name_part1=9004, pid=64\u001b[0m\n",
      "\u001b[34m2024-09-11T17:01:02,986 [INFO ] W-9004-model_1.0-stdout MODEL_LOG - Listening on port: /home/model-server/tmp/.ts.sock.9004\u001b[0m\n",
      "\u001b[34m2024-09-11T17:01:03,000 [INFO ] W-9001-model_1.0-stdout MODEL_LOG - Connection accepted: /home/model-server/tmp/.ts.sock.9001.\u001b[0m\n",
      "\u001b[34m2024-09-11T17:01:03,024 [INFO ] W-9001-model_1.0 org.pytorch.serve.wlm.WorkerThread - Looping backend response at: 1726074063024\u001b[0m\n",
      "\u001b[34m2024-09-11T17:01:03,052 [INFO ] W-9003-model_1.0-stdout MODEL_LOG - Successfully loaded /opt/conda/lib/python3.10/site-packages/ts/configs/metrics.yaml.\u001b[0m\n",
      "\u001b[34m2024-09-11T17:01:03,053 [INFO ] W-9003-model_1.0-stdout MODEL_LOG - [PID]63\u001b[0m\n",
      "\u001b[34m2024-09-11T17:01:03,056 [INFO ] W-9003-model_1.0-stdout MODEL_LOG - Torch worker started.\u001b[0m\n",
      "\u001b[34m2024-09-11T17:01:03,057 [INFO ] W-9003-model_1.0-stdout MODEL_LOG - Python runtime: 3.10.9\u001b[0m\n",
      "\u001b[34m2024-09-11T17:01:03,057 [INFO ] W-9003-model_1.0 org.pytorch.serve.wlm.WorkerThread - Connecting to: /home/model-server/tmp/.ts.sock.9003\u001b[0m\n",
      "\u001b[34m2024-09-11T17:01:03,066 [INFO ] W-9002-model_1.0-stdout MODEL_LOG - model_name: model, batchSize: 1\u001b[0m\n",
      "\u001b[34m2024-09-11T17:01:03,068 [INFO ] W-9004-model_1.0-stdout MODEL_LOG - Successfully loaded /opt/conda/lib/python3.10/site-packages/ts/configs/metrics.yaml.\u001b[0m\n",
      "\u001b[34m2024-09-11T17:01:03,068 [INFO ] W-9004-model_1.0-stdout MODEL_LOG - [PID]64\u001b[0m\n",
      "\u001b[34m2024-09-11T17:01:03,069 [INFO ] W-9004-model_1.0-stdout MODEL_LOG - Torch worker started.\u001b[0m\n",
      "\u001b[34m2024-09-11T17:01:03,069 [INFO ] W-9004-model_1.0 org.pytorch.serve.wlm.WorkerThread - Connecting to: /home/model-server/tmp/.ts.sock.9004\u001b[0m\n",
      "\u001b[34m2024-09-11T17:01:03,074 [INFO ] W-9004-model_1.0-stdout MODEL_LOG - Python runtime: 3.10.9\u001b[0m\n",
      "\u001b[34m2024-09-11T17:01:03,082 [INFO ] W-9003-model_1.0 org.pytorch.serve.wlm.WorkerThread - Looping backend response at: 1726074063082\u001b[0m\n",
      "\u001b[34m2024-09-11T17:01:03,082 [INFO ] W-9003-model_1.0-stdout MODEL_LOG - Connection accepted: /home/model-server/tmp/.ts.sock.9003.\u001b[0m\n",
      "\u001b[34m2024-09-11T17:01:03,083 [INFO ] W-9001-model_1.0-stdout MODEL_LOG - model_name: model, batchSize: 1\u001b[0m\n",
      "\u001b[34m2024-09-11T17:01:03,099 [INFO ] W-9000-model_1.0-stdout MODEL_LOG - s_name_part0=/home/model-server/tmp/.ts.sock, s_name_part1=9000, pid=68\u001b[0m\n",
      "\u001b[35m2024-09-11T17:01:02,934 [INFO ] W-9002-model_1.0 org.pytorch.serve.wlm.WorkerThread - Connecting to: /home/model-server/tmp/.ts.sock.9002\u001b[0m\n",
      "\u001b[35m2024-09-11T17:01:02,934 [INFO ] W-9003-model_1.0-stdout MODEL_LOG - s_name_part0=/home/model-server/tmp/.ts.sock, s_name_part1=9003, pid=63\u001b[0m\n",
      "\u001b[35m2024-09-11T17:01:02,937 [INFO ] W-9002-model_1.0-stdout MODEL_LOG - Python runtime: 3.10.9\u001b[0m\n",
      "\u001b[35m2024-09-11T17:01:02,938 [INFO ] W-9003-model_1.0-stdout MODEL_LOG - Listening on port: /home/model-server/tmp/.ts.sock.9003\u001b[0m\n",
      "\u001b[35m2024-09-11T17:01:02,944 [INFO ] W-9002-model_1.0-stdout MODEL_LOG - Connection accepted: /home/model-server/tmp/.ts.sock.9002.\u001b[0m\n",
      "\u001b[35m2024-09-11T17:01:02,958 [INFO ] W-9002-model_1.0 org.pytorch.serve.wlm.WorkerThread - Looping backend response at: 1726074062958\u001b[0m\n",
      "\u001b[35m2024-09-11T17:01:02,970 [INFO ] W-9001-model_1.0-stdout MODEL_LOG - Successfully loaded /opt/conda/lib/python3.10/site-packages/ts/configs/metrics.yaml.\u001b[0m\n",
      "\u001b[35m2024-09-11T17:01:02,971 [INFO ] W-9001-model_1.0-stdout MODEL_LOG - [PID]62\u001b[0m\n",
      "\u001b[35m2024-09-11T17:01:02,972 [INFO ] W-9001-model_1.0-stdout MODEL_LOG - Torch worker started.\u001b[0m\n",
      "\u001b[35m2024-09-11T17:01:02,973 [INFO ] W-9001-model_1.0 org.pytorch.serve.wlm.WorkerThread - Connecting to: /home/model-server/tmp/.ts.sock.9001\u001b[0m\n",
      "\u001b[35m2024-09-11T17:01:02,976 [INFO ] W-9001-model_1.0-stdout MODEL_LOG - Python runtime: 3.10.9\u001b[0m\n",
      "\u001b[35m2024-09-11T17:01:02,984 [INFO ] W-9004-model_1.0-stdout MODEL_LOG - s_name_part0=/home/model-server/tmp/.ts.sock, s_name_part1=9004, pid=64\u001b[0m\n",
      "\u001b[35m2024-09-11T17:01:02,986 [INFO ] W-9004-model_1.0-stdout MODEL_LOG - Listening on port: /home/model-server/tmp/.ts.sock.9004\u001b[0m\n",
      "\u001b[35m2024-09-11T17:01:03,000 [INFO ] W-9001-model_1.0-stdout MODEL_LOG - Connection accepted: /home/model-server/tmp/.ts.sock.9001.\u001b[0m\n",
      "\u001b[35m2024-09-11T17:01:03,024 [INFO ] W-9001-model_1.0 org.pytorch.serve.wlm.WorkerThread - Looping backend response at: 1726074063024\u001b[0m\n",
      "\u001b[35m2024-09-11T17:01:03,052 [INFO ] W-9003-model_1.0-stdout MODEL_LOG - Successfully loaded /opt/conda/lib/python3.10/site-packages/ts/configs/metrics.yaml.\u001b[0m\n",
      "\u001b[35m2024-09-11T17:01:03,053 [INFO ] W-9003-model_1.0-stdout MODEL_LOG - [PID]63\u001b[0m\n",
      "\u001b[35m2024-09-11T17:01:03,056 [INFO ] W-9003-model_1.0-stdout MODEL_LOG - Torch worker started.\u001b[0m\n",
      "\u001b[35m2024-09-11T17:01:03,057 [INFO ] W-9003-model_1.0-stdout MODEL_LOG - Python runtime: 3.10.9\u001b[0m\n",
      "\u001b[35m2024-09-11T17:01:03,057 [INFO ] W-9003-model_1.0 org.pytorch.serve.wlm.WorkerThread - Connecting to: /home/model-server/tmp/.ts.sock.9003\u001b[0m\n",
      "\u001b[35m2024-09-11T17:01:03,066 [INFO ] W-9002-model_1.0-stdout MODEL_LOG - model_name: model, batchSize: 1\u001b[0m\n",
      "\u001b[35m2024-09-11T17:01:03,068 [INFO ] W-9004-model_1.0-stdout MODEL_LOG - Successfully loaded /opt/conda/lib/python3.10/site-packages/ts/configs/metrics.yaml.\u001b[0m\n",
      "\u001b[35m2024-09-11T17:01:03,068 [INFO ] W-9004-model_1.0-stdout MODEL_LOG - [PID]64\u001b[0m\n",
      "\u001b[35m2024-09-11T17:01:03,069 [INFO ] W-9004-model_1.0-stdout MODEL_LOG - Torch worker started.\u001b[0m\n",
      "\u001b[35m2024-09-11T17:01:03,069 [INFO ] W-9004-model_1.0 org.pytorch.serve.wlm.WorkerThread - Connecting to: /home/model-server/tmp/.ts.sock.9004\u001b[0m\n",
      "\u001b[35m2024-09-11T17:01:03,074 [INFO ] W-9004-model_1.0-stdout MODEL_LOG - Python runtime: 3.10.9\u001b[0m\n",
      "\u001b[35m2024-09-11T17:01:03,082 [INFO ] W-9003-model_1.0 org.pytorch.serve.wlm.WorkerThread - Looping backend response at: 1726074063082\u001b[0m\n",
      "\u001b[35m2024-09-11T17:01:03,082 [INFO ] W-9003-model_1.0-stdout MODEL_LOG - Connection accepted: /home/model-server/tmp/.ts.sock.9003.\u001b[0m\n",
      "\u001b[35m2024-09-11T17:01:03,083 [INFO ] W-9001-model_1.0-stdout MODEL_LOG - model_name: model, batchSize: 1\u001b[0m\n",
      "\u001b[35m2024-09-11T17:01:03,099 [INFO ] W-9000-model_1.0-stdout MODEL_LOG - s_name_part0=/home/model-server/tmp/.ts.sock, s_name_part1=9000, pid=68\u001b[0m\n",
      "\u001b[34m2024-09-11T17:01:03,102 [INFO ] W-9000-model_1.0-stdout MODEL_LOG - Listening on port: /home/model-server/tmp/.ts.sock.9000\u001b[0m\n",
      "\u001b[34m2024-09-11T17:01:03,116 [INFO ] W-9004-model_1.0-stdout MODEL_LOG - Connection accepted: /home/model-server/tmp/.ts.sock.9004.\u001b[0m\n",
      "\u001b[34m2024-09-11T17:01:03,116 [INFO ] W-9004-model_1.0 org.pytorch.serve.wlm.WorkerThread - Looping backend response at: 1726074063116\u001b[0m\n",
      "\u001b[34m2024-09-11T17:01:03,151 [INFO ] W-9003-model_1.0-stdout MODEL_LOG - model_name: model, batchSize: 1\u001b[0m\n",
      "\u001b[34m2024-09-11T17:01:03,199 [INFO ] W-9004-model_1.0-stdout MODEL_LOG - model_name: model, batchSize: 1\u001b[0m\n",
      "\u001b[34m2024-09-11T17:01:03,207 [INFO ] W-9007-model_1.0-stdout MODEL_LOG - s_name_part0=/home/model-server/tmp/.ts.sock, s_name_part1=9007, pid=66\u001b[0m\n",
      "\u001b[34m2024-09-11T17:01:03,211 [INFO ] W-9007-model_1.0-stdout MODEL_LOG - Listening on port: /home/model-server/tmp/.ts.sock.9007\u001b[0m\n",
      "\u001b[34m2024-09-11T17:01:03,302 [INFO ] W-9000-model_1.0-stdout MODEL_LOG - Successfully loaded /opt/conda/lib/python3.10/site-packages/ts/configs/metrics.yaml.\u001b[0m\n",
      "\u001b[34m2024-09-11T17:01:03,303 [INFO ] W-9000-model_1.0-stdout MODEL_LOG - [PID]68\u001b[0m\n",
      "\u001b[34m2024-09-11T17:01:03,305 [INFO ] W-9000-model_1.0-stdout MODEL_LOG - Torch worker started.\u001b[0m\n",
      "\u001b[34m2024-09-11T17:01:03,305 [INFO ] W-9000-model_1.0 org.pytorch.serve.wlm.WorkerThread - Connecting to: /home/model-server/tmp/.ts.sock.9000\u001b[0m\n",
      "\u001b[34m2024-09-11T17:01:03,308 [INFO ] W-9000-model_1.0-stdout MODEL_LOG - Python runtime: 3.10.9\u001b[0m\n",
      "\u001b[34m2024-09-11T17:01:03,308 [INFO ] W-9000-model_1.0-stdout MODEL_LOG - Connection accepted: /home/model-server/tmp/.ts.sock.9000.\u001b[0m\n",
      "\u001b[34m2024-09-11T17:01:03,309 [INFO ] W-9000-model_1.0 org.pytorch.serve.wlm.WorkerThread - Looping backend response at: 1726074063309\u001b[0m\n",
      "\u001b[34m2024-09-11T17:01:03,383 [INFO ] W-9000-model_1.0-stdout MODEL_LOG - model_name: model, batchSize: 1\u001b[0m\n",
      "\u001b[34m2024-09-11T17:01:03,394 [INFO ] W-9007-model_1.0-stdout MODEL_LOG - Successfully loaded /opt/conda/lib/python3.10/site-packages/ts/configs/metrics.yaml.\u001b[0m\n",
      "\u001b[34m2024-09-11T17:01:03,395 [INFO ] W-9007-model_1.0-stdout MODEL_LOG - [PID]66\u001b[0m\n",
      "\u001b[34m2024-09-11T17:01:03,395 [INFO ] W-9007-model_1.0-stdout MODEL_LOG - Torch worker started.\u001b[0m\n",
      "\u001b[34m2024-09-11T17:01:03,396 [INFO ] W-9007-model_1.0 org.pytorch.serve.wlm.WorkerThread - Connecting to: /home/model-server/tmp/.ts.sock.9007\u001b[0m\n",
      "\u001b[34m2024-09-11T17:01:03,397 [INFO ] W-9007-model_1.0-stdout MODEL_LOG - Python runtime: 3.10.9\u001b[0m\n",
      "\u001b[34m2024-09-11T17:01:03,412 [INFO ] W-9007-model_1.0-stdout MODEL_LOG - Connection accepted: /home/model-server/tmp/.ts.sock.9007.\u001b[0m\n",
      "\u001b[34m2024-09-11T17:01:03,412 [INFO ] W-9007-model_1.0 org.pytorch.serve.wlm.WorkerThread - Looping backend response at: 1726074063412\u001b[0m\n",
      "\u001b[34m2024-09-11T17:01:03,463 [INFO ] W-9007-model_1.0-stdout MODEL_LOG - model_name: model, batchSize: 1\u001b[0m\n",
      "\u001b[35m2024-09-11T17:01:03,102 [INFO ] W-9000-model_1.0-stdout MODEL_LOG - Listening on port: /home/model-server/tmp/.ts.sock.9000\u001b[0m\n",
      "\u001b[35m2024-09-11T17:01:03,116 [INFO ] W-9004-model_1.0-stdout MODEL_LOG - Connection accepted: /home/model-server/tmp/.ts.sock.9004.\u001b[0m\n",
      "\u001b[35m2024-09-11T17:01:03,116 [INFO ] W-9004-model_1.0 org.pytorch.serve.wlm.WorkerThread - Looping backend response at: 1726074063116\u001b[0m\n",
      "\u001b[35m2024-09-11T17:01:03,151 [INFO ] W-9003-model_1.0-stdout MODEL_LOG - model_name: model, batchSize: 1\u001b[0m\n",
      "\u001b[35m2024-09-11T17:01:03,199 [INFO ] W-9004-model_1.0-stdout MODEL_LOG - model_name: model, batchSize: 1\u001b[0m\n",
      "\u001b[35m2024-09-11T17:01:03,207 [INFO ] W-9007-model_1.0-stdout MODEL_LOG - s_name_part0=/home/model-server/tmp/.ts.sock, s_name_part1=9007, pid=66\u001b[0m\n",
      "\u001b[35m2024-09-11T17:01:03,211 [INFO ] W-9007-model_1.0-stdout MODEL_LOG - Listening on port: /home/model-server/tmp/.ts.sock.9007\u001b[0m\n",
      "\u001b[35m2024-09-11T17:01:03,302 [INFO ] W-9000-model_1.0-stdout MODEL_LOG - Successfully loaded /opt/conda/lib/python3.10/site-packages/ts/configs/metrics.yaml.\u001b[0m\n",
      "\u001b[35m2024-09-11T17:01:03,303 [INFO ] W-9000-model_1.0-stdout MODEL_LOG - [PID]68\u001b[0m\n",
      "\u001b[35m2024-09-11T17:01:03,305 [INFO ] W-9000-model_1.0-stdout MODEL_LOG - Torch worker started.\u001b[0m\n",
      "\u001b[35m2024-09-11T17:01:03,305 [INFO ] W-9000-model_1.0 org.pytorch.serve.wlm.WorkerThread - Connecting to: /home/model-server/tmp/.ts.sock.9000\u001b[0m\n",
      "\u001b[35m2024-09-11T17:01:03,308 [INFO ] W-9000-model_1.0-stdout MODEL_LOG - Python runtime: 3.10.9\u001b[0m\n",
      "\u001b[35m2024-09-11T17:01:03,308 [INFO ] W-9000-model_1.0-stdout MODEL_LOG - Connection accepted: /home/model-server/tmp/.ts.sock.9000.\u001b[0m\n",
      "\u001b[35m2024-09-11T17:01:03,309 [INFO ] W-9000-model_1.0 org.pytorch.serve.wlm.WorkerThread - Looping backend response at: 1726074063309\u001b[0m\n",
      "\u001b[35m2024-09-11T17:01:03,383 [INFO ] W-9000-model_1.0-stdout MODEL_LOG - model_name: model, batchSize: 1\u001b[0m\n",
      "\u001b[35m2024-09-11T17:01:03,394 [INFO ] W-9007-model_1.0-stdout MODEL_LOG - Successfully loaded /opt/conda/lib/python3.10/site-packages/ts/configs/metrics.yaml.\u001b[0m\n",
      "\u001b[35m2024-09-11T17:01:03,395 [INFO ] W-9007-model_1.0-stdout MODEL_LOG - [PID]66\u001b[0m\n",
      "\u001b[35m2024-09-11T17:01:03,395 [INFO ] W-9007-model_1.0-stdout MODEL_LOG - Torch worker started.\u001b[0m\n",
      "\u001b[35m2024-09-11T17:01:03,396 [INFO ] W-9007-model_1.0 org.pytorch.serve.wlm.WorkerThread - Connecting to: /home/model-server/tmp/.ts.sock.9007\u001b[0m\n",
      "\u001b[35m2024-09-11T17:01:03,397 [INFO ] W-9007-model_1.0-stdout MODEL_LOG - Python runtime: 3.10.9\u001b[0m\n",
      "\u001b[35m2024-09-11T17:01:03,412 [INFO ] W-9007-model_1.0-stdout MODEL_LOG - Connection accepted: /home/model-server/tmp/.ts.sock.9007.\u001b[0m\n",
      "\u001b[35m2024-09-11T17:01:03,412 [INFO ] W-9007-model_1.0 org.pytorch.serve.wlm.WorkerThread - Looping backend response at: 1726074063412\u001b[0m\n",
      "\u001b[35m2024-09-11T17:01:03,463 [INFO ] W-9007-model_1.0-stdout MODEL_LOG - model_name: model, batchSize: 1\u001b[0m\n",
      "\u001b[34m2024-09-11T17:01:03,756 [INFO ] W-9001-model_1.0 org.pytorch.serve.wlm.WorkerThread - Backend response time: 732\u001b[0m\n",
      "\u001b[34m2024-09-11T17:01:03,756 [INFO ] W-9001-model_1.0 TS_METRICS - WorkerLoadTime.Milliseconds:3614.0|#WorkerName:W-9001-model_1.0,Level:Host|#hostname:6fd45d4dfc09,timestamp:1726074063\u001b[0m\n",
      "\u001b[34m2024-09-11T17:01:03,757 [INFO ] W-9001-model_1.0 TS_METRICS - WorkerThreadTime.Milliseconds:26.0|#Level:Host|#hostname:6fd45d4dfc09,timestamp:1726074063\u001b[0m\n",
      "\u001b[34m2024-09-11T17:01:03,766 [INFO ] W-9005-model_1.0-stdout MODEL_LOG - s_name_part0=/home/model-server/tmp/.ts.sock, s_name_part1=9005, pid=69\u001b[0m\n",
      "\u001b[34m2024-09-11T17:01:03,779 [INFO ] W-9005-model_1.0-stdout MODEL_LOG - Listening on port: /home/model-server/tmp/.ts.sock.9005\u001b[0m\n",
      "\u001b[34m2024-09-11T17:01:03,856 [INFO ] W-9005-model_1.0-stdout MODEL_LOG - Successfully loaded /opt/conda/lib/python3.10/site-packages/ts/configs/metrics.yaml.\u001b[0m\n",
      "\u001b[34m2024-09-11T17:01:03,856 [INFO ] W-9004-model_1.0 org.pytorch.serve.wlm.WorkerThread - Backend response time: 740\u001b[0m\n",
      "\u001b[34m2024-09-11T17:01:03,868 [INFO ] W-9004-model_1.0 TS_METRICS - WorkerLoadTime.Milliseconds:3725.0|#WorkerName:W-9004-model_1.0,Level:Host|#hostname:6fd45d4dfc09,timestamp:1726074063\u001b[0m\n",
      "\u001b[34m2024-09-11T17:01:03,869 [INFO ] W-9004-model_1.0 TS_METRICS - WorkerThreadTime.Milliseconds:12.0|#Level:Host|#hostname:6fd45d4dfc09,timestamp:1726074063\u001b[0m\n",
      "\u001b[34m2024-09-11T17:01:03,873 [INFO ] W-9005-model_1.0-stdout MODEL_LOG - [PID]69\u001b[0m\n",
      "\u001b[34m2024-09-11T17:01:03,875 [INFO ] W-9005-model_1.0-stdout MODEL_LOG - Torch worker started.\u001b[0m\n",
      "\u001b[34m2024-09-11T17:01:03,875 [INFO ] W-9005-model_1.0 org.pytorch.serve.wlm.WorkerThread - Connecting to: /home/model-server/tmp/.ts.sock.9005\u001b[0m\n",
      "\u001b[34m2024-09-11T17:01:03,878 [INFO ] W-9005-model_1.0-stdout MODEL_LOG - Python runtime: 3.10.9\u001b[0m\n",
      "\u001b[34m2024-09-11T17:01:03,888 [INFO ] W-9000-model_1.0 org.pytorch.serve.wlm.WorkerThread - Backend response time: 578\u001b[0m\n",
      "\u001b[34m2024-09-11T17:01:03,889 [INFO ] W-9005-model_1.0-stdout MODEL_LOG - Connection accepted: /home/model-server/tmp/.ts.sock.9005.\u001b[0m\n",
      "\u001b[34m2024-09-11T17:01:03,889 [INFO ] W-9000-model_1.0 TS_METRICS - WorkerLoadTime.Milliseconds:3748.0|#WorkerName:W-9000-model_1.0,Level:Host|#hostname:6fd45d4dfc09,timestamp:1726074063\u001b[0m\n",
      "\u001b[34m2024-09-11T17:01:03,889 [INFO ] W-9000-model_1.0 TS_METRICS - WorkerThreadTime.Milliseconds:2.0|#Level:Host|#hostname:6fd45d4dfc09,timestamp:1726074063\u001b[0m\n",
      "\u001b[34m2024-09-11T17:01:03,890 [INFO ] W-9005-model_1.0 org.pytorch.serve.wlm.WorkerThread - Looping backend response at: 1726074063890\u001b[0m\n",
      "\u001b[34m2024-09-11T17:01:03,896 [INFO ] W-9002-model_1.0 org.pytorch.serve.wlm.WorkerThread - Backend response time: 937\u001b[0m\n",
      "\u001b[34m2024-09-11T17:01:03,896 [INFO ] W-9002-model_1.0 TS_METRICS - WorkerLoadTime.Milliseconds:3753.0|#WorkerName:W-9002-model_1.0,Level:Host|#hostname:6fd45d4dfc09,timestamp:1726074063\u001b[0m\n",
      "\u001b[34m2024-09-11T17:01:03,897 [INFO ] W-9002-model_1.0 TS_METRICS - WorkerThreadTime.Milliseconds:13.0|#Level:Host|#hostname:6fd45d4dfc09,timestamp:1726074063\u001b[0m\n",
      "\u001b[34m2024-09-11T17:01:03,914 [INFO ] W-9005-model_1.0-stdout MODEL_LOG - model_name: model, batchSize: 1\u001b[0m\n",
      "\u001b[34m2024-09-11T17:01:03,919 [INFO ] W-9006-model_1.0-stdout MODEL_LOG - s_name_part0=/home/model-server/tmp/.ts.sock, s_name_part1=9006, pid=65\u001b[0m\n",
      "\u001b[34m2024-09-11T17:01:03,920 [INFO ] W-9006-model_1.0-stdout MODEL_LOG - Listening on port: /home/model-server/tmp/.ts.sock.9006\u001b[0m\n",
      "\u001b[34m2024-09-11T17:01:03,929 [INFO ] W-9003-model_1.0 org.pytorch.serve.wlm.WorkerThread - Backend response time: 846\u001b[0m\n",
      "\u001b[35m2024-09-11T17:01:03,756 [INFO ] W-9001-model_1.0 org.pytorch.serve.wlm.WorkerThread - Backend response time: 732\u001b[0m\n",
      "\u001b[35m2024-09-11T17:01:03,756 [INFO ] W-9001-model_1.0 TS_METRICS - WorkerLoadTime.Milliseconds:3614.0|#WorkerName:W-9001-model_1.0,Level:Host|#hostname:6fd45d4dfc09,timestamp:1726074063\u001b[0m\n",
      "\u001b[35m2024-09-11T17:01:03,757 [INFO ] W-9001-model_1.0 TS_METRICS - WorkerThreadTime.Milliseconds:26.0|#Level:Host|#hostname:6fd45d4dfc09,timestamp:1726074063\u001b[0m\n",
      "\u001b[35m2024-09-11T17:01:03,766 [INFO ] W-9005-model_1.0-stdout MODEL_LOG - s_name_part0=/home/model-server/tmp/.ts.sock, s_name_part1=9005, pid=69\u001b[0m\n",
      "\u001b[35m2024-09-11T17:01:03,779 [INFO ] W-9005-model_1.0-stdout MODEL_LOG - Listening on port: /home/model-server/tmp/.ts.sock.9005\u001b[0m\n",
      "\u001b[35m2024-09-11T17:01:03,856 [INFO ] W-9005-model_1.0-stdout MODEL_LOG - Successfully loaded /opt/conda/lib/python3.10/site-packages/ts/configs/metrics.yaml.\u001b[0m\n",
      "\u001b[35m2024-09-11T17:01:03,856 [INFO ] W-9004-model_1.0 org.pytorch.serve.wlm.WorkerThread - Backend response time: 740\u001b[0m\n",
      "\u001b[35m2024-09-11T17:01:03,868 [INFO ] W-9004-model_1.0 TS_METRICS - WorkerLoadTime.Milliseconds:3725.0|#WorkerName:W-9004-model_1.0,Level:Host|#hostname:6fd45d4dfc09,timestamp:1726074063\u001b[0m\n",
      "\u001b[35m2024-09-11T17:01:03,869 [INFO ] W-9004-model_1.0 TS_METRICS - WorkerThreadTime.Milliseconds:12.0|#Level:Host|#hostname:6fd45d4dfc09,timestamp:1726074063\u001b[0m\n",
      "\u001b[35m2024-09-11T17:01:03,873 [INFO ] W-9005-model_1.0-stdout MODEL_LOG - [PID]69\u001b[0m\n",
      "\u001b[35m2024-09-11T17:01:03,875 [INFO ] W-9005-model_1.0-stdout MODEL_LOG - Torch worker started.\u001b[0m\n",
      "\u001b[35m2024-09-11T17:01:03,875 [INFO ] W-9005-model_1.0 org.pytorch.serve.wlm.WorkerThread - Connecting to: /home/model-server/tmp/.ts.sock.9005\u001b[0m\n",
      "\u001b[35m2024-09-11T17:01:03,878 [INFO ] W-9005-model_1.0-stdout MODEL_LOG - Python runtime: 3.10.9\u001b[0m\n",
      "\u001b[35m2024-09-11T17:01:03,888 [INFO ] W-9000-model_1.0 org.pytorch.serve.wlm.WorkerThread - Backend response time: 578\u001b[0m\n",
      "\u001b[35m2024-09-11T17:01:03,889 [INFO ] W-9005-model_1.0-stdout MODEL_LOG - Connection accepted: /home/model-server/tmp/.ts.sock.9005.\u001b[0m\n",
      "\u001b[35m2024-09-11T17:01:03,889 [INFO ] W-9000-model_1.0 TS_METRICS - WorkerLoadTime.Milliseconds:3748.0|#WorkerName:W-9000-model_1.0,Level:Host|#hostname:6fd45d4dfc09,timestamp:1726074063\u001b[0m\n",
      "\u001b[35m2024-09-11T17:01:03,889 [INFO ] W-9000-model_1.0 TS_METRICS - WorkerThreadTime.Milliseconds:2.0|#Level:Host|#hostname:6fd45d4dfc09,timestamp:1726074063\u001b[0m\n",
      "\u001b[35m2024-09-11T17:01:03,890 [INFO ] W-9005-model_1.0 org.pytorch.serve.wlm.WorkerThread - Looping backend response at: 1726074063890\u001b[0m\n",
      "\u001b[35m2024-09-11T17:01:03,896 [INFO ] W-9002-model_1.0 org.pytorch.serve.wlm.WorkerThread - Backend response time: 937\u001b[0m\n",
      "\u001b[35m2024-09-11T17:01:03,896 [INFO ] W-9002-model_1.0 TS_METRICS - WorkerLoadTime.Milliseconds:3753.0|#WorkerName:W-9002-model_1.0,Level:Host|#hostname:6fd45d4dfc09,timestamp:1726074063\u001b[0m\n",
      "\u001b[35m2024-09-11T17:01:03,897 [INFO ] W-9002-model_1.0 TS_METRICS - WorkerThreadTime.Milliseconds:13.0|#Level:Host|#hostname:6fd45d4dfc09,timestamp:1726074063\u001b[0m\n",
      "\u001b[35m2024-09-11T17:01:03,914 [INFO ] W-9005-model_1.0-stdout MODEL_LOG - model_name: model, batchSize: 1\u001b[0m\n",
      "\u001b[35m2024-09-11T17:01:03,919 [INFO ] W-9006-model_1.0-stdout MODEL_LOG - s_name_part0=/home/model-server/tmp/.ts.sock, s_name_part1=9006, pid=65\u001b[0m\n",
      "\u001b[35m2024-09-11T17:01:03,920 [INFO ] W-9006-model_1.0-stdout MODEL_LOG - Listening on port: /home/model-server/tmp/.ts.sock.9006\u001b[0m\n",
      "\u001b[35m2024-09-11T17:01:03,929 [INFO ] W-9003-model_1.0 org.pytorch.serve.wlm.WorkerThread - Backend response time: 846\u001b[0m\n",
      "\u001b[34m2024-09-11T17:01:03,929 [INFO ] W-9003-model_1.0 TS_METRICS - WorkerLoadTime.Milliseconds:3786.0|#WorkerName:W-9003-model_1.0,Level:Host|#hostname:6fd45d4dfc09,timestamp:1726074063\u001b[0m\n",
      "\u001b[34m2024-09-11T17:01:03,929 [INFO ] W-9003-model_1.0 TS_METRICS - WorkerThreadTime.Milliseconds:1.0|#Level:Host|#hostname:6fd45d4dfc09,timestamp:1726074063\u001b[0m\n",
      "\u001b[34m2024-09-11T17:01:03,941 [INFO ] W-9007-model_1.0 org.pytorch.serve.wlm.WorkerThread - Backend response time: 528\u001b[0m\n",
      "\u001b[34m2024-09-11T17:01:03,941 [INFO ] W-9007-model_1.0 TS_METRICS - WorkerLoadTime.Milliseconds:3797.0|#WorkerName:W-9007-model_1.0,Level:Host|#hostname:6fd45d4dfc09,timestamp:1726074063\u001b[0m\n",
      "\u001b[34m2024-09-11T17:01:03,942 [INFO ] W-9007-model_1.0 TS_METRICS - WorkerThreadTime.Milliseconds:2.0|#Level:Host|#hostname:6fd45d4dfc09,timestamp:1726074063\u001b[0m\n",
      "\u001b[34m2024-09-11T17:01:03,997 [INFO ] W-9006-model_1.0-stdout MODEL_LOG - Successfully loaded /opt/conda/lib/python3.10/site-packages/ts/configs/metrics.yaml.\u001b[0m\n",
      "\u001b[34m2024-09-11T17:01:03,998 [INFO ] W-9006-model_1.0-stdout MODEL_LOG - [PID]65\u001b[0m\n",
      "\u001b[34m2024-09-11T17:01:03,999 [INFO ] W-9006-model_1.0-stdout MODEL_LOG - Torch worker started.\u001b[0m\n",
      "\u001b[34m2024-09-11T17:01:03,999 [INFO ] W-9006-model_1.0 org.pytorch.serve.wlm.WorkerThread - Connecting to: /home/model-server/tmp/.ts.sock.9006\u001b[0m\n",
      "\u001b[34m2024-09-11T17:01:04,001 [INFO ] W-9006-model_1.0-stdout MODEL_LOG - Python runtime: 3.10.9\u001b[0m\n",
      "\u001b[34m2024-09-11T17:01:04,002 [INFO ] W-9006-model_1.0-stdout MODEL_LOG - Connection accepted: /home/model-server/tmp/.ts.sock.9006.\u001b[0m\n",
      "\u001b[34m2024-09-11T17:01:04,003 [INFO ] W-9006-model_1.0 org.pytorch.serve.wlm.WorkerThread - Looping backend response at: 1726074064002\u001b[0m\n",
      "\u001b[34m2024-09-11T17:01:04,042 [INFO ] W-9006-model_1.0-stdout MODEL_LOG - model_name: model, batchSize: 1\u001b[0m\n",
      "\u001b[34m2024-09-11T17:01:04,323 [INFO ] W-9005-model_1.0 org.pytorch.serve.wlm.WorkerThread - Backend response time: 433\u001b[0m\n",
      "\u001b[34m2024-09-11T17:01:04,323 [INFO ] W-9005-model_1.0 TS_METRICS - WorkerLoadTime.Milliseconds:4180.0|#WorkerName:W-9005-model_1.0,Level:Host|#hostname:6fd45d4dfc09,timestamp:1726074064\u001b[0m\n",
      "\u001b[34m2024-09-11T17:01:04,324 [INFO ] W-9005-model_1.0 TS_METRICS - WorkerThreadTime.Milliseconds:1.0|#Level:Host|#hostname:6fd45d4dfc09,timestamp:1726074064\u001b[0m\n",
      "\u001b[34m2024-09-11T17:01:04,324 [INFO ] W-9006-model_1.0 org.pytorch.serve.wlm.WorkerThread - Backend response time: 321\u001b[0m\n",
      "\u001b[34m2024-09-11T17:01:04,324 [INFO ] W-9006-model_1.0 TS_METRICS - WorkerLoadTime.Milliseconds:4181.0|#WorkerName:W-9006-model_1.0,Level:Host|#hostname:6fd45d4dfc09,timestamp:1726074064\u001b[0m\n",
      "\u001b[34m2024-09-11T17:01:04,325 [INFO ] W-9006-model_1.0 TS_METRICS - WorkerThreadTime.Milliseconds:2.0|#Level:Host|#hostname:6fd45d4dfc09,timestamp:1726074064\u001b[0m\n",
      "\u001b[35m2024-09-11T17:01:03,929 [INFO ] W-9003-model_1.0 TS_METRICS - WorkerLoadTime.Milliseconds:3786.0|#WorkerName:W-9003-model_1.0,Level:Host|#hostname:6fd45d4dfc09,timestamp:1726074063\u001b[0m\n",
      "\u001b[35m2024-09-11T17:01:03,929 [INFO ] W-9003-model_1.0 TS_METRICS - WorkerThreadTime.Milliseconds:1.0|#Level:Host|#hostname:6fd45d4dfc09,timestamp:1726074063\u001b[0m\n",
      "\u001b[35m2024-09-11T17:01:03,941 [INFO ] W-9007-model_1.0 org.pytorch.serve.wlm.WorkerThread - Backend response time: 528\u001b[0m\n",
      "\u001b[35m2024-09-11T17:01:03,941 [INFO ] W-9007-model_1.0 TS_METRICS - WorkerLoadTime.Milliseconds:3797.0|#WorkerName:W-9007-model_1.0,Level:Host|#hostname:6fd45d4dfc09,timestamp:1726074063\u001b[0m\n",
      "\u001b[35m2024-09-11T17:01:03,942 [INFO ] W-9007-model_1.0 TS_METRICS - WorkerThreadTime.Milliseconds:2.0|#Level:Host|#hostname:6fd45d4dfc09,timestamp:1726074063\u001b[0m\n",
      "\u001b[35m2024-09-11T17:01:03,997 [INFO ] W-9006-model_1.0-stdout MODEL_LOG - Successfully loaded /opt/conda/lib/python3.10/site-packages/ts/configs/metrics.yaml.\u001b[0m\n",
      "\u001b[35m2024-09-11T17:01:03,998 [INFO ] W-9006-model_1.0-stdout MODEL_LOG - [PID]65\u001b[0m\n",
      "\u001b[35m2024-09-11T17:01:03,999 [INFO ] W-9006-model_1.0-stdout MODEL_LOG - Torch worker started.\u001b[0m\n",
      "\u001b[35m2024-09-11T17:01:03,999 [INFO ] W-9006-model_1.0 org.pytorch.serve.wlm.WorkerThread - Connecting to: /home/model-server/tmp/.ts.sock.9006\u001b[0m\n",
      "\u001b[35m2024-09-11T17:01:04,001 [INFO ] W-9006-model_1.0-stdout MODEL_LOG - Python runtime: 3.10.9\u001b[0m\n",
      "\u001b[35m2024-09-11T17:01:04,002 [INFO ] W-9006-model_1.0-stdout MODEL_LOG - Connection accepted: /home/model-server/tmp/.ts.sock.9006.\u001b[0m\n",
      "\u001b[35m2024-09-11T17:01:04,003 [INFO ] W-9006-model_1.0 org.pytorch.serve.wlm.WorkerThread - Looping backend response at: 1726074064002\u001b[0m\n",
      "\u001b[35m2024-09-11T17:01:04,042 [INFO ] W-9006-model_1.0-stdout MODEL_LOG - model_name: model, batchSize: 1\u001b[0m\n",
      "\u001b[35m2024-09-11T17:01:04,323 [INFO ] W-9005-model_1.0 org.pytorch.serve.wlm.WorkerThread - Backend response time: 433\u001b[0m\n",
      "\u001b[35m2024-09-11T17:01:04,323 [INFO ] W-9005-model_1.0 TS_METRICS - WorkerLoadTime.Milliseconds:4180.0|#WorkerName:W-9005-model_1.0,Level:Host|#hostname:6fd45d4dfc09,timestamp:1726074064\u001b[0m\n",
      "\u001b[35m2024-09-11T17:01:04,324 [INFO ] W-9005-model_1.0 TS_METRICS - WorkerThreadTime.Milliseconds:1.0|#Level:Host|#hostname:6fd45d4dfc09,timestamp:1726074064\u001b[0m\n",
      "\u001b[35m2024-09-11T17:01:04,324 [INFO ] W-9006-model_1.0 org.pytorch.serve.wlm.WorkerThread - Backend response time: 321\u001b[0m\n",
      "\u001b[35m2024-09-11T17:01:04,324 [INFO ] W-9006-model_1.0 TS_METRICS - WorkerLoadTime.Milliseconds:4181.0|#WorkerName:W-9006-model_1.0,Level:Host|#hostname:6fd45d4dfc09,timestamp:1726074064\u001b[0m\n",
      "\u001b[35m2024-09-11T17:01:04,325 [INFO ] W-9006-model_1.0 TS_METRICS - WorkerThreadTime.Milliseconds:2.0|#Level:Host|#hostname:6fd45d4dfc09,timestamp:1726074064\u001b[0m\n",
      "\u001b[34m2024-09-11T17:01:05,325 [INFO ] pool-2-thread-9 ACCESS_LOG - /169.254.255.130:33764 \"GET /ping HTTP/1.1\" 200 13\u001b[0m\n",
      "\u001b[34m2024-09-11T17:01:05,326 [INFO ] pool-2-thread-9 TS_METRICS - Requests2XX.Count:1.0|#Level:Host|#hostname:6fd45d4dfc09,timestamp:1726074065\u001b[0m\n",
      "\u001b[34m2024-09-11T17:01:05,341 [INFO ] epollEventLoopGroup-3-2 ACCESS_LOG - /169.254.255.130:33772 \"GET /execution-parameters HTTP/1.1\" 404 1\u001b[0m\n",
      "\u001b[34m2024-09-11T17:01:05,342 [INFO ] epollEventLoopGroup-3-2 TS_METRICS - Requests4XX.Count:1.0|#Level:Host|#hostname:6fd45d4dfc09,timestamp:1726074065\u001b[0m\n",
      "\u001b[34m2024-09-11T17:01:05,444 [INFO ] epollEventLoopGroup-3-3 TS_METRICS - ts_inference_requests_total.Count:1.0|#model_name:model,model_version:default|#hostname:6fd45d4dfc09,timestamp:1726074065\u001b[0m\n",
      "\u001b[34m2024-09-11T17:01:05,445 [INFO ] W-9001-model_1.0 org.pytorch.serve.wlm.WorkerThread - Looping backend response at: 1726074065445\u001b[0m\n",
      "\u001b[34m2024-09-11T17:01:05,447 [INFO ] W-9001-model_1.0-stdout MODEL_LOG - Backend received inference at: 1726074065\u001b[0m\n",
      "\u001b[35m2024-09-11T17:01:05,325 [INFO ] pool-2-thread-9 ACCESS_LOG - /169.254.255.130:33764 \"GET /ping HTTP/1.1\" 200 13\u001b[0m\n",
      "\u001b[35m2024-09-11T17:01:05,326 [INFO ] pool-2-thread-9 TS_METRICS - Requests2XX.Count:1.0|#Level:Host|#hostname:6fd45d4dfc09,timestamp:1726074065\u001b[0m\n",
      "\u001b[35m2024-09-11T17:01:05,341 [INFO ] epollEventLoopGroup-3-2 ACCESS_LOG - /169.254.255.130:33772 \"GET /execution-parameters HTTP/1.1\" 404 1\u001b[0m\n",
      "\u001b[35m2024-09-11T17:01:05,342 [INFO ] epollEventLoopGroup-3-2 TS_METRICS - Requests4XX.Count:1.0|#Level:Host|#hostname:6fd45d4dfc09,timestamp:1726074065\u001b[0m\n",
      "\u001b[35m2024-09-11T17:01:05,444 [INFO ] epollEventLoopGroup-3-3 TS_METRICS - ts_inference_requests_total.Count:1.0|#model_name:model,model_version:default|#hostname:6fd45d4dfc09,timestamp:1726074065\u001b[0m\n",
      "\u001b[35m2024-09-11T17:01:05,445 [INFO ] W-9001-model_1.0 org.pytorch.serve.wlm.WorkerThread - Looping backend response at: 1726074065445\u001b[0m\n",
      "\u001b[35m2024-09-11T17:01:05,447 [INFO ] W-9001-model_1.0-stdout MODEL_LOG - Backend received inference at: 1726074065\u001b[0m\n",
      "\u001b[34m2024-09-11T17:01:05,759 [INFO ] W-9001-model_1.0-stdout org.pytorch.serve.wlm.WorkerLifeCycle - result=[METRICS]PredictionTime.Milliseconds:312.31|#ModelName:model,Level:Model|#type:GAUGE|#hostname:6fd45d4dfc09,1726074065,eccd9392-8872-4a07-ac2b-849a0c480d2e, pattern=[METRICS]\u001b[0m\n",
      "\u001b[34m2024-09-11T17:01:05,761 [INFO ] W-9001-model_1.0-stdout MODEL_METRICS - PredictionTime.ms:312.31|#ModelName:model,Level:Model|#hostname:6fd45d4dfc09,requestID:eccd9392-8872-4a07-ac2b-849a0c480d2e,timestamp:1726074065\u001b[0m\n",
      "\u001b[34m2024-09-11T17:01:05,767 [INFO ] W-9001-model_1.0 ACCESS_LOG - /169.254.255.130:33774 \"POST /invocations HTTP/1.1\" 200 325\u001b[0m\n",
      "\u001b[34m2024-09-11T17:01:05,767 [INFO ] W-9001-model_1.0 TS_METRICS - Requests2XX.Count:1.0|#Level:Host|#hostname:6fd45d4dfc09,timestamp:1726074065\u001b[0m\n",
      "\u001b[34m2024-09-11T17:01:05,768 [INFO ] W-9001-model_1.0 TS_METRICS - ts_inference_latency_microseconds.Microseconds:320640.182|#model_name:model,model_version:default|#hostname:6fd45d4dfc09,timestamp:1726074065\u001b[0m\n",
      "\u001b[34m2024-09-11T17:01:05,768 [INFO ] W-9001-model_1.0 TS_METRICS - ts_queue_latency_microseconds.Microseconds:189.753|#model_name:model,model_version:default|#hostname:6fd45d4dfc09,timestamp:1726074065\u001b[0m\n",
      "\u001b[34m2024-09-11T17:01:05,768 [INFO ] W-9001-model_1.0 TS_METRICS - QueueTime.Milliseconds:0.0|#Level:Host|#hostname:6fd45d4dfc09,timestamp:1726074065\u001b[0m\n",
      "\u001b[34m2024-09-11T17:01:05,769 [INFO ] W-9001-model_1.0 org.pytorch.serve.wlm.WorkerThread - Backend response time: 320\u001b[0m\n",
      "\u001b[34m2024-09-11T17:01:05,769 [INFO ] W-9001-model_1.0 TS_METRICS - WorkerThreadTime.Milliseconds:4.0|#Level:Host|#hostname:6fd45d4dfc09,timestamp:1726074065\u001b[0m\n",
      "\u001b[35m2024-09-11T17:01:05,759 [INFO ] W-9001-model_1.0-stdout org.pytorch.serve.wlm.WorkerLifeCycle - result=[METRICS]PredictionTime.Milliseconds:312.31|#ModelName:model,Level:Model|#type:GAUGE|#hostname:6fd45d4dfc09,1726074065,eccd9392-8872-4a07-ac2b-849a0c480d2e, pattern=[METRICS]\u001b[0m\n",
      "\u001b[35m2024-09-11T17:01:05,761 [INFO ] W-9001-model_1.0-stdout MODEL_METRICS - PredictionTime.ms:312.31|#ModelName:model,Level:Model|#hostname:6fd45d4dfc09,requestID:eccd9392-8872-4a07-ac2b-849a0c480d2e,timestamp:1726074065\u001b[0m\n",
      "\u001b[35m2024-09-11T17:01:05,767 [INFO ] W-9001-model_1.0 ACCESS_LOG - /169.254.255.130:33774 \"POST /invocations HTTP/1.1\" 200 325\u001b[0m\n",
      "\u001b[35m2024-09-11T17:01:05,767 [INFO ] W-9001-model_1.0 TS_METRICS - Requests2XX.Count:1.0|#Level:Host|#hostname:6fd45d4dfc09,timestamp:1726074065\u001b[0m\n",
      "\u001b[35m2024-09-11T17:01:05,768 [INFO ] W-9001-model_1.0 TS_METRICS - ts_inference_latency_microseconds.Microseconds:320640.182|#model_name:model,model_version:default|#hostname:6fd45d4dfc09,timestamp:1726074065\u001b[0m\n",
      "\u001b[35m2024-09-11T17:01:05,768 [INFO ] W-9001-model_1.0 TS_METRICS - ts_queue_latency_microseconds.Microseconds:189.753|#model_name:model,model_version:default|#hostname:6fd45d4dfc09,timestamp:1726074065\u001b[0m\n",
      "\u001b[35m2024-09-11T17:01:05,768 [INFO ] W-9001-model_1.0 TS_METRICS - QueueTime.Milliseconds:0.0|#Level:Host|#hostname:6fd45d4dfc09,timestamp:1726074065\u001b[0m\n",
      "\u001b[35m2024-09-11T17:01:05,769 [INFO ] W-9001-model_1.0 org.pytorch.serve.wlm.WorkerThread - Backend response time: 320\u001b[0m\n",
      "\u001b[35m2024-09-11T17:01:05,769 [INFO ] W-9001-model_1.0 TS_METRICS - WorkerThreadTime.Milliseconds:4.0|#Level:Host|#hostname:6fd45d4dfc09,timestamp:1726074065\u001b[0m\n",
      "\u001b[32m2024-09-11T17:01:05.347:[sagemaker logs]: MaxConcurrentTransforms=1, MaxPayloadInMB=100, BatchStrategy=MULTI_RECORD\u001b[0m\n",
      "\n"
     ]
    }
   ],
   "source": [
    "transformer = estimator.transformer(\n",
    "    instance_count=1,\n",
    "    instance_type=instance_type,\n",
    "    max_payload=100,\n",
    ")\n",
    "\n",
    "transformer.transform(\n",
    "    data=test_data,\n",
    "    content_type=\"text/csv\",\n",
    ")"
   ]
  },
  {
   "cell_type": "markdown",
   "id": "54498c7d-dbb6-4098-b927-506e1058b062",
   "metadata": {},
   "source": [
    "Load the test set predictions from S3."
   ]
  },
  {
   "cell_type": "code",
   "execution_count": 19,
   "id": "317bf9e8-69ba-4eed-a8c9-8600fdbf92e9",
   "metadata": {},
   "outputs": [],
   "source": [
    "predictions = sagemaker_session.read_s3_file(\n",
    "    bucket=bucket,\n",
    "    key_prefix=f\"{transformer.latest_transform_job.name}/{dataset_name}_test.csv.out\"\n",
    ")"
   ]
  },
  {
   "cell_type": "code",
   "execution_count": 20,
   "id": "401fed04-1591-4f58-bb89-4dff0f6acfa3",
   "metadata": {},
   "outputs": [],
   "source": [
    "predictions = pd.read_csv(io.StringIO(predictions), header=None, dtype=float)"
   ]
  },
  {
   "cell_type": "code",
   "execution_count": 21,
   "id": "fe3eb1f5-5a4a-4623-9a4f-dc0958df4802",
   "metadata": {
    "tags": []
   },
   "outputs": [
    {
     "data": {
      "text/plain": [
       "(32000, 2)"
      ]
     },
     "execution_count": 21,
     "metadata": {},
     "output_type": "execute_result"
    }
   ],
   "source": [
    "predictions.shape"
   ]
  },
  {
   "cell_type": "code",
   "execution_count": 22,
   "id": "085ccaeb-c9a3-4735-843e-42b81f387049",
   "metadata": {
    "tags": []
   },
   "outputs": [
    {
     "data": {
      "text/html": [
       "<div>\n",
       "<style scoped>\n",
       "    .dataframe tbody tr th:only-of-type {\n",
       "        vertical-align: middle;\n",
       "    }\n",
       "\n",
       "    .dataframe tbody tr th {\n",
       "        vertical-align: top;\n",
       "    }\n",
       "\n",
       "    .dataframe thead th {\n",
       "        text-align: right;\n",
       "    }\n",
       "</style>\n",
       "<table border=\"1\" class=\"dataframe\">\n",
       "  <thead>\n",
       "    <tr style=\"text-align: right;\">\n",
       "      <th></th>\n",
       "      <th>0</th>\n",
       "      <th>1</th>\n",
       "    </tr>\n",
       "  </thead>\n",
       "  <tbody>\n",
       "    <tr>\n",
       "      <th>0</th>\n",
       "      <td>NaN</td>\n",
       "      <td>NaN</td>\n",
       "    </tr>\n",
       "    <tr>\n",
       "      <th>1</th>\n",
       "      <td>NaN</td>\n",
       "      <td>NaN</td>\n",
       "    </tr>\n",
       "    <tr>\n",
       "      <th>2</th>\n",
       "      <td>NaN</td>\n",
       "      <td>NaN</td>\n",
       "    </tr>\n",
       "    <tr>\n",
       "      <th>3</th>\n",
       "      <td>NaN</td>\n",
       "      <td>NaN</td>\n",
       "    </tr>\n",
       "    <tr>\n",
       "      <th>4</th>\n",
       "      <td>NaN</td>\n",
       "      <td>NaN</td>\n",
       "    </tr>\n",
       "  </tbody>\n",
       "</table>\n",
       "</div>"
      ],
      "text/plain": [
       "    0   1\n",
       "0 NaN NaN\n",
       "1 NaN NaN\n",
       "2 NaN NaN\n",
       "3 NaN NaN\n",
       "4 NaN NaN"
      ]
     },
     "execution_count": 22,
     "metadata": {},
     "output_type": "execute_result"
    }
   ],
   "source": [
    "predictions.head()"
   ]
  },
  {
   "cell_type": "code",
   "execution_count": 23,
   "id": "3e137b23-cddc-4211-9dcc-233575e5c636",
   "metadata": {
    "tags": []
   },
   "outputs": [
    {
     "data": {
      "text/html": [
       "<div>\n",
       "<style scoped>\n",
       "    .dataframe tbody tr th:only-of-type {\n",
       "        vertical-align: middle;\n",
       "    }\n",
       "\n",
       "    .dataframe tbody tr th {\n",
       "        vertical-align: top;\n",
       "    }\n",
       "\n",
       "    .dataframe thead th {\n",
       "        text-align: right;\n",
       "    }\n",
       "</style>\n",
       "<table border=\"1\" class=\"dataframe\">\n",
       "  <thead>\n",
       "    <tr style=\"text-align: right;\">\n",
       "      <th></th>\n",
       "      <th>0</th>\n",
       "      <th>1</th>\n",
       "    </tr>\n",
       "  </thead>\n",
       "  <tbody>\n",
       "    <tr>\n",
       "      <th>31995</th>\n",
       "      <td>-0.616923</td>\n",
       "      <td>7.119385</td>\n",
       "    </tr>\n",
       "    <tr>\n",
       "      <th>31996</th>\n",
       "      <td>0.485255</td>\n",
       "      <td>6.570975</td>\n",
       "    </tr>\n",
       "    <tr>\n",
       "      <th>31997</th>\n",
       "      <td>1.117132</td>\n",
       "      <td>6.218033</td>\n",
       "    </tr>\n",
       "    <tr>\n",
       "      <th>31998</th>\n",
       "      <td>1.521756</td>\n",
       "      <td>6.415575</td>\n",
       "    </tr>\n",
       "    <tr>\n",
       "      <th>31999</th>\n",
       "      <td>1.553330</td>\n",
       "      <td>4.515175</td>\n",
       "    </tr>\n",
       "  </tbody>\n",
       "</table>\n",
       "</div>"
      ],
      "text/plain": [
       "              0         1\n",
       "31995 -0.616923  7.119385\n",
       "31996  0.485255  6.570975\n",
       "31997  1.117132  6.218033\n",
       "31998  1.521756  6.415575\n",
       "31999  1.553330  4.515175"
      ]
     },
     "execution_count": 23,
     "metadata": {},
     "output_type": "execute_result"
    }
   ],
   "source": [
    "predictions.tail()"
   ]
  },
  {
   "cell_type": "markdown",
   "id": "5949c778-c8e5-4f0e-a53f-2a4d1bf1bc0d",
   "metadata": {},
   "source": [
    "Extract the anomalous time steps."
   ]
  },
  {
   "cell_type": "code",
   "execution_count": 24,
   "id": "cfc41486-f63d-41b9-8b60-ff36fbfb7526",
   "metadata": {
    "tags": []
   },
   "outputs": [],
   "source": [
    "anomalies = predictions.iloc[:, 0].sort_values().iloc[:k].index.to_series()"
   ]
  },
  {
   "cell_type": "code",
   "execution_count": 25,
   "id": "937234e7-e2ae-4205-b7d7-9f8226edd097",
   "metadata": {
    "tags": []
   },
   "outputs": [
    {
     "data": {
      "text/plain": [
       "array([29640, 29639])"
      ]
     },
     "execution_count": 25,
     "metadata": {},
     "output_type": "execute_result"
    }
   ],
   "source": [
    "anomalies.values"
   ]
  },
  {
   "cell_type": "markdown",
   "id": "61a8310e-fc8d-4f7f-bc26-c16a3c2941e2",
   "metadata": {},
   "source": [
    "Check if the anomalous time steps are within the anomalous time interval."
   ]
  },
  {
   "cell_type": "code",
   "execution_count": 26,
   "id": "34ea2558-ec58-4bc1-af5c-ef6285d5dcad",
   "metadata": {
    "tags": []
   },
   "outputs": [
    {
     "data": {
      "text/plain": [
       "array([ True,  True])"
      ]
     },
     "execution_count": 26,
     "metadata": {},
     "output_type": "execute_result"
    }
   ],
   "source": [
    "anomalies.between(start - cutoff, end - cutoff).values"
   ]
  },
  {
   "cell_type": "markdown",
   "id": "831fccc6-0e68-45c0-8ec5-e1e47340c365",
   "metadata": {},
   "source": [
    "Visualize the predictions and the normality scores."
   ]
  },
  {
   "cell_type": "code",
   "execution_count": 27,
   "id": "9dba2cf6-3765-4089-bac1-1dfe141cae03",
   "metadata": {
    "tags": []
   },
   "outputs": [
    {
     "data": {
      "image/png": "[encoded data removed]",
      "text/plain": [
       "<Figure size 600x600 with 2 Axes>"
      ]
     },
     "metadata": {},
     "output_type": "display_data"
    }
   ],
   "source": [
    "fig, axs = plt.subplots(nrows=2, ncols=1, sharex=True, figsize=(6, 6))\n",
    "\n",
    "axs[0].set_title(\"Time Series\", size=10)\n",
    "axs[0].plot(test_dataset.values, color=\"#AFB8C1\", lw=0.5, label=\"Actual\")\n",
    "axs[0].plot(predictions.iloc[:, 1], color=\"#009ad3\", lw=0.5, label=\"Predicted\")\n",
    "axs[0].set(xlabel=\"Time\", ylabel=\"Value\")\n",
    "axs[0].xaxis.set_tick_params(labelbottom=True)\n",
    "axs[0].tick_params(axis=\"both\", which=\"major\", labelsize=7)\n",
    "axs[0].tick_params(axis=\"both\", which=\"minor\", labelsize=7)\n",
    "\n",
    "axs[1].set_title(\"Normality Score\", size=10)\n",
    "axs[1].plot(predictions.iloc[:, 0], color=\"#57606a\", lw=0.5)\n",
    "axs[1].set(xlabel=\"Time\", ylabel=\"Value\")\n",
    "axs[1].xaxis.set_tick_params(labelbottom=True)\n",
    "axs[1].tick_params(axis=\"both\", which=\"major\", labelsize=7)\n",
    "axs[1].tick_params(axis=\"both\", which=\"minor\", labelsize=7)\n",
    "\n",
    "fig.tight_layout()\n",
    "fig.legend(bbox_to_anchor=(1.2, 1, 0, 0), frameon=False)\n",
    "fig.show()"
   ]
  },
  {
   "cell_type": "markdown",
   "id": "667f655f-26a6-49a0-be5d-fadfc8487f93",
   "metadata": {},
   "source": [
    "Delete the model."
   ]
  },
  {
   "cell_type": "code",
   "execution_count": 28,
   "id": "9e238fd6-d926-4965-a0f5-603b6f234197",
   "metadata": {
    "tags": []
   },
   "outputs": [
    {
     "name": "stderr",
     "output_type": "stream",
     "text": [
      "INFO:sagemaker:Deleting model with name: lstm-ad-v1-12-2024-09-11-16-53-08-439-2024-09-11-16-53-53-957\n"
     ]
    }
   ],
   "source": [
    "transformer.delete_model()"
   ]
  }
 ],
 "metadata": {
  "kernelspec": {
   "display_name": "conda_python3",
   "language": "python",
   "name": "conda_python3"
  },
  "language_info": {
   "codemirror_mode": {
    "name": "ipython",
    "version": 3
   },
   "file_extension": ".py",
   "mimetype": "text/x-python",
   "name": "python",
   "nbconvert_exporter": "python",
   "pygments_lexer": "ipython3",
   "version": "3.10.14"
  }
 },
 "nbformat": 4,
 "nbformat_minor": 5
}
