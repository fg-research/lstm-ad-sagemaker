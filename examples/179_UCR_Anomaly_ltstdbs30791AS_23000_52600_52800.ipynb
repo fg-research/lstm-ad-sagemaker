{
 "cells": [
  {
   "cell_type": "markdown",
   "id": "87deba9d-ff5b-4e7b-ade5-b30c341a7afa",
   "metadata": {},
   "source": [
    "# HEX UCR Dataset: 179_UCR_Anomaly_ltstdbs30791AS_23000_52600_52800"
   ]
  },
  {
   "cell_type": "markdown",
   "id": "2161c326-9263-4f5c-b7b0-8c8ed60f956c",
   "metadata": {},
   "source": [
    "**Dataset Link:** https://www.cs.ucr.edu/~eamonn/time_series_data_2018/UCR_TimeSeriesAnomalyDatasets2021.zip"
   ]
  },
  {
   "cell_type": "markdown",
   "id": "f56f1a46-73b9-4cde-b939-a326a6807009",
   "metadata": {},
   "source": [
    "### 1. Environment set-up"
   ]
  },
  {
   "cell_type": "markdown",
   "id": "8ee3df38-2d9f-4377-9931-3525900b6478",
   "metadata": {},
   "source": [
    "1. This notebook contains elements which render correctly in Jupyter interface. Open this notebook from an Amazon SageMaker Notebook Instance or Amazon SageMaker Studio.\n",
    "1. Ensure that IAM role used has **AmazonSageMakerFullAccess**\n",
    "1. Some hands-on experience using [Amazon SageMaker](https://aws.amazon.com/sagemaker/).\n",
    "1. To use this algorithm successfully, ensure that:\n",
    "    1. Either your IAM role has these three permissions and you have authority to make AWS Marketplace subscriptions in the AWS account used: \n",
    "        1. **aws-marketplace:ViewSubscriptions**\n",
    "        1. **aws-marketplace:Unsubscribe**\n",
    "        1. **aws-marketplace:Subscribe**  \n",
    "    2. or your AWS account has a subscription to the [Time Series Anomaly Detection (LSTM-AD) Algorithm from AWS Marketplace](https://aws.amazon.com/marketplace/pp/prodview-4pbvedtnnlphw).\n",
    "\n",
    "To subscribe to the algorithm:\n",
    "1. Open the algorithm listing page.\n",
    "1. On the AWS Marketplace listing, click on the **Continue to subscribe** button.\n",
    "1. On the **Subscribe to this software** page, review and click on **\"Accept Offer\"** if you agree with EULA, pricing, and support terms. \n",
    "1. Once you click on the **Continue to configuration** button and then choose a **region**, you will see a **Product ARN**. This is the algorithm ARN that you need to specify while training a custom ML model. **Copy the ARN corresponding to your region and specify the same in the following cell.**"
   ]
  },
  {
   "cell_type": "code",
   "execution_count": 1,
   "id": "fd89b7a5-3e1c-4fd5-9661-1dcc86626b10",
   "metadata": {
    "tags": []
   },
   "outputs": [],
   "source": [
    "algo_arn = \"arn:aws:sagemaker:eu-west-1:661670223746:algorithm/lstm-ad-algo-v1-4\""
   ]
  },
  {
   "cell_type": "code",
   "execution_count": 2,
   "id": "b72fa188-ea07-4ee4-ad66-a9dfb7d8cd7e",
   "metadata": {
    "tags": []
   },
   "outputs": [],
   "source": [
    "import sagemaker\n",
    "import pandas as pd\n",
    "import numpy as np\n",
    "import matplotlib.pyplot as plt\n",
    "\n",
    "# SageMaker session\n",
    "sagemaker_session = sagemaker.Session()\n",
    "\n",
    "# SageMaker role\n",
    "role = sagemaker.get_execution_role()\n",
    "\n",
    "# S3 bucket\n",
    "bucket = sagemaker_session.default_bucket()\n",
    "\n",
    "# EC2 instance\n",
    "instance_type = \"ml.m5.xlarge\""
   ]
  },
  {
   "cell_type": "markdown",
   "id": "49491ac8-2585-429f-8acb-8b3d3e082a7b",
   "metadata": {},
   "source": [
    "### 2. Data preparation"
   ]
  },
  {
   "cell_type": "markdown",
   "id": "2fe35c9b-7f7b-4634-a618-6bd18278556f",
   "metadata": {},
   "source": [
    "Load the data."
   ]
  },
  {
   "cell_type": "code",
   "execution_count": 3,
   "id": "1bdf6675-a1c3-4474-9a3e-5a281ab559b9",
   "metadata": {
    "tags": []
   },
   "outputs": [],
   "source": [
    "dataset_name = \"179_UCR_Anomaly_ltstdbs30791AS_23000_52600_52800\" \n",
    "cutoff = 23000  # train-test cutoff\n",
    "start = 52600   # start of anomalous time interval\n",
    "end = 52800     # end of anomalous time interval\n",
    "k = 2           # number of anomalies to extract"
   ]
  },
  {
   "cell_type": "code",
   "execution_count": 4,
   "id": "62b85cf0-9ed0-4499-9c31-ebb9f7aff474",
   "metadata": {
    "tags": []
   },
   "outputs": [],
   "source": [
    "dataset = pd.DataFrame(data=np.genfromtxt(f\"{dataset_name}.txt\"))"
   ]
  },
  {
   "cell_type": "code",
   "execution_count": 5,
   "id": "69ba4b55-ec1d-46c3-9161-c2d6f8b8c671",
   "metadata": {
    "tags": []
   },
   "outputs": [
    {
     "data": {
      "text/plain": [
       "(55000, 1)"
      ]
     },
     "execution_count": 5,
     "metadata": {},
     "output_type": "execute_result"
    }
   ],
   "source": [
    "dataset.shape"
   ]
  },
  {
   "cell_type": "code",
   "execution_count": 6,
   "id": "e399d772-749d-4e3f-8c58-2bbea4261499",
   "metadata": {
    "tags": []
   },
   "outputs": [
    {
     "data": {
      "text/html": [
       "<div>\n",
       "<style scoped>\n",
       "    .dataframe tbody tr th:only-of-type {\n",
       "        vertical-align: middle;\n",
       "    }\n",
       "\n",
       "    .dataframe tbody tr th {\n",
       "        vertical-align: top;\n",
       "    }\n",
       "\n",
       "    .dataframe thead th {\n",
       "        text-align: right;\n",
       "    }\n",
       "</style>\n",
       "<table border=\"1\" class=\"dataframe\">\n",
       "  <thead>\n",
       "    <tr style=\"text-align: right;\">\n",
       "      <th></th>\n",
       "      <th>0</th>\n",
       "    </tr>\n",
       "  </thead>\n",
       "  <tbody>\n",
       "    <tr>\n",
       "      <th>0</th>\n",
       "      <td>-1.0</td>\n",
       "    </tr>\n",
       "    <tr>\n",
       "      <th>1</th>\n",
       "      <td>-1.0</td>\n",
       "    </tr>\n",
       "    <tr>\n",
       "      <th>2</th>\n",
       "      <td>-1.0</td>\n",
       "    </tr>\n",
       "    <tr>\n",
       "      <th>3</th>\n",
       "      <td>-1.0</td>\n",
       "    </tr>\n",
       "    <tr>\n",
       "      <th>4</th>\n",
       "      <td>-1.0</td>\n",
       "    </tr>\n",
       "  </tbody>\n",
       "</table>\n",
       "</div>"
      ],
      "text/plain": [
       "     0\n",
       "0 -1.0\n",
       "1 -1.0\n",
       "2 -1.0\n",
       "3 -1.0\n",
       "4 -1.0"
      ]
     },
     "execution_count": 6,
     "metadata": {},
     "output_type": "execute_result"
    }
   ],
   "source": [
    "dataset.head()"
   ]
  },
  {
   "cell_type": "code",
   "execution_count": 7,
   "id": "c1142757-d2ba-40dc-a389-efc9612649e2",
   "metadata": {
    "tags": []
   },
   "outputs": [
    {
     "data": {
      "text/html": [
       "<div>\n",
       "<style scoped>\n",
       "    .dataframe tbody tr th:only-of-type {\n",
       "        vertical-align: middle;\n",
       "    }\n",
       "\n",
       "    .dataframe tbody tr th {\n",
       "        vertical-align: top;\n",
       "    }\n",
       "\n",
       "    .dataframe thead th {\n",
       "        text-align: right;\n",
       "    }\n",
       "</style>\n",
       "<table border=\"1\" class=\"dataframe\">\n",
       "  <thead>\n",
       "    <tr style=\"text-align: right;\">\n",
       "      <th></th>\n",
       "      <th>0</th>\n",
       "    </tr>\n",
       "  </thead>\n",
       "  <tbody>\n",
       "    <tr>\n",
       "      <th>54995</th>\n",
       "      <td>27.0</td>\n",
       "    </tr>\n",
       "    <tr>\n",
       "      <th>54996</th>\n",
       "      <td>24.0</td>\n",
       "    </tr>\n",
       "    <tr>\n",
       "      <th>54997</th>\n",
       "      <td>22.0</td>\n",
       "    </tr>\n",
       "    <tr>\n",
       "      <th>54998</th>\n",
       "      <td>21.0</td>\n",
       "    </tr>\n",
       "    <tr>\n",
       "      <th>54999</th>\n",
       "      <td>19.0</td>\n",
       "    </tr>\n",
       "  </tbody>\n",
       "</table>\n",
       "</div>"
      ],
      "text/plain": [
       "          0\n",
       "54995  27.0\n",
       "54996  24.0\n",
       "54997  22.0\n",
       "54998  21.0\n",
       "54999  19.0"
      ]
     },
     "execution_count": 7,
     "metadata": {},
     "output_type": "execute_result"
    }
   ],
   "source": [
    "dataset.tail()"
   ]
  },
  {
   "cell_type": "markdown",
   "id": "4ffe7dfe-08cc-4550-bdd0-351e62739558",
   "metadata": {},
   "source": [
    "Visualize the data."
   ]
  },
  {
   "cell_type": "code",
   "execution_count": 8,
   "id": "d79b0a5c-00ec-4df4-898f-a05245281c94",
   "metadata": {
    "tags": []
   },
   "outputs": [
    {
     "data": {
      "image/png": "[encoded data removed]",
      "text/plain": [
       "<Figure size 600x350 with 1 Axes>"
      ]
     },
     "metadata": {},
     "output_type": "display_data"
    }
   ],
   "source": [
    "fig, ax = plt.subplots(nrows=1, ncols=1, sharex=True, figsize=(6, 3.5))\n",
    "ax.set_title(\"Time Series\", size=10)\n",
    "ax.plot(dataset, color=\"#AFB8C1\", lw=1)\n",
    "ax.set(xlabel=\"Time\", ylabel=\"Value\")\n",
    "ax.tick_params(axis=\"both\", which=\"major\", labelsize=7)\n",
    "ax.tick_params(axis=\"both\", which=\"minor\", labelsize=7)\n",
    "fig.tight_layout()\n",
    "fig.show()"
   ]
  },
  {
   "cell_type": "markdown",
   "id": "2e0b09b4-ae21-4551-825c-dcd279753b51",
   "metadata": {},
   "source": [
    "Split the data."
   ]
  },
  {
   "cell_type": "code",
   "execution_count": 9,
   "id": "9b0699df-9439-45c2-ba70-ca11983d843f",
   "metadata": {
    "tags": []
   },
   "outputs": [],
   "source": [
    "training_dataset = dataset.iloc[:cutoff]"
   ]
  },
  {
   "cell_type": "code",
   "execution_count": 10,
   "id": "24adddd2-ab77-4137-98ea-faec2ae3d67d",
   "metadata": {
    "tags": []
   },
   "outputs": [
    {
     "data": {
      "text/plain": [
       "(23000, 1)"
      ]
     },
     "execution_count": 10,
     "metadata": {},
     "output_type": "execute_result"
    }
   ],
   "source": [
    "training_dataset.shape"
   ]
  },
  {
   "cell_type": "code",
   "execution_count": 11,
   "id": "34af9186-27ef-4038-a9de-0e206b89202b",
   "metadata": {},
   "outputs": [],
   "source": [
    "test_dataset = dataset.iloc[cutoff:]"
   ]
  },
  {
   "cell_type": "code",
   "execution_count": 12,
   "id": "4dde60d8-0340-44de-9912-acf9fe2a0633",
   "metadata": {
    "tags": []
   },
   "outputs": [
    {
     "data": {
      "text/plain": [
       "(32000, 1)"
      ]
     },
     "execution_count": 12,
     "metadata": {},
     "output_type": "execute_result"
    }
   ],
   "source": [
    "test_dataset.shape"
   ]
  },
  {
   "cell_type": "markdown",
   "id": "7586de04-bfeb-4942-8937-9ff7c42f5931",
   "metadata": {},
   "source": [
    "Upload the data to S3."
   ]
  },
  {
   "cell_type": "code",
   "execution_count": 13,
   "id": "7fe9e74c-6a57-419e-865d-233e51106857",
   "metadata": {},
   "outputs": [],
   "source": [
    "training_data = sagemaker_session.upload_string_as_file_body(\n",
    "    body=training_dataset.to_csv(index=False, header=False),\n",
    "    bucket=bucket,\n",
    "    key=f\"{dataset_name}_train.csv\"\n",
    ")"
   ]
  },
  {
   "cell_type": "code",
   "execution_count": 14,
   "id": "a19e8bb9-e378-44ff-8217-c6491ea6f6c6",
   "metadata": {},
   "outputs": [
    {
     "data": {
      "text/plain": [
       "'s3://sagemaker-eu-west-1-661670223746/179_UCR_Anomaly_ltstdbs30791AS_23000_52600_52800_train.csv'"
      ]
     },
     "execution_count": 14,
     "metadata": {},
     "output_type": "execute_result"
    }
   ],
   "source": [
    "training_data"
   ]
  },
  {
   "cell_type": "code",
   "execution_count": 15,
   "id": "e2062e41-eb07-43c2-9b86-370a63d45599",
   "metadata": {},
   "outputs": [],
   "source": [
    "test_data = sagemaker_session.upload_string_as_file_body(\n",
    "    body=test_dataset.to_csv(index=False, header=False),\n",
    "    bucket=bucket,\n",
    "    key=f\"{dataset_name}_test.csv\"\n",
    ")"
   ]
  },
  {
   "cell_type": "code",
   "execution_count": 16,
   "id": "48071f0e-b4b5-4967-8801-76b10fe279a4",
   "metadata": {},
   "outputs": [
    {
     "data": {
      "text/plain": [
       "'s3://sagemaker-eu-west-1-661670223746/179_UCR_Anomaly_ltstdbs30791AS_23000_52600_52800_test.csv'"
      ]
     },
     "execution_count": 16,
     "metadata": {},
     "output_type": "execute_result"
    }
   ],
   "source": [
    "test_data"
   ]
  },
  {
   "cell_type": "markdown",
   "id": "6a91f5ac-d6bb-4a50-9de3-69436c33b814",
   "metadata": {},
   "source": [
    "### 3. Training"
   ]
  },
  {
   "cell_type": "markdown",
   "id": "6ad88d3f-50cf-4835-9120-fa6a0da910f0",
   "metadata": {},
   "source": [
    "Fit the model to the training set."
   ]
  },
  {
   "cell_type": "code",
   "execution_count": 17,
   "id": "d870d366-06fc-4a7c-a676-bc33795be3aa",
   "metadata": {},
   "outputs": [
    {
     "name": "stderr",
     "output_type": "stream",
     "text": [
      "INFO:sagemaker:Creating training-job with name: lstm-ad-algo-v1-4-2023-08-10-11-42-54-874\n"
     ]
    },
    {
     "name": "stdout",
     "output_type": "stream",
     "text": [
      "2023-08-10 11:42:55 Starting - Starting the training job...\n",
      "2023-08-10 11:43:10 Starting - Preparing the instances for training......\n",
      "2023-08-10 11:44:00 Downloading - Downloading input data...\n",
      "2023-08-10 11:44:30 Training - Downloading the training image........................\n",
      "2023-08-10 11:48:56 Training - Training image download completed. Training in progress...\u001b[34mbash: cannot set terminal process group (-1): Inappropriate ioctl for device\u001b[0m\n",
      "\u001b[34mbash: no job control in this shell\u001b[0m\n",
      "\u001b[34m2023-08-10 11:49:02,850 sagemaker-training-toolkit INFO     Imported framework sagemaker_pytorch_container.training\u001b[0m\n",
      "\u001b[34m2023-08-10 11:49:02,851 sagemaker-training-toolkit INFO     No GPUs detected (normal if no gpus installed)\u001b[0m\n",
      "\u001b[34m2023-08-10 11:49:02,852 sagemaker-training-toolkit INFO     No Neurons detected (normal if no neurons installed)\u001b[0m\n",
      "\u001b[34m2023-08-10 11:49:02,862 sagemaker_pytorch_container.training INFO     Block until all host DNS lookups succeed.\u001b[0m\n",
      "\u001b[34m2023-08-10 11:49:02,869 sagemaker_pytorch_container.training INFO     Invoking user training script.\u001b[0m\n",
      "\u001b[34m2023-08-10 11:49:04,598 sagemaker-training-toolkit INFO     No GPUs detected (normal if no gpus installed)\u001b[0m\n",
      "\u001b[34m2023-08-10 11:49:04,599 sagemaker-training-toolkit INFO     No Neurons detected (normal if no neurons installed)\u001b[0m\n",
      "\u001b[34m2023-08-10 11:49:04,610 sagemaker-training-toolkit INFO     No GPUs detected (normal if no gpus installed)\u001b[0m\n",
      "\u001b[34m2023-08-10 11:49:04,610 sagemaker-training-toolkit INFO     No Neurons detected (normal if no neurons installed)\u001b[0m\n",
      "\u001b[34m2023-08-10 11:49:04,620 sagemaker-training-toolkit INFO     No GPUs detected (normal if no gpus installed)\u001b[0m\n",
      "\u001b[34m2023-08-10 11:49:04,621 sagemaker-training-toolkit INFO     No Neurons detected (normal if no neurons installed)\u001b[0m\n",
      "\u001b[34m2023-08-10 11:49:04,630 sagemaker-training-toolkit INFO     Invoking user script\u001b[0m\n",
      "\u001b[34mTraining Env:\u001b[0m\n",
      "\u001b[34m{\n",
      "    \"additional_framework_parameters\": {},\n",
      "    \"channel_input_dirs\": {\n",
      "        \"training\": \"/opt/ml/input/data/training\"\n",
      "    },\n",
      "    \"current_host\": \"algo-1\",\n",
      "    \"current_instance_group\": \"homogeneousCluster\",\n",
      "    \"current_instance_group_hosts\": [\n",
      "        \"algo-1\"\n",
      "    ],\n",
      "    \"current_instance_type\": \"ml.m5.xlarge\",\n",
      "    \"distribution_hosts\": [],\n",
      "    \"distribution_instance_groups\": [],\n",
      "    \"framework_module\": \"sagemaker_pytorch_container.training:main\",\n",
      "    \"hosts\": [\n",
      "        \"algo-1\"\n",
      "    ],\n",
      "    \"hyperparameters\": {\n",
      "        \"batch-size\": 64,\n",
      "        \"dropout\": 0.5,\n",
      "        \"epochs\": 500,\n",
      "        \"hidden-size\": 128,\n",
      "        \"lr\": 0.001,\n",
      "        \"num-layers\": 2,\n",
      "        \"sequence-length\": 100\n",
      "    },\n",
      "    \"input_config_dir\": \"/opt/ml/input/config\",\n",
      "    \"input_data_config\": {\n",
      "        \"training\": {\n",
      "            \"TrainingInputMode\": \"File\",\n",
      "            \"S3DistributionType\": \"FullyReplicated\",\n",
      "            \"RecordWrapperType\": \"None\"\n",
      "        }\n",
      "    },\n",
      "    \"input_dir\": \"/opt/ml/input\",\n",
      "    \"instance_groups\": [\n",
      "        \"homogeneousCluster\"\n",
      "    ],\n",
      "    \"instance_groups_dict\": {\n",
      "        \"homogeneousCluster\": {\n",
      "            \"instance_group_name\": \"homogeneousCluster\",\n",
      "            \"instance_type\": \"ml.m5.xlarge\",\n",
      "            \"hosts\": [\n",
      "                \"algo-1\"\n",
      "            ]\n",
      "        }\n",
      "    },\n",
      "    \"is_hetero\": false,\n",
      "    \"is_master\": true,\n",
      "    \"is_modelparallel_enabled\": null,\n",
      "    \"is_smddpmprun_installed\": true,\n",
      "    \"job_name\": \"lstm-ad-algo-v1-4-2023-08-10-11-42-54-874\",\n",
      "    \"log_level\": 20,\n",
      "    \"master_hostname\": \"algo-1\",\n",
      "    \"model_dir\": \"/opt/ml/model\",\n",
      "    \"module_dir\": \"/opt/ml/code\",\n",
      "    \"module_name\": \"training\",\n",
      "    \"network_interface_name\": \"eth0\",\n",
      "    \"num_cpus\": 4,\n",
      "    \"num_gpus\": 0,\n",
      "    \"num_neurons\": 0,\n",
      "    \"output_data_dir\": \"/opt/ml/output/data\",\n",
      "    \"output_dir\": \"/opt/ml/output\",\n",
      "    \"output_intermediate_dir\": \"/opt/ml/output/intermediate\",\n",
      "    \"resource_config\": {\n",
      "        \"current_host\": \"algo-1\",\n",
      "        \"current_instance_type\": \"ml.m5.xlarge\",\n",
      "        \"current_group_name\": \"homogeneousCluster\",\n",
      "        \"hosts\": [\n",
      "            \"algo-1\"\n",
      "        ],\n",
      "        \"instance_groups\": [\n",
      "            {\n",
      "                \"instance_group_name\": \"homogeneousCluster\",\n",
      "                \"instance_type\": \"ml.m5.xlarge\",\n",
      "                \"hosts\": [\n",
      "                    \"algo-1\"\n",
      "                ]\n",
      "            }\n",
      "        ],\n",
      "        \"network_interface_name\": \"eth0\"\n",
      "    },\n",
      "    \"user_entry_point\": \"training.py\"\u001b[0m\n",
      "\u001b[34m}\u001b[0m\n",
      "\u001b[34mEnvironment variables:\u001b[0m\n",
      "\u001b[34mSM_HOSTS=[\"algo-1\"]\u001b[0m\n",
      "\u001b[34mSM_NETWORK_INTERFACE_NAME=eth0\u001b[0m\n",
      "\u001b[34mSM_HPS={\"batch-size\":64,\"dropout\":0.5,\"epochs\":500,\"hidden-size\":128,\"lr\":0.001,\"num-layers\":2,\"sequence-length\":100}\u001b[0m\n",
      "\u001b[34mSM_USER_ENTRY_POINT=training.py\u001b[0m\n",
      "\u001b[34mSM_FRAMEWORK_PARAMS={}\u001b[0m\n",
      "\u001b[34mSM_RESOURCE_CONFIG={\"current_group_name\":\"homogeneousCluster\",\"current_host\":\"algo-1\",\"current_instance_type\":\"ml.m5.xlarge\",\"hosts\":[\"algo-1\"],\"instance_groups\":[{\"hosts\":[\"algo-1\"],\"instance_group_name\":\"homogeneousCluster\",\"instance_type\":\"ml.m5.xlarge\"}],\"network_interface_name\":\"eth0\"}\u001b[0m\n",
      "\u001b[34mSM_INPUT_DATA_CONFIG={\"training\":{\"RecordWrapperType\":\"None\",\"S3DistributionType\":\"FullyReplicated\",\"TrainingInputMode\":\"File\"}}\u001b[0m\n",
      "\u001b[34mSM_OUTPUT_DATA_DIR=/opt/ml/output/data\u001b[0m\n",
      "\u001b[34mSM_CHANNELS=[\"training\"]\u001b[0m\n",
      "\u001b[34mSM_CURRENT_HOST=algo-1\u001b[0m\n",
      "\u001b[34mSM_CURRENT_INSTANCE_TYPE=ml.m5.xlarge\u001b[0m\n",
      "\u001b[34mSM_CURRENT_INSTANCE_GROUP=homogeneousCluster\u001b[0m\n",
      "\u001b[34mSM_CURRENT_INSTANCE_GROUP_HOSTS=[\"algo-1\"]\u001b[0m\n",
      "\u001b[34mSM_INSTANCE_GROUPS=[\"homogeneousCluster\"]\u001b[0m\n",
      "\u001b[34mSM_INSTANCE_GROUPS_DICT={\"homogeneousCluster\":{\"hosts\":[\"algo-1\"],\"instance_group_name\":\"homogeneousCluster\",\"instance_type\":\"ml.m5.xlarge\"}}\u001b[0m\n",
      "\u001b[34mSM_DISTRIBUTION_INSTANCE_GROUPS=[]\u001b[0m\n",
      "\u001b[34mSM_IS_HETERO=false\u001b[0m\n",
      "\u001b[34mSM_MODULE_NAME=training\u001b[0m\n",
      "\u001b[34mSM_LOG_LEVEL=20\u001b[0m\n",
      "\u001b[34mSM_FRAMEWORK_MODULE=sagemaker_pytorch_container.training:main\u001b[0m\n",
      "\u001b[34mSM_INPUT_DIR=/opt/ml/input\u001b[0m\n",
      "\u001b[34mSM_INPUT_CONFIG_DIR=/opt/ml/input/config\u001b[0m\n",
      "\u001b[34mSM_OUTPUT_DIR=/opt/ml/output\u001b[0m\n",
      "\u001b[34mSM_NUM_CPUS=4\u001b[0m\n",
      "\u001b[34mSM_NUM_GPUS=0\u001b[0m\n",
      "\u001b[34mSM_NUM_NEURONS=0\u001b[0m\n",
      "\u001b[34mSM_MODEL_DIR=/opt/ml/model\u001b[0m\n",
      "\u001b[34mSM_MODULE_DIR=/opt/ml/code\u001b[0m\n",
      "\u001b[34mSM_TRAINING_ENV={\"additional_framework_parameters\":{},\"channel_input_dirs\":{\"training\":\"/opt/ml/input/data/training\"},\"current_host\":\"algo-1\",\"current_instance_group\":\"homogeneousCluster\",\"current_instance_group_hosts\":[\"algo-1\"],\"current_instance_type\":\"ml.m5.xlarge\",\"distribution_hosts\":[],\"distribution_instance_groups\":[],\"framework_module\":\"sagemaker_pytorch_container.training:main\",\"hosts\":[\"algo-1\"],\"hyperparameters\":{\"batch-size\":64,\"dropout\":0.5,\"epochs\":500,\"hidden-size\":128,\"lr\":0.001,\"num-layers\":2,\"sequence-length\":100},\"input_config_dir\":\"/opt/ml/input/config\",\"input_data_config\":{\"training\":{\"RecordWrapperType\":\"None\",\"S3DistributionType\":\"FullyReplicated\",\"TrainingInputMode\":\"File\"}},\"input_dir\":\"/opt/ml/input\",\"instance_groups\":[\"homogeneousCluster\"],\"instance_groups_dict\":{\"homogeneousCluster\":{\"hosts\":[\"algo-1\"],\"instance_group_name\":\"homogeneousCluster\",\"instance_type\":\"ml.m5.xlarge\"}},\"is_hetero\":false,\"is_master\":true,\"is_modelparallel_enabled\":null,\"is_smddpmprun_installed\":true,\"job_name\":\"lstm-ad-algo-v1-4-2023-08-10-11-42-54-874\",\"log_level\":20,\"master_hostname\":\"algo-1\",\"model_dir\":\"/opt/ml/model\",\"module_dir\":\"/opt/ml/code\",\"module_name\":\"training\",\"network_interface_name\":\"eth0\",\"num_cpus\":4,\"num_gpus\":0,\"num_neurons\":0,\"output_data_dir\":\"/opt/ml/output/data\",\"output_dir\":\"/opt/ml/output\",\"output_intermediate_dir\":\"/opt/ml/output/intermediate\",\"resource_config\":{\"current_group_name\":\"homogeneousCluster\",\"current_host\":\"algo-1\",\"current_instance_type\":\"ml.m5.xlarge\",\"hosts\":[\"algo-1\"],\"instance_groups\":[{\"hosts\":[\"algo-1\"],\"instance_group_name\":\"homogeneousCluster\",\"instance_type\":\"ml.m5.xlarge\"}],\"network_interface_name\":\"eth0\"},\"user_entry_point\":\"training.py\"}\u001b[0m\n",
      "\u001b[34mSM_USER_ARGS=[\"--batch-size\",\"64\",\"--dropout\",\"0.5\",\"--epochs\",\"500\",\"--hidden-size\",\"128\",\"--lr\",\"0.001\",\"--num-layers\",\"2\",\"--sequence-length\",\"100\"]\u001b[0m\n",
      "\u001b[34mSM_OUTPUT_INTERMEDIATE_DIR=/opt/ml/output/intermediate\u001b[0m\n",
      "\u001b[34mSM_CHANNEL_TRAINING=/opt/ml/input/data/training\u001b[0m\n",
      "\u001b[34mSM_HP_BATCH-SIZE=64\u001b[0m\n",
      "\u001b[34mSM_HP_DROPOUT=0.5\u001b[0m\n",
      "\u001b[34mSM_HP_EPOCHS=500\u001b[0m\n",
      "\u001b[34mSM_HP_HIDDEN-SIZE=128\u001b[0m\n",
      "\u001b[34mSM_HP_LR=0.001\u001b[0m\n",
      "\u001b[34mSM_HP_NUM-LAYERS=2\u001b[0m\n",
      "\u001b[34mSM_HP_SEQUENCE-LENGTH=100\u001b[0m\n",
      "\u001b[34mPYTHONPATH=/opt/ml/code:/opt/conda/bin:/opt/conda/lib/python310.zip:/opt/conda/lib/python3.10:/opt/conda/lib/python3.10/lib-dynload:/opt/conda/lib/python3.10/site-packages\u001b[0m\n",
      "\u001b[34mInvoking script with the following command:\u001b[0m\n",
      "\u001b[34m/opt/conda/bin/python3.10 training.py --batch-size 64 --dropout 0.5 --epochs 500 --hidden-size 128 --lr 0.001 --num-layers 2 --sequence-length 100\u001b[0m\n",
      "\u001b[34m2023-08-10 11:49:04,697 sagemaker-training-toolkit INFO     Exceptions not imported for SageMaker TF as Tensorflow is not installed.\u001b[0m\n",
      "\u001b[34m--------------------------------------\u001b[0m\n",
      "\u001b[34mTraining on 1 time series.\u001b[0m\n",
      "\u001b[34mTime series length: 23000\u001b[0m\n",
      "\u001b[34m--------------------------------------\u001b[0m\n",
      "\u001b[34m--------------------------------------\u001b[0m\n",
      "\u001b[34mTraining the model.\u001b[0m\n",
      "\u001b[34m--------------------------------------\u001b[0m\n",
      "\u001b[34mEpoch: 1, Training Loss: 0.00091558\u001b[0m\n",
      "\u001b[34mEpoch: 2, Training Loss: 0.00066902\u001b[0m\n",
      "\u001b[34mEpoch: 3, Training Loss: 0.00035764\u001b[0m\n",
      "\u001b[34mEpoch: 4, Training Loss: 0.00031227\u001b[0m\n",
      "\u001b[34mEpoch: 5, Training Loss: 0.00026881\u001b[0m\n",
      "\u001b[34mEpoch: 6, Training Loss: 0.00027072\u001b[0m\n",
      "\u001b[34mEpoch: 7, Training Loss: 0.00025253\u001b[0m\n",
      "\u001b[34mEpoch: 8, Training Loss: 0.00026090\u001b[0m\n",
      "\u001b[34mEpoch: 9, Training Loss: 0.00025334\u001b[0m\n",
      "\u001b[34mEpoch: 10, Training Loss: 0.00024409\u001b[0m\n",
      "\u001b[34mEpoch: 11, Training Loss: 0.00024379\u001b[0m\n",
      "\u001b[34mEpoch: 12, Training Loss: 0.00024356\u001b[0m\n",
      "\u001b[34mEpoch: 13, Training Loss: 0.00024071\u001b[0m\n",
      "\u001b[34mEpoch: 14, Training Loss: 0.00024045\u001b[0m\n",
      "\u001b[34mEpoch: 15, Training Loss: 0.00024150\u001b[0m\n",
      "\u001b[34mEpoch: 16, Training Loss: 0.00024068\u001b[0m\n",
      "\u001b[34mEpoch: 17, Training Loss: 0.00023738\u001b[0m\n",
      "\u001b[34mEpoch: 18, Training Loss: 0.00023973\u001b[0m\n",
      "\u001b[34mEpoch: 19, Training Loss: 0.00023762\u001b[0m\n",
      "\u001b[34mEpoch: 20, Training Loss: 0.00024010\u001b[0m\n",
      "\u001b[34mEpoch: 21, Training Loss: 0.00023715\u001b[0m\n",
      "\u001b[34mEpoch: 22, Training Loss: 0.00023966\u001b[0m\n",
      "\u001b[34mEpoch: 23, Training Loss: 0.00023708\u001b[0m\n",
      "\u001b[34mEpoch: 24, Training Loss: 0.00024038\u001b[0m\n",
      "\u001b[34mEpoch: 25, Training Loss: 0.00023963\u001b[0m\n",
      "\u001b[34mEpoch: 26, Training Loss: 0.00023772\u001b[0m\n",
      "\u001b[34mEpoch: 27, Training Loss: 0.00023997\u001b[0m\n",
      "\u001b[34mEpoch: 28, Training Loss: 0.00023819\u001b[0m\n",
      "\u001b[34mEpoch: 29, Training Loss: 0.00023841\u001b[0m\n",
      "\u001b[34mEpoch: 30, Training Loss: 0.00023697\u001b[0m\n",
      "\u001b[34mEpoch: 31, Training Loss: 0.00023794\u001b[0m\n",
      "\u001b[34mEpoch: 32, Training Loss: 0.00023845\u001b[0m\n",
      "\u001b[34mEpoch: 33, Training Loss: 0.00023842\u001b[0m\n",
      "\u001b[34mEpoch: 34, Training Loss: 0.00023774\u001b[0m\n",
      "\u001b[34mEpoch: 35, Training Loss: 0.00023765\u001b[0m\n",
      "\u001b[34mEpoch: 36, Training Loss: 0.00023712\u001b[0m\n",
      "\u001b[34mEpoch: 37, Training Loss: 0.00023869\u001b[0m\n",
      "\u001b[34mEpoch: 38, Training Loss: 0.00023771\u001b[0m\n",
      "\u001b[34mEpoch: 39, Training Loss: 0.00023714\u001b[0m\n",
      "\u001b[34mEpoch: 40, Training Loss: 0.00023962\u001b[0m\n",
      "\u001b[34mEpoch: 41, Training Loss: 0.00023809\u001b[0m\n",
      "\u001b[34mEpoch: 42, Training Loss: 0.00023826\u001b[0m\n",
      "\u001b[34mEpoch: 43, Training Loss: 0.00023707\u001b[0m\n",
      "\u001b[34mEpoch: 44, Training Loss: 0.00023938\u001b[0m\n",
      "\u001b[34mEpoch: 45, Training Loss: 0.00023856\u001b[0m\n",
      "\u001b[34mEpoch: 46, Training Loss: 0.00023798\u001b[0m\n",
      "\u001b[34mEpoch: 47, Training Loss: 0.00024135\u001b[0m\n",
      "\u001b[34mEpoch: 48, Training Loss: 0.00024040\u001b[0m\n",
      "\u001b[34mEpoch: 49, Training Loss: 0.00023687\u001b[0m\n",
      "\u001b[34mEpoch: 50, Training Loss: 0.00023800\u001b[0m\n",
      "\u001b[34mEpoch: 51, Training Loss: 0.00023678\u001b[0m\n",
      "\u001b[34mEpoch: 52, Training Loss: 0.00023730\u001b[0m\n",
      "\u001b[34mEpoch: 53, Training Loss: 0.00023505\u001b[0m\n",
      "\u001b[34mEpoch: 54, Training Loss: 0.00023631\u001b[0m\n",
      "\u001b[34mEpoch: 55, Training Loss: 0.00023725\u001b[0m\n",
      "\u001b[34mEpoch: 56, Training Loss: 0.00023726\u001b[0m\n",
      "\u001b[34mEpoch: 57, Training Loss: 0.00023659\u001b[0m\n",
      "\u001b[34mEpoch: 58, Training Loss: 0.00023349\u001b[0m\n",
      "\u001b[34mEpoch: 59, Training Loss: 0.00023493\u001b[0m\n",
      "\u001b[34mEpoch: 60, Training Loss: 0.00023731\u001b[0m\n",
      "\u001b[34mEpoch: 61, Training Loss: 0.00023424\u001b[0m\n",
      "\u001b[34mEpoch: 62, Training Loss: 0.00023237\u001b[0m\n",
      "\u001b[34mEpoch: 63, Training Loss: 0.00023475\u001b[0m\n",
      "\u001b[34mEpoch: 64, Training Loss: 0.00023555\u001b[0m\n",
      "\u001b[34mEpoch: 65, Training Loss: 0.00023347\u001b[0m\n",
      "\u001b[34mEpoch: 66, Training Loss: 0.00023295\u001b[0m\n",
      "\u001b[34mEpoch: 67, Training Loss: 0.00023420\u001b[0m\n",
      "\u001b[34mEpoch: 68, Training Loss: 0.00023398\u001b[0m\n",
      "\u001b[34mEpoch: 69, Training Loss: 0.00023237\u001b[0m\n",
      "\u001b[34mEpoch: 70, Training Loss: 0.00023488\u001b[0m\n",
      "\u001b[34mEpoch: 71, Training Loss: 0.00023156\u001b[0m\n",
      "\u001b[34mEpoch: 72, Training Loss: 0.00023101\u001b[0m\n",
      "\u001b[34mEpoch: 73, Training Loss: 0.00023095\u001b[0m\n",
      "\u001b[34mEpoch: 74, Training Loss: 0.00023045\u001b[0m\n",
      "\u001b[34mEpoch: 75, Training Loss: 0.00023001\u001b[0m\n",
      "\u001b[34mEpoch: 76, Training Loss: 0.00022987\u001b[0m\n",
      "\u001b[34mEpoch: 77, Training Loss: 0.00022915\u001b[0m\n",
      "\u001b[34mEpoch: 78, Training Loss: 0.00022831\u001b[0m\n",
      "\u001b[34mEpoch: 79, Training Loss: 0.00022614\u001b[0m\n",
      "\u001b[34mEpoch: 80, Training Loss: 0.00022618\u001b[0m\n",
      "\u001b[34mEpoch: 81, Training Loss: 0.00022658\u001b[0m\n",
      "\u001b[34mEpoch: 82, Training Loss: 0.00022363\u001b[0m\n",
      "\u001b[34mEpoch: 83, Training Loss: 0.00022374\u001b[0m\n",
      "\u001b[34mEpoch: 84, Training Loss: 0.00022184\u001b[0m\n",
      "\u001b[34mEpoch: 85, Training Loss: 0.00022216\u001b[0m\n",
      "\u001b[34mEpoch: 86, Training Loss: 0.00022377\u001b[0m\n",
      "\u001b[34mEpoch: 87, Training Loss: 0.00021983\u001b[0m\n",
      "\u001b[34mEpoch: 88, Training Loss: 0.00022157\u001b[0m\n",
      "\u001b[34mEpoch: 89, Training Loss: 0.00022494\u001b[0m\n",
      "\u001b[34mEpoch: 90, Training Loss: 0.00021917\u001b[0m\n",
      "\u001b[34mEpoch: 91, Training Loss: 0.00021865\u001b[0m\n",
      "\u001b[34mEpoch: 92, Training Loss: 0.00021931\u001b[0m\n",
      "\u001b[34mEpoch: 93, Training Loss: 0.00021967\u001b[0m\n",
      "\u001b[34mEpoch: 94, Training Loss: 0.00021768\u001b[0m\n",
      "\u001b[34mEpoch: 95, Training Loss: 0.00021779\u001b[0m\n",
      "\u001b[34mEpoch: 96, Training Loss: 0.00022015\u001b[0m\n",
      "\u001b[34mEpoch: 97, Training Loss: 0.00021743\u001b[0m\n",
      "\u001b[34mEpoch: 98, Training Loss: 0.00021501\u001b[0m\n",
      "\u001b[34mEpoch: 99, Training Loss: 0.00021561\u001b[0m\n",
      "\u001b[34mEpoch: 100, Training Loss: 0.00021566\u001b[0m\n",
      "\u001b[34mEpoch: 101, Training Loss: 0.00021392\u001b[0m\n",
      "\u001b[34mEpoch: 102, Training Loss: 0.00021389\u001b[0m\n",
      "\u001b[34mEpoch: 103, Training Loss: 0.00023238\u001b[0m\n",
      "\u001b[34mEpoch: 104, Training Loss: 0.00022726\u001b[0m\n",
      "\u001b[34mEpoch: 105, Training Loss: 0.00022189\u001b[0m\n",
      "\u001b[34mEpoch: 106, Training Loss: 0.00022409\u001b[0m\n",
      "\u001b[34mEpoch: 107, Training Loss: 0.00022167\u001b[0m\n",
      "\u001b[34mEpoch: 108, Training Loss: 0.00021852\u001b[0m\n",
      "\u001b[34mEpoch: 109, Training Loss: 0.00022131\u001b[0m\n",
      "\u001b[34mEpoch: 110, Training Loss: 0.00022365\u001b[0m\n",
      "\u001b[34mEpoch: 111, Training Loss: 0.00021880\u001b[0m\n",
      "\u001b[34mEpoch: 112, Training Loss: 0.00021672\u001b[0m\n",
      "\u001b[34mEpoch: 113, Training Loss: 0.00021827\u001b[0m\n",
      "\u001b[34mEpoch: 114, Training Loss: 0.00021862\u001b[0m\n",
      "\u001b[34mEpoch: 115, Training Loss: 0.00021680\u001b[0m\n",
      "\u001b[34mEpoch: 116, Training Loss: 0.00021525\u001b[0m\n",
      "\u001b[34mEpoch: 117, Training Loss: 0.00021391\u001b[0m\n",
      "\u001b[34mEpoch: 118, Training Loss: 0.00021269\u001b[0m\n",
      "\u001b[34mEpoch: 119, Training Loss: 0.00021182\u001b[0m\n",
      "\u001b[34mEpoch: 120, Training Loss: 0.00021381\u001b[0m\n",
      "\u001b[34mEpoch: 121, Training Loss: 0.00021226\u001b[0m\n",
      "\u001b[34mEpoch: 122, Training Loss: 0.00021030\u001b[0m\n",
      "\u001b[34mEpoch: 123, Training Loss: 0.00020895\u001b[0m\n",
      "\u001b[34mEpoch: 124, Training Loss: 0.00020643\u001b[0m\n",
      "\u001b[34mEpoch: 125, Training Loss: 0.00020567\u001b[0m\n",
      "\u001b[34mEpoch: 126, Training Loss: 0.00020708\u001b[0m\n",
      "\u001b[34mEpoch: 127, Training Loss: 0.00020275\u001b[0m\n",
      "\u001b[34mEpoch: 128, Training Loss: 0.00020217\u001b[0m\n",
      "\u001b[34mEpoch: 129, Training Loss: 0.00020130\u001b[0m\n",
      "\u001b[34mEpoch: 130, Training Loss: 0.00019880\u001b[0m\n",
      "\u001b[34mEpoch: 131, Training Loss: 0.00019655\u001b[0m\n",
      "\u001b[34mEpoch: 132, Training Loss: 0.00019586\u001b[0m\n",
      "\u001b[34mEpoch: 133, Training Loss: 0.00019715\u001b[0m\n",
      "\u001b[34mEpoch: 134, Training Loss: 0.00020474\u001b[0m\n",
      "\u001b[34mEpoch: 135, Training Loss: 0.00018968\u001b[0m\n",
      "\u001b[34mEpoch: 136, Training Loss: 0.00019731\u001b[0m\n",
      "\u001b[34mEpoch: 137, Training Loss: 0.00019816\u001b[0m\n",
      "\u001b[34mEpoch: 138, Training Loss: 0.00020091\u001b[0m\n",
      "\u001b[34mEpoch: 139, Training Loss: 0.00019174\u001b[0m\n",
      "\u001b[34mEpoch: 140, Training Loss: 0.00018629\u001b[0m\n",
      "\u001b[34mEpoch: 141, Training Loss: 0.00018885\u001b[0m\n",
      "\u001b[34mEpoch: 142, Training Loss: 0.00018508\u001b[0m\n",
      "\u001b[34mEpoch: 143, Training Loss: 0.00017754\u001b[0m\n",
      "\u001b[34mEpoch: 144, Training Loss: 0.00017592\u001b[0m\n",
      "\u001b[34mEpoch: 145, Training Loss: 0.00017389\u001b[0m\n",
      "\u001b[34mEpoch: 146, Training Loss: 0.00017199\u001b[0m\n",
      "\u001b[34mEpoch: 147, Training Loss: 0.00017409\u001b[0m\n",
      "\u001b[34mEpoch: 148, Training Loss: 0.00016929\u001b[0m\n",
      "\u001b[34mEpoch: 149, Training Loss: 0.00017010\u001b[0m\n",
      "\u001b[34mEpoch: 150, Training Loss: 0.00016807\u001b[0m\n",
      "\u001b[34mEpoch: 151, Training Loss: 0.00016588\u001b[0m\n",
      "\u001b[34mEpoch: 152, Training Loss: 0.00016578\u001b[0m\n",
      "\u001b[34mEpoch: 153, Training Loss: 0.00016631\u001b[0m\n",
      "\u001b[34mEpoch: 154, Training Loss: 0.00016301\u001b[0m\n",
      "\u001b[34mEpoch: 155, Training Loss: 0.00016371\u001b[0m\n",
      "\u001b[34mEpoch: 156, Training Loss: 0.00016421\u001b[0m\n",
      "\u001b[34mEpoch: 157, Training Loss: 0.00016157\u001b[0m\n",
      "\u001b[34mEpoch: 158, Training Loss: 0.00016194\u001b[0m\n",
      "\u001b[34mEpoch: 159, Training Loss: 0.00015958\u001b[0m\n",
      "\u001b[34mEpoch: 160, Training Loss: 0.00016181\u001b[0m\n",
      "\u001b[34mEpoch: 161, Training Loss: 0.00016016\u001b[0m\n",
      "\u001b[34mEpoch: 162, Training Loss: 0.00015526\u001b[0m\n",
      "\u001b[34mEpoch: 163, Training Loss: 0.00015438\u001b[0m\n",
      "\u001b[34mEpoch: 164, Training Loss: 0.00015560\u001b[0m\n",
      "\u001b[34mEpoch: 165, Training Loss: 0.00015606\u001b[0m\n",
      "\u001b[34mEpoch: 166, Training Loss: 0.00015393\u001b[0m\n",
      "\u001b[34mEpoch: 167, Training Loss: 0.00014988\u001b[0m\n",
      "\u001b[34mEpoch: 168, Training Loss: 0.00014917\u001b[0m\n",
      "\u001b[34mEpoch: 169, Training Loss: 0.00017585\u001b[0m\n",
      "\u001b[34mEpoch: 170, Training Loss: 0.00018003\u001b[0m\n",
      "\u001b[34mEpoch: 171, Training Loss: 0.00016751\u001b[0m\n",
      "\u001b[34mEpoch: 172, Training Loss: 0.00016298\u001b[0m\n",
      "\u001b[34mEpoch: 173, Training Loss: 0.00015739\u001b[0m\n",
      "\u001b[34mEpoch: 174, Training Loss: 0.00015782\u001b[0m\n",
      "\u001b[34mEpoch: 175, Training Loss: 0.00015549\u001b[0m\n",
      "\u001b[34mEpoch: 176, Training Loss: 0.00015266\u001b[0m\n",
      "\u001b[34mEpoch: 177, Training Loss: 0.00014966\u001b[0m\n",
      "\u001b[34mEpoch: 178, Training Loss: 0.00015017\u001b[0m\n",
      "\u001b[34mEpoch: 179, Training Loss: 0.00014417\u001b[0m\n",
      "\u001b[34mEpoch: 180, Training Loss: 0.00014242\u001b[0m\n",
      "\u001b[34mEpoch: 181, Training Loss: 0.00014022\u001b[0m\n",
      "\u001b[34mEpoch: 182, Training Loss: 0.00014084\u001b[0m\n",
      "\u001b[34mEpoch: 183, Training Loss: 0.00013973\u001b[0m\n",
      "\u001b[34mEpoch: 184, Training Loss: 0.00015749\u001b[0m\n",
      "\u001b[34mEpoch: 185, Training Loss: 0.00015645\u001b[0m\n",
      "\u001b[34mEpoch: 186, Training Loss: 0.00015232\u001b[0m\n",
      "\u001b[34mEpoch: 187, Training Loss: 0.00015517\u001b[0m\n",
      "\u001b[34mEpoch: 188, Training Loss: 0.00015071\u001b[0m\n",
      "\u001b[34mEpoch: 189, Training Loss: 0.00015197\u001b[0m\n",
      "\u001b[34mEpoch: 190, Training Loss: 0.00014857\u001b[0m\n",
      "\u001b[34mEpoch: 191, Training Loss: 0.00014888\u001b[0m\n",
      "\u001b[34mEpoch: 192, Training Loss: 0.00014921\u001b[0m\n",
      "\u001b[34mEpoch: 193, Training Loss: 0.00014505\u001b[0m\n",
      "\u001b[34mEpoch: 194, Training Loss: 0.00014270\u001b[0m\n",
      "\u001b[34mEpoch: 195, Training Loss: 0.00014150\u001b[0m\n",
      "\u001b[34mEpoch: 196, Training Loss: 0.00013976\u001b[0m\n",
      "\u001b[34mEpoch: 197, Training Loss: 0.00013846\u001b[0m\n",
      "\u001b[34mEpoch: 198, Training Loss: 0.00013599\u001b[0m\n",
      "\u001b[34mEpoch: 199, Training Loss: 0.00013546\u001b[0m\n",
      "\u001b[34mEpoch: 200, Training Loss: 0.00014515\u001b[0m\n",
      "\u001b[34mEpoch: 201, Training Loss: 0.00013422\u001b[0m\n",
      "\u001b[34mEpoch: 202, Training Loss: 0.00013986\u001b[0m\n",
      "\u001b[34mEpoch: 203, Training Loss: 0.00013607\u001b[0m\n",
      "\u001b[34mEpoch: 204, Training Loss: 0.00013368\u001b[0m\n",
      "\u001b[34mEpoch: 205, Training Loss: 0.00013236\u001b[0m\n",
      "\u001b[34mEpoch: 206, Training Loss: 0.00012780\u001b[0m\n",
      "\u001b[34mEpoch: 207, Training Loss: 0.00012840\u001b[0m\n",
      "\u001b[34mEpoch: 208, Training Loss: 0.00012686\u001b[0m\n",
      "\u001b[34mEpoch: 209, Training Loss: 0.00012600\u001b[0m\n",
      "\u001b[34mEpoch: 210, Training Loss: 0.00012814\u001b[0m\n",
      "\u001b[34mEpoch: 211, Training Loss: 0.00012298\u001b[0m\n",
      "\u001b[34mEpoch: 212, Training Loss: 0.00012949\u001b[0m\n",
      "\u001b[34mEpoch: 213, Training Loss: 0.00012116\u001b[0m\n",
      "\u001b[34mEpoch: 214, Training Loss: 0.00012476\u001b[0m\n",
      "\u001b[34mEpoch: 215, Training Loss: 0.00012359\u001b[0m\n",
      "\u001b[34mEpoch: 216, Training Loss: 0.00012728\u001b[0m\n",
      "\u001b[34mEpoch: 217, Training Loss: 0.00011966\u001b[0m\n",
      "\u001b[34mEpoch: 218, Training Loss: 0.00011862\u001b[0m\n",
      "\u001b[34mEpoch: 219, Training Loss: 0.00011759\u001b[0m\n",
      "\u001b[34mEpoch: 220, Training Loss: 0.00011532\u001b[0m\n",
      "\u001b[34mEpoch: 221, Training Loss: 0.00011369\u001b[0m\n",
      "\u001b[34mEpoch: 222, Training Loss: 0.00011640\u001b[0m\n",
      "\u001b[34mEpoch: 223, Training Loss: 0.00011601\u001b[0m\n",
      "\u001b[34mEpoch: 224, Training Loss: 0.00011432\u001b[0m\n",
      "\u001b[34mEpoch: 225, Training Loss: 0.00011241\u001b[0m\n",
      "\u001b[34mEpoch: 226, Training Loss: 0.00011316\u001b[0m\n",
      "\u001b[34mEpoch: 227, Training Loss: 0.00011193\u001b[0m\n",
      "\u001b[34mEpoch: 228, Training Loss: 0.00010840\u001b[0m\n",
      "\u001b[34mEpoch: 229, Training Loss: 0.00010899\u001b[0m\n",
      "\u001b[34mEpoch: 230, Training Loss: 0.00010964\u001b[0m\n",
      "\u001b[34mEpoch: 231, Training Loss: 0.00010829\u001b[0m\n",
      "\u001b[34mEpoch: 232, Training Loss: 0.00011706\u001b[0m\n",
      "\u001b[34mEpoch: 233, Training Loss: 0.00011543\u001b[0m\n",
      "\u001b[34mEpoch: 234, Training Loss: 0.00010845\u001b[0m\n",
      "\u001b[34mEpoch: 235, Training Loss: 0.00010889\u001b[0m\n",
      "\u001b[34mEpoch: 236, Training Loss: 0.00010767\u001b[0m\n",
      "\u001b[34mEpoch: 237, Training Loss: 0.00011545\u001b[0m\n",
      "\u001b[34mEpoch: 238, Training Loss: 0.00011682\u001b[0m\n",
      "\u001b[34mEpoch: 239, Training Loss: 0.00011200\u001b[0m\n",
      "\u001b[34mEpoch: 240, Training Loss: 0.00011016\u001b[0m\n",
      "\u001b[34mEpoch: 241, Training Loss: 0.00010606\u001b[0m\n",
      "\u001b[34mEpoch: 242, Training Loss: 0.00010504\u001b[0m\n",
      "\u001b[34mEpoch: 243, Training Loss: 0.00011337\u001b[0m\n",
      "\u001b[34mEpoch: 244, Training Loss: 0.00010442\u001b[0m\n",
      "\u001b[34mEpoch: 245, Training Loss: 0.00010233\u001b[0m\n",
      "\u001b[34mEpoch: 246, Training Loss: 0.00010066\u001b[0m\n",
      "\u001b[34mEpoch: 247, Training Loss: 0.00009992\u001b[0m\n",
      "\u001b[34mEpoch: 248, Training Loss: 0.00010024\u001b[0m\n",
      "\u001b[34mEpoch: 249, Training Loss: 0.00009918\u001b[0m\n",
      "\u001b[34mEpoch: 250, Training Loss: 0.00009965\u001b[0m\n",
      "\u001b[34mEpoch: 251, Training Loss: 0.00009710\u001b[0m\n",
      "\u001b[34mEpoch: 252, Training Loss: 0.00010362\u001b[0m\n",
      "\u001b[34mEpoch: 253, Training Loss: 0.00010855\u001b[0m\n",
      "\u001b[34mEpoch: 254, Training Loss: 0.00010830\u001b[0m\n",
      "\u001b[34mEpoch: 255, Training Loss: 0.00010441\u001b[0m\n",
      "\u001b[34mEpoch: 256, Training Loss: 0.00010251\u001b[0m\n",
      "\u001b[34mEpoch: 257, Training Loss: 0.00009908\u001b[0m\n",
      "\u001b[34mEpoch: 258, Training Loss: 0.00010229\u001b[0m\n",
      "\u001b[34mEpoch: 259, Training Loss: 0.00010341\u001b[0m\n",
      "\u001b[34mEpoch: 260, Training Loss: 0.00010751\u001b[0m\n",
      "\u001b[34mEpoch: 261, Training Loss: 0.00018533\u001b[0m\n",
      "\u001b[34mEpoch: 262, Training Loss: 0.00018375\u001b[0m\n",
      "\u001b[34mEpoch: 263, Training Loss: 0.00016430\u001b[0m\n",
      "\u001b[34mEpoch: 264, Training Loss: 0.00016429\u001b[0m\n",
      "\u001b[34mEpoch: 265, Training Loss: 0.00014920\u001b[0m\n",
      "\u001b[34mEpoch: 266, Training Loss: 0.00013523\u001b[0m\n",
      "\u001b[34mEpoch: 267, Training Loss: 0.00013192\u001b[0m\n",
      "\u001b[34mEpoch: 268, Training Loss: 0.00013977\u001b[0m\n",
      "\u001b[34mEpoch: 269, Training Loss: 0.00012606\u001b[0m\n",
      "\u001b[34mEpoch: 270, Training Loss: 0.00012012\u001b[0m\n",
      "\u001b[34mEpoch: 271, Training Loss: 0.00011439\u001b[0m\n",
      "\u001b[34mEpoch: 272, Training Loss: 0.00011100\u001b[0m\n",
      "\u001b[34mEpoch: 273, Training Loss: 0.00010748\u001b[0m\n",
      "\u001b[34mEpoch: 274, Training Loss: 0.00010558\u001b[0m\n",
      "\u001b[34mEpoch: 275, Training Loss: 0.00010248\u001b[0m\n",
      "\u001b[34mEpoch: 276, Training Loss: 0.00009935\u001b[0m\n",
      "\u001b[34mEpoch: 277, Training Loss: 0.00009753\u001b[0m\n",
      "\u001b[34mEpoch: 278, Training Loss: 0.00009935\u001b[0m\n",
      "\u001b[34mEpoch: 279, Training Loss: 0.00009844\u001b[0m\n",
      "\u001b[34mEpoch: 280, Training Loss: 0.00009854\u001b[0m\n",
      "\u001b[34mEpoch: 281, Training Loss: 0.00009554\u001b[0m\n",
      "\u001b[34mEpoch: 282, Training Loss: 0.00009598\u001b[0m\n",
      "\u001b[34mEpoch: 283, Training Loss: 0.00009347\u001b[0m\n",
      "\u001b[34mEpoch: 284, Training Loss: 0.00009368\u001b[0m\n",
      "\u001b[34mEpoch: 285, Training Loss: 0.00009526\u001b[0m\n",
      "\u001b[34mEpoch: 286, Training Loss: 0.00009306\u001b[0m\n",
      "\u001b[34mEpoch: 287, Training Loss: 0.00009177\u001b[0m\n",
      "\u001b[34mEpoch: 288, Training Loss: 0.00009594\u001b[0m\n",
      "\u001b[34mEpoch: 289, Training Loss: 0.00009050\u001b[0m\n",
      "\u001b[34mEpoch: 290, Training Loss: 0.00009044\u001b[0m\n",
      "\u001b[34mEpoch: 291, Training Loss: 0.00009204\u001b[0m\n",
      "\u001b[34mEpoch: 292, Training Loss: 0.00010234\u001b[0m\n",
      "\u001b[34mEpoch: 293, Training Loss: 0.00009994\u001b[0m\n",
      "\u001b[34mEpoch: 294, Training Loss: 0.00010764\u001b[0m\n",
      "\u001b[34mEpoch: 295, Training Loss: 0.00010617\u001b[0m\n",
      "\u001b[34mEpoch: 296, Training Loss: 0.00010124\u001b[0m\n",
      "\u001b[34mEpoch: 297, Training Loss: 0.00009664\u001b[0m\n",
      "\u001b[34mEpoch: 298, Training Loss: 0.00009306\u001b[0m\n",
      "\u001b[34mEpoch: 299, Training Loss: 0.00009526\u001b[0m\n",
      "\u001b[34mEpoch: 300, Training Loss: 0.00009885\u001b[0m\n",
      "\u001b[34mEpoch: 301, Training Loss: 0.00008867\u001b[0m\n",
      "\u001b[34mEpoch: 302, Training Loss: 0.00009369\u001b[0m\n",
      "\u001b[34mEpoch: 303, Training Loss: 0.00008799\u001b[0m\n",
      "\u001b[34mEpoch: 304, Training Loss: 0.00008854\u001b[0m\n",
      "\u001b[34mEpoch: 305, Training Loss: 0.00008569\u001b[0m\n",
      "\u001b[34mEpoch: 306, Training Loss: 0.00008541\u001b[0m\n",
      "\u001b[34mEpoch: 307, Training Loss: 0.00008438\u001b[0m\n",
      "\u001b[34mEpoch: 308, Training Loss: 0.00008999\u001b[0m\n",
      "\u001b[34mEpoch: 309, Training Loss: 0.00008989\u001b[0m\n",
      "\u001b[34mEpoch: 310, Training Loss: 0.00008556\u001b[0m\n",
      "\u001b[34mEpoch: 311, Training Loss: 0.00008871\u001b[0m\n",
      "\u001b[34mEpoch: 312, Training Loss: 0.00008194\u001b[0m\n",
      "\u001b[34mEpoch: 313, Training Loss: 0.00008343\u001b[0m\n",
      "\u001b[34mEpoch: 314, Training Loss: 0.00008708\u001b[0m\n",
      "\u001b[34mEpoch: 315, Training Loss: 0.00009212\u001b[0m\n",
      "\u001b[34mEpoch: 316, Training Loss: 0.00008876\u001b[0m\n",
      "\u001b[34mEpoch: 317, Training Loss: 0.00008538\u001b[0m\n",
      "\u001b[34mEpoch: 318, Training Loss: 0.00008199\u001b[0m\n",
      "\u001b[34mEpoch: 319, Training Loss: 0.00008168\u001b[0m\n",
      "\u001b[34mEpoch: 320, Training Loss: 0.00008080\u001b[0m\n",
      "\u001b[34mEpoch: 321, Training Loss: 0.00008124\u001b[0m\n",
      "\u001b[34mEpoch: 322, Training Loss: 0.00008396\u001b[0m\n",
      "\u001b[34mEpoch: 323, Training Loss: 0.00008221\u001b[0m\n",
      "\u001b[34mEpoch: 324, Training Loss: 0.00008266\u001b[0m\n",
      "\u001b[34mEpoch: 325, Training Loss: 0.00008529\u001b[0m\n",
      "\u001b[34mEpoch: 326, Training Loss: 0.00007976\u001b[0m\n",
      "\u001b[34mEpoch: 327, Training Loss: 0.00008187\u001b[0m\n",
      "\u001b[34mEpoch: 328, Training Loss: 0.00007787\u001b[0m\n",
      "\u001b[34mEpoch: 329, Training Loss: 0.00007748\u001b[0m\n",
      "\u001b[34mEpoch: 330, Training Loss: 0.00007632\u001b[0m\n",
      "\u001b[34mEpoch: 331, Training Loss: 0.00007542\u001b[0m\n",
      "\u001b[34mEpoch: 332, Training Loss: 0.00007415\u001b[0m\n",
      "\u001b[34mEpoch: 333, Training Loss: 0.00007686\u001b[0m\n",
      "\u001b[34mEpoch: 334, Training Loss: 0.00007772\u001b[0m\n",
      "\u001b[34mEpoch: 335, Training Loss: 0.00009411\u001b[0m\n",
      "\u001b[34mEpoch: 336, Training Loss: 0.00008625\u001b[0m\n",
      "\u001b[34mEpoch: 337, Training Loss: 0.00009055\u001b[0m\n",
      "\u001b[34mEpoch: 338, Training Loss: 0.00008417\u001b[0m\n",
      "\u001b[34mEpoch: 339, Training Loss: 0.00008078\u001b[0m\n",
      "\u001b[34mEpoch: 340, Training Loss: 0.00008506\u001b[0m\n",
      "\u001b[34mEpoch: 341, Training Loss: 0.00008763\u001b[0m\n",
      "\u001b[34mEpoch: 342, Training Loss: 0.00010362\u001b[0m\n",
      "\u001b[34mEpoch: 343, Training Loss: 0.00008906\u001b[0m\n",
      "\u001b[34mEpoch: 344, Training Loss: 0.00008838\u001b[0m\n",
      "\u001b[34mEpoch: 345, Training Loss: 0.00008430\u001b[0m\n",
      "\u001b[34mEpoch: 346, Training Loss: 0.00009404\u001b[0m\n",
      "\u001b[34mEpoch: 347, Training Loss: 0.00008223\u001b[0m\n",
      "\u001b[34mEpoch: 348, Training Loss: 0.00007927\u001b[0m\n",
      "\u001b[34mEpoch: 349, Training Loss: 0.00007860\u001b[0m\n",
      "\u001b[34mEpoch: 350, Training Loss: 0.00007511\u001b[0m\n",
      "\u001b[34mEpoch: 351, Training Loss: 0.00007355\u001b[0m\n",
      "\u001b[34mEpoch: 352, Training Loss: 0.00008018\u001b[0m\n",
      "\u001b[34mEpoch: 353, Training Loss: 0.00007696\u001b[0m\n",
      "\u001b[34mEpoch: 354, Training Loss: 0.00007388\u001b[0m\n",
      "\u001b[34mEpoch: 355, Training Loss: 0.00007629\u001b[0m\n",
      "\u001b[34mEpoch: 356, Training Loss: 0.00007588\u001b[0m\n",
      "\u001b[34mEpoch: 357, Training Loss: 0.00007026\u001b[0m\n",
      "\u001b[34mEpoch: 358, Training Loss: 0.00006986\u001b[0m\n",
      "\u001b[34mEpoch: 359, Training Loss: 0.00006827\u001b[0m\n",
      "\u001b[34mEpoch: 360, Training Loss: 0.00006706\u001b[0m\n",
      "\u001b[34mEpoch: 361, Training Loss: 0.00006698\u001b[0m\n",
      "\u001b[34mEpoch: 362, Training Loss: 0.00006650\u001b[0m\n",
      "\u001b[34mEpoch: 363, Training Loss: 0.00006903\u001b[0m\n",
      "\u001b[34mEpoch: 364, Training Loss: 0.00006735\u001b[0m\n",
      "\u001b[34mEpoch: 365, Training Loss: 0.00006866\u001b[0m\n",
      "\u001b[34mEpoch: 366, Training Loss: 0.00007143\u001b[0m\n",
      "\u001b[34mEpoch: 367, Training Loss: 0.00007054\u001b[0m\n",
      "\u001b[34mEpoch: 368, Training Loss: 0.00007013\u001b[0m\n",
      "\u001b[34mEpoch: 369, Training Loss: 0.00006789\u001b[0m\n",
      "\u001b[34mEpoch: 370, Training Loss: 0.00006876\u001b[0m\n",
      "\u001b[34mEpoch: 371, Training Loss: 0.00006707\u001b[0m\n",
      "\u001b[34mEpoch: 372, Training Loss: 0.00006627\u001b[0m\n",
      "\u001b[34mEpoch: 373, Training Loss: 0.00006938\u001b[0m\n",
      "\u001b[34mEpoch: 374, Training Loss: 0.00006541\u001b[0m\n",
      "\u001b[34mEpoch: 375, Training Loss: 0.00006644\u001b[0m\n",
      "\u001b[34mEpoch: 376, Training Loss: 0.00007478\u001b[0m\n",
      "\u001b[34mEpoch: 377, Training Loss: 0.00007631\u001b[0m\n",
      "\u001b[34mEpoch: 378, Training Loss: 0.00009153\u001b[0m\n",
      "\u001b[34mEpoch: 379, Training Loss: 0.00009851\u001b[0m\n",
      "\u001b[34mEpoch: 380, Training Loss: 0.00008824\u001b[0m\n",
      "\u001b[34mEpoch: 381, Training Loss: 0.00008732\u001b[0m\n",
      "\u001b[34mEpoch: 382, Training Loss: 0.00008095\u001b[0m\n",
      "\u001b[34mEpoch: 383, Training Loss: 0.00007978\u001b[0m\n",
      "\u001b[34mEpoch: 384, Training Loss: 0.00008105\u001b[0m\n",
      "\u001b[34mEpoch: 385, Training Loss: 0.00007561\u001b[0m\n",
      "\u001b[34mEpoch: 386, Training Loss: 0.00007303\u001b[0m\n",
      "\u001b[34mEpoch: 387, Training Loss: 0.00007012\u001b[0m\n",
      "\u001b[34mEpoch: 388, Training Loss: 0.00007301\u001b[0m\n",
      "\u001b[34mEpoch: 389, Training Loss: 0.00008006\u001b[0m\n",
      "\u001b[34mEpoch: 390, Training Loss: 0.00006738\u001b[0m\n",
      "\u001b[34mEpoch: 391, Training Loss: 0.00006804\u001b[0m\n",
      "\u001b[34mEpoch: 392, Training Loss: 0.00006587\u001b[0m\n",
      "\u001b[34mEpoch: 393, Training Loss: 0.00006567\u001b[0m\n",
      "\u001b[34mEpoch: 394, Training Loss: 0.00006788\u001b[0m\n",
      "\u001b[34mEpoch: 395, Training Loss: 0.00006558\u001b[0m\n",
      "\u001b[34mEpoch: 396, Training Loss: 0.00006474\u001b[0m\n",
      "\u001b[34mEpoch: 397, Training Loss: 0.00006364\u001b[0m\n",
      "\u001b[34mEpoch: 398, Training Loss: 0.00006462\u001b[0m\n",
      "\u001b[34mEpoch: 399, Training Loss: 0.00006532\u001b[0m\n",
      "\u001b[34mEpoch: 400, Training Loss: 0.00006453\u001b[0m\n",
      "\u001b[34mEpoch: 401, Training Loss: 0.00006355\u001b[0m\n",
      "\u001b[34mEpoch: 402, Training Loss: 0.00007086\u001b[0m\n",
      "\u001b[34mEpoch: 403, Training Loss: 0.00007561\u001b[0m\n",
      "\u001b[34mEpoch: 404, Training Loss: 0.00006643\u001b[0m\n",
      "\u001b[34mEpoch: 405, Training Loss: 0.00006732\u001b[0m\n",
      "\u001b[34mEpoch: 406, Training Loss: 0.00006443\u001b[0m\n",
      "\u001b[34mEpoch: 407, Training Loss: 0.00006328\u001b[0m\n",
      "\u001b[34mEpoch: 408, Training Loss: 0.00006217\u001b[0m\n",
      "\u001b[34mEpoch: 409, Training Loss: 0.00006230\u001b[0m\n",
      "\u001b[34mEpoch: 410, Training Loss: 0.00006602\u001b[0m\n",
      "\u001b[34mEpoch: 411, Training Loss: 0.00006223\u001b[0m\n",
      "\u001b[34mEpoch: 412, Training Loss: 0.00006381\u001b[0m\n",
      "\u001b[34mEpoch: 413, Training Loss: 0.00006419\u001b[0m\n",
      "\u001b[34mEpoch: 414, Training Loss: 0.00006640\u001b[0m\n",
      "\u001b[34mEpoch: 415, Training Loss: 0.00006911\u001b[0m\n",
      "\u001b[34mEpoch: 416, Training Loss: 0.00008413\u001b[0m\n",
      "\u001b[34mEpoch: 417, Training Loss: 0.00007083\u001b[0m\n",
      "\u001b[34mEpoch: 418, Training Loss: 0.00007348\u001b[0m\n",
      "\u001b[34mEpoch: 419, Training Loss: 0.00007238\u001b[0m\n",
      "\u001b[34mEpoch: 420, Training Loss: 0.00006964\u001b[0m\n",
      "\u001b[34mEpoch: 421, Training Loss: 0.00006880\u001b[0m\n",
      "\u001b[34mEpoch: 422, Training Loss: 0.00006727\u001b[0m\n",
      "\u001b[34mEpoch: 423, Training Loss: 0.00006744\u001b[0m\n",
      "\u001b[34mEpoch: 424, Training Loss: 0.00006830\u001b[0m\n",
      "\u001b[34mEpoch: 425, Training Loss: 0.00007324\u001b[0m\n",
      "\u001b[34mEpoch: 426, Training Loss: 0.00008624\u001b[0m\n",
      "\u001b[34mEpoch: 427, Training Loss: 0.00006998\u001b[0m\n",
      "\u001b[34mEpoch: 428, Training Loss: 0.00007175\u001b[0m\n",
      "\u001b[34mEpoch: 429, Training Loss: 0.00006849\u001b[0m\n",
      "\u001b[34mEpoch: 430, Training Loss: 0.00006690\u001b[0m\n",
      "\u001b[34mEpoch: 431, Training Loss: 0.00006509\u001b[0m\n",
      "\u001b[34mEpoch: 432, Training Loss: 0.00006531\u001b[0m\n",
      "\u001b[34mEpoch: 433, Training Loss: 0.00006318\u001b[0m\n",
      "\u001b[34mEpoch: 434, Training Loss: 0.00006260\u001b[0m\n",
      "\u001b[34mEpoch: 435, Training Loss: 0.00006104\u001b[0m\n",
      "\u001b[34mEpoch: 436, Training Loss: 0.00006330\u001b[0m\n",
      "\u001b[34mEpoch: 437, Training Loss: 0.00006017\u001b[0m\n",
      "\u001b[34mEpoch: 438, Training Loss: 0.00006010\u001b[0m\n",
      "\u001b[34mEpoch: 439, Training Loss: 0.00005879\u001b[0m\n",
      "\u001b[34mEpoch: 440, Training Loss: 0.00006041\u001b[0m\n",
      "\u001b[34mEpoch: 441, Training Loss: 0.00005832\u001b[0m\n",
      "\u001b[34mEpoch: 442, Training Loss: 0.00005863\u001b[0m\n",
      "\u001b[34mEpoch: 443, Training Loss: 0.00006101\u001b[0m\n",
      "\u001b[34mEpoch: 444, Training Loss: 0.00006125\u001b[0m\n",
      "\u001b[34mEpoch: 445, Training Loss: 0.00006029\u001b[0m\n",
      "\u001b[34mEpoch: 446, Training Loss: 0.00005872\u001b[0m\n",
      "\u001b[34mEpoch: 447, Training Loss: 0.00005907\u001b[0m\n",
      "\u001b[34mEpoch: 448, Training Loss: 0.00006463\u001b[0m\n",
      "\u001b[34mEpoch: 449, Training Loss: 0.00006299\u001b[0m\n",
      "\u001b[34mEpoch: 450, Training Loss: 0.00005916\u001b[0m\n",
      "\u001b[34mEpoch: 451, Training Loss: 0.00005714\u001b[0m\n",
      "\u001b[34mEpoch: 452, Training Loss: 0.00005741\u001b[0m\n",
      "\u001b[34mEpoch: 453, Training Loss: 0.00006235\u001b[0m\n",
      "\u001b[34mEpoch: 454, Training Loss: 0.00006150\u001b[0m\n",
      "\u001b[34mEpoch: 455, Training Loss: 0.00005952\u001b[0m\n",
      "\u001b[34mEpoch: 456, Training Loss: 0.00005890\u001b[0m\n",
      "\u001b[34mEpoch: 457, Training Loss: 0.00005908\u001b[0m\n",
      "\u001b[34mEpoch: 458, Training Loss: 0.00005789\u001b[0m\n",
      "\u001b[34mEpoch: 459, Training Loss: 0.00005805\u001b[0m\n",
      "\u001b[34mEpoch: 460, Training Loss: 0.00006158\u001b[0m\n",
      "\u001b[34mEpoch: 461, Training Loss: 0.00005667\u001b[0m\n",
      "\u001b[34mEpoch: 462, Training Loss: 0.00005742\u001b[0m\n",
      "\u001b[34mEpoch: 463, Training Loss: 0.00005918\u001b[0m\n",
      "\u001b[34mEpoch: 464, Training Loss: 0.00006027\u001b[0m\n",
      "\u001b[34mEpoch: 465, Training Loss: 0.00005987\u001b[0m\n",
      "\u001b[34mEpoch: 466, Training Loss: 0.00005697\u001b[0m\n",
      "\u001b[34mEpoch: 467, Training Loss: 0.00006004\u001b[0m\n",
      "\u001b[34mEpoch: 468, Training Loss: 0.00005782\u001b[0m\n",
      "\u001b[34mEpoch: 469, Training Loss: 0.00005518\u001b[0m\n",
      "\u001b[34mEpoch: 470, Training Loss: 0.00005750\u001b[0m\n",
      "\u001b[34mEpoch: 471, Training Loss: 0.00005350\u001b[0m\n",
      "\u001b[34mEpoch: 472, Training Loss: 0.00006394\u001b[0m\n",
      "\u001b[34mEpoch: 473, Training Loss: 0.00010761\u001b[0m\n",
      "\u001b[34mEpoch: 474, Training Loss: 0.00015617\u001b[0m\n",
      "\u001b[34mEpoch: 475, Training Loss: 0.00015023\u001b[0m\n",
      "\u001b[34mEpoch: 476, Training Loss: 0.00016129\u001b[0m\n",
      "\u001b[34mEpoch: 477, Training Loss: 0.00013864\u001b[0m\n",
      "\u001b[34mEpoch: 478, Training Loss: 0.00013335\u001b[0m\n",
      "\u001b[34mEpoch: 479, Training Loss: 0.00014484\u001b[0m\n",
      "\u001b[34mEpoch: 480, Training Loss: 0.00012963\u001b[0m\n",
      "\u001b[34mEpoch: 481, Training Loss: 0.00012682\u001b[0m\n",
      "\u001b[34mEpoch: 482, Training Loss: 0.00013107\u001b[0m\n",
      "\u001b[34mEpoch: 483, Training Loss: 0.00011518\u001b[0m\n",
      "\u001b[34mEpoch: 484, Training Loss: 0.00011314\u001b[0m\n",
      "\u001b[34mEpoch: 485, Training Loss: 0.00010181\u001b[0m\n",
      "\u001b[34mEpoch: 486, Training Loss: 0.00009250\u001b[0m\n",
      "\u001b[34mEpoch: 487, Training Loss: 0.00008891\u001b[0m\n",
      "\u001b[34mEpoch: 488, Training Loss: 0.00008325\u001b[0m\n",
      "\u001b[34mEpoch: 489, Training Loss: 0.00008128\u001b[0m\n",
      "\u001b[34mEpoch: 490, Training Loss: 0.00007887\u001b[0m\n",
      "\u001b[34mEpoch: 491, Training Loss: 0.00007462\u001b[0m\n",
      "\u001b[34mEpoch: 492, Training Loss: 0.00007384\u001b[0m\n",
      "\u001b[34mEpoch: 493, Training Loss: 0.00006985\u001b[0m\n",
      "\u001b[34mEpoch: 494, Training Loss: 0.00007170\u001b[0m\n",
      "\u001b[34mEpoch: 495, Training Loss: 0.00007260\u001b[0m\n",
      "\u001b[34mEpoch: 496, Training Loss: 0.00006638\u001b[0m\n",
      "\u001b[34mEpoch: 497, Training Loss: 0.00006788\u001b[0m\n",
      "\u001b[34mEpoch: 498, Training Loss: 0.00007480\u001b[0m\n",
      "\u001b[34mEpoch: 499, Training Loss: 0.00006510\u001b[0m\n",
      "\u001b[34mEpoch: 500, Training Loss: 0.00006597\u001b[0m\n",
      "\u001b[34m--------------------------------------\u001b[0m\n",
      "\u001b[34mScoring the model.\u001b[0m\n",
      "\u001b[34mtrain:loss 0.00006597\u001b[0m\n",
      "\u001b[34m--------------------------------------\u001b[0m\n",
      "\u001b[34m2023-08-10 11:52:34,566 sagemaker-training-toolkit INFO     Waiting for the process to finish and give a return code.\u001b[0m\n",
      "\u001b[34m2023-08-10 11:52:34,566 sagemaker-training-toolkit INFO     Done waiting for a return code. Received 0 from exiting process.\u001b[0m\n",
      "\u001b[34m2023-08-10 11:52:34,567 sagemaker-training-toolkit INFO     Reporting training SUCCESS\u001b[0m\n",
      "\n",
      "2023-08-10 11:52:48 Uploading - Uploading generated training model\n",
      "2023-08-10 11:52:48 Completed - Training job completed\n",
      "Training seconds: 528\n",
      "Billable seconds: 528\n"
     ]
    }
   ],
   "source": [
    "estimator = sagemaker.algorithm.AlgorithmEstimator(\n",
    "    algorithm_arn=algo_arn,\n",
    "    role=role,\n",
    "    instance_count=1,\n",
    "    instance_type=instance_type,\n",
    "    input_mode=\"File\",\n",
    "    sagemaker_session=sagemaker_session,\n",
    "    hyperparameters={\n",
    "        \"sequence-length\": 100,\n",
    "        \"hidden-size\": 128,\n",
    "        \"num-layers\": 2,\n",
    "        \"dropout\": 0.5,\n",
    "        \"lr\": 0.001,\n",
    "        \"batch-size\": 64,\n",
    "        \"epochs\": 500,\n",
    "    },\n",
    ")\n",
    "\n",
    "estimator.fit({\"training\": training_data})"
   ]
  },
  {
   "cell_type": "markdown",
   "id": "929a3d35-a4ba-4a39-a7b0-8dbd4f9c2601",
   "metadata": {},
   "source": [
    "### 4. Inference"
   ]
  },
  {
   "cell_type": "markdown",
   "id": "8aecf50e-4c75-4273-a6c3-ce7004a8220b",
   "metadata": {},
   "source": [
    "Generate the test set predictions."
   ]
  },
  {
   "cell_type": "code",
   "execution_count": 18,
   "id": "a4657c35-0687-413a-829c-a028e6a9e9d7",
   "metadata": {},
   "outputs": [
    {
     "name": "stderr",
     "output_type": "stream",
     "text": [
      "INFO:sagemaker:Creating model package with name: lstm-ad-algo-v1-4-2023-08-10-11-53-16-081\n"
     ]
    },
    {
     "name": "stdout",
     "output_type": "stream",
     "text": [
      "..............."
     ]
    },
    {
     "name": "stderr",
     "output_type": "stream",
     "text": [
      "INFO:sagemaker:Creating model with name: lstm-ad-algo-v1-4-2023-08-10-11-53-16-0-2023-08-10-11-54-31-729\n"
     ]
    },
    {
     "name": "stdout",
     "output_type": "stream",
     "text": [
      "\n"
     ]
    },
    {
     "name": "stderr",
     "output_type": "stream",
     "text": [
      "INFO:sagemaker:Creating transform job with name: lstm-ad-algo-v1-4-2023-08-10-11-54-32-445\n"
     ]
    },
    {
     "name": "stdout",
     "output_type": "stream",
     "text": [
      ".........................................\u001b[34mWarning: TorchServe is using non-default JVM parameters: -XX:-UseContainerSupport\u001b[0m\n",
      "\u001b[34mWARNING: sun.reflect.Reflection.getCallerClass is not supported. This will impact performance.\u001b[0m\n",
      "\u001b[34m2023-08-10T12:01:29,086 [INFO ] main org.pytorch.serve.servingsdk.impl.PluginsManager - Initializing plugins manager...\u001b[0m\n",
      "\u001b[34m2023-08-10T12:01:29,148 [INFO ] main org.pytorch.serve.metrics.configuration.MetricConfiguration - Successfully loaded metrics configuration from /opt/conda/lib/python3.10/site-packages/ts/configs/metrics.yaml\u001b[0m\n",
      "\u001b[34m2023-08-10T12:01:29,253 [INFO ] main org.pytorch.serve.ModelServer - \u001b[0m\n",
      "\u001b[34mTorchserve version: 0.8.1\u001b[0m\n",
      "\u001b[34mTS Home: /opt/conda/lib/python3.10/site-packages\u001b[0m\n",
      "\u001b[34mCurrent directory: /\u001b[0m\n",
      "\u001b[34mTemp directory: /home/model-server/tmp\u001b[0m\n",
      "\u001b[34mMetrics config path: /opt/conda/lib/python3.10/site-packages/ts/configs/metrics.yaml\u001b[0m\n",
      "\u001b[34mNumber of GPUs: 0\u001b[0m\n",
      "\u001b[34mNumber of CPUs: 4\u001b[0m\n",
      "\u001b[34mMax heap size: 3892 M\u001b[0m\n",
      "\u001b[34mPython executable: /opt/conda/bin/python3.10\u001b[0m\n",
      "\u001b[34mConfig file: /etc/sagemaker-ts.properties\u001b[0m\n",
      "\u001b[34mInference address: http://0.0.0.0:8080\u001b[0m\n",
      "\u001b[34mManagement address: http://0.0.0.0:8080\u001b[0m\n",
      "\u001b[34mMetrics address: http://127.0.0.1:8082\u001b[0m\n",
      "\u001b[34mModel Store: /.sagemaker/ts/models\u001b[0m\n",
      "\u001b[34mInitial Models: model=/opt/ml/model\u001b[0m\n",
      "\u001b[34mLog dir: /logs\u001b[0m\n",
      "\u001b[34mMetrics dir: /logs\u001b[0m\n",
      "\u001b[34mNetty threads: 0\u001b[0m\n",
      "\u001b[34mNetty client threads: 0\u001b[0m\n",
      "\u001b[34mDefault workers per model: 4\u001b[0m\n",
      "\u001b[34mBlacklist Regex: N/A\u001b[0m\n",
      "\u001b[34mMaximum Response Size: 6553500\u001b[0m\n",
      "\u001b[34mMaximum Request Size: 6553500\u001b[0m\n",
      "\u001b[34mLimit Maximum Image Pixels: true\u001b[0m\n",
      "\u001b[34mPrefer direct buffer: false\u001b[0m\n",
      "\u001b[34mAllowed Urls: [file://.*|http(s)?://.*]\u001b[0m\n",
      "\u001b[34mCustom python dependency for model allowed: false\u001b[0m\n",
      "\u001b[34mEnable metrics API: true\u001b[0m\n",
      "\u001b[34mMetrics mode: log\u001b[0m\n",
      "\u001b[34mDisable system metrics: true\u001b[0m\n",
      "\u001b[34mWorkflow Store: /.sagemaker/ts/models\u001b[0m\n",
      "\u001b[34mModel config: N/A\u001b[0m\n",
      "\u001b[34m2023-08-10T12:01:29,262 [INFO ] main org.pytorch.serve.servingsdk.impl.PluginsManager -  Loading snapshot serializer plugin...\u001b[0m\n",
      "\u001b[34m2023-08-10T12:01:29,289 [INFO ] main org.pytorch.serve.ModelServer - Loading initial models: /opt/ml/model\u001b[0m\n",
      "\u001b[34m2023-08-10T12:01:29,292 [WARN ] main org.pytorch.serve.archive.model.ModelArchive - Model archive version is not defined. Please upgrade to torch-model-archiver 0.2.0 or higher\u001b[0m\n",
      "\u001b[34m2023-08-10T12:01:29,293 [WARN ] main org.pytorch.serve.archive.model.ModelArchive - Model archive createdOn is not defined. Please upgrade to torch-model-archiver 0.2.0 or higher\u001b[0m\n",
      "\u001b[34m2023-08-10T12:01:29,296 [INFO ] main org.pytorch.serve.wlm.ModelManager - Model model loaded.\u001b[0m\n",
      "\u001b[34m2023-08-10T12:01:29,311 [INFO ] main org.pytorch.serve.ModelServer - Initialize Inference server with: EpollServerSocketChannel.\u001b[0m\n",
      "\u001b[34m2023-08-10T12:01:29,658 [INFO ] main org.pytorch.serve.ModelServer - Inference API bind to: http://0.0.0.0:8080\u001b[0m\n",
      "\u001b[34m2023-08-10T12:01:29,658 [INFO ] main org.pytorch.serve.ModelServer - Initialize Metrics server with: EpollServerSocketChannel.\u001b[0m\n",
      "\u001b[34m2023-08-10T12:01:29,672 [INFO ] main org.pytorch.serve.ModelServer - Metrics API bind to: http://127.0.0.1:8082\u001b[0m\n",
      "\u001b[34mModel server started.\u001b[0m\n",
      "\u001b[34m2023-08-10T12:01:31,954 [INFO ] W-9003-model_1.0-stdout MODEL_LOG - s_name_part0=/home/model-server/tmp/.ts.sock, s_name_part1=9003, pid=49\u001b[0m\n",
      "\u001b[34m2023-08-10T12:01:31,957 [INFO ] W-9003-model_1.0-stdout MODEL_LOG - Listening on port: /home/model-server/tmp/.ts.sock.9003\u001b[0m\n",
      "\u001b[34m2023-08-10T12:01:31,975 [INFO ] W-9003-model_1.0-stdout MODEL_LOG - Successfully loaded /opt/conda/lib/python3.10/site-packages/ts/configs/metrics.yaml.\u001b[0m\n",
      "\u001b[34m2023-08-10T12:01:31,976 [INFO ] W-9003-model_1.0-stdout MODEL_LOG - [PID]49\u001b[0m\n",
      "\u001b[34m2023-08-10T12:01:31,977 [INFO ] W-9003-model_1.0-stdout MODEL_LOG - Torch worker started.\u001b[0m\n",
      "\u001b[34m2023-08-10T12:01:31,984 [INFO ] W-9003-model_1.0 org.pytorch.serve.wlm.WorkerThread - Connecting to: /home/model-server/tmp/.ts.sock.9003\u001b[0m\n",
      "\u001b[34m2023-08-10T12:01:31,995 [INFO ] W-9003-model_1.0-stdout MODEL_LOG - Python runtime: 3.10.9\u001b[0m\n",
      "\u001b[34m2023-08-10T12:01:32,003 [INFO ] W-9003-model_1.0-stdout MODEL_LOG - Connection accepted: /home/model-server/tmp/.ts.sock.9003.\u001b[0m\n",
      "\u001b[34m2023-08-10T12:01:32,009 [INFO ] W-9003-model_1.0 org.pytorch.serve.wlm.WorkerThread - Flushing req.cmd LOAD to backend at: 1691668892009\u001b[0m\n",
      "\u001b[34m2023-08-10T12:01:32,040 [INFO ] W-9002-model_1.0-stdout MODEL_LOG - s_name_part0=/home/model-server/tmp/.ts.sock, s_name_part1=9002, pid=47\u001b[0m\n",
      "\u001b[34m2023-08-10T12:01:32,041 [INFO ] W-9002-model_1.0-stdout MODEL_LOG - Listening on port: /home/model-server/tmp/.ts.sock.9002\u001b[0m\n",
      "\u001b[34m2023-08-10T12:01:32,059 [INFO ] W-9002-model_1.0-stdout MODEL_LOG - Successfully loaded /opt/conda/lib/python3.10/site-packages/ts/configs/metrics.yaml.\u001b[0m\n",
      "\u001b[34m2023-08-10T12:01:32,061 [INFO ] W-9002-model_1.0-stdout MODEL_LOG - [PID]47\u001b[0m\n",
      "\u001b[34m2023-08-10T12:01:32,062 [INFO ] W-9003-model_1.0-stdout MODEL_LOG - model_name: model, batchSize: 1\u001b[0m\n",
      "\u001b[34m2023-08-10T12:01:32,063 [INFO ] W-9002-model_1.0 org.pytorch.serve.wlm.WorkerThread - Connecting to: /home/model-server/tmp/.ts.sock.9002\u001b[0m\n",
      "\u001b[34m2023-08-10T12:01:32,063 [INFO ] W-9002-model_1.0-stdout MODEL_LOG - Torch worker started.\u001b[0m\n",
      "\u001b[34m2023-08-10T12:01:32,065 [INFO ] W-9002-model_1.0-stdout MODEL_LOG - Python runtime: 3.10.9\u001b[0m\n",
      "\u001b[34m2023-08-10T12:01:32,068 [INFO ] W-9002-model_1.0-stdout MODEL_LOG - Connection accepted: /home/model-server/tmp/.ts.sock.9002.\u001b[0m\n",
      "\u001b[34m2023-08-10T12:01:32,069 [INFO ] W-9002-model_1.0 org.pytorch.serve.wlm.WorkerThread - Flushing req.cmd LOAD to backend at: 1691668892069\u001b[0m\n",
      "\u001b[34m2023-08-10T12:01:32,099 [INFO ] W-9000-model_1.0-stdout MODEL_LOG - s_name_part0=/home/model-server/tmp/.ts.sock, s_name_part1=9000, pid=44\u001b[0m\n",
      "\u001b[34m2023-08-10T12:01:32,101 [INFO ] W-9000-model_1.0-stdout MODEL_LOG - Listening on port: /home/model-server/tmp/.ts.sock.9000\u001b[0m\n",
      "\u001b[34m2023-08-10T12:01:32,114 [INFO ] W-9002-model_1.0-stdout MODEL_LOG - model_name: model, batchSize: 1\u001b[0m\n",
      "\u001b[34m2023-08-10T12:01:32,120 [INFO ] W-9000-model_1.0-stdout MODEL_LOG - Successfully loaded /opt/conda/lib/python3.10/site-packages/ts/configs/metrics.yaml.\u001b[0m\n",
      "\u001b[34m2023-08-10T12:01:32,121 [INFO ] W-9000-model_1.0-stdout MODEL_LOG - [PID]44\u001b[0m\n",
      "\u001b[34m2023-08-10T12:01:32,121 [INFO ] W-9000-model_1.0-stdout MODEL_LOG - Torch worker started.\u001b[0m\n",
      "\u001b[34m2023-08-10T12:01:32,122 [INFO ] W-9000-model_1.0 org.pytorch.serve.wlm.WorkerThread - Connecting to: /home/model-server/tmp/.ts.sock.9000\u001b[0m\n",
      "\u001b[34m2023-08-10T12:01:32,124 [INFO ] W-9000-model_1.0-stdout MODEL_LOG - Python runtime: 3.10.9\u001b[0m\n",
      "\u001b[34m2023-08-10T12:01:32,128 [INFO ] W-9000-model_1.0-stdout MODEL_LOG - Connection accepted: /home/model-server/tmp/.ts.sock.9000.\u001b[0m\n",
      "\u001b[34m2023-08-10T12:01:32,130 [INFO ] W-9000-model_1.0 org.pytorch.serve.wlm.WorkerThread - Flushing req.cmd LOAD to backend at: 1691668892130\u001b[0m\n",
      "\u001b[34m2023-08-10T12:01:32,164 [INFO ] W-9000-model_1.0-stdout MODEL_LOG - model_name: model, batchSize: 1\u001b[0m\n",
      "\u001b[34m2023-08-10T12:01:32,290 [INFO ] W-9001-model_1.0-stdout MODEL_LOG - s_name_part0=/home/model-server/tmp/.ts.sock, s_name_part1=9001, pid=45\u001b[0m\n",
      "\u001b[34m2023-08-10T12:01:32,293 [INFO ] W-9001-model_1.0-stdout MODEL_LOG - Listening on port: /home/model-server/tmp/.ts.sock.9001\u001b[0m\n",
      "\u001b[34m2023-08-10T12:01:32,336 [INFO ] W-9001-model_1.0-stdout MODEL_LOG - Successfully loaded /opt/conda/lib/python3.10/site-packages/ts/configs/metrics.yaml.\u001b[0m\n",
      "\u001b[34m2023-08-10T12:01:32,354 [INFO ] W-9001-model_1.0-stdout MODEL_LOG - [PID]45\u001b[0m\n",
      "\u001b[34m2023-08-10T12:01:32,355 [INFO ] W-9001-model_1.0-stdout MODEL_LOG - Torch worker started.\u001b[0m\n",
      "\u001b[34m2023-08-10T12:01:32,356 [INFO ] W-9001-model_1.0 org.pytorch.serve.wlm.WorkerThread - Connecting to: /home/model-server/tmp/.ts.sock.9001\u001b[0m\n",
      "\u001b[34m2023-08-10T12:01:32,362 [INFO ] W-9001-model_1.0-stdout MODEL_LOG - Python runtime: 3.10.9\u001b[0m\n",
      "\u001b[34m2023-08-10T12:01:32,368 [INFO ] W-9001-model_1.0-stdout MODEL_LOG - Connection accepted: /home/model-server/tmp/.ts.sock.9001.\u001b[0m\n",
      "\u001b[34m2023-08-10T12:01:32,372 [INFO ] W-9001-model_1.0 org.pytorch.serve.wlm.WorkerThread - Flushing req.cmd LOAD to backend at: 1691668892372\u001b[0m\n",
      "\u001b[34m2023-08-10T12:01:32,468 [INFO ] W-9001-model_1.0-stdout MODEL_LOG - model_name: model, batchSize: 1\u001b[0m\n",
      "\u001b[34m2023-08-10T12:01:32,980 [INFO ] W-9000-model_1.0 org.pytorch.serve.wlm.WorkerThread - Backend response time: 807\u001b[0m\n",
      "\u001b[34m2023-08-10T12:01:32,981 [INFO ] W-9000-model_1.0 TS_METRICS - WorkerLoadTime.Milliseconds:3677.0|#WorkerName:W-9000-model_1.0,Level:Host|#hostname:aeda6fce5eed,timestamp:1691668892\u001b[0m\n",
      "\u001b[34m2023-08-10T12:01:32,983 [INFO ] W-9000-model_1.0 TS_METRICS - WorkerThreadTime.Milliseconds:46.0|#Level:Host|#hostname:aeda6fce5eed,timestamp:1691668892\u001b[0m\n",
      "\u001b[34m2023-08-10T12:01:32,984 [INFO ] W-9003-model_1.0 org.pytorch.serve.wlm.WorkerThread - Backend response time: 901\u001b[0m\n",
      "\u001b[34m2023-08-10T12:01:32,984 [INFO ] W-9003-model_1.0 TS_METRICS - WorkerLoadTime.Milliseconds:3677.0|#WorkerName:W-9003-model_1.0,Level:Host|#hostname:aeda6fce5eed,timestamp:1691668892\u001b[0m\n",
      "\u001b[34m2023-08-10T12:01:32,985 [INFO ] W-9003-model_1.0 TS_METRICS - WorkerThreadTime.Milliseconds:75.0|#Level:Host|#hostname:aeda6fce5eed,timestamp:1691668892\u001b[0m\n",
      "\u001b[34m2023-08-10T12:01:33,017 [INFO ] W-9002-model_1.0 org.pytorch.serve.wlm.WorkerThread - Backend response time: 893\u001b[0m\n",
      "\u001b[34m2023-08-10T12:01:33,017 [INFO ] W-9002-model_1.0 TS_METRICS - WorkerLoadTime.Milliseconds:3711.0|#WorkerName:W-9002-model_1.0,Level:Host|#hostname:aeda6fce5eed,timestamp:1691668893\u001b[0m\n",
      "\u001b[34m2023-08-10T12:01:33,018 [INFO ] W-9002-model_1.0 TS_METRICS - WorkerThreadTime.Milliseconds:56.0|#Level:Host|#hostname:aeda6fce5eed,timestamp:1691668893\u001b[0m\n",
      "\u001b[34m2023-08-10T12:01:33,110 [INFO ] W-9001-model_1.0 org.pytorch.serve.wlm.WorkerThread - Backend response time: 656\u001b[0m\n",
      "\u001b[34m2023-08-10T12:01:33,133 [INFO ] W-9001-model_1.0 TS_METRICS - WorkerLoadTime.Milliseconds:3828.0|#WorkerName:W-9001-model_1.0,Level:Host|#hostname:aeda6fce5eed,timestamp:1691668893\u001b[0m\n",
      "\u001b[34m2023-08-10T12:01:33,134 [INFO ] W-9001-model_1.0 TS_METRICS - WorkerThreadTime.Milliseconds:106.0|#Level:Host|#hostname:aeda6fce5eed,timestamp:1691668893\u001b[0m\n",
      "\n",
      "\u001b[34m2023-08-10T12:01:38,285 [INFO ] pool-2-thread-5 ACCESS_LOG - /169.254.255.130:44998 \"GET /ping HTTP/1.1\" 200 53\u001b[0m\n",
      "\u001b[34m2023-08-10T12:01:38,286 [INFO ] pool-2-thread-5 TS_METRICS - Requests2XX.Count:1.0|#Level:Host|#hostname:aeda6fce5eed,timestamp:1691668898\u001b[0m\n",
      "\u001b[34m2023-08-10T12:01:38,310 [INFO ] epollEventLoopGroup-3-2 ACCESS_LOG - /169.254.255.130:45004 \"GET /execution-parameters HTTP/1.1\" 404 1\u001b[0m\n",
      "\u001b[34m2023-08-10T12:01:38,311 [INFO ] epollEventLoopGroup-3-2 TS_METRICS - Requests4XX.Count:1.0|#Level:Host|#hostname:aeda6fce5eed,timestamp:1691668898\u001b[0m\n",
      "\u001b[34m2023-08-10T12:01:38,414 [INFO ] epollEventLoopGroup-3-3 TS_METRICS - ts_inference_requests_total.Count:1.0|#model_name:model,model_version:default|#hostname:aeda6fce5eed,timestamp:1691668898\u001b[0m\n",
      "\u001b[34m2023-08-10T12:01:38,416 [INFO ] W-9000-model_1.0 org.pytorch.serve.wlm.WorkerThread - Flushing req.cmd PREDICT to backend at: 1691668898416\u001b[0m\n",
      "\u001b[34m2023-08-10T12:01:38,424 [INFO ] W-9000-model_1.0-stdout MODEL_LOG - Backend received inference at: 1691668898\u001b[0m\n",
      "\u001b[34m2023-08-10T12:01:38,865 [INFO ] W-9000-model_1.0-stdout MODEL_LOG - Running batch transform job on 32000 records.\u001b[0m\n",
      "\u001b[34m2023-08-10T12:01:38,868 [INFO ] W-9000-model_1.0-stdout MODEL_LOG - Batch transform job returned 32000 records.\u001b[0m\n",
      "\u001b[34m2023-08-10T12:01:38,869 [INFO ] W-9000-model_1.0-stdout org.pytorch.serve.wlm.WorkerLifeCycle - result=[METRICS]PredictionTime.Milliseconds:445.91|#ModelName:model,Level:Model|#hostname:aeda6fce5eed,1691668898,b47e356a-0d8a-4e4f-a5e5-6da35dad7f44, pattern=[METRICS]\u001b[0m\n",
      "\u001b[34m2023-08-10T12:01:38,874 [INFO ] W-9000-model_1.0 ACCESS_LOG - /169.254.255.130:45020 \"POST /invocations HTTP/1.1\" 200 463\u001b[0m\n",
      "\u001b[34m2023-08-10T12:01:38,877 [INFO ] W-9000-model_1.0 TS_METRICS - Requests2XX.Count:1.0|#Level:Host|#hostname:aeda6fce5eed,timestamp:1691668898\u001b[0m\n",
      "\u001b[35m2023-08-10T12:01:38,285 [INFO ] pool-2-thread-5 ACCESS_LOG - /169.254.255.130:44998 \"GET /ping HTTP/1.1\" 200 53\u001b[0m\n",
      "\u001b[35m2023-08-10T12:01:38,286 [INFO ] pool-2-thread-5 TS_METRICS - Requests2XX.Count:1.0|#Level:Host|#hostname:aeda6fce5eed,timestamp:1691668898\u001b[0m\n",
      "\u001b[35m2023-08-10T12:01:38,310 [INFO ] epollEventLoopGroup-3-2 ACCESS_LOG - /169.254.255.130:45004 \"GET /execution-parameters HTTP/1.1\" 404 1\u001b[0m\n",
      "\u001b[35m2023-08-10T12:01:38,311 [INFO ] epollEventLoopGroup-3-2 TS_METRICS - Requests4XX.Count:1.0|#Level:Host|#hostname:aeda6fce5eed,timestamp:1691668898\u001b[0m\n",
      "\u001b[35m2023-08-10T12:01:38,414 [INFO ] epollEventLoopGroup-3-3 TS_METRICS - ts_inference_requests_total.Count:1.0|#model_name:model,model_version:default|#hostname:aeda6fce5eed,timestamp:1691668898\u001b[0m\n",
      "\u001b[35m2023-08-10T12:01:38,416 [INFO ] W-9000-model_1.0 org.pytorch.serve.wlm.WorkerThread - Flushing req.cmd PREDICT to backend at: 1691668898416\u001b[0m\n",
      "\u001b[35m2023-08-10T12:01:38,424 [INFO ] W-9000-model_1.0-stdout MODEL_LOG - Backend received inference at: 1691668898\u001b[0m\n",
      "\u001b[35m2023-08-10T12:01:38,865 [INFO ] W-9000-model_1.0-stdout MODEL_LOG - Running batch transform job on 32000 records.\u001b[0m\n",
      "\u001b[35m2023-08-10T12:01:38,868 [INFO ] W-9000-model_1.0-stdout MODEL_LOG - Batch transform job returned 32000 records.\u001b[0m\n",
      "\u001b[35m2023-08-10T12:01:38,869 [INFO ] W-9000-model_1.0-stdout org.pytorch.serve.wlm.WorkerLifeCycle - result=[METRICS]PredictionTime.Milliseconds:445.91|#ModelName:model,Level:Model|#hostname:aeda6fce5eed,1691668898,b47e356a-0d8a-4e4f-a5e5-6da35dad7f44, pattern=[METRICS]\u001b[0m\n",
      "\u001b[35m2023-08-10T12:01:38,874 [INFO ] W-9000-model_1.0 ACCESS_LOG - /169.254.255.130:45020 \"POST /invocations HTTP/1.1\" 200 463\u001b[0m\n",
      "\u001b[35m2023-08-10T12:01:38,877 [INFO ] W-9000-model_1.0 TS_METRICS - Requests2XX.Count:1.0|#Level:Host|#hostname:aeda6fce5eed,timestamp:1691668898\u001b[0m\n",
      "\u001b[34m2023-08-10T12:01:38,878 [INFO ] W-9000-model_1.0-stdout MODEL_METRICS - PredictionTime.ms:445.91|#ModelName:model,Level:Model|#hostname:aeda6fce5eed,requestID:b47e356a-0d8a-4e4f-a5e5-6da35dad7f44,timestamp:1691668898\u001b[0m\n",
      "\u001b[34m2023-08-10T12:01:38,879 [INFO ] W-9000-model_1.0 TS_METRICS - ts_inference_latency_microseconds.Microseconds:455814.065|#model_name:model,model_version:default|#hostname:aeda6fce5eed,timestamp:1691668898\u001b[0m\n",
      "\u001b[34m2023-08-10T12:01:38,883 [INFO ] W-9000-model_1.0 TS_METRICS - ts_queue_latency_microseconds.Microseconds:207.126|#model_name:model,model_version:default|#hostname:aeda6fce5eed,timestamp:1691668898\u001b[0m\n",
      "\u001b[34m2023-08-10T12:01:38,888 [INFO ] W-9000-model_1.0 TS_METRICS - QueueTime.Milliseconds:0.0|#Level:Host|#hostname:aeda6fce5eed,timestamp:1691668898\u001b[0m\n",
      "\u001b[34m2023-08-10T12:01:38,888 [INFO ] W-9000-model_1.0 org.pytorch.serve.wlm.WorkerThread - Backend response time: 447\u001b[0m\n",
      "\u001b[34m2023-08-10T12:01:38,889 [INFO ] W-9000-model_1.0 TS_METRICS - WorkerThreadTime.Milliseconds:26.0|#Level:Host|#hostname:aeda6fce5eed,timestamp:1691668898\u001b[0m\n",
      "\u001b[35m2023-08-10T12:01:38,878 [INFO ] W-9000-model_1.0-stdout MODEL_METRICS - PredictionTime.ms:445.91|#ModelName:model,Level:Model|#hostname:aeda6fce5eed,requestID:b47e356a-0d8a-4e4f-a5e5-6da35dad7f44,timestamp:1691668898\u001b[0m\n",
      "\u001b[35m2023-08-10T12:01:38,879 [INFO ] W-9000-model_1.0 TS_METRICS - ts_inference_latency_microseconds.Microseconds:455814.065|#model_name:model,model_version:default|#hostname:aeda6fce5eed,timestamp:1691668898\u001b[0m\n",
      "\u001b[35m2023-08-10T12:01:38,883 [INFO ] W-9000-model_1.0 TS_METRICS - ts_queue_latency_microseconds.Microseconds:207.126|#model_name:model,model_version:default|#hostname:aeda6fce5eed,timestamp:1691668898\u001b[0m\n",
      "\u001b[35m2023-08-10T12:01:38,888 [INFO ] W-9000-model_1.0 TS_METRICS - QueueTime.Milliseconds:0.0|#Level:Host|#hostname:aeda6fce5eed,timestamp:1691668898\u001b[0m\n",
      "\u001b[35m2023-08-10T12:01:38,888 [INFO ] W-9000-model_1.0 org.pytorch.serve.wlm.WorkerThread - Backend response time: 447\u001b[0m\n",
      "\u001b[35m2023-08-10T12:01:38,889 [INFO ] W-9000-model_1.0 TS_METRICS - WorkerThreadTime.Milliseconds:26.0|#Level:Host|#hostname:aeda6fce5eed,timestamp:1691668898\u001b[0m\n",
      "\u001b[32m2023-08-10T12:01:38.321:[sagemaker logs]: MaxConcurrentTransforms=1, MaxPayloadInMB=100, BatchStrategy=MULTI_RECORD\u001b[0m\n"
     ]
    }
   ],
   "source": [
    "transformer = estimator.transformer(\n",
    "    instance_count=1,\n",
    "    instance_type=instance_type,\n",
    "    max_payload=100,\n",
    ")\n",
    "\n",
    "transformer.transform(\n",
    "    data=test_data,\n",
    "    content_type=\"text/csv\",\n",
    ")"
   ]
  },
  {
   "cell_type": "markdown",
   "id": "54498c7d-dbb6-4098-b927-506e1058b062",
   "metadata": {},
   "source": [
    "Load the test set predictions from S3."
   ]
  },
  {
   "cell_type": "code",
   "execution_count": 19,
   "id": "317bf9e8-69ba-4eed-a8c9-8600fdbf92e9",
   "metadata": {},
   "outputs": [],
   "source": [
    "predictions = sagemaker_session.read_s3_file(\n",
    "    bucket=bucket,\n",
    "    key_prefix=f\"{transformer.latest_transform_job.name}/{dataset_name}_test.csv.out\"\n",
    ")"
   ]
  },
  {
   "cell_type": "code",
   "execution_count": 20,
   "id": "401fed04-1591-4f58-bb89-4dff0f6acfa3",
   "metadata": {},
   "outputs": [],
   "source": [
    "predictions = pd.DataFrame([x.split(\",\") for x in predictions.split(\"\\n\")[:-1]]).replace(\"\", np.nan).astype(float)"
   ]
  },
  {
   "cell_type": "code",
   "execution_count": 21,
   "id": "fe3eb1f5-5a4a-4623-9a4f-dc0958df4802",
   "metadata": {
    "tags": []
   },
   "outputs": [
    {
     "data": {
      "text/plain": [
       "(32000, 2)"
      ]
     },
     "execution_count": 21,
     "metadata": {},
     "output_type": "execute_result"
    }
   ],
   "source": [
    "predictions.shape"
   ]
  },
  {
   "cell_type": "code",
   "execution_count": 22,
   "id": "085ccaeb-c9a3-4735-843e-42b81f387049",
   "metadata": {
    "tags": []
   },
   "outputs": [
    {
     "data": {
      "text/html": [
       "<div>\n",
       "<style scoped>\n",
       "    .dataframe tbody tr th:only-of-type {\n",
       "        vertical-align: middle;\n",
       "    }\n",
       "\n",
       "    .dataframe tbody tr th {\n",
       "        vertical-align: top;\n",
       "    }\n",
       "\n",
       "    .dataframe thead th {\n",
       "        text-align: right;\n",
       "    }\n",
       "</style>\n",
       "<table border=\"1\" class=\"dataframe\">\n",
       "  <thead>\n",
       "    <tr style=\"text-align: right;\">\n",
       "      <th></th>\n",
       "      <th>0</th>\n",
       "      <th>1</th>\n",
       "    </tr>\n",
       "  </thead>\n",
       "  <tbody>\n",
       "    <tr>\n",
       "      <th>0</th>\n",
       "      <td>NaN</td>\n",
       "      <td>NaN</td>\n",
       "    </tr>\n",
       "    <tr>\n",
       "      <th>1</th>\n",
       "      <td>NaN</td>\n",
       "      <td>NaN</td>\n",
       "    </tr>\n",
       "    <tr>\n",
       "      <th>2</th>\n",
       "      <td>NaN</td>\n",
       "      <td>NaN</td>\n",
       "    </tr>\n",
       "    <tr>\n",
       "      <th>3</th>\n",
       "      <td>NaN</td>\n",
       "      <td>NaN</td>\n",
       "    </tr>\n",
       "    <tr>\n",
       "      <th>4</th>\n",
       "      <td>NaN</td>\n",
       "      <td>NaN</td>\n",
       "    </tr>\n",
       "  </tbody>\n",
       "</table>\n",
       "</div>"
      ],
      "text/plain": [
       "    0   1\n",
       "0 NaN NaN\n",
       "1 NaN NaN\n",
       "2 NaN NaN\n",
       "3 NaN NaN\n",
       "4 NaN NaN"
      ]
     },
     "execution_count": 22,
     "metadata": {},
     "output_type": "execute_result"
    }
   ],
   "source": [
    "predictions.head()"
   ]
  },
  {
   "cell_type": "code",
   "execution_count": 23,
   "id": "3e137b23-cddc-4211-9dcc-233575e5c636",
   "metadata": {
    "tags": []
   },
   "outputs": [
    {
     "data": {
      "text/html": [
       "<div>\n",
       "<style scoped>\n",
       "    .dataframe tbody tr th:only-of-type {\n",
       "        vertical-align: middle;\n",
       "    }\n",
       "\n",
       "    .dataframe tbody tr th {\n",
       "        vertical-align: top;\n",
       "    }\n",
       "\n",
       "    .dataframe thead th {\n",
       "        text-align: right;\n",
       "    }\n",
       "</style>\n",
       "<table border=\"1\" class=\"dataframe\">\n",
       "  <thead>\n",
       "    <tr style=\"text-align: right;\">\n",
       "      <th></th>\n",
       "      <th>0</th>\n",
       "      <th>1</th>\n",
       "    </tr>\n",
       "  </thead>\n",
       "  <tbody>\n",
       "    <tr>\n",
       "      <th>31995</th>\n",
       "      <td>-4.350442</td>\n",
       "      <td>-1.953116</td>\n",
       "    </tr>\n",
       "    <tr>\n",
       "      <th>31996</th>\n",
       "      <td>-4.151059</td>\n",
       "      <td>-0.233703</td>\n",
       "    </tr>\n",
       "    <tr>\n",
       "      <th>31997</th>\n",
       "      <td>-4.139468</td>\n",
       "      <td>-1.909334</td>\n",
       "    </tr>\n",
       "    <tr>\n",
       "      <th>31998</th>\n",
       "      <td>-4.088583</td>\n",
       "      <td>-1.383101</td>\n",
       "    </tr>\n",
       "    <tr>\n",
       "      <th>31999</th>\n",
       "      <td>-3.989450</td>\n",
       "      <td>0.351639</td>\n",
       "    </tr>\n",
       "  </tbody>\n",
       "</table>\n",
       "</div>"
      ],
      "text/plain": [
       "              0         1\n",
       "31995 -4.350442 -1.953116\n",
       "31996 -4.151059 -0.233703\n",
       "31997 -4.139468 -1.909334\n",
       "31998 -4.088583 -1.383101\n",
       "31999 -3.989450  0.351639"
      ]
     },
     "execution_count": 23,
     "metadata": {},
     "output_type": "execute_result"
    }
   ],
   "source": [
    "predictions.tail()"
   ]
  },
  {
   "cell_type": "markdown",
   "id": "5949c778-c8e5-4f0e-a53f-2a4d1bf1bc0d",
   "metadata": {},
   "source": [
    "Extract the anomalous time steps."
   ]
  },
  {
   "cell_type": "code",
   "execution_count": 24,
   "id": "cfc41486-f63d-41b9-8b60-ff36fbfb7526",
   "metadata": {
    "tags": []
   },
   "outputs": [],
   "source": [
    "anomalies = predictions.iloc[:, 0].sort_values().iloc[:k].index.to_series()"
   ]
  },
  {
   "cell_type": "code",
   "execution_count": 25,
   "id": "54c3cb45-7e3e-425d-b54f-a4d382f8b1ee",
   "metadata": {
    "tags": []
   },
   "outputs": [
    {
     "data": {
      "text/plain": [
       "array([29640, 29639])"
      ]
     },
     "execution_count": 25,
     "metadata": {},
     "output_type": "execute_result"
    }
   ],
   "source": [
    "anomalies.values"
   ]
  },
  {
   "cell_type": "markdown",
   "id": "61a8310e-fc8d-4f7f-bc26-c16a3c2941e2",
   "metadata": {},
   "source": [
    "Check if the anomalous time steps are within the anomalous time interval."
   ]
  },
  {
   "cell_type": "code",
   "execution_count": 26,
   "id": "34ea2558-ec58-4bc1-af5c-ef6285d5dcad",
   "metadata": {
    "tags": []
   },
   "outputs": [
    {
     "data": {
      "text/plain": [
       "array([ True,  True])"
      ]
     },
     "execution_count": 26,
     "metadata": {},
     "output_type": "execute_result"
    }
   ],
   "source": [
    "anomalies.between(start - cutoff, end - cutoff).values"
   ]
  },
  {
   "cell_type": "markdown",
   "id": "831fccc6-0e68-45c0-8ec5-e1e47340c365",
   "metadata": {},
   "source": [
    "Visualize the predictions and the normality scores."
   ]
  },
  {
   "cell_type": "code",
   "execution_count": 27,
   "id": "9dba2cf6-3765-4089-bac1-1dfe141cae03",
   "metadata": {
    "tags": []
   },
   "outputs": [
    {
     "data": {
      "image/png": "[encoded data removed]",
      "text/plain": [
       "<Figure size 600x600 with 2 Axes>"
      ]
     },
     "metadata": {},
     "output_type": "display_data"
    }
   ],
   "source": [
    "fig, axs = plt.subplots(nrows=2, ncols=1, sharex=True, figsize=(6, 6))\n",
    "\n",
    "axs[0].set_title(\"Time Series\", size=10)\n",
    "axs[0].plot(test_dataset.values, color=\"#AFB8C1\", lw=1, label=\"Actual\")\n",
    "axs[0].plot(predictions.iloc[:, 1], color=\"#a40e26\", lw=1, label=\"Predicted\")\n",
    "axs[0].set(xlabel=\"Time\", ylabel=\"Value\")\n",
    "axs[0].xaxis.set_tick_params(labelbottom=True)\n",
    "axs[0].tick_params(axis=\"both\", which=\"major\", labelsize=7)\n",
    "axs[0].tick_params(axis=\"both\", which=\"minor\", labelsize=7)\n",
    "\n",
    "axs[1].set_title(\"Normality Score\", size=10)\n",
    "axs[1].plot(predictions.iloc[:, 0], color=\"#57606a\", lw=1)\n",
    "axs[1].set(xlabel=\"Time\", ylabel=\"Value\")\n",
    "axs[1].xaxis.set_tick_params(labelbottom=True)\n",
    "axs[1].tick_params(axis=\"both\", which=\"major\", labelsize=7)\n",
    "axs[1].tick_params(axis=\"both\", which=\"minor\", labelsize=7)\n",
    "\n",
    "fig.tight_layout()\n",
    "fig.legend(bbox_to_anchor=(1.2, 1, 0, 0), frameon=False)\n",
    "fig.show()"
   ]
  }
 ],
 "metadata": {
  "kernelspec": {
   "display_name": "conda_python3",
   "language": "python",
   "name": "conda_python3"
  },
  "language_info": {
   "codemirror_mode": {
    "name": "ipython",
    "version": 3
   },
   "file_extension": ".py",
   "mimetype": "text/x-python",
   "name": "python",
   "nbconvert_exporter": "python",
   "pygments_lexer": "ipython3",
   "version": "3.10.10"
  }
 },
 "nbformat": 4,
 "nbformat_minor": 5
}
