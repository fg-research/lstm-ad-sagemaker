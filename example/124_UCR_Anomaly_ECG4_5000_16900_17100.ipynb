{
 "cells": [
  {
   "cell_type": "markdown",
   "id": "87deba9d-ff5b-4e7b-ade5-b30c341a7afa",
   "metadata": {},
   "source": [
    "# HEX UCR Dataset: 124_UCR_Anomaly_ECG4_5000_16900_17100"
   ]
  },
  {
   "cell_type": "markdown",
   "id": "2161c326-9263-4f5c-b7b0-8c8ed60f956c",
   "metadata": {},
   "source": [
    "**Dataset Link:** https://www.cs.ucr.edu/~eamonn/time_series_data_2018/UCR_TimeSeriesAnomalyDatasets2021.zip"
   ]
  },
  {
   "cell_type": "markdown",
   "id": "f56f1a46-73b9-4cde-b939-a326a6807009",
   "metadata": {},
   "source": [
    "### 1. Environment set-up"
   ]
  },
  {
   "cell_type": "markdown",
   "id": "8ee3df38-2d9f-4377-9931-3525900b6478",
   "metadata": {},
   "source": [
    "1. This notebook contains elements which render correctly in Jupyter interface. Open this notebook from an Amazon SageMaker Notebook Instance or Amazon SageMaker Studio.\n",
    "1. Ensure that IAM role used has **AmazonSageMakerFullAccess**\n",
    "1. Some hands-on experience using [Amazon SageMaker](https://aws.amazon.com/sagemaker/).\n",
    "1. To use this algorithm successfully, ensure that:\n",
    "    1. Either your IAM role has these three permissions and you have authority to make AWS Marketplace subscriptions in the AWS account used: \n",
    "        1. **aws-marketplace:ViewSubscriptions**\n",
    "        1. **aws-marketplace:Unsubscribe**\n",
    "        1. **aws-marketplace:Subscribe**  \n",
    "    2. or your AWS account has a subscription to the [Time Series Anomaly Detection (LSTM-AD) Algorithm from AWS Marketplace](https://aws.amazon.com/marketplace/pp/prodview-4pbvedtnnlphw).\n",
    "\n",
    "To subscribe to the algorithm:\n",
    "1. Open the algorithm listing page.\n",
    "1. On the AWS Marketplace listing, click on the **Continue to subscribe** button.\n",
    "1. On the **Subscribe to this software** page, review and click on **\"Accept Offer\"** if you agree with EULA, pricing, and support terms. \n",
    "1. Once you click on the **Continue to configuration** button and then choose a **region**, you will see a **Product ARN**. This is the algorithm ARN that you need to specify while training a custom ML model. **Copy the ARN corresponding to your region and specify the same in the following cell.**"
   ]
  },
  {
   "cell_type": "code",
   "execution_count": 1,
   "id": "fd89b7a5-3e1c-4fd5-9661-1dcc86626b10",
   "metadata": {
    "tags": []
   },
   "outputs": [],
   "source": [
    "algo_arn = \"arn:aws:sagemaker:eu-west-1:661670223746:algorithm/lstm-ad-algo-v1-6\""
   ]
  },
  {
   "cell_type": "code",
   "execution_count": 2,
   "id": "b72fa188-ea07-4ee4-ad66-a9dfb7d8cd7e",
   "metadata": {
    "tags": []
   },
   "outputs": [],
   "source": [
    "import sagemaker\n",
    "import pandas as pd\n",
    "import numpy as np\n",
    "import matplotlib.pyplot as plt\n",
    "\n",
    "# SageMaker session\n",
    "sagemaker_session = sagemaker.Session()\n",
    "\n",
    "# SageMaker role\n",
    "role = sagemaker.get_execution_role()\n",
    "\n",
    "# S3 bucket\n",
    "bucket = sagemaker_session.default_bucket()\n",
    "\n",
    "# EC2 instance\n",
    "instance_type = \"ml.m5.2xlarge\""
   ]
  },
  {
   "cell_type": "markdown",
   "id": "49491ac8-2585-429f-8acb-8b3d3e082a7b",
   "metadata": {},
   "source": [
    "### 2. Data preparation"
   ]
  },
  {
   "cell_type": "markdown",
   "id": "2fe35c9b-7f7b-4634-a618-6bd18278556f",
   "metadata": {},
   "source": [
    "Load the data."
   ]
  },
  {
   "cell_type": "code",
   "execution_count": 3,
   "id": "1bdf6675-a1c3-4474-9a3e-5a281ab559b9",
   "metadata": {
    "tags": []
   },
   "outputs": [],
   "source": [
    "dataset_name = \"124_UCR_Anomaly_ECG4_5000_16900_17100\"\n",
    "cutoff = 5000   # train-test cutoff\n",
    "start = 16900   # start of anomalous time interval\n",
    "end = 17100     # end of anomalous time interval\n",
    "k = 1           # number of anomalies to extract"
   ]
  },
  {
   "cell_type": "code",
   "execution_count": 4,
   "id": "62b85cf0-9ed0-4499-9c31-ebb9f7aff474",
   "metadata": {
    "tags": []
   },
   "outputs": [],
   "source": [
    "dataset = pd.DataFrame(data=np.genfromtxt(f\"{dataset_name}.txt\"))"
   ]
  },
  {
   "cell_type": "code",
   "execution_count": 5,
   "id": "69ba4b55-ec1d-46c3-9161-c2d6f8b8c671",
   "metadata": {
    "tags": []
   },
   "outputs": [
    {
     "data": {
      "text/plain": [
       "(30000, 1)"
      ]
     },
     "execution_count": 5,
     "metadata": {},
     "output_type": "execute_result"
    }
   ],
   "source": [
    "dataset.shape"
   ]
  },
  {
   "cell_type": "code",
   "execution_count": 6,
   "id": "e399d772-749d-4e3f-8c58-2bbea4261499",
   "metadata": {
    "tags": []
   },
   "outputs": [
    {
     "data": {
      "text/html": [
       "<div>\n",
       "<style scoped>\n",
       "    .dataframe tbody tr th:only-of-type {\n",
       "        vertical-align: middle;\n",
       "    }\n",
       "\n",
       "    .dataframe tbody tr th {\n",
       "        vertical-align: top;\n",
       "    }\n",
       "\n",
       "    .dataframe thead th {\n",
       "        text-align: right;\n",
       "    }\n",
       "</style>\n",
       "<table border=\"1\" class=\"dataframe\">\n",
       "  <thead>\n",
       "    <tr style=\"text-align: right;\">\n",
       "      <th></th>\n",
       "      <th>0</th>\n",
       "    </tr>\n",
       "  </thead>\n",
       "  <tbody>\n",
       "    <tr>\n",
       "      <th>0</th>\n",
       "      <td>-33.0</td>\n",
       "    </tr>\n",
       "    <tr>\n",
       "      <th>1</th>\n",
       "      <td>-33.0</td>\n",
       "    </tr>\n",
       "    <tr>\n",
       "      <th>2</th>\n",
       "      <td>-32.0</td>\n",
       "    </tr>\n",
       "    <tr>\n",
       "      <th>3</th>\n",
       "      <td>-36.0</td>\n",
       "    </tr>\n",
       "    <tr>\n",
       "      <th>4</th>\n",
       "      <td>-35.0</td>\n",
       "    </tr>\n",
       "  </tbody>\n",
       "</table>\n",
       "</div>"
      ],
      "text/plain": [
       "      0\n",
       "0 -33.0\n",
       "1 -33.0\n",
       "2 -32.0\n",
       "3 -36.0\n",
       "4 -35.0"
      ]
     },
     "execution_count": 6,
     "metadata": {},
     "output_type": "execute_result"
    }
   ],
   "source": [
    "dataset.head()"
   ]
  },
  {
   "cell_type": "code",
   "execution_count": 7,
   "id": "c1142757-d2ba-40dc-a389-efc9612649e2",
   "metadata": {
    "tags": []
   },
   "outputs": [
    {
     "data": {
      "text/html": [
       "<div>\n",
       "<style scoped>\n",
       "    .dataframe tbody tr th:only-of-type {\n",
       "        vertical-align: middle;\n",
       "    }\n",
       "\n",
       "    .dataframe tbody tr th {\n",
       "        vertical-align: top;\n",
       "    }\n",
       "\n",
       "    .dataframe thead th {\n",
       "        text-align: right;\n",
       "    }\n",
       "</style>\n",
       "<table border=\"1\" class=\"dataframe\">\n",
       "  <thead>\n",
       "    <tr style=\"text-align: right;\">\n",
       "      <th></th>\n",
       "      <th>0</th>\n",
       "    </tr>\n",
       "  </thead>\n",
       "  <tbody>\n",
       "    <tr>\n",
       "      <th>29995</th>\n",
       "      <td>-28.0</td>\n",
       "    </tr>\n",
       "    <tr>\n",
       "      <th>29996</th>\n",
       "      <td>-26.0</td>\n",
       "    </tr>\n",
       "    <tr>\n",
       "      <th>29997</th>\n",
       "      <td>-22.0</td>\n",
       "    </tr>\n",
       "    <tr>\n",
       "      <th>29998</th>\n",
       "      <td>-26.0</td>\n",
       "    </tr>\n",
       "    <tr>\n",
       "      <th>29999</th>\n",
       "      <td>-26.0</td>\n",
       "    </tr>\n",
       "  </tbody>\n",
       "</table>\n",
       "</div>"
      ],
      "text/plain": [
       "          0\n",
       "29995 -28.0\n",
       "29996 -26.0\n",
       "29997 -22.0\n",
       "29998 -26.0\n",
       "29999 -26.0"
      ]
     },
     "execution_count": 7,
     "metadata": {},
     "output_type": "execute_result"
    }
   ],
   "source": [
    "dataset.tail()"
   ]
  },
  {
   "cell_type": "markdown",
   "id": "4ffe7dfe-08cc-4550-bdd0-351e62739558",
   "metadata": {},
   "source": [
    "Visualize the data."
   ]
  },
  {
   "cell_type": "code",
   "execution_count": 8,
   "id": "d79b0a5c-00ec-4df4-898f-a05245281c94",
   "metadata": {
    "tags": []
   },
   "outputs": [
    {
     "data": {
      "image/png": "[encoded data removed]",
      "text/plain": [
       "<Figure size 600x350 with 1 Axes>"
      ]
     },
     "metadata": {},
     "output_type": "display_data"
    }
   ],
   "source": [
    "fig, ax = plt.subplots(nrows=1, ncols=1, sharex=True, figsize=(6, 3.5))\n",
    "ax.set_title(\"Time Series\", size=10)\n",
    "ax.plot(dataset, color=\"#AFB8C1\", lw=0.5)\n",
    "ax.set(xlabel=\"Time\", ylabel=\"Value\")\n",
    "ax.tick_params(axis=\"both\", which=\"major\", labelsize=7)\n",
    "ax.tick_params(axis=\"both\", which=\"minor\", labelsize=7)\n",
    "fig.tight_layout()\n",
    "fig.show()"
   ]
  },
  {
   "cell_type": "markdown",
   "id": "2e0b09b4-ae21-4551-825c-dcd279753b51",
   "metadata": {},
   "source": [
    "Split the data."
   ]
  },
  {
   "cell_type": "code",
   "execution_count": 9,
   "id": "9b0699df-9439-45c2-ba70-ca11983d843f",
   "metadata": {
    "tags": []
   },
   "outputs": [],
   "source": [
    "training_dataset = dataset.iloc[:cutoff]"
   ]
  },
  {
   "cell_type": "code",
   "execution_count": 10,
   "id": "24adddd2-ab77-4137-98ea-faec2ae3d67d",
   "metadata": {
    "tags": []
   },
   "outputs": [
    {
     "data": {
      "text/plain": [
       "(5000, 1)"
      ]
     },
     "execution_count": 10,
     "metadata": {},
     "output_type": "execute_result"
    }
   ],
   "source": [
    "training_dataset.shape"
   ]
  },
  {
   "cell_type": "code",
   "execution_count": 11,
   "id": "34af9186-27ef-4038-a9de-0e206b89202b",
   "metadata": {
    "tags": []
   },
   "outputs": [],
   "source": [
    "test_dataset = dataset.iloc[cutoff:]"
   ]
  },
  {
   "cell_type": "code",
   "execution_count": 12,
   "id": "4dde60d8-0340-44de-9912-acf9fe2a0633",
   "metadata": {
    "tags": []
   },
   "outputs": [
    {
     "data": {
      "text/plain": [
       "(25000, 1)"
      ]
     },
     "execution_count": 12,
     "metadata": {},
     "output_type": "execute_result"
    }
   ],
   "source": [
    "test_dataset.shape"
   ]
  },
  {
   "cell_type": "markdown",
   "id": "7586de04-bfeb-4942-8937-9ff7c42f5931",
   "metadata": {},
   "source": [
    "Upload the data to S3."
   ]
  },
  {
   "cell_type": "code",
   "execution_count": 13,
   "id": "7fe9e74c-6a57-419e-865d-233e51106857",
   "metadata": {
    "tags": []
   },
   "outputs": [],
   "source": [
    "training_data = sagemaker_session.upload_string_as_file_body(\n",
    "    body=training_dataset.to_csv(index=False, header=False),\n",
    "    bucket=bucket,\n",
    "    key=f\"{dataset_name}_train.csv\"\n",
    ")"
   ]
  },
  {
   "cell_type": "code",
   "execution_count": 14,
   "id": "851460a4-32ac-444a-ab90-a61df3257256",
   "metadata": {
    "tags": []
   },
   "outputs": [
    {
     "data": {
      "text/plain": [
       "'s3://sagemaker-eu-west-1-661670223746/124_UCR_Anomaly_ECG4_5000_16900_17100_train.csv'"
      ]
     },
     "execution_count": 14,
     "metadata": {},
     "output_type": "execute_result"
    }
   ],
   "source": [
    "training_data"
   ]
  },
  {
   "cell_type": "code",
   "execution_count": 15,
   "id": "e2062e41-eb07-43c2-9b86-370a63d45599",
   "metadata": {
    "tags": []
   },
   "outputs": [],
   "source": [
    "test_data = sagemaker_session.upload_string_as_file_body(\n",
    "    body=test_dataset.to_csv(index=False, header=False),\n",
    "    bucket=bucket,\n",
    "    key=f\"{dataset_name}_test.csv\"\n",
    ")"
   ]
  },
  {
   "cell_type": "code",
   "execution_count": 16,
   "id": "4225ecdd-a68e-4824-bb64-f2a7ab3426b8",
   "metadata": {
    "tags": []
   },
   "outputs": [
    {
     "data": {
      "text/plain": [
       "'s3://sagemaker-eu-west-1-661670223746/124_UCR_Anomaly_ECG4_5000_16900_17100_test.csv'"
      ]
     },
     "execution_count": 16,
     "metadata": {},
     "output_type": "execute_result"
    }
   ],
   "source": [
    "test_data"
   ]
  },
  {
   "cell_type": "markdown",
   "id": "6a91f5ac-d6bb-4a50-9de3-69436c33b814",
   "metadata": {},
   "source": [
    "### 3. Training"
   ]
  },
  {
   "cell_type": "markdown",
   "id": "6ad88d3f-50cf-4835-9120-fa6a0da910f0",
   "metadata": {},
   "source": [
    "Fit the model to the training set."
   ]
  },
  {
   "cell_type": "code",
   "execution_count": 17,
   "id": "d870d366-06fc-4a7c-a676-bc33795be3aa",
   "metadata": {},
   "outputs": [
    {
     "name": "stderr",
     "output_type": "stream",
     "text": [
      "INFO:sagemaker:Creating training-job with name: lstm-ad-algo-v1-6-2023-09-09-20-32-25-834\n"
     ]
    },
    {
     "name": "stdout",
     "output_type": "stream",
     "text": [
      "2023-09-09 20:32:25 Starting - Starting the training job...\n",
      "2023-09-09 20:32:40 Starting - Preparing the instances for training...\n",
      "2023-09-09 20:33:26 Downloading - Downloading input data...\n",
      "2023-09-09 20:33:51 Training - Downloading the training image.....................\n",
      "2023-09-09 20:37:07 Training - Training image download completed. Training in progress...\u001b[34mbash: cannot set terminal process group (-1): Inappropriate ioctl for device\u001b[0m\n",
      "\u001b[34mbash: no job control in this shell\u001b[0m\n",
      "\u001b[34m2023-09-09 20:37:32,891 sagemaker-training-toolkit INFO     Imported framework sagemaker_pytorch_container.training\u001b[0m\n",
      "\u001b[34m2023-09-09 20:37:32,892 sagemaker-training-toolkit INFO     No GPUs detected (normal if no gpus installed)\u001b[0m\n",
      "\u001b[34m2023-09-09 20:37:32,893 sagemaker-training-toolkit INFO     No Neurons detected (normal if no neurons installed)\u001b[0m\n",
      "\u001b[34m2023-09-09 20:37:32,902 sagemaker_pytorch_container.training INFO     Block until all host DNS lookups succeed.\u001b[0m\n",
      "\u001b[34m2023-09-09 20:37:32,903 sagemaker_pytorch_container.training INFO     Invoking user training script.\u001b[0m\n",
      "\u001b[34m2023-09-09 20:37:34,263 sagemaker-training-toolkit INFO     No GPUs detected (normal if no gpus installed)\u001b[0m\n",
      "\u001b[34m2023-09-09 20:37:34,264 sagemaker-training-toolkit INFO     No Neurons detected (normal if no neurons installed)\u001b[0m\n",
      "\u001b[34m2023-09-09 20:37:34,275 sagemaker-training-toolkit INFO     No GPUs detected (normal if no gpus installed)\u001b[0m\n",
      "\u001b[34m2023-09-09 20:37:34,276 sagemaker-training-toolkit INFO     No Neurons detected (normal if no neurons installed)\u001b[0m\n",
      "\u001b[34m2023-09-09 20:37:34,287 sagemaker-training-toolkit INFO     No GPUs detected (normal if no gpus installed)\u001b[0m\n",
      "\u001b[34m2023-09-09 20:37:34,288 sagemaker-training-toolkit INFO     No Neurons detected (normal if no neurons installed)\u001b[0m\n",
      "\u001b[34m2023-09-09 20:37:34,297 sagemaker-training-toolkit INFO     Invoking user script\u001b[0m\n",
      "\u001b[34mTraining Env:\u001b[0m\n",
      "\u001b[34m{\n",
      "    \"additional_framework_parameters\": {},\n",
      "    \"channel_input_dirs\": {\n",
      "        \"training\": \"/opt/ml/input/data/training\"\n",
      "    },\n",
      "    \"current_host\": \"algo-1\",\n",
      "    \"current_instance_group\": \"homogeneousCluster\",\n",
      "    \"current_instance_group_hosts\": [\n",
      "        \"algo-1\"\n",
      "    ],\n",
      "    \"current_instance_type\": \"ml.m5.2xlarge\",\n",
      "    \"distribution_hosts\": [],\n",
      "    \"distribution_instance_groups\": [],\n",
      "    \"framework_module\": \"sagemaker_pytorch_container.training:main\",\n",
      "    \"hosts\": [\n",
      "        \"algo-1\"\n",
      "    ],\n",
      "    \"hyperparameters\": {\n",
      "        \"batch-size\": 16,\n",
      "        \"dropout\": 0.8,\n",
      "        \"epochs\": 500,\n",
      "        \"hidden-size\": 256,\n",
      "        \"lr\": 0.001,\n",
      "        \"num-layers\": 2,\n",
      "        \"sequence-length\": 100\n",
      "    },\n",
      "    \"input_config_dir\": \"/opt/ml/input/config\",\n",
      "    \"input_data_config\": {\n",
      "        \"training\": {\n",
      "            \"TrainingInputMode\": \"File\",\n",
      "            \"S3DistributionType\": \"FullyReplicated\",\n",
      "            \"RecordWrapperType\": \"None\"\n",
      "        }\n",
      "    },\n",
      "    \"input_dir\": \"/opt/ml/input\",\n",
      "    \"instance_groups\": [\n",
      "        \"homogeneousCluster\"\n",
      "    ],\n",
      "    \"instance_groups_dict\": {\n",
      "        \"homogeneousCluster\": {\n",
      "            \"instance_group_name\": \"homogeneousCluster\",\n",
      "            \"instance_type\": \"ml.m5.2xlarge\",\n",
      "            \"hosts\": [\n",
      "                \"algo-1\"\n",
      "            ]\n",
      "        }\n",
      "    },\n",
      "    \"is_hetero\": false,\n",
      "    \"is_master\": true,\n",
      "    \"is_modelparallel_enabled\": null,\n",
      "    \"is_smddpmprun_installed\": true,\n",
      "    \"job_name\": \"lstm-ad-algo-v1-6-2023-09-09-20-32-25-834\",\n",
      "    \"log_level\": 20,\n",
      "    \"master_hostname\": \"algo-1\",\n",
      "    \"model_dir\": \"/opt/ml/model\",\n",
      "    \"module_dir\": \"/opt/ml/code\",\n",
      "    \"module_name\": \"training\",\n",
      "    \"network_interface_name\": \"eth0\",\n",
      "    \"num_cpus\": 8,\n",
      "    \"num_gpus\": 0,\n",
      "    \"num_neurons\": 0,\n",
      "    \"output_data_dir\": \"/opt/ml/output/data\",\n",
      "    \"output_dir\": \"/opt/ml/output\",\n",
      "    \"output_intermediate_dir\": \"/opt/ml/output/intermediate\",\n",
      "    \"resource_config\": {\n",
      "        \"current_host\": \"algo-1\",\n",
      "        \"current_instance_type\": \"ml.m5.2xlarge\",\n",
      "        \"current_group_name\": \"homogeneousCluster\",\n",
      "        \"hosts\": [\n",
      "            \"algo-1\"\n",
      "        ],\n",
      "        \"instance_groups\": [\n",
      "            {\n",
      "                \"instance_group_name\": \"homogeneousCluster\",\n",
      "                \"instance_type\": \"ml.m5.2xlarge\",\n",
      "                \"hosts\": [\n",
      "                    \"algo-1\"\n",
      "                ]\n",
      "            }\n",
      "        ],\n",
      "        \"network_interface_name\": \"eth0\"\n",
      "    },\n",
      "    \"user_entry_point\": \"training.py\"\u001b[0m\n",
      "\u001b[34m}\u001b[0m\n",
      "\u001b[34mEnvironment variables:\u001b[0m\n",
      "\u001b[34mSM_HOSTS=[\"algo-1\"]\u001b[0m\n",
      "\u001b[34mSM_NETWORK_INTERFACE_NAME=eth0\u001b[0m\n",
      "\u001b[34mSM_HPS={\"batch-size\":16,\"dropout\":0.8,\"epochs\":500,\"hidden-size\":256,\"lr\":0.001,\"num-layers\":2,\"sequence-length\":100}\u001b[0m\n",
      "\u001b[34mSM_USER_ENTRY_POINT=training.py\u001b[0m\n",
      "\u001b[34mSM_FRAMEWORK_PARAMS={}\u001b[0m\n",
      "\u001b[34mSM_RESOURCE_CONFIG={\"current_group_name\":\"homogeneousCluster\",\"current_host\":\"algo-1\",\"current_instance_type\":\"ml.m5.2xlarge\",\"hosts\":[\"algo-1\"],\"instance_groups\":[{\"hosts\":[\"algo-1\"],\"instance_group_name\":\"homogeneousCluster\",\"instance_type\":\"ml.m5.2xlarge\"}],\"network_interface_name\":\"eth0\"}\u001b[0m\n",
      "\u001b[34mSM_INPUT_DATA_CONFIG={\"training\":{\"RecordWrapperType\":\"None\",\"S3DistributionType\":\"FullyReplicated\",\"TrainingInputMode\":\"File\"}}\u001b[0m\n",
      "\u001b[34mSM_OUTPUT_DATA_DIR=/opt/ml/output/data\u001b[0m\n",
      "\u001b[34mSM_CHANNELS=[\"training\"]\u001b[0m\n",
      "\u001b[34mSM_CURRENT_HOST=algo-1\u001b[0m\n",
      "\u001b[34mSM_CURRENT_INSTANCE_TYPE=ml.m5.2xlarge\u001b[0m\n",
      "\u001b[34mSM_CURRENT_INSTANCE_GROUP=homogeneousCluster\u001b[0m\n",
      "\u001b[34mSM_CURRENT_INSTANCE_GROUP_HOSTS=[\"algo-1\"]\u001b[0m\n",
      "\u001b[34mSM_INSTANCE_GROUPS=[\"homogeneousCluster\"]\u001b[0m\n",
      "\u001b[34mSM_INSTANCE_GROUPS_DICT={\"homogeneousCluster\":{\"hosts\":[\"algo-1\"],\"instance_group_name\":\"homogeneousCluster\",\"instance_type\":\"ml.m5.2xlarge\"}}\u001b[0m\n",
      "\u001b[34mSM_DISTRIBUTION_INSTANCE_GROUPS=[]\u001b[0m\n",
      "\u001b[34mSM_IS_HETERO=false\u001b[0m\n",
      "\u001b[34mSM_MODULE_NAME=training\u001b[0m\n",
      "\u001b[34mSM_LOG_LEVEL=20\u001b[0m\n",
      "\u001b[34mSM_FRAMEWORK_MODULE=sagemaker_pytorch_container.training:main\u001b[0m\n",
      "\u001b[34mSM_INPUT_DIR=/opt/ml/input\u001b[0m\n",
      "\u001b[34mSM_INPUT_CONFIG_DIR=/opt/ml/input/config\u001b[0m\n",
      "\u001b[34mSM_OUTPUT_DIR=/opt/ml/output\u001b[0m\n",
      "\u001b[34mSM_NUM_CPUS=8\u001b[0m\n",
      "\u001b[34mSM_NUM_GPUS=0\u001b[0m\n",
      "\u001b[34mSM_NUM_NEURONS=0\u001b[0m\n",
      "\u001b[34mSM_MODEL_DIR=/opt/ml/model\u001b[0m\n",
      "\u001b[34mSM_MODULE_DIR=/opt/ml/code\u001b[0m\n",
      "\u001b[34mSM_TRAINING_ENV={\"additional_framework_parameters\":{},\"channel_input_dirs\":{\"training\":\"/opt/ml/input/data/training\"},\"current_host\":\"algo-1\",\"current_instance_group\":\"homogeneousCluster\",\"current_instance_group_hosts\":[\"algo-1\"],\"current_instance_type\":\"ml.m5.2xlarge\",\"distribution_hosts\":[],\"distribution_instance_groups\":[],\"framework_module\":\"sagemaker_pytorch_container.training:main\",\"hosts\":[\"algo-1\"],\"hyperparameters\":{\"batch-size\":16,\"dropout\":0.8,\"epochs\":500,\"hidden-size\":256,\"lr\":0.001,\"num-layers\":2,\"sequence-length\":100},\"input_config_dir\":\"/opt/ml/input/config\",\"input_data_config\":{\"training\":{\"RecordWrapperType\":\"None\",\"S3DistributionType\":\"FullyReplicated\",\"TrainingInputMode\":\"File\"}},\"input_dir\":\"/opt/ml/input\",\"instance_groups\":[\"homogeneousCluster\"],\"instance_groups_dict\":{\"homogeneousCluster\":{\"hosts\":[\"algo-1\"],\"instance_group_name\":\"homogeneousCluster\",\"instance_type\":\"ml.m5.2xlarge\"}},\"is_hetero\":false,\"is_master\":true,\"is_modelparallel_enabled\":null,\"is_smddpmprun_installed\":true,\"job_name\":\"lstm-ad-algo-v1-6-2023-09-09-20-32-25-834\",\"log_level\":20,\"master_hostname\":\"algo-1\",\"model_dir\":\"/opt/ml/model\",\"module_dir\":\"/opt/ml/code\",\"module_name\":\"training\",\"network_interface_name\":\"eth0\",\"num_cpus\":8,\"num_gpus\":0,\"num_neurons\":0,\"output_data_dir\":\"/opt/ml/output/data\",\"output_dir\":\"/opt/ml/output\",\"output_intermediate_dir\":\"/opt/ml/output/intermediate\",\"resource_config\":{\"current_group_name\":\"homogeneousCluster\",\"current_host\":\"algo-1\",\"current_instance_type\":\"ml.m5.2xlarge\",\"hosts\":[\"algo-1\"],\"instance_groups\":[{\"hosts\":[\"algo-1\"],\"instance_group_name\":\"homogeneousCluster\",\"instance_type\":\"ml.m5.2xlarge\"}],\"network_interface_name\":\"eth0\"},\"user_entry_point\":\"training.py\"}\u001b[0m\n",
      "\u001b[34mSM_USER_ARGS=[\"--batch-size\",\"16\",\"--dropout\",\"0.8\",\"--epochs\",\"500\",\"--hidden-size\",\"256\",\"--lr\",\"0.001\",\"--num-layers\",\"2\",\"--sequence-length\",\"100\"]\u001b[0m\n",
      "\u001b[34mSM_OUTPUT_INTERMEDIATE_DIR=/opt/ml/output/intermediate\u001b[0m\n",
      "\u001b[34mSM_CHANNEL_TRAINING=/opt/ml/input/data/training\u001b[0m\n",
      "\u001b[34mSM_HP_BATCH-SIZE=16\u001b[0m\n",
      "\u001b[34mSM_HP_DROPOUT=0.8\u001b[0m\n",
      "\u001b[34mSM_HP_EPOCHS=500\u001b[0m\n",
      "\u001b[34mSM_HP_HIDDEN-SIZE=256\u001b[0m\n",
      "\u001b[34mSM_HP_LR=0.001\u001b[0m\n",
      "\u001b[34mSM_HP_NUM-LAYERS=2\u001b[0m\n",
      "\u001b[34mSM_HP_SEQUENCE-LENGTH=100\u001b[0m\n",
      "\u001b[34mPYTHONPATH=/opt/ml/code:/opt/conda/bin:/opt/conda/lib/python310.zip:/opt/conda/lib/python3.10:/opt/conda/lib/python3.10/lib-dynload:/opt/conda/lib/python3.10/site-packages\u001b[0m\n",
      "\u001b[34mInvoking script with the following command:\u001b[0m\n",
      "\u001b[34m/opt/conda/bin/python3.10 training.py --batch-size 16 --dropout 0.8 --epochs 500 --hidden-size 256 --lr 0.001 --num-layers 2 --sequence-length 100\u001b[0m\n",
      "\u001b[34m2023-09-09 20:37:34,331 sagemaker-training-toolkit INFO     Exceptions not imported for SageMaker TF as Tensorflow is not installed.\u001b[0m\n",
      "\u001b[34m--------------------------------------\u001b[0m\n",
      "\u001b[34mTraining on 1 time series.\u001b[0m\n",
      "\u001b[34mTime series length: 5000\u001b[0m\n",
      "\u001b[34m--------------------------------------\u001b[0m\n",
      "\u001b[34m--------------------------------------\u001b[0m\n",
      "\u001b[34mTraining the model.\u001b[0m\n",
      "\u001b[34m--------------------------------------\u001b[0m\n",
      "\u001b[34mEpoch: 1, Training Loss: 0.00355674\u001b[0m\n",
      "\u001b[34mEpoch: 2, Training Loss: 0.00272545\u001b[0m\n",
      "\u001b[34mEpoch: 3, Training Loss: 0.00157578\u001b[0m\n",
      "\u001b[34mEpoch: 4, Training Loss: 0.00152281\u001b[0m\n",
      "\u001b[34mEpoch: 5, Training Loss: 0.00143573\u001b[0m\n",
      "\u001b[34mEpoch: 6, Training Loss: 0.00144933\u001b[0m\n",
      "\u001b[34mEpoch: 7, Training Loss: 0.00131694\u001b[0m\n",
      "\u001b[34mEpoch: 8, Training Loss: 0.00137330\u001b[0m\n",
      "\u001b[34mEpoch: 9, Training Loss: 0.00128962\u001b[0m\n",
      "\u001b[34mEpoch: 10, Training Loss: 0.00135578\u001b[0m\n",
      "\u001b[34mEpoch: 11, Training Loss: 0.00133318\u001b[0m\n",
      "\u001b[34mEpoch: 12, Training Loss: 0.00132201\u001b[0m\n",
      "\u001b[34mEpoch: 13, Training Loss: 0.00127629\u001b[0m\n",
      "\u001b[34mEpoch: 14, Training Loss: 0.00130294\u001b[0m\n",
      "\u001b[34mEpoch: 15, Training Loss: 0.00125080\u001b[0m\n",
      "\u001b[34mEpoch: 16, Training Loss: 0.00132745\u001b[0m\n",
      "\u001b[34mEpoch: 17, Training Loss: 0.00127509\u001b[0m\n",
      "\u001b[34mEpoch: 18, Training Loss: 0.00130761\u001b[0m\n",
      "\u001b[34mEpoch: 19, Training Loss: 0.00129521\u001b[0m\n",
      "\u001b[34mEpoch: 20, Training Loss: 0.00130646\u001b[0m\n",
      "\u001b[34mEpoch: 21, Training Loss: 0.00131051\u001b[0m\n",
      "\u001b[34mEpoch: 22, Training Loss: 0.00136049\u001b[0m\n",
      "\u001b[34mEpoch: 23, Training Loss: 0.00127116\u001b[0m\n",
      "\u001b[34mEpoch: 24, Training Loss: 0.00124742\u001b[0m\n",
      "\u001b[34mEpoch: 25, Training Loss: 0.00129972\u001b[0m\n",
      "\u001b[34mEpoch: 26, Training Loss: 0.00135386\u001b[0m\n",
      "\u001b[34mEpoch: 27, Training Loss: 0.00125761\u001b[0m\n",
      "\u001b[34mEpoch: 28, Training Loss: 0.00131663\u001b[0m\n",
      "\u001b[34mEpoch: 29, Training Loss: 0.00134910\u001b[0m\n",
      "\u001b[34mEpoch: 30, Training Loss: 0.00128919\u001b[0m\n",
      "\u001b[34mEpoch: 31, Training Loss: 0.00124679\u001b[0m\n",
      "\u001b[34mEpoch: 32, Training Loss: 0.00131751\u001b[0m\n",
      "\u001b[34mEpoch: 33, Training Loss: 0.00128378\u001b[0m\n",
      "\u001b[34mEpoch: 34, Training Loss: 0.00130435\u001b[0m\n",
      "\u001b[34mEpoch: 35, Training Loss: 0.00128325\u001b[0m\n",
      "\u001b[34mEpoch: 36, Training Loss: 0.00190930\u001b[0m\n",
      "\u001b[34mEpoch: 37, Training Loss: 0.00140791\u001b[0m\n",
      "\u001b[34mEpoch: 38, Training Loss: 0.00137190\u001b[0m\n",
      "\u001b[34mEpoch: 39, Training Loss: 0.00123994\u001b[0m\n",
      "\u001b[34mEpoch: 40, Training Loss: 0.00129735\u001b[0m\n",
      "\u001b[34mEpoch: 41, Training Loss: 0.00133419\u001b[0m\n",
      "\u001b[34mEpoch: 42, Training Loss: 0.00125998\u001b[0m\n",
      "\u001b[34mEpoch: 43, Training Loss: 0.00131443\u001b[0m\n",
      "\u001b[34mEpoch: 44, Training Loss: 0.00129655\u001b[0m\n",
      "\u001b[34mEpoch: 45, Training Loss: 0.00128146\u001b[0m\n",
      "\u001b[34mEpoch: 46, Training Loss: 0.00130849\u001b[0m\n",
      "\u001b[34mEpoch: 47, Training Loss: 0.00122678\u001b[0m\n",
      "\u001b[34mEpoch: 48, Training Loss: 0.00130883\u001b[0m\n",
      "\u001b[34mEpoch: 49, Training Loss: 0.00132016\u001b[0m\n",
      "\u001b[34mEpoch: 50, Training Loss: 0.00130685\u001b[0m\n",
      "\u001b[34mEpoch: 51, Training Loss: 0.00131737\u001b[0m\n",
      "\u001b[34mEpoch: 52, Training Loss: 0.00133508\u001b[0m\n",
      "\u001b[34mEpoch: 53, Training Loss: 0.00126966\u001b[0m\n",
      "\u001b[34mEpoch: 54, Training Loss: 0.00128110\u001b[0m\n",
      "\u001b[34mEpoch: 55, Training Loss: 0.00127092\u001b[0m\n",
      "\u001b[34mEpoch: 56, Training Loss: 0.00135296\u001b[0m\n",
      "\u001b[34mEpoch: 57, Training Loss: 0.00128611\u001b[0m\n",
      "\u001b[34mEpoch: 58, Training Loss: 0.00125829\u001b[0m\n",
      "\u001b[34mEpoch: 59, Training Loss: 0.00128845\u001b[0m\n",
      "\u001b[34mEpoch: 60, Training Loss: 0.00122044\u001b[0m\n",
      "\u001b[34mEpoch: 61, Training Loss: 0.00115746\u001b[0m\n",
      "\u001b[34mEpoch: 62, Training Loss: 0.00131552\u001b[0m\n",
      "\u001b[34mEpoch: 63, Training Loss: 0.00126913\u001b[0m\n",
      "\u001b[34mEpoch: 64, Training Loss: 0.00119822\u001b[0m\n",
      "\u001b[34mEpoch: 65, Training Loss: 0.00127164\u001b[0m\n",
      "\u001b[34mEpoch: 66, Training Loss: 0.00122141\u001b[0m\n",
      "\u001b[34mEpoch: 67, Training Loss: 0.00116827\u001b[0m\n",
      "\u001b[34mEpoch: 68, Training Loss: 0.00122490\u001b[0m\n",
      "\u001b[34mEpoch: 69, Training Loss: 0.00135372\u001b[0m\n",
      "\u001b[34mEpoch: 70, Training Loss: 0.00123764\u001b[0m\n",
      "\u001b[34mEpoch: 71, Training Loss: 0.00125475\u001b[0m\n",
      "\u001b[34mEpoch: 72, Training Loss: 0.00127629\u001b[0m\n",
      "\u001b[34mEpoch: 73, Training Loss: 0.00116128\u001b[0m\n",
      "\u001b[34mEpoch: 74, Training Loss: 0.00113160\u001b[0m\n",
      "\u001b[34mEpoch: 75, Training Loss: 0.00123183\u001b[0m\n",
      "\u001b[34mEpoch: 76, Training Loss: 0.00117239\u001b[0m\n",
      "\u001b[34mEpoch: 77, Training Loss: 0.00114494\u001b[0m\n",
      "\u001b[34mEpoch: 78, Training Loss: 0.00110224\u001b[0m\n",
      "\u001b[34mEpoch: 79, Training Loss: 0.00119475\u001b[0m\n",
      "\u001b[34mEpoch: 80, Training Loss: 0.00107677\u001b[0m\n",
      "\u001b[34mEpoch: 81, Training Loss: 0.00115682\u001b[0m\n",
      "\u001b[34mEpoch: 82, Training Loss: 0.00116526\u001b[0m\n",
      "\u001b[34mEpoch: 83, Training Loss: 0.00118298\u001b[0m\n",
      "\u001b[34mEpoch: 84, Training Loss: 0.00124340\u001b[0m\n",
      "\u001b[34mEpoch: 85, Training Loss: 0.00124291\u001b[0m\n",
      "\u001b[34mEpoch: 86, Training Loss: 0.00120482\u001b[0m\n",
      "\u001b[34mEpoch: 87, Training Loss: 0.00111993\u001b[0m\n",
      "\u001b[34mEpoch: 88, Training Loss: 0.00114784\u001b[0m\n",
      "\u001b[34mEpoch: 89, Training Loss: 0.00105847\u001b[0m\n",
      "\u001b[34mEpoch: 90, Training Loss: 0.00110081\u001b[0m\n",
      "\u001b[34mEpoch: 91, Training Loss: 0.00122596\u001b[0m\n",
      "\u001b[34mEpoch: 92, Training Loss: 0.00115183\u001b[0m\n",
      "\u001b[34mEpoch: 93, Training Loss: 0.00116511\u001b[0m\n",
      "\u001b[34mEpoch: 94, Training Loss: 0.00117967\u001b[0m\n",
      "\u001b[34mEpoch: 95, Training Loss: 0.00117711\u001b[0m\n",
      "\u001b[34mEpoch: 96, Training Loss: 0.00105312\u001b[0m\n",
      "\u001b[34mEpoch: 97, Training Loss: 0.00109563\u001b[0m\n",
      "\u001b[34mEpoch: 98, Training Loss: 0.00111043\u001b[0m\n",
      "\u001b[34mEpoch: 99, Training Loss: 0.00119226\u001b[0m\n",
      "\u001b[34mEpoch: 100, Training Loss: 0.00129719\u001b[0m\n",
      "\u001b[34mEpoch: 101, Training Loss: 0.00112026\u001b[0m\n",
      "\u001b[34mEpoch: 102, Training Loss: 0.00118468\u001b[0m\n",
      "\u001b[34mEpoch: 103, Training Loss: 0.00124340\u001b[0m\n",
      "\u001b[34mEpoch: 104, Training Loss: 0.00116568\u001b[0m\n",
      "\u001b[34mEpoch: 105, Training Loss: 0.00110402\u001b[0m\n",
      "\u001b[34mEpoch: 106, Training Loss: 0.00109522\u001b[0m\n",
      "\u001b[34mEpoch: 107, Training Loss: 0.00117324\u001b[0m\n",
      "\u001b[34mEpoch: 108, Training Loss: 0.00111765\u001b[0m\n",
      "\u001b[34mEpoch: 109, Training Loss: 0.00108954\u001b[0m\n",
      "\u001b[34mEpoch: 110, Training Loss: 0.00100581\u001b[0m\n",
      "\u001b[34mEpoch: 111, Training Loss: 0.00109733\u001b[0m\n",
      "\u001b[34mEpoch: 112, Training Loss: 0.00108017\u001b[0m\n",
      "\u001b[34mEpoch: 113, Training Loss: 0.00111282\u001b[0m\n",
      "\u001b[34mEpoch: 114, Training Loss: 0.00106338\u001b[0m\n",
      "\u001b[34mEpoch: 115, Training Loss: 0.00102929\u001b[0m\n",
      "\u001b[34mEpoch: 116, Training Loss: 0.00103498\u001b[0m\n",
      "\u001b[34mEpoch: 117, Training Loss: 0.00099154\u001b[0m\n",
      "\u001b[34mEpoch: 118, Training Loss: 0.00119673\u001b[0m\n",
      "\u001b[34mEpoch: 119, Training Loss: 0.00114521\u001b[0m\n",
      "\u001b[34mEpoch: 120, Training Loss: 0.00111384\u001b[0m\n",
      "\u001b[34mEpoch: 121, Training Loss: 0.00102910\u001b[0m\n",
      "\u001b[34mEpoch: 122, Training Loss: 0.00100285\u001b[0m\n",
      "\u001b[34mEpoch: 123, Training Loss: 0.00103888\u001b[0m\n",
      "\u001b[34mEpoch: 124, Training Loss: 0.00105264\u001b[0m\n",
      "\u001b[34mEpoch: 125, Training Loss: 0.00105100\u001b[0m\n",
      "\u001b[34mEpoch: 126, Training Loss: 0.00109460\u001b[0m\n",
      "\u001b[34mEpoch: 127, Training Loss: 0.00103798\u001b[0m\n",
      "\u001b[34mEpoch: 128, Training Loss: 0.00105869\u001b[0m\n",
      "\u001b[34mEpoch: 129, Training Loss: 0.00107784\u001b[0m\n",
      "\u001b[34mEpoch: 130, Training Loss: 0.00091907\u001b[0m\n",
      "\u001b[34mEpoch: 131, Training Loss: 0.00110981\u001b[0m\n",
      "\u001b[34mEpoch: 132, Training Loss: 0.00107758\u001b[0m\n",
      "\u001b[34mEpoch: 133, Training Loss: 0.00105848\u001b[0m\n",
      "\u001b[34mEpoch: 134, Training Loss: 0.00109632\u001b[0m\n",
      "\u001b[34mEpoch: 135, Training Loss: 0.00094503\u001b[0m\n",
      "\u001b[34mEpoch: 136, Training Loss: 0.00097724\u001b[0m\n",
      "\u001b[34mEpoch: 137, Training Loss: 0.00099710\u001b[0m\n",
      "\u001b[34mEpoch: 138, Training Loss: 0.00105914\u001b[0m\n",
      "\u001b[34mEpoch: 139, Training Loss: 0.00091493\u001b[0m\n",
      "\u001b[34mEpoch: 140, Training Loss: 0.00098977\u001b[0m\n",
      "\u001b[34mEpoch: 141, Training Loss: 0.00092361\u001b[0m\n",
      "\u001b[34mEpoch: 142, Training Loss: 0.00089506\u001b[0m\n",
      "\u001b[34mEpoch: 143, Training Loss: 0.00081997\u001b[0m\n",
      "\u001b[34mEpoch: 144, Training Loss: 0.00084421\u001b[0m\n",
      "\u001b[34mEpoch: 145, Training Loss: 0.00071366\u001b[0m\n",
      "\u001b[34mEpoch: 146, Training Loss: 0.00072215\u001b[0m\n",
      "\u001b[34mEpoch: 147, Training Loss: 0.00071397\u001b[0m\n",
      "\u001b[34mEpoch: 148, Training Loss: 0.00078527\u001b[0m\n",
      "\u001b[34mEpoch: 149, Training Loss: 0.00066303\u001b[0m\n",
      "\u001b[34mEpoch: 150, Training Loss: 0.00073273\u001b[0m\n",
      "\u001b[34mEpoch: 151, Training Loss: 0.00071777\u001b[0m\n",
      "\u001b[34mEpoch: 152, Training Loss: 0.00081159\u001b[0m\n",
      "\u001b[34mEpoch: 153, Training Loss: 0.00077314\u001b[0m\n",
      "\u001b[34mEpoch: 154, Training Loss: 0.00074588\u001b[0m\n",
      "\u001b[34mEpoch: 155, Training Loss: 0.00076514\u001b[0m\n",
      "\u001b[34mEpoch: 156, Training Loss: 0.00081871\u001b[0m\n",
      "\u001b[34mEpoch: 157, Training Loss: 0.00073499\u001b[0m\n",
      "\u001b[34mEpoch: 158, Training Loss: 0.00101433\u001b[0m\n",
      "\u001b[34mEpoch: 159, Training Loss: 0.00103177\u001b[0m\n",
      "\u001b[34mEpoch: 160, Training Loss: 0.00137269\u001b[0m\n",
      "\u001b[34mEpoch: 161, Training Loss: 0.00132675\u001b[0m\n",
      "\u001b[34mEpoch: 162, Training Loss: 0.00104699\u001b[0m\n",
      "\u001b[34mEpoch: 163, Training Loss: 0.00104797\u001b[0m\n",
      "\u001b[34mEpoch: 164, Training Loss: 0.00093755\u001b[0m\n",
      "\u001b[34mEpoch: 165, Training Loss: 0.00089720\u001b[0m\n",
      "\u001b[34mEpoch: 166, Training Loss: 0.00120879\u001b[0m\n",
      "\u001b[34mEpoch: 167, Training Loss: 0.00115069\u001b[0m\n",
      "\u001b[34mEpoch: 168, Training Loss: 0.00100711\u001b[0m\n",
      "\u001b[34mEpoch: 169, Training Loss: 0.00103370\u001b[0m\n",
      "\u001b[34mEpoch: 170, Training Loss: 0.00089191\u001b[0m\n",
      "\u001b[34mEpoch: 171, Training Loss: 0.00088473\u001b[0m\n",
      "\u001b[34mEpoch: 172, Training Loss: 0.00080595\u001b[0m\n",
      "\u001b[34mEpoch: 173, Training Loss: 0.00077953\u001b[0m\n",
      "\u001b[34mEpoch: 174, Training Loss: 0.00074724\u001b[0m\n",
      "\u001b[34mEpoch: 175, Training Loss: 0.00076425\u001b[0m\n",
      "\u001b[34mEpoch: 176, Training Loss: 0.00069263\u001b[0m\n",
      "\u001b[34mEpoch: 177, Training Loss: 0.00063067\u001b[0m\n",
      "\u001b[34mEpoch: 178, Training Loss: 0.00072453\u001b[0m\n",
      "\u001b[34mEpoch: 179, Training Loss: 0.00078993\u001b[0m\n",
      "\u001b[34mEpoch: 180, Training Loss: 0.00074792\u001b[0m\n",
      "\u001b[34mEpoch: 181, Training Loss: 0.00069629\u001b[0m\n",
      "\u001b[34mEpoch: 182, Training Loss: 0.00073249\u001b[0m\n",
      "\u001b[34mEpoch: 183, Training Loss: 0.00065978\u001b[0m\n",
      "\u001b[34mEpoch: 184, Training Loss: 0.00078033\u001b[0m\n",
      "\u001b[34mEpoch: 185, Training Loss: 0.00093581\u001b[0m\n",
      "\u001b[34mEpoch: 186, Training Loss: 0.00074263\u001b[0m\n",
      "\u001b[34mEpoch: 187, Training Loss: 0.00063466\u001b[0m\n",
      "\u001b[34mEpoch: 188, Training Loss: 0.00071754\u001b[0m\n",
      "\u001b[34mEpoch: 189, Training Loss: 0.00047959\u001b[0m\n",
      "\u001b[34mEpoch: 190, Training Loss: 0.00080017\u001b[0m\n",
      "\u001b[34mEpoch: 191, Training Loss: 0.00121426\u001b[0m\n",
      "\u001b[34mEpoch: 192, Training Loss: 0.00088822\u001b[0m\n",
      "\u001b[34mEpoch: 193, Training Loss: 0.00087437\u001b[0m\n",
      "\u001b[34mEpoch: 194, Training Loss: 0.00090004\u001b[0m\n",
      "\u001b[34mEpoch: 195, Training Loss: 0.00081965\u001b[0m\n",
      "\u001b[34mEpoch: 196, Training Loss: 0.00079270\u001b[0m\n",
      "\u001b[34mEpoch: 197, Training Loss: 0.00057778\u001b[0m\n",
      "\u001b[34mEpoch: 198, Training Loss: 0.00059939\u001b[0m\n",
      "\u001b[34mEpoch: 199, Training Loss: 0.00054582\u001b[0m\n",
      "\u001b[34mEpoch: 200, Training Loss: 0.00044058\u001b[0m\n",
      "\u001b[34mEpoch: 201, Training Loss: 0.00052944\u001b[0m\n",
      "\u001b[34mEpoch: 202, Training Loss: 0.00038692\u001b[0m\n",
      "\u001b[34mEpoch: 203, Training Loss: 0.00036658\u001b[0m\n",
      "\u001b[34mEpoch: 204, Training Loss: 0.00039175\u001b[0m\n",
      "\u001b[34mEpoch: 205, Training Loss: 0.00035894\u001b[0m\n",
      "\u001b[34mEpoch: 206, Training Loss: 0.00031941\u001b[0m\n",
      "\u001b[34mEpoch: 207, Training Loss: 0.00035732\u001b[0m\n",
      "\u001b[34mEpoch: 208, Training Loss: 0.00035317\u001b[0m\n",
      "\u001b[34mEpoch: 209, Training Loss: 0.00033309\u001b[0m\n",
      "\u001b[34mEpoch: 210, Training Loss: 0.00034433\u001b[0m\n",
      "\u001b[34mEpoch: 211, Training Loss: 0.00028112\u001b[0m\n",
      "\u001b[34mEpoch: 212, Training Loss: 0.00039081\u001b[0m\n",
      "\u001b[34mEpoch: 213, Training Loss: 0.00032963\u001b[0m\n",
      "\u001b[34mEpoch: 214, Training Loss: 0.00026828\u001b[0m\n",
      "\u001b[34mEpoch: 215, Training Loss: 0.00032203\u001b[0m\n",
      "\u001b[34mEpoch: 216, Training Loss: 0.00029943\u001b[0m\n",
      "\u001b[34mEpoch: 217, Training Loss: 0.00027404\u001b[0m\n",
      "\u001b[34mEpoch: 218, Training Loss: 0.00027392\u001b[0m\n",
      "\u001b[34mEpoch: 219, Training Loss: 0.00026973\u001b[0m\n",
      "\u001b[34mEpoch: 220, Training Loss: 0.00028324\u001b[0m\n",
      "\u001b[34mEpoch: 221, Training Loss: 0.00027917\u001b[0m\n",
      "\u001b[34mEpoch: 222, Training Loss: 0.00028295\u001b[0m\n",
      "\u001b[34mEpoch: 223, Training Loss: 0.00025261\u001b[0m\n",
      "\u001b[34mEpoch: 224, Training Loss: 0.00034190\u001b[0m\n",
      "\u001b[34mEpoch: 225, Training Loss: 0.00035379\u001b[0m\n",
      "\u001b[34mEpoch: 226, Training Loss: 0.00025837\u001b[0m\n",
      "\u001b[34mEpoch: 227, Training Loss: 0.00032203\u001b[0m\n",
      "\u001b[34mEpoch: 228, Training Loss: 0.00025018\u001b[0m\n",
      "\u001b[34mEpoch: 229, Training Loss: 0.00029586\u001b[0m\n",
      "\u001b[34mEpoch: 230, Training Loss: 0.00028018\u001b[0m\n",
      "\u001b[34mEpoch: 231, Training Loss: 0.00025980\u001b[0m\n",
      "\u001b[34mEpoch: 232, Training Loss: 0.00031837\u001b[0m\n",
      "\u001b[34mEpoch: 233, Training Loss: 0.00025357\u001b[0m\n",
      "\u001b[34mEpoch: 234, Training Loss: 0.00037302\u001b[0m\n",
      "\u001b[34mEpoch: 235, Training Loss: 0.00031453\u001b[0m\n",
      "\u001b[34mEpoch: 236, Training Loss: 0.00029114\u001b[0m\n",
      "\u001b[34mEpoch: 237, Training Loss: 0.00024393\u001b[0m\n",
      "\u001b[34mEpoch: 238, Training Loss: 0.00031825\u001b[0m\n",
      "\u001b[34mEpoch: 239, Training Loss: 0.00025670\u001b[0m\n",
      "\u001b[34mEpoch: 240, Training Loss: 0.00025330\u001b[0m\n",
      "\u001b[34mEpoch: 241, Training Loss: 0.00024115\u001b[0m\n",
      "\u001b[34mEpoch: 242, Training Loss: 0.00029284\u001b[0m\n",
      "\u001b[34mEpoch: 243, Training Loss: 0.00026260\u001b[0m\n",
      "\u001b[34mEpoch: 244, Training Loss: 0.00020804\u001b[0m\n",
      "\u001b[34mEpoch: 245, Training Loss: 0.00021127\u001b[0m\n",
      "\u001b[34mEpoch: 246, Training Loss: 0.00027212\u001b[0m\n",
      "\u001b[34mEpoch: 247, Training Loss: 0.00025896\u001b[0m\n",
      "\u001b[34mEpoch: 248, Training Loss: 0.00029443\u001b[0m\n",
      "\u001b[34mEpoch: 249, Training Loss: 0.00023933\u001b[0m\n",
      "\u001b[34mEpoch: 250, Training Loss: 0.00026153\u001b[0m\n",
      "\u001b[34mEpoch: 251, Training Loss: 0.00033187\u001b[0m\n",
      "\u001b[34mEpoch: 252, Training Loss: 0.00022570\u001b[0m\n",
      "\u001b[34mEpoch: 253, Training Loss: 0.00026373\u001b[0m\n",
      "\u001b[34mEpoch: 254, Training Loss: 0.00035804\u001b[0m\n",
      "\u001b[34mEpoch: 255, Training Loss: 0.00071080\u001b[0m\n",
      "\u001b[34mEpoch: 256, Training Loss: 0.00041929\u001b[0m\n",
      "\u001b[34mEpoch: 257, Training Loss: 0.00040449\u001b[0m\n",
      "\u001b[34mEpoch: 258, Training Loss: 0.00068201\u001b[0m\n",
      "\u001b[34mEpoch: 259, Training Loss: 0.00134828\u001b[0m\n",
      "\u001b[34mEpoch: 260, Training Loss: 0.00126045\u001b[0m\n",
      "\u001b[34mEpoch: 261, Training Loss: 0.00130137\u001b[0m\n",
      "\u001b[34mEpoch: 262, Training Loss: 0.00123231\u001b[0m\n",
      "\u001b[34mEpoch: 263, Training Loss: 0.00120719\u001b[0m\n",
      "\u001b[34mEpoch: 264, Training Loss: 0.00122362\u001b[0m\n",
      "\u001b[34mEpoch: 265, Training Loss: 0.00121952\u001b[0m\n",
      "\u001b[34mEpoch: 266, Training Loss: 0.00111185\u001b[0m\n",
      "\u001b[34mEpoch: 267, Training Loss: 0.00115465\u001b[0m\n",
      "\u001b[34mEpoch: 268, Training Loss: 0.00116517\u001b[0m\n",
      "\u001b[34mEpoch: 269, Training Loss: 0.00109188\u001b[0m\n",
      "\u001b[34mEpoch: 270, Training Loss: 0.00114882\u001b[0m\n",
      "\u001b[34mEpoch: 271, Training Loss: 0.00099795\u001b[0m\n",
      "\u001b[34mEpoch: 272, Training Loss: 0.00101038\u001b[0m\n",
      "\u001b[34mEpoch: 273, Training Loss: 0.00110043\u001b[0m\n",
      "\u001b[34mEpoch: 274, Training Loss: 0.00109354\u001b[0m\n",
      "\u001b[34mEpoch: 275, Training Loss: 0.00105271\u001b[0m\n",
      "\u001b[34mEpoch: 276, Training Loss: 0.00108464\u001b[0m\n",
      "\u001b[34mEpoch: 277, Training Loss: 0.00100737\u001b[0m\n",
      "\u001b[34mEpoch: 278, Training Loss: 0.00103571\u001b[0m\n",
      "\u001b[34mEpoch: 279, Training Loss: 0.00110643\u001b[0m\n",
      "\u001b[34mEpoch: 280, Training Loss: 0.00105774\u001b[0m\n",
      "\u001b[34mEpoch: 281, Training Loss: 0.00100093\u001b[0m\n",
      "\u001b[34mEpoch: 282, Training Loss: 0.00100731\u001b[0m\n",
      "\u001b[34mEpoch: 283, Training Loss: 0.00096824\u001b[0m\n",
      "\u001b[34mEpoch: 284, Training Loss: 0.00104268\u001b[0m\n",
      "\u001b[34mEpoch: 285, Training Loss: 0.00105611\u001b[0m\n",
      "\u001b[34mEpoch: 286, Training Loss: 0.00084875\u001b[0m\n",
      "\u001b[34mEpoch: 287, Training Loss: 0.00091303\u001b[0m\n",
      "\u001b[34mEpoch: 288, Training Loss: 0.00088699\u001b[0m\n",
      "\u001b[34mEpoch: 289, Training Loss: 0.00078372\u001b[0m\n",
      "\u001b[34mEpoch: 290, Training Loss: 0.00068269\u001b[0m\n",
      "\u001b[34mEpoch: 291, Training Loss: 0.00062447\u001b[0m\n",
      "\u001b[34mEpoch: 292, Training Loss: 0.00063536\u001b[0m\n",
      "\u001b[34mEpoch: 293, Training Loss: 0.00046682\u001b[0m\n",
      "\u001b[34mEpoch: 294, Training Loss: 0.00053094\u001b[0m\n",
      "\u001b[34mEpoch: 295, Training Loss: 0.00046502\u001b[0m\n",
      "\u001b[34mEpoch: 296, Training Loss: 0.00036359\u001b[0m\n",
      "\u001b[34mEpoch: 297, Training Loss: 0.00043396\u001b[0m\n",
      "\u001b[34mEpoch: 298, Training Loss: 0.00037053\u001b[0m\n",
      "\u001b[34mEpoch: 299, Training Loss: 0.00031491\u001b[0m\n",
      "\u001b[34mEpoch: 300, Training Loss: 0.00030173\u001b[0m\n",
      "\u001b[34mEpoch: 301, Training Loss: 0.00027849\u001b[0m\n",
      "\u001b[34mEpoch: 302, Training Loss: 0.00026197\u001b[0m\n",
      "\u001b[34mEpoch: 303, Training Loss: 0.00026475\u001b[0m\n",
      "\u001b[34mEpoch: 304, Training Loss: 0.00034095\u001b[0m\n",
      "\u001b[34mEpoch: 305, Training Loss: 0.00030010\u001b[0m\n",
      "\u001b[34mEpoch: 306, Training Loss: 0.00027486\u001b[0m\n",
      "\u001b[34mEpoch: 307, Training Loss: 0.00024424\u001b[0m\n",
      "\u001b[34mEpoch: 308, Training Loss: 0.00029197\u001b[0m\n",
      "\u001b[34mEpoch: 309, Training Loss: 0.00023606\u001b[0m\n",
      "\u001b[34mEpoch: 310, Training Loss: 0.00029190\u001b[0m\n",
      "\u001b[34mEpoch: 311, Training Loss: 0.00023374\u001b[0m\n",
      "\u001b[34mEpoch: 312, Training Loss: 0.00022267\u001b[0m\n",
      "\u001b[34mEpoch: 313, Training Loss: 0.00028544\u001b[0m\n",
      "\u001b[34mEpoch: 314, Training Loss: 0.00024043\u001b[0m\n",
      "\u001b[34mEpoch: 315, Training Loss: 0.00024088\u001b[0m\n",
      "\u001b[34mEpoch: 316, Training Loss: 0.00033102\u001b[0m\n",
      "\u001b[34mEpoch: 317, Training Loss: 0.00032368\u001b[0m\n",
      "\u001b[34mEpoch: 318, Training Loss: 0.00109102\u001b[0m\n",
      "\u001b[34mEpoch: 319, Training Loss: 0.00089274\u001b[0m\n",
      "\u001b[34mEpoch: 320, Training Loss: 0.00058322\u001b[0m\n",
      "\u001b[34mEpoch: 321, Training Loss: 0.00043367\u001b[0m\n",
      "\u001b[34mEpoch: 322, Training Loss: 0.00046446\u001b[0m\n",
      "\u001b[34mEpoch: 323, Training Loss: 0.00046486\u001b[0m\n",
      "\u001b[34mEpoch: 324, Training Loss: 0.00041129\u001b[0m\n",
      "\u001b[34mEpoch: 325, Training Loss: 0.00033984\u001b[0m\n",
      "\u001b[34mEpoch: 326, Training Loss: 0.00038059\u001b[0m\n",
      "\u001b[34mEpoch: 327, Training Loss: 0.00037006\u001b[0m\n",
      "\u001b[34mEpoch: 328, Training Loss: 0.00035617\u001b[0m\n",
      "\u001b[34mEpoch: 329, Training Loss: 0.00034045\u001b[0m\n",
      "\u001b[34mEpoch: 330, Training Loss: 0.00026983\u001b[0m\n",
      "\u001b[34mEpoch: 331, Training Loss: 0.00028099\u001b[0m\n",
      "\u001b[34mEpoch: 332, Training Loss: 0.00033273\u001b[0m\n",
      "\u001b[34mEpoch: 333, Training Loss: 0.00031058\u001b[0m\n",
      "\u001b[34mEpoch: 334, Training Loss: 0.00027385\u001b[0m\n",
      "\u001b[34mEpoch: 335, Training Loss: 0.00023730\u001b[0m\n",
      "\u001b[34mEpoch: 336, Training Loss: 0.00026099\u001b[0m\n",
      "\u001b[34mEpoch: 337, Training Loss: 0.00028463\u001b[0m\n",
      "\u001b[34mEpoch: 338, Training Loss: 0.00024809\u001b[0m\n",
      "\u001b[34mEpoch: 339, Training Loss: 0.00027350\u001b[0m\n",
      "\u001b[34mEpoch: 340, Training Loss: 0.00022759\u001b[0m\n",
      "\u001b[34mEpoch: 341, Training Loss: 0.00024723\u001b[0m\n",
      "\u001b[34mEpoch: 342, Training Loss: 0.00025143\u001b[0m\n",
      "\u001b[34mEpoch: 343, Training Loss: 0.00031299\u001b[0m\n",
      "\u001b[34mEpoch: 344, Training Loss: 0.00027084\u001b[0m\n",
      "\u001b[34mEpoch: 345, Training Loss: 0.00023720\u001b[0m\n",
      "\u001b[34mEpoch: 346, Training Loss: 0.00021340\u001b[0m\n",
      "\u001b[34mEpoch: 347, Training Loss: 0.00020795\u001b[0m\n",
      "\u001b[34mEpoch: 348, Training Loss: 0.00021476\u001b[0m\n",
      "\u001b[34mEpoch: 349, Training Loss: 0.00023327\u001b[0m\n",
      "\u001b[34mEpoch: 350, Training Loss: 0.00020279\u001b[0m\n",
      "\u001b[34mEpoch: 351, Training Loss: 0.00020763\u001b[0m\n",
      "\u001b[34mEpoch: 352, Training Loss: 0.00021654\u001b[0m\n",
      "\u001b[34mEpoch: 353, Training Loss: 0.00021769\u001b[0m\n",
      "\u001b[34mEpoch: 354, Training Loss: 0.00020287\u001b[0m\n",
      "\u001b[34mEpoch: 355, Training Loss: 0.00024311\u001b[0m\n",
      "\u001b[34mEpoch: 356, Training Loss: 0.00022375\u001b[0m\n",
      "\u001b[34mEpoch: 357, Training Loss: 0.00019657\u001b[0m\n",
      "\u001b[34mEpoch: 358, Training Loss: 0.00023431\u001b[0m\n",
      "\u001b[34mEpoch: 359, Training Loss: 0.00020382\u001b[0m\n",
      "\u001b[34mEpoch: 360, Training Loss: 0.00022717\u001b[0m\n",
      "\u001b[34mEpoch: 361, Training Loss: 0.00020363\u001b[0m\n",
      "\u001b[34mEpoch: 362, Training Loss: 0.00033159\u001b[0m\n",
      "\u001b[34mEpoch: 363, Training Loss: 0.00034937\u001b[0m\n",
      "\u001b[34mEpoch: 364, Training Loss: 0.00025373\u001b[0m\n",
      "\u001b[34mEpoch: 365, Training Loss: 0.00026423\u001b[0m\n",
      "\u001b[34mEpoch: 366, Training Loss: 0.00023974\u001b[0m\n",
      "\u001b[34mEpoch: 367, Training Loss: 0.00035725\u001b[0m\n",
      "\u001b[34mEpoch: 368, Training Loss: 0.00034965\u001b[0m\n",
      "\u001b[34mEpoch: 369, Training Loss: 0.00028634\u001b[0m\n",
      "\u001b[34mEpoch: 370, Training Loss: 0.00024155\u001b[0m\n",
      "\u001b[34mEpoch: 371, Training Loss: 0.00025524\u001b[0m\n",
      "\u001b[34mEpoch: 372, Training Loss: 0.00022193\u001b[0m\n",
      "\u001b[34mEpoch: 373, Training Loss: 0.00020253\u001b[0m\n",
      "\u001b[34mEpoch: 374, Training Loss: 0.00022207\u001b[0m\n",
      "\u001b[34mEpoch: 375, Training Loss: 0.00021227\u001b[0m\n",
      "\u001b[34mEpoch: 376, Training Loss: 0.00019611\u001b[0m\n",
      "\u001b[34mEpoch: 377, Training Loss: 0.00020606\u001b[0m\n",
      "\u001b[34mEpoch: 378, Training Loss: 0.00023877\u001b[0m\n",
      "\u001b[34mEpoch: 379, Training Loss: 0.00020538\u001b[0m\n",
      "\u001b[34mEpoch: 380, Training Loss: 0.00020908\u001b[0m\n",
      "\u001b[34mEpoch: 381, Training Loss: 0.00019044\u001b[0m\n",
      "\u001b[34mEpoch: 382, Training Loss: 0.00019111\u001b[0m\n",
      "\u001b[34mEpoch: 383, Training Loss: 0.00022539\u001b[0m\n",
      "\u001b[34mEpoch: 384, Training Loss: 0.00025507\u001b[0m\n",
      "\u001b[34mEpoch: 385, Training Loss: 0.00018807\u001b[0m\n",
      "\u001b[34mEpoch: 386, Training Loss: 0.00019356\u001b[0m\n",
      "\u001b[34mEpoch: 387, Training Loss: 0.00021804\u001b[0m\n",
      "\u001b[34mEpoch: 388, Training Loss: 0.00019034\u001b[0m\n",
      "\u001b[34mEpoch: 389, Training Loss: 0.00026568\u001b[0m\n",
      "\u001b[34mEpoch: 390, Training Loss: 0.00017550\u001b[0m\n",
      "\u001b[34mEpoch: 391, Training Loss: 0.00018986\u001b[0m\n",
      "\u001b[34mEpoch: 392, Training Loss: 0.00018502\u001b[0m\n",
      "\u001b[34mEpoch: 393, Training Loss: 0.00018206\u001b[0m\n",
      "\u001b[34mEpoch: 394, Training Loss: 0.00018130\u001b[0m\n",
      "\u001b[34mEpoch: 395, Training Loss: 0.00021172\u001b[0m\n",
      "\u001b[34mEpoch: 396, Training Loss: 0.00020710\u001b[0m\n",
      "\u001b[34mEpoch: 397, Training Loss: 0.00019933\u001b[0m\n",
      "\u001b[34mEpoch: 398, Training Loss: 0.00019621\u001b[0m\n",
      "\u001b[34mEpoch: 399, Training Loss: 0.00016215\u001b[0m\n",
      "\u001b[34mEpoch: 400, Training Loss: 0.00017726\u001b[0m\n",
      "\u001b[34mEpoch: 401, Training Loss: 0.00021923\u001b[0m\n",
      "\u001b[34mEpoch: 402, Training Loss: 0.00018692\u001b[0m\n",
      "\u001b[34mEpoch: 403, Training Loss: 0.00022627\u001b[0m\n",
      "\u001b[34mEpoch: 404, Training Loss: 0.00018829\u001b[0m\n",
      "\u001b[34mEpoch: 405, Training Loss: 0.00018429\u001b[0m\n",
      "\u001b[34mEpoch: 406, Training Loss: 0.00017314\u001b[0m\n",
      "\u001b[34mEpoch: 407, Training Loss: 0.00020385\u001b[0m\n",
      "\u001b[34mEpoch: 408, Training Loss: 0.00019104\u001b[0m\n",
      "\u001b[34mEpoch: 409, Training Loss: 0.00019523\u001b[0m\n",
      "\u001b[34mEpoch: 410, Training Loss: 0.00019132\u001b[0m\n",
      "\u001b[34mEpoch: 411, Training Loss: 0.00017297\u001b[0m\n",
      "\u001b[34mEpoch: 412, Training Loss: 0.00017603\u001b[0m\n",
      "\u001b[34mEpoch: 413, Training Loss: 0.00017135\u001b[0m\n",
      "\u001b[34mEpoch: 414, Training Loss: 0.00016579\u001b[0m\n",
      "\u001b[34mEpoch: 415, Training Loss: 0.00016647\u001b[0m\n",
      "\u001b[34mEpoch: 416, Training Loss: 0.00020739\u001b[0m\n",
      "\u001b[34mEpoch: 417, Training Loss: 0.00018345\u001b[0m\n",
      "\u001b[34mEpoch: 418, Training Loss: 0.00018129\u001b[0m\n",
      "\u001b[34mEpoch: 419, Training Loss: 0.00019981\u001b[0m\n",
      "\u001b[34mEpoch: 420, Training Loss: 0.00016968\u001b[0m\n",
      "\u001b[34mEpoch: 421, Training Loss: 0.00018738\u001b[0m\n",
      "\u001b[34mEpoch: 422, Training Loss: 0.00016048\u001b[0m\n",
      "\u001b[34mEpoch: 423, Training Loss: 0.00017224\u001b[0m\n",
      "\u001b[34mEpoch: 424, Training Loss: 0.00022816\u001b[0m\n",
      "\u001b[34mEpoch: 425, Training Loss: 0.00019620\u001b[0m\n",
      "\u001b[34mEpoch: 426, Training Loss: 0.00018390\u001b[0m\n",
      "\u001b[34mEpoch: 427, Training Loss: 0.00017156\u001b[0m\n",
      "\u001b[34mEpoch: 428, Training Loss: 0.00025522\u001b[0m\n",
      "\u001b[34mEpoch: 429, Training Loss: 0.00021629\u001b[0m\n",
      "\u001b[34mEpoch: 430, Training Loss: 0.00024279\u001b[0m\n",
      "\u001b[34mEpoch: 431, Training Loss: 0.00019359\u001b[0m\n",
      "\u001b[34mEpoch: 432, Training Loss: 0.00019075\u001b[0m\n",
      "\u001b[34mEpoch: 433, Training Loss: 0.00021733\u001b[0m\n",
      "\u001b[34mEpoch: 434, Training Loss: 0.00022976\u001b[0m\n",
      "\u001b[34mEpoch: 435, Training Loss: 0.00021327\u001b[0m\n",
      "\u001b[34mEpoch: 436, Training Loss: 0.00025861\u001b[0m\n",
      "\u001b[34mEpoch: 437, Training Loss: 0.00019826\u001b[0m\n",
      "\u001b[34mEpoch: 438, Training Loss: 0.00020690\u001b[0m\n",
      "\u001b[34mEpoch: 439, Training Loss: 0.00018331\u001b[0m\n",
      "\u001b[34mEpoch: 440, Training Loss: 0.00019163\u001b[0m\n",
      "\u001b[34mEpoch: 441, Training Loss: 0.00020419\u001b[0m\n",
      "\u001b[34mEpoch: 442, Training Loss: 0.00020036\u001b[0m\n",
      "\u001b[34mEpoch: 443, Training Loss: 0.00016968\u001b[0m\n",
      "\u001b[34mEpoch: 444, Training Loss: 0.00016607\u001b[0m\n",
      "\u001b[34mEpoch: 445, Training Loss: 0.00020181\u001b[0m\n",
      "\u001b[34mEpoch: 446, Training Loss: 0.00021915\u001b[0m\n",
      "\u001b[34mEpoch: 447, Training Loss: 0.00016820\u001b[0m\n",
      "\u001b[34mEpoch: 448, Training Loss: 0.00024082\u001b[0m\n",
      "\u001b[34mEpoch: 449, Training Loss: 0.00016408\u001b[0m\n",
      "\u001b[34mEpoch: 450, Training Loss: 0.00023620\u001b[0m\n",
      "\u001b[34mEpoch: 451, Training Loss: 0.00021499\u001b[0m\n",
      "\n",
      "2023-09-09 20:38:57 Uploading - Uploading generated training model\u001b[34mEpoch: 452, Training Loss: 0.00019154\u001b[0m\n",
      "\u001b[34mEpoch: 453, Training Loss: 0.00021506\u001b[0m\n",
      "\u001b[34mEpoch: 454, Training Loss: 0.00019781\u001b[0m\n",
      "\u001b[34mEpoch: 455, Training Loss: 0.00016744\u001b[0m\n",
      "\u001b[34mEpoch: 456, Training Loss: 0.00021050\u001b[0m\n",
      "\u001b[34mEpoch: 457, Training Loss: 0.00016762\u001b[0m\n",
      "\u001b[34mEpoch: 458, Training Loss: 0.00021024\u001b[0m\n",
      "\u001b[34mEpoch: 459, Training Loss: 0.00016293\u001b[0m\n",
      "\u001b[34mEpoch: 460, Training Loss: 0.00016648\u001b[0m\n",
      "\u001b[34mEpoch: 461, Training Loss: 0.00018067\u001b[0m\n",
      "\u001b[34mEpoch: 462, Training Loss: 0.00019257\u001b[0m\n",
      "\u001b[34mEpoch: 463, Training Loss: 0.00019473\u001b[0m\n",
      "\u001b[34mEpoch: 464, Training Loss: 0.00018661\u001b[0m\n",
      "\u001b[34mEpoch: 465, Training Loss: 0.00021767\u001b[0m\n",
      "\u001b[34mEpoch: 466, Training Loss: 0.00016693\u001b[0m\n",
      "\u001b[34mEpoch: 467, Training Loss: 0.00018940\u001b[0m\n",
      "\u001b[34mEpoch: 468, Training Loss: 0.00018034\u001b[0m\n",
      "\u001b[34mEpoch: 469, Training Loss: 0.00020154\u001b[0m\n",
      "\u001b[34mEpoch: 470, Training Loss: 0.00020935\u001b[0m\n",
      "\u001b[34mEpoch: 471, Training Loss: 0.00019402\u001b[0m\n",
      "\u001b[34mEpoch: 472, Training Loss: 0.00021168\u001b[0m\n",
      "\u001b[34mEpoch: 473, Training Loss: 0.00019142\u001b[0m\n",
      "\u001b[34mEpoch: 474, Training Loss: 0.00021638\u001b[0m\n",
      "\u001b[34mEpoch: 475, Training Loss: 0.00022416\u001b[0m\n",
      "\u001b[34mEpoch: 476, Training Loss: 0.00015639\u001b[0m\n",
      "\u001b[34mEpoch: 477, Training Loss: 0.00016814\u001b[0m\n",
      "\u001b[34mEpoch: 478, Training Loss: 0.00017803\u001b[0m\n",
      "\u001b[34mEpoch: 479, Training Loss: 0.00016623\u001b[0m\n",
      "\u001b[34mEpoch: 480, Training Loss: 0.00023598\u001b[0m\n",
      "\u001b[34mEpoch: 481, Training Loss: 0.00015404\u001b[0m\n",
      "\u001b[34mEpoch: 482, Training Loss: 0.00018543\u001b[0m\n",
      "\u001b[34mEpoch: 483, Training Loss: 0.00016967\u001b[0m\n",
      "\u001b[34mEpoch: 484, Training Loss: 0.00018236\u001b[0m\n",
      "\u001b[34mEpoch: 485, Training Loss: 0.00017247\u001b[0m\n",
      "\u001b[34mEpoch: 486, Training Loss: 0.00018482\u001b[0m\n",
      "\u001b[34mEpoch: 487, Training Loss: 0.00018197\u001b[0m\n",
      "\u001b[34mEpoch: 488, Training Loss: 0.00018542\u001b[0m\n",
      "\u001b[34mEpoch: 489, Training Loss: 0.00018887\u001b[0m\n",
      "\u001b[34mEpoch: 490, Training Loss: 0.00017424\u001b[0m\n",
      "\u001b[34mEpoch: 491, Training Loss: 0.00015803\u001b[0m\n",
      "\u001b[34mEpoch: 492, Training Loss: 0.00018364\u001b[0m\n",
      "\u001b[34mEpoch: 493, Training Loss: 0.00016461\u001b[0m\n",
      "\u001b[34mEpoch: 494, Training Loss: 0.00024672\u001b[0m\n",
      "\u001b[34mEpoch: 495, Training Loss: 0.00039275\u001b[0m\n",
      "\u001b[34mEpoch: 496, Training Loss: 0.00037404\u001b[0m\n",
      "\u001b[34mEpoch: 497, Training Loss: 0.00028778\u001b[0m\n",
      "\u001b[34mEpoch: 498, Training Loss: 0.00035405\u001b[0m\n",
      "\u001b[34mEpoch: 499, Training Loss: 0.00025674\u001b[0m\n",
      "\u001b[34mEpoch: 500, Training Loss: 0.00022315\u001b[0m\n",
      "\u001b[34m--------------------------------------\u001b[0m\n",
      "\u001b[34mScoring the model.\u001b[0m\n",
      "\u001b[34mtrain:loss 0.00022315\u001b[0m\n",
      "\u001b[34m--------------------------------------\u001b[0m\n",
      "\u001b[34m2023-09-09 20:38:52,515 sagemaker-training-toolkit INFO     Waiting for the process to finish and give a return code.\u001b[0m\n",
      "\u001b[34m2023-09-09 20:38:52,515 sagemaker-training-toolkit INFO     Done waiting for a return code. Received 0 from exiting process.\u001b[0m\n",
      "\u001b[34m2023-09-09 20:38:52,515 sagemaker-training-toolkit INFO     Reporting training SUCCESS\u001b[0m\n",
      "\n",
      "2023-09-09 20:39:13 Completed - Training job completed\n",
      "Training seconds: 348\n",
      "Billable seconds: 348\n"
     ]
    }
   ],
   "source": [
    "estimator = sagemaker.algorithm.AlgorithmEstimator(\n",
    "    algorithm_arn=algo_arn,\n",
    "    role=role,\n",
    "    instance_count=1,\n",
    "    instance_type=instance_type,\n",
    "    input_mode=\"File\",\n",
    "    sagemaker_session=sagemaker_session,\n",
    "    hyperparameters={\n",
    "        \"sequence-length\": 100,\n",
    "        \"hidden-size\": 256,\n",
    "        \"num-layers\": 2,\n",
    "        \"dropout\": 0.8,\n",
    "        \"lr\": 0.001,\n",
    "        \"batch-size\": 16,\n",
    "        \"epochs\": 500,\n",
    "    },\n",
    ")\n",
    "\n",
    "estimator.fit({\"training\": training_data})"
   ]
  },
  {
   "cell_type": "markdown",
   "id": "929a3d35-a4ba-4a39-a7b0-8dbd4f9c2601",
   "metadata": {},
   "source": [
    "### 4. Inference"
   ]
  },
  {
   "cell_type": "markdown",
   "id": "8aecf50e-4c75-4273-a6c3-ce7004a8220b",
   "metadata": {},
   "source": [
    "Generate the test set predictions."
   ]
  },
  {
   "cell_type": "code",
   "execution_count": 18,
   "id": "a4657c35-0687-413a-829c-a028e6a9e9d7",
   "metadata": {},
   "outputs": [
    {
     "name": "stderr",
     "output_type": "stream",
     "text": [
      "INFO:sagemaker:Creating model package with name: lstm-ad-algo-v1-6-2023-09-09-20-39-42-042\n"
     ]
    },
    {
     "name": "stdout",
     "output_type": "stream",
     "text": [
      ".........."
     ]
    },
    {
     "name": "stderr",
     "output_type": "stream",
     "text": [
      "INFO:sagemaker:Creating model with name: lstm-ad-algo-v1-6-2023-09-09-20-39-42-0-2023-09-09-20-40-32-592\n"
     ]
    },
    {
     "name": "stdout",
     "output_type": "stream",
     "text": [
      "\n"
     ]
    },
    {
     "name": "stderr",
     "output_type": "stream",
     "text": [
      "INFO:sagemaker:Creating transform job with name: lstm-ad-algo-v1-6-2023-09-09-20-40-33-259\n"
     ]
    },
    {
     "name": "stdout",
     "output_type": "stream",
     "text": [
      ".........................................\u001b[34mWarning: TorchServe is using non-default JVM parameters: -XX:-UseContainerSupport\u001b[0m\n",
      "\u001b[34mWARNING: sun.reflect.Reflection.getCallerClass is not supported. This will impact performance.\u001b[0m\n",
      "\u001b[34m2023-09-09T20:47:24,552 [INFO ] main org.pytorch.serve.servingsdk.impl.PluginsManager - Initializing plugins manager...\u001b[0m\n",
      "\u001b[34m2023-09-09T20:47:24,613 [INFO ] main org.pytorch.serve.metrics.configuration.MetricConfiguration - Successfully loaded metrics configuration from /opt/conda/lib/python3.10/site-packages/ts/configs/metrics.yaml\u001b[0m\n",
      "\u001b[34m2023-09-09T20:47:24,704 [INFO ] main org.pytorch.serve.ModelServer - \u001b[0m\n",
      "\u001b[34mTorchserve version: 0.8.1\u001b[0m\n",
      "\u001b[34mTS Home: /opt/conda/lib/python3.10/site-packages\u001b[0m\n",
      "\u001b[34mCurrent directory: /\u001b[0m\n",
      "\u001b[34mTemp directory: /home/model-server/tmp\u001b[0m\n",
      "\u001b[34mMetrics config path: /opt/conda/lib/python3.10/site-packages/ts/configs/metrics.yaml\u001b[0m\n",
      "\u001b[34mNumber of GPUs: 0\u001b[0m\n",
      "\u001b[34mNumber of CPUs: 8\u001b[0m\n",
      "\u001b[34mMax heap size: 7924 M\u001b[0m\n",
      "\u001b[34mPython executable: /opt/conda/bin/python3.10\u001b[0m\n",
      "\u001b[34mConfig file: /etc/sagemaker-ts.properties\u001b[0m\n",
      "\u001b[34mInference address: http://0.0.0.0:8080\u001b[0m\n",
      "\u001b[34mManagement address: http://0.0.0.0:8080\u001b[0m\n",
      "\u001b[34mMetrics address: http://127.0.0.1:8082\u001b[0m\n",
      "\u001b[34mModel Store: /.sagemaker/ts/models\u001b[0m\n",
      "\u001b[34mInitial Models: model=/opt/ml/model\u001b[0m\n",
      "\u001b[34mLog dir: /logs\u001b[0m\n",
      "\u001b[34mMetrics dir: /logs\u001b[0m\n",
      "\u001b[34mNetty threads: 0\u001b[0m\n",
      "\u001b[34mNetty client threads: 0\u001b[0m\n",
      "\u001b[34mDefault workers per model: 8\u001b[0m\n",
      "\u001b[34mBlacklist Regex: N/A\u001b[0m\n",
      "\u001b[34mMaximum Response Size: 6553500\u001b[0m\n",
      "\u001b[34mMaximum Request Size: 6553500\u001b[0m\n",
      "\u001b[34mLimit Maximum Image Pixels: true\u001b[0m\n",
      "\u001b[34mPrefer direct buffer: false\u001b[0m\n",
      "\u001b[34mAllowed Urls: [file://.*|http(s)?://.*]\u001b[0m\n",
      "\u001b[34mCustom python dependency for model allowed: false\u001b[0m\n",
      "\u001b[34mEnable metrics API: true\u001b[0m\n",
      "\u001b[34mMetrics mode: log\u001b[0m\n",
      "\u001b[34mDisable system metrics: true\u001b[0m\n",
      "\u001b[34mWorkflow Store: /.sagemaker/ts/models\u001b[0m\n",
      "\u001b[34mModel config: N/A\u001b[0m\n",
      "\u001b[34m2023-09-09T20:47:24,712 [INFO ] main org.pytorch.serve.servingsdk.impl.PluginsManager -  Loading snapshot serializer plugin...\u001b[0m\n",
      "\u001b[34m2023-09-09T20:47:24,730 [INFO ] main org.pytorch.serve.ModelServer - Loading initial models: /opt/ml/model\u001b[0m\n",
      "\u001b[34m2023-09-09T20:47:24,733 [WARN ] main org.pytorch.serve.archive.model.ModelArchive - Model archive version is not defined. Please upgrade to torch-model-archiver 0.2.0 or higher\u001b[0m\n",
      "\u001b[34m2023-09-09T20:47:24,733 [WARN ] main org.pytorch.serve.archive.model.ModelArchive - Model archive createdOn is not defined. Please upgrade to torch-model-archiver 0.2.0 or higher\u001b[0m\n",
      "\u001b[34m2023-09-09T20:47:24,736 [INFO ] main org.pytorch.serve.wlm.ModelManager - Model model loaded.\u001b[0m\n",
      "\u001b[34m2023-09-09T20:47:24,747 [INFO ] main org.pytorch.serve.ModelServer - Initialize Inference server with: EpollServerSocketChannel.\u001b[0m\n",
      "\u001b[34m2023-09-09T20:47:25,073 [INFO ] main org.pytorch.serve.ModelServer - Inference API bind to: http://0.0.0.0:8080\u001b[0m\n",
      "\u001b[34m2023-09-09T20:47:25,074 [INFO ] main org.pytorch.serve.ModelServer - Initialize Metrics server with: EpollServerSocketChannel.\u001b[0m\n",
      "\u001b[34m2023-09-09T20:47:25,151 [INFO ] main org.pytorch.serve.ModelServer - Metrics API bind to: http://127.0.0.1:8082\u001b[0m\n",
      "\u001b[34mModel server started.\u001b[0m\n",
      "\u001b[34m2023-09-09T20:47:27,327 [INFO ] W-9004-model_1.0-stdout MODEL_LOG - s_name_part0=/home/model-server/tmp/.ts.sock, s_name_part1=9004, pid=64\u001b[0m\n",
      "\u001b[34m2023-09-09T20:47:27,330 [INFO ] W-9004-model_1.0-stdout MODEL_LOG - Listening on port: /home/model-server/tmp/.ts.sock.9004\u001b[0m\n",
      "\u001b[34m2023-09-09T20:47:27,349 [INFO ] W-9004-model_1.0-stdout MODEL_LOG - Successfully loaded /opt/conda/lib/python3.10/site-packages/ts/configs/metrics.yaml.\u001b[0m\n",
      "\u001b[34m2023-09-09T20:47:27,360 [INFO ] W-9004-model_1.0-stdout MODEL_LOG - [PID]64\u001b[0m\n",
      "\u001b[34m2023-09-09T20:47:27,361 [INFO ] W-9004-model_1.0-stdout MODEL_LOG - Torch worker started.\u001b[0m\n",
      "\u001b[34m2023-09-09T20:47:27,362 [INFO ] W-9004-model_1.0-stdout MODEL_LOG - Python runtime: 3.10.9\u001b[0m\n",
      "\u001b[34m2023-09-09T20:47:27,370 [INFO ] W-9004-model_1.0 org.pytorch.serve.wlm.WorkerThread - Connecting to: /home/model-server/tmp/.ts.sock.9004\u001b[0m\n",
      "\u001b[34m2023-09-09T20:47:27,374 [INFO ] W-9006-model_1.0-stdout MODEL_LOG - s_name_part0=/home/model-server/tmp/.ts.sock, s_name_part1=9006, pid=70\u001b[0m\n",
      "\u001b[34m2023-09-09T20:47:27,375 [INFO ] W-9006-model_1.0-stdout MODEL_LOG - Listening on port: /home/model-server/tmp/.ts.sock.9006\u001b[0m\n",
      "\u001b[34m2023-09-09T20:47:27,400 [INFO ] W-9004-model_1.0-stdout MODEL_LOG - Connection accepted: /home/model-server/tmp/.ts.sock.9004.\u001b[0m\n",
      "\u001b[34m2023-09-09T20:47:27,403 [INFO ] W-9006-model_1.0-stdout MODEL_LOG - Successfully loaded /opt/conda/lib/python3.10/site-packages/ts/configs/metrics.yaml.\u001b[0m\n",
      "\u001b[34m2023-09-09T20:47:27,403 [INFO ] W-9006-model_1.0-stdout MODEL_LOG - [PID]70\u001b[0m\n",
      "\u001b[34m2023-09-09T20:47:27,404 [INFO ] W-9006-model_1.0-stdout MODEL_LOG - Torch worker started.\u001b[0m\n",
      "\u001b[34m2023-09-09T20:47:27,404 [INFO ] W-9006-model_1.0-stdout MODEL_LOG - Python runtime: 3.10.9\u001b[0m\n",
      "\u001b[34m2023-09-09T20:47:27,404 [INFO ] W-9006-model_1.0 org.pytorch.serve.wlm.WorkerThread - Connecting to: /home/model-server/tmp/.ts.sock.9006\u001b[0m\n",
      "\u001b[34m2023-09-09T20:47:27,406 [INFO ] W-9004-model_1.0 org.pytorch.serve.wlm.WorkerThread - Flushing req.cmd LOAD to backend at: 1694292447406\u001b[0m\n",
      "\u001b[34m2023-09-09T20:47:27,419 [INFO ] W-9006-model_1.0-stdout MODEL_LOG - Connection accepted: /home/model-server/tmp/.ts.sock.9006.\u001b[0m\n",
      "\u001b[34m2023-09-09T20:47:27,419 [INFO ] W-9006-model_1.0 org.pytorch.serve.wlm.WorkerThread - Flushing req.cmd LOAD to backend at: 1694292447419\u001b[0m\n",
      "\u001b[34m2023-09-09T20:47:27,467 [INFO ] W-9004-model_1.0-stdout MODEL_LOG - model_name: model, batchSize: 1\u001b[0m\n",
      "\u001b[34m2023-09-09T20:47:27,472 [INFO ] W-9006-model_1.0-stdout MODEL_LOG - model_name: model, batchSize: 1\u001b[0m\n",
      "\u001b[34m2023-09-09T20:47:27,522 [INFO ] W-9002-model_1.0-stdout MODEL_LOG - s_name_part0=/home/model-server/tmp/.ts.sock, s_name_part1=9002, pid=63\u001b[0m\n",
      "\u001b[34m2023-09-09T20:47:27,524 [INFO ] W-9002-model_1.0-stdout MODEL_LOG - Listening on port: /home/model-server/tmp/.ts.sock.9002\u001b[0m\n",
      "\u001b[34m2023-09-09T20:47:27,551 [INFO ] W-9001-model_1.0-stdout MODEL_LOG - s_name_part0=/home/model-server/tmp/.ts.sock, s_name_part1=9001, pid=69\u001b[0m\n",
      "\u001b[34m2023-09-09T20:47:27,555 [INFO ] W-9002-model_1.0-stdout MODEL_LOG - Successfully loaded /opt/conda/lib/python3.10/site-packages/ts/configs/metrics.yaml.\u001b[0m\n",
      "\u001b[34m2023-09-09T20:47:27,555 [INFO ] W-9002-model_1.0-stdout MODEL_LOG - [PID]63\u001b[0m\n",
      "\u001b[34m2023-09-09T20:47:27,556 [INFO ] W-9002-model_1.0-stdout MODEL_LOG - Torch worker started.\u001b[0m\n",
      "\u001b[34m2023-09-09T20:47:27,556 [INFO ] W-9002-model_1.0 org.pytorch.serve.wlm.WorkerThread - Connecting to: /home/model-server/tmp/.ts.sock.9002\u001b[0m\n",
      "\u001b[34m2023-09-09T20:47:27,558 [INFO ] W-9002-model_1.0-stdout MODEL_LOG - Python runtime: 3.10.9\u001b[0m\n",
      "\u001b[34m2023-09-09T20:47:27,559 [INFO ] W-9001-model_1.0-stdout MODEL_LOG - Listening on port: /home/model-server/tmp/.ts.sock.9001\u001b[0m\n",
      "\u001b[34m2023-09-09T20:47:27,570 [INFO ] W-9002-model_1.0-stdout MODEL_LOG - Connection accepted: /home/model-server/tmp/.ts.sock.9002.\u001b[0m\n",
      "\u001b[34m2023-09-09T20:47:27,571 [INFO ] W-9002-model_1.0 org.pytorch.serve.wlm.WorkerThread - Flushing req.cmd LOAD to backend at: 1694292447571\u001b[0m\n",
      "\u001b[34m2023-09-09T20:47:27,581 [INFO ] W-9003-model_1.0-stdout MODEL_LOG - s_name_part0=/home/model-server/tmp/.ts.sock, s_name_part1=9003, pid=67\u001b[0m\n",
      "\u001b[34m2023-09-09T20:47:27,581 [INFO ] W-9000-model_1.0-stdout MODEL_LOG - s_name_part0=/home/model-server/tmp/.ts.sock, s_name_part1=9000, pid=65\u001b[0m\n",
      "\u001b[34m2023-09-09T20:47:27,582 [INFO ] W-9000-model_1.0-stdout MODEL_LOG - Listening on port: /home/model-server/tmp/.ts.sock.9000\u001b[0m\n",
      "\u001b[34m2023-09-09T20:47:27,583 [INFO ] W-9003-model_1.0-stdout MODEL_LOG - Listening on port: /home/model-server/tmp/.ts.sock.9003\u001b[0m\n",
      "\u001b[34m2023-09-09T20:47:27,587 [INFO ] W-9007-model_1.0-stdout MODEL_LOG - s_name_part0=/home/model-server/tmp/.ts.sock, s_name_part1=9007, pid=66\u001b[0m\n",
      "\u001b[34m2023-09-09T20:47:27,588 [INFO ] W-9007-model_1.0-stdout MODEL_LOG - Listening on port: /home/model-server/tmp/.ts.sock.9007\u001b[0m\n",
      "\u001b[34m2023-09-09T20:47:27,595 [INFO ] W-9005-model_1.0-stdout MODEL_LOG - s_name_part0=/home/model-server/tmp/.ts.sock, s_name_part1=9005, pid=68\u001b[0m\n",
      "\u001b[34m2023-09-09T20:47:27,596 [INFO ] W-9005-model_1.0-stdout MODEL_LOG - Listening on port: /home/model-server/tmp/.ts.sock.9005\u001b[0m\n",
      "\u001b[34m2023-09-09T20:47:27,603 [INFO ] W-9003-model_1.0-stdout MODEL_LOG - Successfully loaded /opt/conda/lib/python3.10/site-packages/ts/configs/metrics.yaml.\u001b[0m\n",
      "\u001b[34m2023-09-09T20:47:27,604 [INFO ] W-9003-model_1.0-stdout MODEL_LOG - [PID]67\u001b[0m\n",
      "\u001b[34m2023-09-09T20:47:27,604 [INFO ] W-9003-model_1.0-stdout MODEL_LOG - Torch worker started.\u001b[0m\n",
      "\u001b[34m2023-09-09T20:47:27,605 [INFO ] W-9003-model_1.0 org.pytorch.serve.wlm.WorkerThread - Connecting to: /home/model-server/tmp/.ts.sock.9003\u001b[0m\n",
      "\u001b[34m2023-09-09T20:47:27,606 [INFO ] W-9007-model_1.0-stdout MODEL_LOG - Successfully loaded /opt/conda/lib/python3.10/site-packages/ts/configs/metrics.yaml.\u001b[0m\n",
      "\u001b[34m2023-09-09T20:47:27,608 [INFO ] W-9003-model_1.0-stdout MODEL_LOG - Python runtime: 3.10.9\u001b[0m\n",
      "\u001b[34m2023-09-09T20:47:27,608 [INFO ] W-9007-model_1.0-stdout MODEL_LOG - [PID]66\u001b[0m\n",
      "\u001b[34m2023-09-09T20:47:27,608 [INFO ] W-9007-model_1.0-stdout MODEL_LOG - Torch worker started.\u001b[0m\n",
      "\u001b[34m2023-09-09T20:47:27,609 [INFO ] W-9007-model_1.0 org.pytorch.serve.wlm.WorkerThread - Connecting to: /home/model-server/tmp/.ts.sock.9007\u001b[0m\n",
      "\u001b[34m2023-09-09T20:47:27,610 [INFO ] W-9003-model_1.0-stdout MODEL_LOG - Connection accepted: /home/model-server/tmp/.ts.sock.9003.\u001b[0m\n",
      "\u001b[34m2023-09-09T20:47:27,610 [INFO ] W-9001-model_1.0-stdout MODEL_LOG - Successfully loaded /opt/conda/lib/python3.10/site-packages/ts/configs/metrics.yaml.\u001b[0m\n",
      "\u001b[34m2023-09-09T20:47:27,611 [INFO ] W-9001-model_1.0-stdout MODEL_LOG - [PID]69\u001b[0m\n",
      "\u001b[34m2023-09-09T20:47:27,611 [INFO ] W-9001-model_1.0-stdout MODEL_LOG - Torch worker started.\u001b[0m\n",
      "\u001b[34m2023-09-09T20:47:27,611 [INFO ] W-9007-model_1.0-stdout MODEL_LOG - Python runtime: 3.10.9\u001b[0m\n",
      "\u001b[34m2023-09-09T20:47:27,612 [INFO ] W-9001-model_1.0 org.pytorch.serve.wlm.WorkerThread - Connecting to: /home/model-server/tmp/.ts.sock.9001\u001b[0m\n",
      "\u001b[34m2023-09-09T20:47:27,613 [INFO ] W-9001-model_1.0-stdout MODEL_LOG - Python runtime: 3.10.9\u001b[0m\n",
      "\u001b[34m2023-09-09T20:47:27,613 [INFO ] W-9003-model_1.0 org.pytorch.serve.wlm.WorkerThread - Flushing req.cmd LOAD to backend at: 1694292447613\u001b[0m\n",
      "\u001b[34m2023-09-09T20:47:27,614 [INFO ] W-9005-model_1.0-stdout MODEL_LOG - Successfully loaded /opt/conda/lib/python3.10/site-packages/ts/configs/metrics.yaml.\u001b[0m\n",
      "\u001b[34m2023-09-09T20:47:27,615 [INFO ] W-9005-model_1.0-stdout MODEL_LOG - [PID]68\u001b[0m\n",
      "\u001b[34m2023-09-09T20:47:27,615 [INFO ] W-9002-model_1.0-stdout MODEL_LOG - model_name: model, batchSize: 1\u001b[0m\n",
      "\u001b[34m2023-09-09T20:47:27,615 [INFO ] W-9005-model_1.0-stdout MODEL_LOG - Torch worker started.\u001b[0m\n",
      "\u001b[34m2023-09-09T20:47:27,615 [INFO ] W-9005-model_1.0 org.pytorch.serve.wlm.WorkerThread - Connecting to: /home/model-server/tmp/.ts.sock.9005\u001b[0m\n",
      "\u001b[34m2023-09-09T20:47:27,616 [INFO ] W-9000-model_1.0-stdout MODEL_LOG - Successfully loaded /opt/conda/lib/python3.10/site-packages/ts/configs/metrics.yaml.\u001b[0m\n",
      "\u001b[34m2023-09-09T20:47:27,616 [INFO ] W-9005-model_1.0-stdout MODEL_LOG - Python runtime: 3.10.9\u001b[0m\n",
      "\u001b[34m2023-09-09T20:47:27,617 [INFO ] W-9000-model_1.0-stdout MODEL_LOG - [PID]65\u001b[0m\n",
      "\u001b[34m2023-09-09T20:47:27,617 [INFO ] W-9000-model_1.0-stdout MODEL_LOG - Torch worker started.\u001b[0m\n",
      "\u001b[34m2023-09-09T20:47:27,618 [INFO ] W-9000-model_1.0 org.pytorch.serve.wlm.WorkerThread - Connecting to: /home/model-server/tmp/.ts.sock.9000\u001b[0m\n",
      "\u001b[34m2023-09-09T20:47:27,620 [INFO ] W-9000-model_1.0-stdout MODEL_LOG - Python runtime: 3.10.9\u001b[0m\n",
      "\u001b[34m2023-09-09T20:47:27,629 [INFO ] W-9007-model_1.0-stdout MODEL_LOG - Connection accepted: /home/model-server/tmp/.ts.sock.9007.\u001b[0m\n",
      "\u001b[34m2023-09-09T20:47:27,629 [INFO ] W-9007-model_1.0 org.pytorch.serve.wlm.WorkerThread - Flushing req.cmd LOAD to backend at: 1694292447629\u001b[0m\n",
      "\u001b[34m2023-09-09T20:47:27,641 [INFO ] W-9001-model_1.0 org.pytorch.serve.wlm.WorkerThread - Flushing req.cmd LOAD to backend at: 1694292447641\u001b[0m\n",
      "\u001b[34m2023-09-09T20:47:27,642 [INFO ] W-9001-model_1.0-stdout MODEL_LOG - Connection accepted: /home/model-server/tmp/.ts.sock.9001.\u001b[0m\n",
      "\u001b[34m2023-09-09T20:47:27,659 [INFO ] W-9005-model_1.0 org.pytorch.serve.wlm.WorkerThread - Flushing req.cmd LOAD to backend at: 1694292447659\u001b[0m\n",
      "\u001b[34m2023-09-09T20:47:27,659 [INFO ] W-9005-model_1.0-stdout MODEL_LOG - Connection accepted: /home/model-server/tmp/.ts.sock.9005.\u001b[0m\n",
      "\u001b[34m2023-09-09T20:47:27,660 [INFO ] W-9003-model_1.0-stdout MODEL_LOG - model_name: model, batchSize: 1\u001b[0m\n",
      "\u001b[34m2023-09-09T20:47:27,698 [INFO ] W-9001-model_1.0-stdout MODEL_LOG - model_name: model, batchSize: 1\u001b[0m\n",
      "\u001b[34m2023-09-09T20:47:27,700 [INFO ] W-9000-model_1.0-stdout MODEL_LOG - Connection accepted: /home/model-server/tmp/.ts.sock.9000.\u001b[0m\n",
      "\u001b[34m2023-09-09T20:47:27,726 [INFO ] W-9000-model_1.0 org.pytorch.serve.wlm.WorkerThread - Flushing req.cmd LOAD to backend at: 1694292447726\u001b[0m\n",
      "\u001b[34m2023-09-09T20:47:27,735 [INFO ] W-9007-model_1.0-stdout MODEL_LOG - model_name: model, batchSize: 1\u001b[0m\n",
      "\u001b[34m2023-09-09T20:47:27,775 [INFO ] W-9005-model_1.0-stdout MODEL_LOG - model_name: model, batchSize: 1\u001b[0m\n",
      "\u001b[34m2023-09-09T20:47:27,790 [INFO ] W-9000-model_1.0-stdout MODEL_LOG - model_name: model, batchSize: 1\u001b[0m\n",
      "\u001b[34m2023-09-09T20:47:28,472 [INFO ] W-9002-model_1.0 org.pytorch.serve.wlm.WorkerThread - Backend response time: 845\u001b[0m\n",
      "\u001b[34m2023-09-09T20:47:28,473 [INFO ] W-9002-model_1.0 TS_METRICS - WorkerLoadTime.Milliseconds:3730.0|#WorkerName:W-9002-model_1.0,Level:Host|#hostname:52579fd147b7,timestamp:1694292448\u001b[0m\n",
      "\u001b[34m2023-09-09T20:47:28,473 [INFO ] W-9002-model_1.0 TS_METRICS - WorkerThreadTime.Milliseconds:57.0|#Level:Host|#hostname:52579fd147b7,timestamp:1694292448\u001b[0m\n",
      "\u001b[34m2023-09-09T20:47:28,475 [INFO ] W-9003-model_1.0 org.pytorch.serve.wlm.WorkerThread - Backend response time: 786\u001b[0m\n",
      "\u001b[34m2023-09-09T20:47:28,475 [INFO ] W-9004-model_1.0 org.pytorch.serve.wlm.WorkerThread - Backend response time: 1009\u001b[0m\n",
      "\u001b[34m2023-09-09T20:47:28,476 [INFO ] W-9003-model_1.0 TS_METRICS - WorkerLoadTime.Milliseconds:3733.0|#WorkerName:W-9003-model_1.0,Level:Host|#hostname:52579fd147b7,timestamp:1694292448\u001b[0m\n",
      "\u001b[34m2023-09-09T20:47:28,476 [INFO ] W-9004-model_1.0 TS_METRICS - WorkerLoadTime.Milliseconds:3732.0|#WorkerName:W-9004-model_1.0,Level:Host|#hostname:52579fd147b7,timestamp:1694292448\u001b[0m\n",
      "\u001b[34m2023-09-09T20:47:28,476 [INFO ] W-9003-model_1.0 TS_METRICS - WorkerThreadTime.Milliseconds:77.0|#Level:Host|#hostname:52579fd147b7,timestamp:1694292448\u001b[0m\n",
      "\u001b[34m2023-09-09T20:47:28,476 [INFO ] W-9004-model_1.0 TS_METRICS - WorkerThreadTime.Milliseconds:61.0|#Level:Host|#hostname:52579fd147b7,timestamp:1694292448\u001b[0m\n",
      "\u001b[34m2023-09-09T20:47:28,601 [INFO ] W-9001-model_1.0 org.pytorch.serve.wlm.WorkerThread - Backend response time: 891\u001b[0m\n",
      "\u001b[34m2023-09-09T20:47:28,601 [INFO ] W-9001-model_1.0 TS_METRICS - WorkerLoadTime.Milliseconds:3858.0|#WorkerName:W-9001-model_1.0,Level:Host|#hostname:52579fd147b7,timestamp:1694292448\u001b[0m\n",
      "\u001b[34m2023-09-09T20:47:28,601 [INFO ] W-9001-model_1.0 TS_METRICS - WorkerThreadTime.Milliseconds:69.0|#Level:Host|#hostname:52579fd147b7,timestamp:1694292448\u001b[0m\n",
      "\u001b[34m2023-09-09T20:47:28,636 [INFO ] W-9000-model_1.0 org.pytorch.serve.wlm.WorkerThread - Backend response time: 838\u001b[0m\n",
      "\u001b[34m2023-09-09T20:47:28,636 [INFO ] W-9000-model_1.0 TS_METRICS - WorkerLoadTime.Milliseconds:3894.0|#WorkerName:W-9000-model_1.0,Level:Host|#hostname:52579fd147b7,timestamp:1694292448\u001b[0m\n",
      "\u001b[34m2023-09-09T20:47:28,637 [INFO ] W-9000-model_1.0 TS_METRICS - WorkerThreadTime.Milliseconds:73.0|#Level:Host|#hostname:52579fd147b7,timestamp:1694292448\u001b[0m\n",
      "\u001b[34m2023-09-09T20:47:28,650 [INFO ] W-9006-model_1.0 org.pytorch.serve.wlm.WorkerThread - Backend response time: 1179\u001b[0m\n",
      "\u001b[34m2023-09-09T20:47:28,651 [INFO ] W-9006-model_1.0 TS_METRICS - WorkerLoadTime.Milliseconds:3906.0|#WorkerName:W-9006-model_1.0,Level:Host|#hostname:52579fd147b7,timestamp:1694292448\u001b[0m\n",
      "\u001b[34m2023-09-09T20:47:28,651 [INFO ] W-9006-model_1.0 TS_METRICS - WorkerThreadTime.Milliseconds:53.0|#Level:Host|#hostname:52579fd147b7,timestamp:1694292448\u001b[0m\n",
      "\u001b[34m2023-09-09T20:47:28,772 [INFO ] W-9007-model_1.0 org.pytorch.serve.wlm.WorkerThread - Backend response time: 1046\u001b[0m\n",
      "\u001b[34m2023-09-09T20:47:28,774 [INFO ] W-9007-model_1.0 TS_METRICS - WorkerLoadTime.Milliseconds:4030.0|#WorkerName:W-9007-model_1.0,Level:Host|#hostname:52579fd147b7,timestamp:1694292448\u001b[0m\n",
      "\u001b[34m2023-09-09T20:47:28,775 [INFO ] W-9007-model_1.0 TS_METRICS - WorkerThreadTime.Milliseconds:100.0|#Level:Host|#hostname:52579fd147b7,timestamp:1694292448\u001b[0m\n",
      "\u001b[34m2023-09-09T20:47:28,777 [INFO ] W-9005-model_1.0 org.pytorch.serve.wlm.WorkerThread - Backend response time: 979\u001b[0m\n",
      "\u001b[34m2023-09-09T20:47:28,778 [INFO ] W-9005-model_1.0 TS_METRICS - WorkerLoadTime.Milliseconds:4034.0|#WorkerName:W-9005-model_1.0,Level:Host|#hostname:52579fd147b7,timestamp:1694292448\u001b[0m\n",
      "\u001b[34m2023-09-09T20:47:28,778 [INFO ] W-9005-model_1.0 TS_METRICS - WorkerThreadTime.Milliseconds:140.0|#Level:Host|#hostname:52579fd147b7,timestamp:1694292448\u001b[0m\n",
      "\u001b[34m2023-09-09T20:47:30,527 [INFO ] pool-2-thread-9 ACCESS_LOG - /169.254.255.130:41834 \"GET /ping HTTP/1.1\" 200 13\u001b[0m\n",
      "\u001b[34m2023-09-09T20:47:30,527 [INFO ] pool-2-thread-9 TS_METRICS - Requests2XX.Count:1.0|#Level:Host|#hostname:52579fd147b7,timestamp:1694292450\u001b[0m\n",
      "\u001b[34m2023-09-09T20:47:30,547 [INFO ] epollEventLoopGroup-3-2 ACCESS_LOG - /169.254.255.130:41844 \"GET /execution-parameters HTTP/1.1\" 404 1\u001b[0m\n",
      "\u001b[34m2023-09-09T20:47:30,548 [INFO ] epollEventLoopGroup-3-2 TS_METRICS - Requests4XX.Count:1.0|#Level:Host|#hostname:52579fd147b7,timestamp:1694292450\u001b[0m\n",
      "\u001b[34m2023-09-09T20:47:30,665 [INFO ] epollEventLoopGroup-3-3 TS_METRICS - ts_inference_requests_total.Count:1.0|#model_name:model,model_version:default|#hostname:52579fd147b7,timestamp:1694292450\u001b[0m\n",
      "\u001b[34m2023-09-09T20:47:30,666 [INFO ] W-9002-model_1.0 org.pytorch.serve.wlm.WorkerThread - Flushing req.cmd PREDICT to backend at: 1694292450666\u001b[0m\n",
      "\u001b[34m2023-09-09T20:47:30,668 [INFO ] W-9002-model_1.0-stdout MODEL_LOG - Backend received inference at: 1694292450\u001b[0m\n",
      "\u001b[34m2023-09-09T20:47:31,074 [INFO ] W-9002-model_1.0-stdout org.pytorch.serve.wlm.WorkerLifeCycle - result=[METRICS]PredictionTime.Milliseconds:405.28|#ModelName:model,Level:Model|#hostname:52579fd147b7,1694292451,9224b84a-1160-4e68-8393-f404fd8e6c64, pattern=[METRICS]\u001b[0m\n",
      "\u001b[34m2023-09-09T20:47:31,075 [INFO ] W-9002-model_1.0-stdout MODEL_METRICS - PredictionTime.ms:405.28|#ModelName:model,Level:Model|#hostname:52579fd147b7,requestID:9224b84a-1160-4e68-8393-f404fd8e6c64,timestamp:1694292451\u001b[0m\n",
      "\u001b[34m2023-09-09T20:47:31,078 [INFO ] W-9002-model_1.0 ACCESS_LOG - /169.254.255.130:41848 \"POST /invocations HTTP/1.1\" 200 415\u001b[0m\n",
      "\u001b[34m2023-09-09T20:47:31,079 [INFO ] W-9002-model_1.0 TS_METRICS - Requests2XX.Count:1.0|#Level:Host|#hostname:52579fd147b7,timestamp:1694292451\u001b[0m\n",
      "\u001b[34m2023-09-09T20:47:31,080 [INFO ] W-9002-model_1.0 TS_METRICS - ts_inference_latency_microseconds.Microseconds:412109.776|#model_name:model,model_version:default|#hostname:52579fd147b7,timestamp:1694292451\u001b[0m\n",
      "\u001b[34m2023-09-09T20:47:31,080 [INFO ] W-9002-model_1.0 TS_METRICS - ts_queue_latency_microseconds.Microseconds:180.234|#model_name:model,model_version:default|#hostname:52579fd147b7,timestamp:1694292451\u001b[0m\n",
      "\u001b[34m2023-09-09T20:47:31,081 [INFO ] W-9002-model_1.0 TS_METRICS - QueueTime.Milliseconds:0.0|#Level:Host|#hostname:52579fd147b7,timestamp:1694292451\u001b[0m\n",
      "\u001b[34m2023-09-09T20:47:31,081 [INFO ] W-9002-model_1.0 org.pytorch.serve.wlm.WorkerThread - Backend response time: 410\u001b[0m\n",
      "\u001b[34m2023-09-09T20:47:31,081 [INFO ] W-9002-model_1.0 TS_METRICS - WorkerThreadTime.Milliseconds:5.0|#Level:Host|#hostname:52579fd147b7,timestamp:1694292451\u001b[0m\n",
      "\n",
      "\u001b[32m2023-09-09T20:47:30.555:[sagemaker logs]: MaxConcurrentTransforms=1, MaxPayloadInMB=100, BatchStrategy=MULTI_RECORD\u001b[0m\n"
     ]
    }
   ],
   "source": [
    "transformer = estimator.transformer(\n",
    "    instance_count=1,\n",
    "    instance_type=instance_type,\n",
    "    max_payload=100,\n",
    ")\n",
    "\n",
    "transformer.transform(\n",
    "    data=test_data,\n",
    "    content_type=\"text/csv\",\n",
    ")"
   ]
  },
  {
   "cell_type": "markdown",
   "id": "54498c7d-dbb6-4098-b927-506e1058b062",
   "metadata": {},
   "source": [
    "Load the test set predictions from S3."
   ]
  },
  {
   "cell_type": "code",
   "execution_count": 19,
   "id": "317bf9e8-69ba-4eed-a8c9-8600fdbf92e9",
   "metadata": {},
   "outputs": [],
   "source": [
    "predictions = sagemaker_session.read_s3_file(\n",
    "    bucket=bucket,\n",
    "    key_prefix=f\"{transformer.latest_transform_job.name}/{dataset_name}_test.csv.out\"\n",
    ")"
   ]
  },
  {
   "cell_type": "code",
   "execution_count": 20,
   "id": "401fed04-1591-4f58-bb89-4dff0f6acfa3",
   "metadata": {},
   "outputs": [],
   "source": [
    "predictions = pd.DataFrame([x.split(\",\") for x in predictions.split(\"\\n\")[:-1]]).replace(\"\", np.nan).astype(float)"
   ]
  },
  {
   "cell_type": "code",
   "execution_count": 21,
   "id": "fe3eb1f5-5a4a-4623-9a4f-dc0958df4802",
   "metadata": {
    "tags": []
   },
   "outputs": [
    {
     "data": {
      "text/plain": [
       "(25000, 2)"
      ]
     },
     "execution_count": 21,
     "metadata": {},
     "output_type": "execute_result"
    }
   ],
   "source": [
    "predictions.shape"
   ]
  },
  {
   "cell_type": "code",
   "execution_count": 22,
   "id": "085ccaeb-c9a3-4735-843e-42b81f387049",
   "metadata": {
    "tags": []
   },
   "outputs": [
    {
     "data": {
      "text/html": [
       "<div>\n",
       "<style scoped>\n",
       "    .dataframe tbody tr th:only-of-type {\n",
       "        vertical-align: middle;\n",
       "    }\n",
       "\n",
       "    .dataframe tbody tr th {\n",
       "        vertical-align: top;\n",
       "    }\n",
       "\n",
       "    .dataframe thead th {\n",
       "        text-align: right;\n",
       "    }\n",
       "</style>\n",
       "<table border=\"1\" class=\"dataframe\">\n",
       "  <thead>\n",
       "    <tr style=\"text-align: right;\">\n",
       "      <th></th>\n",
       "      <th>0</th>\n",
       "      <th>1</th>\n",
       "    </tr>\n",
       "  </thead>\n",
       "  <tbody>\n",
       "    <tr>\n",
       "      <th>0</th>\n",
       "      <td>NaN</td>\n",
       "      <td>NaN</td>\n",
       "    </tr>\n",
       "    <tr>\n",
       "      <th>1</th>\n",
       "      <td>NaN</td>\n",
       "      <td>NaN</td>\n",
       "    </tr>\n",
       "    <tr>\n",
       "      <th>2</th>\n",
       "      <td>NaN</td>\n",
       "      <td>NaN</td>\n",
       "    </tr>\n",
       "    <tr>\n",
       "      <th>3</th>\n",
       "      <td>NaN</td>\n",
       "      <td>NaN</td>\n",
       "    </tr>\n",
       "    <tr>\n",
       "      <th>4</th>\n",
       "      <td>NaN</td>\n",
       "      <td>NaN</td>\n",
       "    </tr>\n",
       "  </tbody>\n",
       "</table>\n",
       "</div>"
      ],
      "text/plain": [
       "    0   1\n",
       "0 NaN NaN\n",
       "1 NaN NaN\n",
       "2 NaN NaN\n",
       "3 NaN NaN\n",
       "4 NaN NaN"
      ]
     },
     "execution_count": 22,
     "metadata": {},
     "output_type": "execute_result"
    }
   ],
   "source": [
    "predictions.head()"
   ]
  },
  {
   "cell_type": "code",
   "execution_count": 23,
   "id": "3e137b23-cddc-4211-9dcc-233575e5c636",
   "metadata": {
    "tags": []
   },
   "outputs": [
    {
     "data": {
      "text/html": [
       "<div>\n",
       "<style scoped>\n",
       "    .dataframe tbody tr th:only-of-type {\n",
       "        vertical-align: middle;\n",
       "    }\n",
       "\n",
       "    .dataframe tbody tr th {\n",
       "        vertical-align: top;\n",
       "    }\n",
       "\n",
       "    .dataframe thead th {\n",
       "        text-align: right;\n",
       "    }\n",
       "</style>\n",
       "<table border=\"1\" class=\"dataframe\">\n",
       "  <thead>\n",
       "    <tr style=\"text-align: right;\">\n",
       "      <th></th>\n",
       "      <th>0</th>\n",
       "      <th>1</th>\n",
       "    </tr>\n",
       "  </thead>\n",
       "  <tbody>\n",
       "    <tr>\n",
       "      <th>24995</th>\n",
       "      <td>-4.573664</td>\n",
       "      <td>-25.565417</td>\n",
       "    </tr>\n",
       "    <tr>\n",
       "      <th>24996</th>\n",
       "      <td>-4.512223</td>\n",
       "      <td>-31.404240</td>\n",
       "    </tr>\n",
       "    <tr>\n",
       "      <th>24997</th>\n",
       "      <td>-4.526761</td>\n",
       "      <td>-26.658904</td>\n",
       "    </tr>\n",
       "    <tr>\n",
       "      <th>24998</th>\n",
       "      <td>-4.595732</td>\n",
       "      <td>-27.466163</td>\n",
       "    </tr>\n",
       "    <tr>\n",
       "      <th>24999</th>\n",
       "      <td>-4.584966</td>\n",
       "      <td>-24.066879</td>\n",
       "    </tr>\n",
       "  </tbody>\n",
       "</table>\n",
       "</div>"
      ],
      "text/plain": [
       "              0          1\n",
       "24995 -4.573664 -25.565417\n",
       "24996 -4.512223 -31.404240\n",
       "24997 -4.526761 -26.658904\n",
       "24998 -4.595732 -27.466163\n",
       "24999 -4.584966 -24.066879"
      ]
     },
     "execution_count": 23,
     "metadata": {},
     "output_type": "execute_result"
    }
   ],
   "source": [
    "predictions.tail()"
   ]
  },
  {
   "cell_type": "markdown",
   "id": "5949c778-c8e5-4f0e-a53f-2a4d1bf1bc0d",
   "metadata": {},
   "source": [
    "Extract the anomalous time steps."
   ]
  },
  {
   "cell_type": "code",
   "execution_count": 24,
   "id": "cfc41486-f63d-41b9-8b60-ff36fbfb7526",
   "metadata": {
    "tags": []
   },
   "outputs": [],
   "source": [
    "anomalies = predictions.iloc[:, 0].sort_values().iloc[:k].index.to_series()"
   ]
  },
  {
   "cell_type": "code",
   "execution_count": 25,
   "id": "937234e7-e2ae-4205-b7d7-9f8226edd097",
   "metadata": {
    "tags": []
   },
   "outputs": [
    {
     "data": {
      "text/plain": [
       "array([12025])"
      ]
     },
     "execution_count": 25,
     "metadata": {},
     "output_type": "execute_result"
    }
   ],
   "source": [
    "anomalies.values"
   ]
  },
  {
   "cell_type": "markdown",
   "id": "61a8310e-fc8d-4f7f-bc26-c16a3c2941e2",
   "metadata": {},
   "source": [
    "Check if the anomalous time steps are within the anomalous time interval."
   ]
  },
  {
   "cell_type": "code",
   "execution_count": 26,
   "id": "34ea2558-ec58-4bc1-af5c-ef6285d5dcad",
   "metadata": {
    "tags": []
   },
   "outputs": [
    {
     "data": {
      "text/plain": [
       "array([ True])"
      ]
     },
     "execution_count": 26,
     "metadata": {},
     "output_type": "execute_result"
    }
   ],
   "source": [
    "anomalies.between(start - cutoff, end - cutoff).values"
   ]
  },
  {
   "cell_type": "markdown",
   "id": "831fccc6-0e68-45c0-8ec5-e1e47340c365",
   "metadata": {},
   "source": [
    "Visualize the predictions and the normality scores."
   ]
  },
  {
   "cell_type": "code",
   "execution_count": 27,
   "id": "9dba2cf6-3765-4089-bac1-1dfe141cae03",
   "metadata": {
    "tags": []
   },
   "outputs": [
    {
     "data": {
      "image/png": "[encoded data removed]",
      "text/plain": [
       "<Figure size 600x600 with 2 Axes>"
      ]
     },
     "metadata": {},
     "output_type": "display_data"
    }
   ],
   "source": [
    "fig, axs = plt.subplots(nrows=2, ncols=1, sharex=True, figsize=(6, 6))\n",
    "\n",
    "axs[0].set_title(\"Time Series\", size=10)\n",
    "axs[0].plot(test_dataset.values, color=\"#AFB8C1\", lw=0.5, label=\"Actual\")\n",
    "axs[0].plot(predictions.iloc[:, 1], color=\"#009ad3\", lw=0.5, label=\"Predicted\")\n",
    "axs[0].set(xlabel=\"Time\", ylabel=\"Value\")\n",
    "axs[0].xaxis.set_tick_params(labelbottom=True)\n",
    "axs[0].tick_params(axis=\"both\", which=\"major\", labelsize=7)\n",
    "axs[0].tick_params(axis=\"both\", which=\"minor\", labelsize=7)\n",
    "\n",
    "axs[1].set_title(\"Normality Score\", size=10)\n",
    "axs[1].plot(predictions.iloc[:, 0], color=\"#57606a\", lw=0.5)\n",
    "axs[1].set(xlabel=\"Time\", ylabel=\"Value\")\n",
    "axs[1].xaxis.set_tick_params(labelbottom=True)\n",
    "axs[1].tick_params(axis=\"both\", which=\"major\", labelsize=7)\n",
    "axs[1].tick_params(axis=\"both\", which=\"minor\", labelsize=7)\n",
    "\n",
    "fig.tight_layout()\n",
    "fig.legend(bbox_to_anchor=(1.2, 1, 0, 0), frameon=False)\n",
    "fig.show()"
   ]
  }
 ],
 "metadata": {
  "kernelspec": {
   "display_name": "conda_python3",
   "language": "python",
   "name": "conda_python3"
  },
  "language_info": {
   "codemirror_mode": {
    "name": "ipython",
    "version": 3
   },
   "file_extension": ".py",
   "mimetype": "text/x-python",
   "name": "python",
   "nbconvert_exporter": "python",
   "pygments_lexer": "ipython3",
   "version": "3.10.12"
  }
 },
 "nbformat": 4,
 "nbformat_minor": 5
}
