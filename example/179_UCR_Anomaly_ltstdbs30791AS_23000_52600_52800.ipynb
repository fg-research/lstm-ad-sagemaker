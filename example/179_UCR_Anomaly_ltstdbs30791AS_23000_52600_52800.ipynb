{
 "cells": [
  {
   "cell_type": "markdown",
   "id": "87deba9d-ff5b-4e7b-ade5-b30c341a7afa",
   "metadata": {},
   "source": [
    "# HEX UCR Dataset: 179_UCR_Anomaly_ltstdbs30791AS_23000_52600_52800"
   ]
  },
  {
   "cell_type": "markdown",
   "id": "2161c326-9263-4f5c-b7b0-8c8ed60f956c",
   "metadata": {},
   "source": [
    "**Dataset Link:** https://www.cs.ucr.edu/~eamonn/time_series_data_2018/UCR_TimeSeriesAnomalyDatasets2021.zip"
   ]
  },
  {
   "cell_type": "markdown",
   "id": "f56f1a46-73b9-4cde-b939-a326a6807009",
   "metadata": {},
   "source": [
    "### 1. Environment set-up"
   ]
  },
  {
   "cell_type": "markdown",
   "id": "8ee3df38-2d9f-4377-9931-3525900b6478",
   "metadata": {},
   "source": [
    "1. This notebook contains elements which render correctly in Jupyter interface. Open this notebook from an Amazon SageMaker Notebook Instance or Amazon SageMaker Studio.\n",
    "1. Ensure that IAM role used has **AmazonSageMakerFullAccess**\n",
    "1. Some hands-on experience using [Amazon SageMaker](https://aws.amazon.com/sagemaker/).\n",
    "1. To use this algorithm successfully, ensure that:\n",
    "    1. Either your IAM role has these three permissions and you have authority to make AWS Marketplace subscriptions in the AWS account used: \n",
    "        1. **aws-marketplace:ViewSubscriptions**\n",
    "        1. **aws-marketplace:Unsubscribe**\n",
    "        1. **aws-marketplace:Subscribe**  \n",
    "    2. or your AWS account has a subscription to the [Time Series Anomaly Detection (LSTM-AD) Algorithm from AWS Marketplace](https://aws.amazon.com/marketplace/pp/prodview-4pbvedtnnlphw).\n",
    "\n",
    "To subscribe to the algorithm:\n",
    "1. Open the algorithm listing page.\n",
    "1. On the AWS Marketplace listing, click on the **Continue to subscribe** button.\n",
    "1. On the **Subscribe to this software** page, review and click on **\"Accept Offer\"** if you agree with EULA, pricing, and support terms. \n",
    "1. Once you click on the **Continue to configuration** button and then choose a **region**, you will see a **Product ARN**. This is the algorithm ARN that you need to specify while training a custom ML model. **Copy the ARN corresponding to your region and specify the same in the following cell.**"
   ]
  },
  {
   "cell_type": "code",
   "execution_count": 1,
   "id": "fd89b7a5-3e1c-4fd5-9661-1dcc86626b10",
   "metadata": {
    "tags": []
   },
   "outputs": [],
   "source": [
    "algo_arn = \"ALGO_ARN\""
   ]
  },
  {
   "cell_type": "code",
   "execution_count": 2,
   "id": "b72fa188-ea07-4ee4-ad66-a9dfb7d8cd7e",
   "metadata": {
    "tags": []
   },
   "outputs": [],
   "source": [
    "import sagemaker\n",
    "import pandas as pd\n",
    "import numpy as np\n",
    "import matplotlib.pyplot as plt\n",
    "\n",
    "# SageMaker session\n",
    "sagemaker_session = sagemaker.Session()\n",
    "\n",
    "# SageMaker role\n",
    "role = sagemaker.get_execution_role()\n",
    "\n",
    "# S3 bucket\n",
    "bucket = sagemaker_session.default_bucket()\n",
    "\n",
    "# EC2 instance\n",
    "instance_type = \"ml.m5.2xlarge\""
   ]
  },
  {
   "cell_type": "markdown",
   "id": "49491ac8-2585-429f-8acb-8b3d3e082a7b",
   "metadata": {},
   "source": [
    "### 2. Data preparation"
   ]
  },
  {
   "cell_type": "markdown",
   "id": "2fe35c9b-7f7b-4634-a618-6bd18278556f",
   "metadata": {},
   "source": [
    "Load the data."
   ]
  },
  {
   "cell_type": "code",
   "execution_count": 3,
   "id": "1bdf6675-a1c3-4474-9a3e-5a281ab559b9",
   "metadata": {
    "tags": []
   },
   "outputs": [],
   "source": [
    "dataset_name = \"179_UCR_Anomaly_ltstdbs30791AS_23000_52600_52800\"\n",
    "cutoff = 23000  # train-test cutoff\n",
    "start = 52600   # start of anomalous time interval\n",
    "end = 52800     # end of anomalous time interval\n",
    "k = 2           # number of anomalies to extract"
   ]
  },
  {
   "cell_type": "code",
   "execution_count": 4,
   "id": "62b85cf0-9ed0-4499-9c31-ebb9f7aff474",
   "metadata": {
    "tags": []
   },
   "outputs": [],
   "source": [
    "dataset = pd.DataFrame(data=np.genfromtxt(f\"{dataset_name}.txt\"))"
   ]
  },
  {
   "cell_type": "code",
   "execution_count": 5,
   "id": "69ba4b55-ec1d-46c3-9161-c2d6f8b8c671",
   "metadata": {
    "tags": []
   },
   "outputs": [
    {
     "data": {
      "text/plain": [
       "(55000, 1)"
      ]
     },
     "execution_count": 5,
     "metadata": {},
     "output_type": "execute_result"
    }
   ],
   "source": [
    "dataset.shape"
   ]
  },
  {
   "cell_type": "code",
   "execution_count": 6,
   "id": "e399d772-749d-4e3f-8c58-2bbea4261499",
   "metadata": {
    "tags": []
   },
   "outputs": [
    {
     "data": {
      "text/html": [
       "<div>\n",
       "<style scoped>\n",
       "    .dataframe tbody tr th:only-of-type {\n",
       "        vertical-align: middle;\n",
       "    }\n",
       "\n",
       "    .dataframe tbody tr th {\n",
       "        vertical-align: top;\n",
       "    }\n",
       "\n",
       "    .dataframe thead th {\n",
       "        text-align: right;\n",
       "    }\n",
       "</style>\n",
       "<table border=\"1\" class=\"dataframe\">\n",
       "  <thead>\n",
       "    <tr style=\"text-align: right;\">\n",
       "      <th></th>\n",
       "      <th>0</th>\n",
       "    </tr>\n",
       "  </thead>\n",
       "  <tbody>\n",
       "    <tr>\n",
       "      <th>0</th>\n",
       "      <td>-1.0</td>\n",
       "    </tr>\n",
       "    <tr>\n",
       "      <th>1</th>\n",
       "      <td>-1.0</td>\n",
       "    </tr>\n",
       "    <tr>\n",
       "      <th>2</th>\n",
       "      <td>-1.0</td>\n",
       "    </tr>\n",
       "    <tr>\n",
       "      <th>3</th>\n",
       "      <td>-1.0</td>\n",
       "    </tr>\n",
       "    <tr>\n",
       "      <th>4</th>\n",
       "      <td>-1.0</td>\n",
       "    </tr>\n",
       "  </tbody>\n",
       "</table>\n",
       "</div>"
      ],
      "text/plain": [
       "     0\n",
       "0 -1.0\n",
       "1 -1.0\n",
       "2 -1.0\n",
       "3 -1.0\n",
       "4 -1.0"
      ]
     },
     "execution_count": 6,
     "metadata": {},
     "output_type": "execute_result"
    }
   ],
   "source": [
    "dataset.head()"
   ]
  },
  {
   "cell_type": "code",
   "execution_count": 7,
   "id": "c1142757-d2ba-40dc-a389-efc9612649e2",
   "metadata": {
    "tags": []
   },
   "outputs": [
    {
     "data": {
      "text/html": [
       "<div>\n",
       "<style scoped>\n",
       "    .dataframe tbody tr th:only-of-type {\n",
       "        vertical-align: middle;\n",
       "    }\n",
       "\n",
       "    .dataframe tbody tr th {\n",
       "        vertical-align: top;\n",
       "    }\n",
       "\n",
       "    .dataframe thead th {\n",
       "        text-align: right;\n",
       "    }\n",
       "</style>\n",
       "<table border=\"1\" class=\"dataframe\">\n",
       "  <thead>\n",
       "    <tr style=\"text-align: right;\">\n",
       "      <th></th>\n",
       "      <th>0</th>\n",
       "    </tr>\n",
       "  </thead>\n",
       "  <tbody>\n",
       "    <tr>\n",
       "      <th>54995</th>\n",
       "      <td>27.0</td>\n",
       "    </tr>\n",
       "    <tr>\n",
       "      <th>54996</th>\n",
       "      <td>24.0</td>\n",
       "    </tr>\n",
       "    <tr>\n",
       "      <th>54997</th>\n",
       "      <td>22.0</td>\n",
       "    </tr>\n",
       "    <tr>\n",
       "      <th>54998</th>\n",
       "      <td>21.0</td>\n",
       "    </tr>\n",
       "    <tr>\n",
       "      <th>54999</th>\n",
       "      <td>19.0</td>\n",
       "    </tr>\n",
       "  </tbody>\n",
       "</table>\n",
       "</div>"
      ],
      "text/plain": [
       "          0\n",
       "54995  27.0\n",
       "54996  24.0\n",
       "54997  22.0\n",
       "54998  21.0\n",
       "54999  19.0"
      ]
     },
     "execution_count": 7,
     "metadata": {},
     "output_type": "execute_result"
    }
   ],
   "source": [
    "dataset.tail()"
   ]
  },
  {
   "cell_type": "markdown",
   "id": "4ffe7dfe-08cc-4550-bdd0-351e62739558",
   "metadata": {},
   "source": [
    "Visualize the data."
   ]
  },
  {
   "cell_type": "code",
   "execution_count": 8,
   "id": "d79b0a5c-00ec-4df4-898f-a05245281c94",
   "metadata": {
    "tags": []
   },
   "outputs": [
    {
     "data": {
      "image/png": "[encoded data removed]",
      "text/plain": [
       "<Figure size 600x350 with 1 Axes>"
      ]
     },
     "metadata": {},
     "output_type": "display_data"
    }
   ],
   "source": [
    "fig, ax = plt.subplots(nrows=1, ncols=1, sharex=True, figsize=(6, 3.5))\n",
    "ax.set_title(\"Time Series\", size=10)\n",
    "ax.plot(dataset, color=\"#AFB8C1\", lw=0.3)\n",
    "ax.set(xlabel=\"Time\", ylabel=\"Value\")\n",
    "ax.tick_params(axis=\"both\", which=\"major\", labelsize=7)\n",
    "ax.tick_params(axis=\"both\", which=\"minor\", labelsize=7)\n",
    "fig.tight_layout()\n",
    "fig.show()"
   ]
  },
  {
   "cell_type": "markdown",
   "id": "2e0b09b4-ae21-4551-825c-dcd279753b51",
   "metadata": {},
   "source": [
    "Split the data."
   ]
  },
  {
   "cell_type": "code",
   "execution_count": 9,
   "id": "9b0699df-9439-45c2-ba70-ca11983d843f",
   "metadata": {
    "tags": []
   },
   "outputs": [],
   "source": [
    "training_dataset = dataset.iloc[:cutoff]"
   ]
  },
  {
   "cell_type": "code",
   "execution_count": 10,
   "id": "24adddd2-ab77-4137-98ea-faec2ae3d67d",
   "metadata": {
    "tags": []
   },
   "outputs": [
    {
     "data": {
      "text/plain": [
       "(23000, 1)"
      ]
     },
     "execution_count": 10,
     "metadata": {},
     "output_type": "execute_result"
    }
   ],
   "source": [
    "training_dataset.shape"
   ]
  },
  {
   "cell_type": "code",
   "execution_count": 11,
   "id": "34af9186-27ef-4038-a9de-0e206b89202b",
   "metadata": {
    "tags": []
   },
   "outputs": [],
   "source": [
    "test_dataset = dataset.iloc[cutoff:]"
   ]
  },
  {
   "cell_type": "code",
   "execution_count": 12,
   "id": "4dde60d8-0340-44de-9912-acf9fe2a0633",
   "metadata": {
    "tags": []
   },
   "outputs": [
    {
     "data": {
      "text/plain": [
       "(32000, 1)"
      ]
     },
     "execution_count": 12,
     "metadata": {},
     "output_type": "execute_result"
    }
   ],
   "source": [
    "test_dataset.shape"
   ]
  },
  {
   "cell_type": "markdown",
   "id": "7586de04-bfeb-4942-8937-9ff7c42f5931",
   "metadata": {},
   "source": [
    "Upload the data to S3."
   ]
  },
  {
   "cell_type": "code",
   "execution_count": 13,
   "id": "7fe9e74c-6a57-419e-865d-233e51106857",
   "metadata": {
    "tags": []
   },
   "outputs": [],
   "source": [
    "training_data = sagemaker_session.upload_string_as_file_body(\n",
    "    body=training_dataset.to_csv(index=False, header=False),\n",
    "    bucket=bucket,\n",
    "    key=f\"{dataset_name}_train.csv\"\n",
    ")"
   ]
  },
  {
   "cell_type": "code",
   "execution_count": 14,
   "id": "851460a4-32ac-444a-ab90-a61df3257256",
   "metadata": {
    "tags": []
   },
   "outputs": [
    {
     "data": {
      "text/plain": [
       "'s3://sagemaker-eu-west-1-661670223746/179_UCR_Anomaly_ltstdbs30791AS_23000_52600_52800_train.csv'"
      ]
     },
     "execution_count": 14,
     "metadata": {},
     "output_type": "execute_result"
    }
   ],
   "source": [
    "training_data"
   ]
  },
  {
   "cell_type": "code",
   "execution_count": 15,
   "id": "e2062e41-eb07-43c2-9b86-370a63d45599",
   "metadata": {
    "tags": []
   },
   "outputs": [],
   "source": [
    "test_data = sagemaker_session.upload_string_as_file_body(\n",
    "    body=test_dataset.to_csv(index=False, header=False),\n",
    "    bucket=bucket,\n",
    "    key=f\"{dataset_name}_test.csv\"\n",
    ")"
   ]
  },
  {
   "cell_type": "code",
   "execution_count": 16,
   "id": "4225ecdd-a68e-4824-bb64-f2a7ab3426b8",
   "metadata": {
    "tags": []
   },
   "outputs": [
    {
     "data": {
      "text/plain": [
       "'s3://sagemaker-eu-west-1-661670223746/179_UCR_Anomaly_ltstdbs30791AS_23000_52600_52800_test.csv'"
      ]
     },
     "execution_count": 16,
     "metadata": {},
     "output_type": "execute_result"
    }
   ],
   "source": [
    "test_data"
   ]
  },
  {
   "cell_type": "markdown",
   "id": "6a91f5ac-d6bb-4a50-9de3-69436c33b814",
   "metadata": {},
   "source": [
    "### 3. Training"
   ]
  },
  {
   "cell_type": "markdown",
   "id": "6ad88d3f-50cf-4835-9120-fa6a0da910f0",
   "metadata": {},
   "source": [
    "Fit the model to the training set."
   ]
  },
  {
   "cell_type": "code",
   "execution_count": 17,
   "id": "d870d366-06fc-4a7c-a676-bc33795be3aa",
   "metadata": {},
   "outputs": [
    {
     "name": "stderr",
     "output_type": "stream",
     "text": [
      "NOTEBOOK_METADATA_FILE detected but failed to get valid domain and user from it.\n",
      "INFO:sagemaker:Creating training-job with name: lstm-ad-algo-v1-10-2023-10-04-04-17-22-073\n"
     ]
    },
    {
     "name": "stdout",
     "output_type": "stream",
     "text": [
      "2023-10-04 04:17:22 Starting - Starting the training job...\n",
      "2023-10-04 04:17:36 Starting - Preparing the instances for training............\n",
      "2023-10-04 04:19:46 Downloading - Downloading input data\n",
      "2023-10-04 04:19:46 Training - Downloading the training image.....................\n",
      "2023-10-04 04:23:12 Training - Training image download completed. Training in progress....\u001b[34mbash: cannot set terminal process group (-1): Inappropriate ioctl for device\u001b[0m\n",
      "\u001b[34mbash: no job control in this shell\u001b[0m\n",
      "\u001b[34m2023-10-04 04:23:46,502 sagemaker-training-toolkit INFO     Imported framework sagemaker_pytorch_container.training\u001b[0m\n",
      "\u001b[34m2023-10-04 04:23:46,503 sagemaker-training-toolkit INFO     No GPUs detected (normal if no gpus installed)\u001b[0m\n",
      "\u001b[34m2023-10-04 04:23:46,503 sagemaker-training-toolkit INFO     No Neurons detected (normal if no neurons installed)\u001b[0m\n",
      "\u001b[34m2023-10-04 04:23:46,512 sagemaker_pytorch_container.training INFO     Block until all host DNS lookups succeed.\u001b[0m\n",
      "\u001b[34m2023-10-04 04:23:46,514 sagemaker_pytorch_container.training INFO     Invoking user training script.\u001b[0m\n",
      "\u001b[34m2023-10-04 04:23:47,732 sagemaker-training-toolkit INFO     No GPUs detected (normal if no gpus installed)\u001b[0m\n",
      "\u001b[34m2023-10-04 04:23:47,732 sagemaker-training-toolkit INFO     No Neurons detected (normal if no neurons installed)\u001b[0m\n",
      "\u001b[34m2023-10-04 04:23:47,743 sagemaker-training-toolkit INFO     No GPUs detected (normal if no gpus installed)\u001b[0m\n",
      "\u001b[34m2023-10-04 04:23:47,744 sagemaker-training-toolkit INFO     No Neurons detected (normal if no neurons installed)\u001b[0m\n",
      "\u001b[34m2023-10-04 04:23:47,754 sagemaker-training-toolkit INFO     No GPUs detected (normal if no gpus installed)\u001b[0m\n",
      "\u001b[34m2023-10-04 04:23:47,755 sagemaker-training-toolkit INFO     No Neurons detected (normal if no neurons installed)\u001b[0m\n",
      "\u001b[34m2023-10-04 04:23:47,764 sagemaker-training-toolkit INFO     Invoking user script\u001b[0m\n",
      "\u001b[34mTraining Env:\u001b[0m\n",
      "\u001b[34m{\n",
      "    \"additional_framework_parameters\": {},\n",
      "    \"channel_input_dirs\": {\n",
      "        \"training\": \"/opt/ml/input/data/training\"\n",
      "    },\n",
      "    \"current_host\": \"algo-1\",\n",
      "    \"current_instance_group\": \"homogeneousCluster\",\n",
      "    \"current_instance_group_hosts\": [\n",
      "        \"algo-1\"\n",
      "    ],\n",
      "    \"current_instance_type\": \"ml.m5.2xlarge\",\n",
      "    \"distribution_hosts\": [],\n",
      "    \"distribution_instance_groups\": [],\n",
      "    \"framework_module\": \"sagemaker_pytorch_container.training:main\",\n",
      "    \"hosts\": [\n",
      "        \"algo-1\"\n",
      "    ],\n",
      "    \"hyperparameters\": {\n",
      "        \"batch-size\": 128,\n",
      "        \"context-length\": 100,\n",
      "        \"dropout\": 0.5,\n",
      "        \"epochs\": 100,\n",
      "        \"hidden-size\": 32,\n",
      "        \"lr\": 0.001,\n",
      "        \"num-layers\": 2,\n",
      "        \"prediction-length\": 10,\n",
      "        \"sequence-stride\": 10\n",
      "    },\n",
      "    \"input_config_dir\": \"/opt/ml/input/config\",\n",
      "    \"input_data_config\": {\n",
      "        \"training\": {\n",
      "            \"TrainingInputMode\": \"File\",\n",
      "            \"S3DistributionType\": \"FullyReplicated\",\n",
      "            \"RecordWrapperType\": \"None\"\n",
      "        }\n",
      "    },\n",
      "    \"input_dir\": \"/opt/ml/input\",\n",
      "    \"instance_groups\": [\n",
      "        \"homogeneousCluster\"\n",
      "    ],\n",
      "    \"instance_groups_dict\": {\n",
      "        \"homogeneousCluster\": {\n",
      "            \"instance_group_name\": \"homogeneousCluster\",\n",
      "            \"instance_type\": \"ml.m5.2xlarge\",\n",
      "            \"hosts\": [\n",
      "                \"algo-1\"\n",
      "            ]\n",
      "        }\n",
      "    },\n",
      "    \"is_hetero\": false,\n",
      "    \"is_master\": true,\n",
      "    \"is_modelparallel_enabled\": null,\n",
      "    \"is_smddpmprun_installed\": true,\n",
      "    \"job_name\": \"lstm-ad-algo-v1-10-2023-10-04-04-17-22-073\",\n",
      "    \"log_level\": 20,\n",
      "    \"master_hostname\": \"algo-1\",\n",
      "    \"model_dir\": \"/opt/ml/model\",\n",
      "    \"module_dir\": \"/opt/ml/code\",\n",
      "    \"module_name\": \"training\",\n",
      "    \"network_interface_name\": \"eth0\",\n",
      "    \"num_cpus\": 8,\n",
      "    \"num_gpus\": 0,\n",
      "    \"num_neurons\": 0,\n",
      "    \"output_data_dir\": \"/opt/ml/output/data\",\n",
      "    \"output_dir\": \"/opt/ml/output\",\n",
      "    \"output_intermediate_dir\": \"/opt/ml/output/intermediate\",\n",
      "    \"resource_config\": {\n",
      "        \"current_host\": \"algo-1\",\n",
      "        \"current_instance_type\": \"ml.m5.2xlarge\",\n",
      "        \"current_group_name\": \"homogeneousCluster\",\n",
      "        \"hosts\": [\n",
      "            \"algo-1\"\n",
      "        ],\n",
      "        \"instance_groups\": [\n",
      "            {\n",
      "                \"instance_group_name\": \"homogeneousCluster\",\n",
      "                \"instance_type\": \"ml.m5.2xlarge\",\n",
      "                \"hosts\": [\n",
      "                    \"algo-1\"\n",
      "                ]\n",
      "            }\n",
      "        ],\n",
      "        \"network_interface_name\": \"eth0\"\n",
      "    },\n",
      "    \"user_entry_point\": \"training.py\"\u001b[0m\n",
      "\u001b[34m}\u001b[0m\n",
      "\u001b[34mEnvironment variables:\u001b[0m\n",
      "\u001b[34mSM_HOSTS=[\"algo-1\"]\u001b[0m\n",
      "\u001b[34mSM_NETWORK_INTERFACE_NAME=eth0\u001b[0m\n",
      "\u001b[34mSM_HPS={\"batch-size\":128,\"context-length\":100,\"dropout\":0.5,\"epochs\":100,\"hidden-size\":32,\"lr\":0.001,\"num-layers\":2,\"prediction-length\":10,\"sequence-stride\":10}\u001b[0m\n",
      "\u001b[34mSM_USER_ENTRY_POINT=training.py\u001b[0m\n",
      "\u001b[34mSM_FRAMEWORK_PARAMS={}\u001b[0m\n",
      "\u001b[34mSM_RESOURCE_CONFIG={\"current_group_name\":\"homogeneousCluster\",\"current_host\":\"algo-1\",\"current_instance_type\":\"ml.m5.2xlarge\",\"hosts\":[\"algo-1\"],\"instance_groups\":[{\"hosts\":[\"algo-1\"],\"instance_group_name\":\"homogeneousCluster\",\"instance_type\":\"ml.m5.2xlarge\"}],\"network_interface_name\":\"eth0\"}\u001b[0m\n",
      "\u001b[34mSM_INPUT_DATA_CONFIG={\"training\":{\"RecordWrapperType\":\"None\",\"S3DistributionType\":\"FullyReplicated\",\"TrainingInputMode\":\"File\"}}\u001b[0m\n",
      "\u001b[34mSM_OUTPUT_DATA_DIR=/opt/ml/output/data\u001b[0m\n",
      "\u001b[34mSM_CHANNELS=[\"training\"]\u001b[0m\n",
      "\u001b[34mSM_CURRENT_HOST=algo-1\u001b[0m\n",
      "\u001b[34mSM_CURRENT_INSTANCE_TYPE=ml.m5.2xlarge\u001b[0m\n",
      "\u001b[34mSM_CURRENT_INSTANCE_GROUP=homogeneousCluster\u001b[0m\n",
      "\u001b[34mSM_CURRENT_INSTANCE_GROUP_HOSTS=[\"algo-1\"]\u001b[0m\n",
      "\u001b[34mSM_INSTANCE_GROUPS=[\"homogeneousCluster\"]\u001b[0m\n",
      "\u001b[34mSM_INSTANCE_GROUPS_DICT={\"homogeneousCluster\":{\"hosts\":[\"algo-1\"],\"instance_group_name\":\"homogeneousCluster\",\"instance_type\":\"ml.m5.2xlarge\"}}\u001b[0m\n",
      "\u001b[34mSM_DISTRIBUTION_INSTANCE_GROUPS=[]\u001b[0m\n",
      "\u001b[34mSM_IS_HETERO=false\u001b[0m\n",
      "\u001b[34mSM_MODULE_NAME=training\u001b[0m\n",
      "\u001b[34mSM_LOG_LEVEL=20\u001b[0m\n",
      "\u001b[34mSM_FRAMEWORK_MODULE=sagemaker_pytorch_container.training:main\u001b[0m\n",
      "\u001b[34mSM_INPUT_DIR=/opt/ml/input\u001b[0m\n",
      "\u001b[34mSM_INPUT_CONFIG_DIR=/opt/ml/input/config\u001b[0m\n",
      "\u001b[34mSM_OUTPUT_DIR=/opt/ml/output\u001b[0m\n",
      "\u001b[34mSM_NUM_CPUS=8\u001b[0m\n",
      "\u001b[34mSM_NUM_GPUS=0\u001b[0m\n",
      "\u001b[34mSM_NUM_NEURONS=0\u001b[0m\n",
      "\u001b[34mSM_MODEL_DIR=/opt/ml/model\u001b[0m\n",
      "\u001b[34mSM_MODULE_DIR=/opt/ml/code\u001b[0m\n",
      "\u001b[34mSM_TRAINING_ENV={\"additional_framework_parameters\":{},\"channel_input_dirs\":{\"training\":\"/opt/ml/input/data/training\"},\"current_host\":\"algo-1\",\"current_instance_group\":\"homogeneousCluster\",\"current_instance_group_hosts\":[\"algo-1\"],\"current_instance_type\":\"ml.m5.2xlarge\",\"distribution_hosts\":[],\"distribution_instance_groups\":[],\"framework_module\":\"sagemaker_pytorch_container.training:main\",\"hosts\":[\"algo-1\"],\"hyperparameters\":{\"batch-size\":128,\"context-length\":100,\"dropout\":0.5,\"epochs\":100,\"hidden-size\":32,\"lr\":0.001,\"num-layers\":2,\"prediction-length\":10,\"sequence-stride\":10},\"input_config_dir\":\"/opt/ml/input/config\",\"input_data_config\":{\"training\":{\"RecordWrapperType\":\"None\",\"S3DistributionType\":\"FullyReplicated\",\"TrainingInputMode\":\"File\"}},\"input_dir\":\"/opt/ml/input\",\"instance_groups\":[\"homogeneousCluster\"],\"instance_groups_dict\":{\"homogeneousCluster\":{\"hosts\":[\"algo-1\"],\"instance_group_name\":\"homogeneousCluster\",\"instance_type\":\"ml.m5.2xlarge\"}},\"is_hetero\":false,\"is_master\":true,\"is_modelparallel_enabled\":null,\"is_smddpmprun_installed\":true,\"job_name\":\"lstm-ad-algo-v1-10-2023-10-04-04-17-22-073\",\"log_level\":20,\"master_hostname\":\"algo-1\",\"model_dir\":\"/opt/ml/model\",\"module_dir\":\"/opt/ml/code\",\"module_name\":\"training\",\"network_interface_name\":\"eth0\",\"num_cpus\":8,\"num_gpus\":0,\"num_neurons\":0,\"output_data_dir\":\"/opt/ml/output/data\",\"output_dir\":\"/opt/ml/output\",\"output_intermediate_dir\":\"/opt/ml/output/intermediate\",\"resource_config\":{\"current_group_name\":\"homogeneousCluster\",\"current_host\":\"algo-1\",\"current_instance_type\":\"ml.m5.2xlarge\",\"hosts\":[\"algo-1\"],\"instance_groups\":[{\"hosts\":[\"algo-1\"],\"instance_group_name\":\"homogeneousCluster\",\"instance_type\":\"ml.m5.2xlarge\"}],\"network_interface_name\":\"eth0\"},\"user_entry_point\":\"training.py\"}\u001b[0m\n",
      "\u001b[34mSM_USER_ARGS=[\"--batch-size\",\"128\",\"--context-length\",\"100\",\"--dropout\",\"0.5\",\"--epochs\",\"100\",\"--hidden-size\",\"32\",\"--lr\",\"0.001\",\"--num-layers\",\"2\",\"--prediction-length\",\"10\",\"--sequence-stride\",\"10\"]\u001b[0m\n",
      "\u001b[34mSM_OUTPUT_INTERMEDIATE_DIR=/opt/ml/output/intermediate\u001b[0m\n",
      "\u001b[34mSM_CHANNEL_TRAINING=/opt/ml/input/data/training\u001b[0m\n",
      "\u001b[34mSM_HP_BATCH-SIZE=128\u001b[0m\n",
      "\u001b[34mSM_HP_CONTEXT-LENGTH=100\u001b[0m\n",
      "\u001b[34mSM_HP_DROPOUT=0.5\u001b[0m\n",
      "\u001b[34mSM_HP_EPOCHS=100\u001b[0m\n",
      "\u001b[34mSM_HP_HIDDEN-SIZE=32\u001b[0m\n",
      "\u001b[34mSM_HP_LR=0.001\u001b[0m\n",
      "\u001b[34mSM_HP_NUM-LAYERS=2\u001b[0m\n",
      "\u001b[34mSM_HP_PREDICTION-LENGTH=10\u001b[0m\n",
      "\u001b[34mSM_HP_SEQUENCE-STRIDE=10\u001b[0m\n",
      "\u001b[34mPYTHONPATH=/opt/ml/code:/opt/conda/bin:/opt/conda/lib/python310.zip:/opt/conda/lib/python3.10:/opt/conda/lib/python3.10/lib-dynload:/opt/conda/lib/python3.10/site-packages\u001b[0m\n",
      "\u001b[34mInvoking script with the following command:\u001b[0m\n",
      "\u001b[34m/opt/conda/bin/python3.10 training.py --batch-size 128 --context-length 100 --dropout 0.5 --epochs 100 --hidden-size 32 --lr 0.001 --num-layers 2 --prediction-length 10 --sequence-stride 10\u001b[0m\n",
      "\u001b[34m2023-10-04 04:23:47,794 sagemaker-training-toolkit INFO     Exceptions not imported for SageMaker TF as Tensorflow is not installed.\u001b[0m\n",
      "\u001b[34m--------------------------------------\u001b[0m\n",
      "\u001b[34mTraining on 1 time series.\u001b[0m\n",
      "\u001b[34mTime series length: 23000\u001b[0m\n",
      "\u001b[34m--------------------------------------\u001b[0m\n",
      "\u001b[34m--------------------------------------\u001b[0m\n",
      "\u001b[34mTraining the model.\u001b[0m\n",
      "\u001b[34m--------------------------------------\u001b[0m\n",
      "\u001b[34mEpoch: 1, Training MSE: 0.02221333, Training MAE: 0.09638524\u001b[0m\n",
      "\u001b[34mEpoch: 2, Training MSE: 0.01503475, Training MAE: 0.07032009\u001b[0m\n",
      "\u001b[34mEpoch: 3, Training MSE: 0.01454318, Training MAE: 0.06583817\u001b[0m\n",
      "\u001b[34mEpoch: 4, Training MSE: 0.01429290, Training MAE: 0.06453086\u001b[0m\n",
      "\u001b[34mEpoch: 5, Training MSE: 0.01414814, Training MAE: 0.06402103\u001b[0m\n",
      "\u001b[34mEpoch: 6, Training MSE: 0.01400094, Training MAE: 0.06259536\u001b[0m\n",
      "\u001b[34mEpoch: 7, Training MSE: 0.01375448, Training MAE: 0.06396225\u001b[0m\n",
      "\u001b[34mEpoch: 8, Training MSE: 0.01342783, Training MAE: 0.06172625\u001b[0m\n",
      "\u001b[34mEpoch: 9, Training MSE: 0.01315868, Training MAE: 0.06144435\u001b[0m\n",
      "\u001b[34mEpoch: 10, Training MSE: 0.01285931, Training MAE: 0.05942886\u001b[0m\n",
      "\u001b[34mEpoch: 11, Training MSE: 0.01259342, Training MAE: 0.05677050\u001b[0m\n",
      "\u001b[34mEpoch: 12, Training MSE: 0.01244600, Training MAE: 0.05624394\u001b[0m\n",
      "\u001b[34mEpoch: 13, Training MSE: 0.01190118, Training MAE: 0.05334625\u001b[0m\n",
      "\u001b[34mEpoch: 14, Training MSE: 0.01146113, Training MAE: 0.05073622\u001b[0m\n",
      "\u001b[34mEpoch: 15, Training MSE: 0.01097568, Training MAE: 0.05133355\u001b[0m\n",
      "\u001b[34mEpoch: 16, Training MSE: 0.01062940, Training MAE: 0.04478185\u001b[0m\n",
      "\u001b[34mEpoch: 17, Training MSE: 0.01034102, Training MAE: 0.04848699\u001b[0m\n",
      "\u001b[34mEpoch: 18, Training MSE: 0.01025996, Training MAE: 0.05190206\u001b[0m\n",
      "\u001b[34mEpoch: 19, Training MSE: 0.01004365, Training MAE: 0.04287963\u001b[0m\n",
      "\u001b[34mEpoch: 20, Training MSE: 0.00985964, Training MAE: 0.04650825\u001b[0m\n",
      "\u001b[34mEpoch: 21, Training MSE: 0.00970605, Training MAE: 0.04364056\u001b[0m\n",
      "\u001b[34mEpoch: 22, Training MSE: 0.00964688, Training MAE: 0.04030295\u001b[0m\n",
      "\u001b[34mEpoch: 23, Training MSE: 0.00946170, Training MAE: 0.04385968\u001b[0m\n",
      "\u001b[34mEpoch: 24, Training MSE: 0.00952427, Training MAE: 0.04935565\u001b[0m\n",
      "\u001b[34mEpoch: 25, Training MSE: 0.00925608, Training MAE: 0.04120180\u001b[0m\n",
      "\u001b[34mEpoch: 26, Training MSE: 0.00926214, Training MAE: 0.04863579\u001b[0m\n",
      "\u001b[34mEpoch: 27, Training MSE: 0.00882222, Training MAE: 0.04412093\u001b[0m\n",
      "\u001b[34mEpoch: 28, Training MSE: 0.00814804, Training MAE: 0.03820882\u001b[0m\n",
      "\u001b[34mEpoch: 29, Training MSE: 0.00728386, Training MAE: 0.03755500\u001b[0m\n",
      "\u001b[34mEpoch: 30, Training MSE: 0.00755517, Training MAE: 0.03792460\u001b[0m\n",
      "\u001b[34mEpoch: 31, Training MSE: 0.00628880, Training MAE: 0.04582631\u001b[0m\n",
      "\u001b[34mEpoch: 32, Training MSE: 0.00526549, Training MAE: 0.03798147\u001b[0m\n",
      "\u001b[34mEpoch: 33, Training MSE: 0.00670099, Training MAE: 0.03856874\u001b[0m\n",
      "\u001b[34mEpoch: 34, Training MSE: 0.00680808, Training MAE: 0.04683555\u001b[0m\n",
      "\u001b[34mEpoch: 35, Training MSE: 0.00473801, Training MAE: 0.03703739\u001b[0m\n",
      "\u001b[34mEpoch: 36, Training MSE: 0.00415950, Training MAE: 0.03676143\u001b[0m\n",
      "\u001b[34mEpoch: 37, Training MSE: 0.00341296, Training MAE: 0.03550174\u001b[0m\n",
      "\u001b[34mEpoch: 38, Training MSE: 0.00317306, Training MAE: 0.03403443\u001b[0m\n",
      "\u001b[34mEpoch: 39, Training MSE: 0.00301761, Training MAE: 0.03450095\u001b[0m\n",
      "\u001b[34mEpoch: 40, Training MSE: 0.00281130, Training MAE: 0.03143550\u001b[0m\n",
      "\u001b[34mEpoch: 41, Training MSE: 0.00250677, Training MAE: 0.03244102\u001b[0m\n",
      "\u001b[34mEpoch: 42, Training MSE: 0.00260238, Training MAE: 0.03286791\u001b[0m\n",
      "\u001b[34mEpoch: 43, Training MSE: 0.00230523, Training MAE: 0.02989911\u001b[0m\n",
      "\u001b[34mEpoch: 44, Training MSE: 0.00191489, Training MAE: 0.02743847\u001b[0m\n",
      "\u001b[34mEpoch: 45, Training MSE: 0.00179633, Training MAE: 0.02753490\u001b[0m\n",
      "\u001b[34mEpoch: 46, Training MSE: 0.00166746, Training MAE: 0.02573539\u001b[0m\n",
      "\u001b[34mEpoch: 47, Training MSE: 0.00178895, Training MAE: 0.02654124\u001b[0m\n",
      "\u001b[34mEpoch: 48, Training MSE: 0.00168838, Training MAE: 0.02645990\u001b[0m\n",
      "\u001b[34mEpoch: 49, Training MSE: 0.00152291, Training MAE: 0.02513216\u001b[0m\n",
      "\u001b[34mEpoch: 50, Training MSE: 0.00147443, Training MAE: 0.02439771\u001b[0m\n",
      "\u001b[34mEpoch: 51, Training MSE: 0.00141634, Training MAE: 0.02426482\u001b[0m\n",
      "\u001b[34mEpoch: 52, Training MSE: 0.00133516, Training MAE: 0.02342321\u001b[0m\n",
      "\u001b[34mEpoch: 53, Training MSE: 0.00135646, Training MAE: 0.02389074\u001b[0m\n",
      "\u001b[34mEpoch: 54, Training MSE: 0.00136567, Training MAE: 0.02402335\u001b[0m\n",
      "\u001b[34mEpoch: 55, Training MSE: 0.00144225, Training MAE: 0.02486686\u001b[0m\n",
      "\u001b[34mEpoch: 56, Training MSE: 0.00167035, Training MAE: 0.02527884\u001b[0m\n",
      "\u001b[34mEpoch: 57, Training MSE: 0.00128101, Training MAE: 0.02357300\u001b[0m\n",
      "\u001b[34mEpoch: 58, Training MSE: 0.00117362, Training MAE: 0.02271644\u001b[0m\n",
      "\u001b[34mEpoch: 59, Training MSE: 0.00115216, Training MAE: 0.02303219\u001b[0m\n",
      "\u001b[34mEpoch: 60, Training MSE: 0.00109870, Training MAE: 0.02268478\u001b[0m\n",
      "\u001b[34mEpoch: 61, Training MSE: 0.00109159, Training MAE: 0.02182928\u001b[0m\n",
      "\u001b[34mEpoch: 62, Training MSE: 0.00102885, Training MAE: 0.02207286\u001b[0m\n",
      "\u001b[34mEpoch: 63, Training MSE: 0.00100218, Training MAE: 0.02189177\u001b[0m\n",
      "\u001b[34mEpoch: 64, Training MSE: 0.00100863, Training MAE: 0.02110972\u001b[0m\n",
      "\u001b[34mEpoch: 65, Training MSE: 0.00091561, Training MAE: 0.02014115\u001b[0m\n",
      "\u001b[34mEpoch: 66, Training MSE: 0.00095809, Training MAE: 0.01978934\u001b[0m\n",
      "\u001b[34mEpoch: 67, Training MSE: 0.00103338, Training MAE: 0.02060943\u001b[0m\n",
      "\u001b[34mEpoch: 68, Training MSE: 0.00090333, Training MAE: 0.01970803\u001b[0m\n",
      "\u001b[34mEpoch: 69, Training MSE: 0.00085026, Training MAE: 0.01944654\u001b[0m\n",
      "\u001b[34mEpoch: 70, Training MSE: 0.00092299, Training MAE: 0.01925034\u001b[0m\n",
      "\u001b[34mEpoch: 71, Training MSE: 0.00080315, Training MAE: 0.01843453\u001b[0m\n",
      "\u001b[34mEpoch: 72, Training MSE: 0.00079044, Training MAE: 0.01837409\u001b[0m\n",
      "\u001b[34mEpoch: 73, Training MSE: 0.00076435, Training MAE: 0.01833890\u001b[0m\n",
      "\u001b[34mEpoch: 74, Training MSE: 0.00077823, Training MAE: 0.01846446\u001b[0m\n",
      "\u001b[34mEpoch: 75, Training MSE: 0.00075320, Training MAE: 0.01800939\u001b[0m\n",
      "\u001b[34mEpoch: 76, Training MSE: 0.00071006, Training MAE: 0.01777628\u001b[0m\n",
      "\u001b[34mEpoch: 77, Training MSE: 0.00072029, Training MAE: 0.01827518\u001b[0m\n",
      "\u001b[34mEpoch: 78, Training MSE: 0.00079571, Training MAE: 0.01798929\u001b[0m\n",
      "\u001b[34mEpoch: 79, Training MSE: 0.00070434, Training MAE: 0.01732170\u001b[0m\n",
      "\u001b[34mEpoch: 80, Training MSE: 0.00068417, Training MAE: 0.01775508\u001b[0m\n",
      "\u001b[34mEpoch: 81, Training MSE: 0.00069818, Training MAE: 0.01811975\u001b[0m\n",
      "\u001b[34mEpoch: 82, Training MSE: 0.00065862, Training MAE: 0.01726848\u001b[0m\n",
      "\u001b[34mEpoch: 83, Training MSE: 0.00077559, Training MAE: 0.01876319\u001b[0m\n",
      "\u001b[34mEpoch: 84, Training MSE: 0.00072029, Training MAE: 0.01777717\u001b[0m\n",
      "\u001b[34mEpoch: 85, Training MSE: 0.00074467, Training MAE: 0.01768276\u001b[0m\n",
      "\u001b[34mEpoch: 86, Training MSE: 0.00067654, Training MAE: 0.01660695\u001b[0m\n",
      "\u001b[34mEpoch: 87, Training MSE: 0.00063014, Training MAE: 0.01690244\u001b[0m\n",
      "\u001b[34mEpoch: 88, Training MSE: 0.00059973, Training MAE: 0.01610699\u001b[0m\n",
      "\u001b[34mEpoch: 89, Training MSE: 0.00060410, Training MAE: 0.01689983\u001b[0m\n",
      "\u001b[34mEpoch: 90, Training MSE: 0.00086825, Training MAE: 0.01782580\u001b[0m\n",
      "\u001b[34mEpoch: 91, Training MSE: 0.00072732, Training MAE: 0.01730422\u001b[0m\n",
      "\u001b[34mEpoch: 92, Training MSE: 0.00098746, Training MAE: 0.02058240\u001b[0m\n",
      "\u001b[34mEpoch: 93, Training MSE: 0.00060382, Training MAE: 0.01614525\u001b[0m\n",
      "\u001b[34mEpoch: 94, Training MSE: 0.00065734, Training MAE: 0.01702169\u001b[0m\n",
      "\u001b[34mEpoch: 95, Training MSE: 0.00062607, Training MAE: 0.01772567\u001b[0m\n",
      "\u001b[34mEpoch: 96, Training MSE: 0.00057481, Training MAE: 0.01545012\u001b[0m\n",
      "\u001b[34mEpoch: 97, Training MSE: 0.00057467, Training MAE: 0.01679850\u001b[0m\n",
      "\u001b[34mEpoch: 98, Training MSE: 0.00053794, Training MAE: 0.01555270\u001b[0m\n",
      "\u001b[34mEpoch: 99, Training MSE: 0.00060424, Training MAE: 0.01648834\u001b[0m\n",
      "\u001b[34mEpoch: 100, Training MSE: 0.00055062, Training MAE: 0.01559956\u001b[0m\n",
      "\u001b[34m--------------------------------------\u001b[0m\n",
      "\u001b[34mScoring the model.\u001b[0m\n",
      "\u001b[34mtrain:mse 0.00055062\u001b[0m\n",
      "\u001b[34mtrain:mae 0.01559956\u001b[0m\n",
      "\u001b[34m--------------------------------------\u001b[0m\n",
      "\u001b[34m2023-10-04 04:24:35,734 sagemaker-training-toolkit INFO     Waiting for the process to finish and give a return code.\u001b[0m\n",
      "\u001b[34m2023-10-04 04:24:35,734 sagemaker-training-toolkit INFO     Done waiting for a return code. Received 0 from exiting process.\u001b[0m\n",
      "\u001b[34m2023-10-04 04:24:35,734 sagemaker-training-toolkit INFO     Reporting training SUCCESS\u001b[0m\n",
      "\n",
      "2023-10-04 04:24:48 Uploading - Uploading generated training model\n",
      "2023-10-04 04:24:48 Completed - Training job completed\n",
      "Training seconds: 323\n",
      "Billable seconds: 323\n"
     ]
    }
   ],
   "source": [
    "estimator = sagemaker.algorithm.AlgorithmEstimator(\n",
    "    algorithm_arn=algo_arn,\n",
    "    role=role,\n",
    "    instance_count=1,\n",
    "    instance_type=instance_type,\n",
    "    input_mode=\"File\",\n",
    "    sagemaker_session=sagemaker_session,\n",
    "    hyperparameters={\n",
    "        \"context-length\": 100,\n",
    "        \"prediction-length\": 10,\n",
    "        \"sequence-stride\": 10,\n",
    "        \"hidden-size\": 32,\n",
    "        \"num-layers\": 2,\n",
    "        \"dropout\": 0.5,\n",
    "        \"lr\": 0.001,\n",
    "        \"batch-size\": 128,\n",
    "        \"epochs\": 100,\n",
    "    }\n",
    ")\n",
    "\n",
    "estimator.fit({\"training\": training_data})"
   ]
  },
  {
   "cell_type": "markdown",
   "id": "929a3d35-a4ba-4a39-a7b0-8dbd4f9c2601",
   "metadata": {},
   "source": [
    "### 4. Inference"
   ]
  },
  {
   "cell_type": "markdown",
   "id": "8aecf50e-4c75-4273-a6c3-ce7004a8220b",
   "metadata": {},
   "source": [
    "Generate the test set predictions."
   ]
  },
  {
   "cell_type": "code",
   "execution_count": 18,
   "id": "a4657c35-0687-413a-829c-a028e6a9e9d7",
   "metadata": {},
   "outputs": [
    {
     "name": "stderr",
     "output_type": "stream",
     "text": [
      "INFO:sagemaker:Creating model package with name: lstm-ad-algo-v1-10-2023-10-04-04-25-07-151\n"
     ]
    },
    {
     "name": "stdout",
     "output_type": "stream",
     "text": [
      "........."
     ]
    },
    {
     "name": "stderr",
     "output_type": "stream",
     "text": [
      "INFO:sagemaker:Creating model with name: lstm-ad-algo-v1-10-2023-10-04-04-25-07--2023-10-04-04-25-52-608\n"
     ]
    },
    {
     "name": "stdout",
     "output_type": "stream",
     "text": [
      "\n"
     ]
    },
    {
     "name": "stderr",
     "output_type": "stream",
     "text": [
      "INFO:sagemaker:Creating transform job with name: lstm-ad-algo-v1-10-2023-10-04-04-25-55-215\n"
     ]
    },
    {
     "name": "stdout",
     "output_type": "stream",
     "text": [
      "............................................\u001b[34mWarning: TorchServe is using non-default JVM parameters: -XX:-UseContainerSupport\u001b[0m\n",
      "\u001b[34mWARNING: sun.reflect.Reflection.getCallerClass is not supported. This will impact performance.\u001b[0m\n",
      "\u001b[34m2023-10-04T04:33:20,877 [WARN ] main org.pytorch.serve.util.ConfigManager - Your torchserve instance can access any URL to load models. When deploying to production, make sure to limit the set of allowed_urls in config.properties\u001b[0m\n",
      "\u001b[34m2023-10-04T04:33:20,879 [INFO ] main org.pytorch.serve.servingsdk.impl.PluginsManager - Initializing plugins manager...\u001b[0m\n",
      "\u001b[34m2023-10-04T04:33:20,946 [INFO ] main org.pytorch.serve.metrics.configuration.MetricConfiguration - Successfully loaded metrics configuration from /opt/conda/lib/python3.10/site-packages/ts/configs/metrics.yaml\u001b[0m\n",
      "\u001b[34m2023-10-04T04:33:21,040 [INFO ] main org.pytorch.serve.ModelServer - \u001b[0m\n",
      "\u001b[34mTorchserve version: 0.8.2\u001b[0m\n",
      "\u001b[34mTS Home: /opt/conda/lib/python3.10/site-packages\u001b[0m\n",
      "\u001b[34mCurrent directory: /\u001b[0m\n",
      "\u001b[34mTemp directory: /home/model-server/tmp\u001b[0m\n",
      "\u001b[34mMetrics config path: /opt/conda/lib/python3.10/site-packages/ts/configs/metrics.yaml\u001b[0m\n",
      "\u001b[34mNumber of GPUs: 0\u001b[0m\n",
      "\u001b[34mNumber of CPUs: 8\u001b[0m\n",
      "\u001b[34mMax heap size: 7924 M\u001b[0m\n",
      "\u001b[34mPython executable: /opt/conda/bin/python3.10\u001b[0m\n",
      "\u001b[34mConfig file: /etc/sagemaker-ts.properties\u001b[0m\n",
      "\u001b[34mInference address: http://0.0.0.0:8080\u001b[0m\n",
      "\u001b[34mManagement address: http://0.0.0.0:8080\u001b[0m\n",
      "\u001b[34mMetrics address: http://127.0.0.1:8082\u001b[0m\n",
      "\u001b[34mModel Store: /.sagemaker/ts/models\u001b[0m\n",
      "\u001b[34mInitial Models: model=/opt/ml/model\u001b[0m\n",
      "\u001b[34mLog dir: /logs\u001b[0m\n",
      "\u001b[34mMetrics dir: /logs\u001b[0m\n",
      "\u001b[34mNetty threads: 0\u001b[0m\n",
      "\u001b[34mNetty client threads: 0\u001b[0m\n",
      "\u001b[34mDefault workers per model: 8\u001b[0m\n",
      "\u001b[34mBlacklist Regex: N/A\u001b[0m\n",
      "\u001b[34mMaximum Response Size: 6553500\u001b[0m\n",
      "\u001b[34mMaximum Request Size: 6553500\u001b[0m\n",
      "\u001b[34mLimit Maximum Image Pixels: true\u001b[0m\n",
      "\u001b[34mPrefer direct buffer: false\u001b[0m\n",
      "\u001b[34mAllowed Urls: [file://.*|http(s)?://.*]\u001b[0m\n",
      "\u001b[34mCustom python dependency for model allowed: false\u001b[0m\n",
      "\u001b[34mEnable metrics API: true\u001b[0m\n",
      "\u001b[34mMetrics mode: log\u001b[0m\n",
      "\u001b[34mDisable system metrics: true\u001b[0m\n",
      "\u001b[34mWorkflow Store: /.sagemaker/ts/models\u001b[0m\n",
      "\u001b[34mModel config: N/A\u001b[0m\n",
      "\u001b[34m2023-10-04T04:33:21,047 [INFO ] main org.pytorch.serve.servingsdk.impl.PluginsManager -  Loading snapshot serializer plugin...\u001b[0m\n",
      "\u001b[34m2023-10-04T04:33:21,065 [INFO ] main org.pytorch.serve.ModelServer - Loading initial models: /opt/ml/model\u001b[0m\n",
      "\u001b[34m2023-10-04T04:33:21,069 [WARN ] main org.pytorch.serve.archive.model.ModelArchive - Model archive version is not defined. Please upgrade to torch-model-archiver 0.2.0 or higher\u001b[0m\n",
      "\u001b[34m2023-10-04T04:33:21,069 [WARN ] main org.pytorch.serve.archive.model.ModelArchive - Model archive createdOn is not defined. Please upgrade to torch-model-archiver 0.2.0 or higher\u001b[0m\n",
      "\u001b[34m2023-10-04T04:33:21,071 [INFO ] main org.pytorch.serve.wlm.ModelManager - Model model loaded.\u001b[0m\n",
      "\u001b[34m2023-10-04T04:33:21,084 [INFO ] main org.pytorch.serve.ModelServer - Initialize Inference server with: EpollServerSocketChannel.\u001b[0m\n",
      "\u001b[34m2023-10-04T04:33:21,291 [INFO ] main org.pytorch.serve.ModelServer - Inference API bind to: http://0.0.0.0:8080\u001b[0m\n",
      "\u001b[34m2023-10-04T04:33:21,292 [INFO ] main org.pytorch.serve.ModelServer - Initialize Metrics server with: EpollServerSocketChannel.\u001b[0m\n",
      "\u001b[34m2023-10-04T04:33:21,371 [INFO ] main org.pytorch.serve.ModelServer - Metrics API bind to: http://127.0.0.1:8082\u001b[0m\n",
      "\u001b[34mModel server started.\u001b[0m\n",
      "\u001b[34m2023-10-04T04:33:23,618 [INFO ] W-9000-model_1.0-stdout MODEL_LOG - s_name_part0=/home/model-server/tmp/.ts.sock, s_name_part1=9000, pid=68\u001b[0m\n",
      "\u001b[34m2023-10-04T04:33:23,619 [INFO ] W-9000-model_1.0-stdout MODEL_LOG - Listening on port: /home/model-server/tmp/.ts.sock.9000\u001b[0m\n",
      "\u001b[34m2023-10-04T04:33:23,620 [INFO ] W-9003-model_1.0-stdout MODEL_LOG - s_name_part0=/home/model-server/tmp/.ts.sock, s_name_part1=9003, pid=62\u001b[0m\n",
      "\u001b[34m2023-10-04T04:33:23,621 [INFO ] W-9003-model_1.0-stdout MODEL_LOG - Listening on port: /home/model-server/tmp/.ts.sock.9003\u001b[0m\n",
      "\u001b[34m2023-10-04T04:33:23,640 [INFO ] W-9003-model_1.0-stdout MODEL_LOG - Successfully loaded /opt/conda/lib/python3.10/site-packages/ts/configs/metrics.yaml.\u001b[0m\n",
      "\u001b[34m2023-10-04T04:33:23,641 [INFO ] W-9003-model_1.0-stdout MODEL_LOG - [PID]62\u001b[0m\n",
      "\u001b[34m2023-10-04T04:33:23,642 [INFO ] W-9003-model_1.0-stdout MODEL_LOG - Torch worker started.\u001b[0m\n",
      "\u001b[34m2023-10-04T04:33:23,649 [INFO ] W-9000-model_1.0-stdout MODEL_LOG - Successfully loaded /opt/conda/lib/python3.10/site-packages/ts/configs/metrics.yaml.\u001b[0m\n",
      "\u001b[34m2023-10-04T04:33:23,649 [INFO ] W-9000-model_1.0-stdout MODEL_LOG - [PID]68\u001b[0m\n",
      "\u001b[34m2023-10-04T04:33:23,650 [INFO ] W-9000-model_1.0-stdout MODEL_LOG - Torch worker started.\u001b[0m\n",
      "\u001b[34m2023-10-04T04:33:23,650 [INFO ] W-9000-model_1.0-stdout MODEL_LOG - Python runtime: 3.10.9\u001b[0m\n",
      "\u001b[34m2023-10-04T04:33:23,651 [INFO ] W-9003-model_1.0-stdout MODEL_LOG - Python runtime: 3.10.9\u001b[0m\n",
      "\u001b[34m2023-10-04T04:33:23,652 [INFO ] W-9003-model_1.0 org.pytorch.serve.wlm.WorkerThread - Connecting to: /home/model-server/tmp/.ts.sock.9003\u001b[0m\n",
      "\u001b[34m2023-10-04T04:33:23,652 [INFO ] W-9000-model_1.0 org.pytorch.serve.wlm.WorkerThread - Connecting to: /home/model-server/tmp/.ts.sock.9000\u001b[0m\n",
      "\u001b[34m2023-10-04T04:33:23,655 [INFO ] W-9004-model_1.0-stdout MODEL_LOG - s_name_part0=/home/model-server/tmp/.ts.sock, s_name_part1=9004, pid=64\u001b[0m\n",
      "\u001b[34m2023-10-04T04:33:23,656 [INFO ] W-9004-model_1.0-stdout MODEL_LOG - Listening on port: /home/model-server/tmp/.ts.sock.9004\u001b[0m\n",
      "\u001b[34m2023-10-04T04:33:23,666 [INFO ] W-9007-model_1.0-stdout MODEL_LOG - s_name_part0=/home/model-server/tmp/.ts.sock, s_name_part1=9007, pid=63\u001b[0m\n",
      "\u001b[34m2023-10-04T04:33:23,667 [INFO ] W-9007-model_1.0-stdout MODEL_LOG - Listening on port: /home/model-server/tmp/.ts.sock.9007\u001b[0m\n",
      "\u001b[34m2023-10-04T04:33:23,687 [INFO ] W-9000-model_1.0-stdout MODEL_LOG - Connection accepted: /home/model-server/tmp/.ts.sock.9000.\u001b[0m\n",
      "\u001b[34m2023-10-04T04:33:23,687 [INFO ] W-9003-model_1.0-stdout MODEL_LOG - Connection accepted: /home/model-server/tmp/.ts.sock.9003.\u001b[0m\n",
      "\u001b[34m2023-10-04T04:33:23,693 [INFO ] W-9000-model_1.0 org.pytorch.serve.wlm.WorkerThread - Flushing req.cmd LOAD to backend at: 1696394003693\u001b[0m\n",
      "\u001b[34m2023-10-04T04:33:23,694 [INFO ] W-9007-model_1.0-stdout MODEL_LOG - Successfully loaded /opt/conda/lib/python3.10/site-packages/ts/configs/metrics.yaml.\u001b[0m\n",
      "\u001b[34m2023-10-04T04:33:23,697 [INFO ] W-9003-model_1.0 org.pytorch.serve.wlm.WorkerThread - Flushing req.cmd LOAD to backend at: 1696394003697\u001b[0m\n",
      "\u001b[34m2023-10-04T04:33:23,697 [INFO ] W-9007-model_1.0-stdout MODEL_LOG - [PID]63\u001b[0m\n",
      "\u001b[34m2023-10-04T04:33:23,698 [INFO ] W-9007-model_1.0-stdout MODEL_LOG - Torch worker started.\u001b[0m\n",
      "\u001b[34m2023-10-04T04:33:23,698 [INFO ] W-9007-model_1.0 org.pytorch.serve.wlm.WorkerThread - Connecting to: /home/model-server/tmp/.ts.sock.9007\u001b[0m\n",
      "\u001b[34m2023-10-04T04:33:23,700 [INFO ] W-9007-model_1.0-stdout MODEL_LOG - Python runtime: 3.10.9\u001b[0m\n",
      "\u001b[34m2023-10-04T04:33:23,717 [INFO ] W-9004-model_1.0-stdout MODEL_LOG - Successfully loaded /opt/conda/lib/python3.10/site-packages/ts/configs/metrics.yaml.\u001b[0m\n",
      "\u001b[34m2023-10-04T04:33:23,717 [INFO ] W-9004-model_1.0-stdout MODEL_LOG - [PID]64\u001b[0m\n",
      "\u001b[34m2023-10-04T04:33:23,717 [INFO ] W-9004-model_1.0-stdout MODEL_LOG - Torch worker started.\u001b[0m\n",
      "\u001b[34m2023-10-04T04:33:23,718 [INFO ] W-9004-model_1.0-stdout MODEL_LOG - Python runtime: 3.10.9\u001b[0m\n",
      "\u001b[34m2023-10-04T04:33:23,719 [INFO ] W-9004-model_1.0 org.pytorch.serve.wlm.WorkerThread - Connecting to: /home/model-server/tmp/.ts.sock.9004\u001b[0m\n",
      "\u001b[34m2023-10-04T04:33:23,732 [INFO ] W-9007-model_1.0-stdout MODEL_LOG - Connection accepted: /home/model-server/tmp/.ts.sock.9007.\u001b[0m\n",
      "\u001b[34m2023-10-04T04:33:23,738 [INFO ] W-9007-model_1.0 org.pytorch.serve.wlm.WorkerThread - Flushing req.cmd LOAD to backend at: 1696394003738\u001b[0m\n",
      "\u001b[34m2023-10-04T04:33:23,764 [INFO ] W-9004-model_1.0 org.pytorch.serve.wlm.WorkerThread - Flushing req.cmd LOAD to backend at: 1696394003764\u001b[0m\n",
      "\u001b[34m2023-10-04T04:33:23,764 [INFO ] W-9004-model_1.0-stdout MODEL_LOG - Connection accepted: /home/model-server/tmp/.ts.sock.9004.\u001b[0m\n",
      "\u001b[34m2023-10-04T04:33:23,788 [INFO ] W-9007-model_1.0-stdout MODEL_LOG - model_name: model, batchSize: 1\u001b[0m\n",
      "\u001b[34m2023-10-04T04:33:23,792 [INFO ] W-9005-model_1.0-stdout MODEL_LOG - s_name_part0=/home/model-server/tmp/.ts.sock, s_name_part1=9005, pid=66\u001b[0m\n",
      "\u001b[34m2023-10-04T04:33:23,794 [INFO ] W-9005-model_1.0-stdout MODEL_LOG - Listening on port: /home/model-server/tmp/.ts.sock.9005\u001b[0m\n",
      "\u001b[34m2023-10-04T04:33:23,804 [INFO ] W-9000-model_1.0-stdout MODEL_LOG - model_name: model, batchSize: 1\u001b[0m\n",
      "\u001b[34m2023-10-04T04:33:23,809 [INFO ] W-9005-model_1.0-stdout MODEL_LOG - Successfully loaded /opt/conda/lib/python3.10/site-packages/ts/configs/metrics.yaml.\u001b[0m\n",
      "\u001b[34m2023-10-04T04:33:23,809 [INFO ] W-9003-model_1.0-stdout MODEL_LOG - model_name: model, batchSize: 1\u001b[0m\n",
      "\u001b[34m2023-10-04T04:33:23,813 [INFO ] W-9005-model_1.0-stdout MODEL_LOG - [PID]66\u001b[0m\n",
      "\u001b[34m2023-10-04T04:33:23,814 [INFO ] W-9005-model_1.0-stdout MODEL_LOG - Torch worker started.\u001b[0m\n",
      "\u001b[34m2023-10-04T04:33:23,815 [INFO ] W-9005-model_1.0-stdout MODEL_LOG - Python runtime: 3.10.9\u001b[0m\n",
      "\u001b[34m2023-10-04T04:33:23,814 [INFO ] W-9005-model_1.0 org.pytorch.serve.wlm.WorkerThread - Connecting to: /home/model-server/tmp/.ts.sock.9005\u001b[0m\n",
      "\u001b[34m2023-10-04T04:33:23,826 [INFO ] W-9004-model_1.0-stdout MODEL_LOG - model_name: model, batchSize: 1\u001b[0m\n",
      "\u001b[34m2023-10-04T04:33:23,843 [INFO ] W-9005-model_1.0 org.pytorch.serve.wlm.WorkerThread - Flushing req.cmd LOAD to backend at: 1696394003843\u001b[0m\n",
      "\u001b[34m2023-10-04T04:33:23,843 [INFO ] W-9005-model_1.0-stdout MODEL_LOG - Connection accepted: /home/model-server/tmp/.ts.sock.9005.\u001b[0m\n",
      "\u001b[34m2023-10-04T04:33:23,854 [INFO ] W-9001-model_1.0-stdout MODEL_LOG - s_name_part0=/home/model-server/tmp/.ts.sock, s_name_part1=9001, pid=61\u001b[0m\n",
      "\u001b[34m2023-10-04T04:33:23,855 [INFO ] W-9001-model_1.0-stdout MODEL_LOG - Listening on port: /home/model-server/tmp/.ts.sock.9001\u001b[0m\n",
      "\u001b[34m2023-10-04T04:33:23,877 [INFO ] W-9001-model_1.0-stdout MODEL_LOG - Successfully loaded /opt/conda/lib/python3.10/site-packages/ts/configs/metrics.yaml.\u001b[0m\n",
      "\u001b[34m2023-10-04T04:33:23,896 [INFO ] W-9001-model_1.0-stdout MODEL_LOG - [PID]61\u001b[0m\n",
      "\u001b[34m2023-10-04T04:33:23,898 [INFO ] W-9001-model_1.0-stdout MODEL_LOG - Torch worker started.\u001b[0m\n",
      "\u001b[34m2023-10-04T04:33:23,898 [INFO ] W-9001-model_1.0 org.pytorch.serve.wlm.WorkerThread - Connecting to: /home/model-server/tmp/.ts.sock.9001\u001b[0m\n",
      "\u001b[34m2023-10-04T04:33:23,909 [INFO ] W-9001-model_1.0-stdout MODEL_LOG - Python runtime: 3.10.9\u001b[0m\n",
      "\u001b[34m2023-10-04T04:33:23,913 [INFO ] W-9001-model_1.0 org.pytorch.serve.wlm.WorkerThread - Flushing req.cmd LOAD to backend at: 1696394003913\u001b[0m\n",
      "\u001b[34m2023-10-04T04:33:23,913 [INFO ] W-9001-model_1.0-stdout MODEL_LOG - Connection accepted: /home/model-server/tmp/.ts.sock.9001.\u001b[0m\n",
      "\u001b[34m2023-10-04T04:33:23,918 [INFO ] W-9005-model_1.0-stdout MODEL_LOG - model_name: model, batchSize: 1\u001b[0m\n",
      "\u001b[34m2023-10-04T04:33:23,922 [INFO ] W-9006-model_1.0-stdout MODEL_LOG - s_name_part0=/home/model-server/tmp/.ts.sock, s_name_part1=9006, pid=67\u001b[0m\n",
      "\u001b[34m2023-10-04T04:33:23,925 [INFO ] W-9006-model_1.0-stdout MODEL_LOG - Listening on port: /home/model-server/tmp/.ts.sock.9006\u001b[0m\n",
      "\u001b[34m2023-10-04T04:33:23,949 [INFO ] W-9006-model_1.0-stdout MODEL_LOG - Successfully loaded /opt/conda/lib/python3.10/site-packages/ts/configs/metrics.yaml.\u001b[0m\n",
      "\u001b[34m2023-10-04T04:33:23,955 [INFO ] W-9006-model_1.0-stdout MODEL_LOG - [PID]67\u001b[0m\n",
      "\u001b[34m2023-10-04T04:33:23,956 [INFO ] W-9006-model_1.0-stdout MODEL_LOG - Torch worker started.\u001b[0m\n",
      "\u001b[34m2023-10-04T04:33:23,956 [INFO ] W-9006-model_1.0 org.pytorch.serve.wlm.WorkerThread - Connecting to: /home/model-server/tmp/.ts.sock.9006\u001b[0m\n",
      "\u001b[34m2023-10-04T04:33:23,958 [INFO ] W-9001-model_1.0-stdout MODEL_LOG - model_name: model, batchSize: 1\u001b[0m\n",
      "\u001b[34m2023-10-04T04:33:23,960 [INFO ] W-9006-model_1.0-stdout MODEL_LOG - Python runtime: 3.10.9\u001b[0m\n",
      "\u001b[34m2023-10-04T04:33:23,984 [INFO ] W-9006-model_1.0-stdout MODEL_LOG - Connection accepted: /home/model-server/tmp/.ts.sock.9006.\u001b[0m\n",
      "\u001b[34m2023-10-04T04:33:23,984 [INFO ] W-9006-model_1.0 org.pytorch.serve.wlm.WorkerThread - Flushing req.cmd LOAD to backend at: 1696394003984\u001b[0m\n",
      "\u001b[34m2023-10-04T04:33:24,062 [INFO ] W-9006-model_1.0-stdout MODEL_LOG - model_name: model, batchSize: 1\u001b[0m\n",
      "\u001b[34m2023-10-04T04:33:24,090 [INFO ] W-9002-model_1.0-stdout MODEL_LOG - s_name_part0=/home/model-server/tmp/.ts.sock, s_name_part1=9002, pid=65\u001b[0m\n",
      "\u001b[34m2023-10-04T04:33:24,092 [INFO ] W-9002-model_1.0-stdout MODEL_LOG - Listening on port: /home/model-server/tmp/.ts.sock.9002\u001b[0m\n",
      "\u001b[34m2023-10-04T04:33:24,106 [INFO ] W-9002-model_1.0-stdout MODEL_LOG - Successfully loaded /opt/conda/lib/python3.10/site-packages/ts/configs/metrics.yaml.\u001b[0m\n",
      "\u001b[34m2023-10-04T04:33:24,116 [INFO ] W-9002-model_1.0-stdout MODEL_LOG - [PID]65\u001b[0m\n",
      "\u001b[34m2023-10-04T04:33:24,117 [INFO ] W-9002-model_1.0-stdout MODEL_LOG - Torch worker started.\u001b[0m\n",
      "\u001b[34m2023-10-04T04:33:24,118 [INFO ] W-9002-model_1.0 org.pytorch.serve.wlm.WorkerThread - Connecting to: /home/model-server/tmp/.ts.sock.9002\u001b[0m\n",
      "\u001b[34m2023-10-04T04:33:24,120 [INFO ] W-9002-model_1.0-stdout MODEL_LOG - Python runtime: 3.10.9\u001b[0m\n",
      "\u001b[34m2023-10-04T04:33:24,127 [INFO ] W-9002-model_1.0-stdout MODEL_LOG - Connection accepted: /home/model-server/tmp/.ts.sock.9002.\u001b[0m\n",
      "\u001b[34m2023-10-04T04:33:24,128 [INFO ] W-9002-model_1.0 org.pytorch.serve.wlm.WorkerThread - Flushing req.cmd LOAD to backend at: 1696394004128\u001b[0m\n",
      "\u001b[34m2023-10-04T04:33:24,198 [INFO ] W-9002-model_1.0-stdout MODEL_LOG - model_name: model, batchSize: 1\u001b[0m\n",
      "\u001b[34m2023-10-04T04:33:24,685 [INFO ] W-9004-model_1.0 org.pytorch.serve.wlm.WorkerThread - Backend response time: 847\u001b[0m\n",
      "\u001b[34m2023-10-04T04:33:24,686 [INFO ] W-9004-model_1.0 TS_METRICS - WorkerLoadTime.Milliseconds:3607.0|#WorkerName:W-9004-model_1.0,Level:Host|#hostname:b19e4914944d,timestamp:1696394004\u001b[0m\n",
      "\u001b[34m2023-10-04T04:33:24,687 [INFO ] W-9004-model_1.0 TS_METRICS - WorkerThreadTime.Milliseconds:76.0|#Level:Host|#hostname:b19e4914944d,timestamp:1696394004\u001b[0m\n",
      "\u001b[34m2023-10-04T04:33:24,688 [INFO ] W-9007-model_1.0 org.pytorch.serve.wlm.WorkerThread - Backend response time: 889\u001b[0m\n",
      "\u001b[34m2023-10-04T04:33:24,688 [INFO ] W-9007-model_1.0 TS_METRICS - WorkerLoadTime.Milliseconds:3608.0|#WorkerName:W-9007-model_1.0,Level:Host|#hostname:b19e4914944d,timestamp:1696394004\u001b[0m\n",
      "\u001b[34m2023-10-04T04:33:24,689 [INFO ] W-9007-model_1.0 TS_METRICS - WorkerThreadTime.Milliseconds:62.0|#Level:Host|#hostname:b19e4914944d,timestamp:1696394004\u001b[0m\n",
      "\u001b[34m2023-10-04T04:33:24,700 [INFO ] W-9000-model_1.0 org.pytorch.serve.wlm.WorkerThread - Backend response time: 902\u001b[0m\n",
      "\u001b[34m2023-10-04T04:33:24,700 [INFO ] W-9000-model_1.0 TS_METRICS - WorkerLoadTime.Milliseconds:3623.0|#WorkerName:W-9000-model_1.0,Level:Host|#hostname:b19e4914944d,timestamp:1696394004\u001b[0m\n",
      "\u001b[34m2023-10-04T04:33:24,701 [INFO ] W-9000-model_1.0 TS_METRICS - WorkerThreadTime.Milliseconds:105.0|#Level:Host|#hostname:b19e4914944d,timestamp:1696394004\u001b[0m\n",
      "\u001b[34m2023-10-04T04:33:24,751 [INFO ] W-9003-model_1.0 org.pytorch.serve.wlm.WorkerThread - Backend response time: 936\u001b[0m\n",
      "\u001b[34m2023-10-04T04:33:24,752 [INFO ] W-9003-model_1.0 TS_METRICS - WorkerLoadTime.Milliseconds:3673.0|#WorkerName:W-9003-model_1.0,Level:Host|#hostname:b19e4914944d,timestamp:1696394004\u001b[0m\n",
      "\u001b[34m2023-10-04T04:33:24,753 [INFO ] W-9003-model_1.0 TS_METRICS - WorkerThreadTime.Milliseconds:119.0|#Level:Host|#hostname:b19e4914944d,timestamp:1696394004\u001b[0m\n",
      "\u001b[34m2023-10-04T04:33:24,753 [INFO ] W-9005-model_1.0 org.pytorch.serve.wlm.WorkerThread - Backend response time: 843\u001b[0m\n",
      "\u001b[34m2023-10-04T04:33:24,754 [INFO ] W-9005-model_1.0 TS_METRICS - WorkerLoadTime.Milliseconds:3675.0|#WorkerName:W-9005-model_1.0,Level:Host|#hostname:b19e4914944d,timestamp:1696394004\u001b[0m\n",
      "\u001b[34m2023-10-04T04:33:24,754 [INFO ] W-9005-model_1.0 TS_METRICS - WorkerThreadTime.Milliseconds:68.0|#Level:Host|#hostname:b19e4914944d,timestamp:1696394004\u001b[0m\n",
      "\n",
      "\u001b[34m2023-10-04T04:33:24,822 [INFO ] W-9002-model_1.0 org.pytorch.serve.wlm.WorkerThread - Backend response time: 610\u001b[0m\n",
      "\u001b[34m2023-10-04T04:33:24,822 [INFO ] W-9002-model_1.0 TS_METRICS - WorkerLoadTime.Milliseconds:3743.0|#WorkerName:W-9002-model_1.0,Level:Host|#hostname:b19e4914944d,timestamp:1696394004\u001b[0m\n",
      "\u001b[34m2023-10-04T04:33:24,822 [INFO ] W-9002-model_1.0 TS_METRICS - WorkerThreadTime.Milliseconds:84.0|#Level:Host|#hostname:b19e4914944d,timestamp:1696394004\u001b[0m\n",
      "\u001b[34m2023-10-04T04:33:24,826 [INFO ] W-9001-model_1.0 org.pytorch.serve.wlm.WorkerThread - Backend response time: 860\u001b[0m\n",
      "\u001b[34m2023-10-04T04:33:24,826 [INFO ] W-9001-model_1.0 TS_METRICS - WorkerLoadTime.Milliseconds:3748.0|#WorkerName:W-9001-model_1.0,Level:Host|#hostname:b19e4914944d,timestamp:1696394004\u001b[0m\n",
      "\u001b[34m2023-10-04T04:33:24,827 [INFO ] W-9001-model_1.0 TS_METRICS - WorkerThreadTime.Milliseconds:54.0|#Level:Host|#hostname:b19e4914944d,timestamp:1696394004\u001b[0m\n",
      "\u001b[34m2023-10-04T04:33:24,829 [INFO ] W-9006-model_1.0 org.pytorch.serve.wlm.WorkerThread - Backend response time: 767\u001b[0m\n",
      "\u001b[34m2023-10-04T04:33:24,830 [INFO ] W-9006-model_1.0 TS_METRICS - WorkerLoadTime.Milliseconds:3750.0|#WorkerName:W-9006-model_1.0,Level:Host|#hostname:b19e4914944d,timestamp:1696394004\u001b[0m\n",
      "\u001b[34m2023-10-04T04:33:24,830 [INFO ] W-9006-model_1.0 TS_METRICS - WorkerThreadTime.Milliseconds:79.0|#Level:Host|#hostname:b19e4914944d,timestamp:1696394004\u001b[0m\n",
      "\u001b[35m2023-10-04T04:33:24,822 [INFO ] W-9002-model_1.0 org.pytorch.serve.wlm.WorkerThread - Backend response time: 610\u001b[0m\n",
      "\u001b[35m2023-10-04T04:33:24,822 [INFO ] W-9002-model_1.0 TS_METRICS - WorkerLoadTime.Milliseconds:3743.0|#WorkerName:W-9002-model_1.0,Level:Host|#hostname:b19e4914944d,timestamp:1696394004\u001b[0m\n",
      "\u001b[35m2023-10-04T04:33:24,822 [INFO ] W-9002-model_1.0 TS_METRICS - WorkerThreadTime.Milliseconds:84.0|#Level:Host|#hostname:b19e4914944d,timestamp:1696394004\u001b[0m\n",
      "\u001b[35m2023-10-04T04:33:24,826 [INFO ] W-9001-model_1.0 org.pytorch.serve.wlm.WorkerThread - Backend response time: 860\u001b[0m\n",
      "\u001b[35m2023-10-04T04:33:24,826 [INFO ] W-9001-model_1.0 TS_METRICS - WorkerLoadTime.Milliseconds:3748.0|#WorkerName:W-9001-model_1.0,Level:Host|#hostname:b19e4914944d,timestamp:1696394004\u001b[0m\n",
      "\u001b[35m2023-10-04T04:33:24,827 [INFO ] W-9001-model_1.0 TS_METRICS - WorkerThreadTime.Milliseconds:54.0|#Level:Host|#hostname:b19e4914944d,timestamp:1696394004\u001b[0m\n",
      "\u001b[35m2023-10-04T04:33:24,829 [INFO ] W-9006-model_1.0 org.pytorch.serve.wlm.WorkerThread - Backend response time: 767\u001b[0m\n",
      "\u001b[35m2023-10-04T04:33:24,830 [INFO ] W-9006-model_1.0 TS_METRICS - WorkerLoadTime.Milliseconds:3750.0|#WorkerName:W-9006-model_1.0,Level:Host|#hostname:b19e4914944d,timestamp:1696394004\u001b[0m\n",
      "\u001b[35m2023-10-04T04:33:24,830 [INFO ] W-9006-model_1.0 TS_METRICS - WorkerThreadTime.Milliseconds:79.0|#Level:Host|#hostname:b19e4914944d,timestamp:1696394004\u001b[0m\n",
      "\u001b[34m2023-10-04T04:33:26,396 [INFO ] pool-2-thread-9 ACCESS_LOG - /169.254.255.130:59884 \"GET /ping HTTP/1.1\" 200 15\u001b[0m\n",
      "\u001b[34m2023-10-04T04:33:26,397 [INFO ] pool-2-thread-9 TS_METRICS - Requests2XX.Count:1.0|#Level:Host|#hostname:b19e4914944d,timestamp:1696394006\u001b[0m\n",
      "\u001b[34m2023-10-04T04:33:26,416 [INFO ] epollEventLoopGroup-3-2 ACCESS_LOG - /169.254.255.130:59898 \"GET /execution-parameters HTTP/1.1\" 404 1\u001b[0m\n",
      "\u001b[34m2023-10-04T04:33:26,417 [INFO ] epollEventLoopGroup-3-2 TS_METRICS - Requests4XX.Count:1.0|#Level:Host|#hostname:b19e4914944d,timestamp:1696394006\u001b[0m\n",
      "\u001b[34m2023-10-04T04:33:26,511 [INFO ] epollEventLoopGroup-3-3 TS_METRICS - ts_inference_requests_total.Count:1.0|#model_name:model,model_version:default|#hostname:b19e4914944d,timestamp:1696394006\u001b[0m\n",
      "\u001b[34m2023-10-04T04:33:26,512 [INFO ] W-9004-model_1.0 org.pytorch.serve.wlm.WorkerThread - Flushing req.cmd PREDICT to backend at: 1696394006512\u001b[0m\n",
      "\u001b[34m2023-10-04T04:33:26,514 [INFO ] W-9004-model_1.0-stdout MODEL_LOG - Backend received inference at: 1696394006\u001b[0m\n",
      "\u001b[35m2023-10-04T04:33:26,396 [INFO ] pool-2-thread-9 ACCESS_LOG - /169.254.255.130:59884 \"GET /ping HTTP/1.1\" 200 15\u001b[0m\n",
      "\u001b[35m2023-10-04T04:33:26,397 [INFO ] pool-2-thread-9 TS_METRICS - Requests2XX.Count:1.0|#Level:Host|#hostname:b19e4914944d,timestamp:1696394006\u001b[0m\n",
      "\u001b[35m2023-10-04T04:33:26,416 [INFO ] epollEventLoopGroup-3-2 ACCESS_LOG - /169.254.255.130:59898 \"GET /execution-parameters HTTP/1.1\" 404 1\u001b[0m\n",
      "\u001b[35m2023-10-04T04:33:26,417 [INFO ] epollEventLoopGroup-3-2 TS_METRICS - Requests4XX.Count:1.0|#Level:Host|#hostname:b19e4914944d,timestamp:1696394006\u001b[0m\n",
      "\u001b[35m2023-10-04T04:33:26,511 [INFO ] epollEventLoopGroup-3-3 TS_METRICS - ts_inference_requests_total.Count:1.0|#model_name:model,model_version:default|#hostname:b19e4914944d,timestamp:1696394006\u001b[0m\n",
      "\u001b[35m2023-10-04T04:33:26,512 [INFO ] W-9004-model_1.0 org.pytorch.serve.wlm.WorkerThread - Flushing req.cmd PREDICT to backend at: 1696394006512\u001b[0m\n",
      "\u001b[35m2023-10-04T04:33:26,514 [INFO ] W-9004-model_1.0-stdout MODEL_LOG - Backend received inference at: 1696394006\u001b[0m\n",
      "\u001b[34m2023-10-04T04:33:27,042 [INFO ] W-9004-model_1.0-stdout org.pytorch.serve.wlm.WorkerLifeCycle - result=[METRICS]PredictionTime.Milliseconds:527.55|#ModelName:model,Level:Model|#hostname:b19e4914944d,1696394007,f81b4580-7bd1-48fe-9111-0aac01fa1a46, pattern=[METRICS]\u001b[0m\n",
      "\u001b[34m2023-10-04T04:33:27,043 [INFO ] W-9004-model_1.0-stdout MODEL_METRICS - PredictionTime.ms:527.55|#ModelName:model,Level:Model|#hostname:b19e4914944d,requestID:f81b4580-7bd1-48fe-9111-0aac01fa1a46,timestamp:1696394007\u001b[0m\n",
      "\u001b[34m2023-10-04T04:33:27,050 [INFO ] W-9004-model_1.0 ACCESS_LOG - /169.254.255.130:59914 \"POST /invocations HTTP/1.1\" 200 541\u001b[0m\n",
      "\u001b[34m2023-10-04T04:33:27,050 [INFO ] W-9004-model_1.0 TS_METRICS - Requests2XX.Count:1.0|#Level:Host|#hostname:b19e4914944d,timestamp:1696394007\u001b[0m\n",
      "\u001b[34m2023-10-04T04:33:27,051 [INFO ] W-9004-model_1.0 TS_METRICS - ts_inference_latency_microseconds.Microseconds:536391.343|#model_name:model,model_version:default|#hostname:b19e4914944d,timestamp:1696394007\u001b[0m\n",
      "\u001b[34m2023-10-04T04:33:27,051 [INFO ] W-9004-model_1.0 TS_METRICS - ts_queue_latency_microseconds.Microseconds:188.976|#model_name:model,model_version:default|#hostname:b19e4914944d,timestamp:1696394007\u001b[0m\n",
      "\u001b[34m2023-10-04T04:33:27,052 [INFO ] W-9004-model_1.0 TS_METRICS - QueueTime.Milliseconds:0.0|#Level:Host|#hostname:b19e4914944d,timestamp:1696394007\u001b[0m\n",
      "\u001b[34m2023-10-04T04:33:27,052 [INFO ] W-9004-model_1.0 org.pytorch.serve.wlm.WorkerThread - Backend response time: 535\u001b[0m\n",
      "\u001b[34m2023-10-04T04:33:27,052 [INFO ] W-9004-model_1.0 TS_METRICS - WorkerThreadTime.Milliseconds:5.0|#Level:Host|#hostname:b19e4914944d,timestamp:1696394007\u001b[0m\n",
      "\u001b[35m2023-10-04T04:33:27,042 [INFO ] W-9004-model_1.0-stdout org.pytorch.serve.wlm.WorkerLifeCycle - result=[METRICS]PredictionTime.Milliseconds:527.55|#ModelName:model,Level:Model|#hostname:b19e4914944d,1696394007,f81b4580-7bd1-48fe-9111-0aac01fa1a46, pattern=[METRICS]\u001b[0m\n",
      "\u001b[35m2023-10-04T04:33:27,043 [INFO ] W-9004-model_1.0-stdout MODEL_METRICS - PredictionTime.ms:527.55|#ModelName:model,Level:Model|#hostname:b19e4914944d,requestID:f81b4580-7bd1-48fe-9111-0aac01fa1a46,timestamp:1696394007\u001b[0m\n",
      "\u001b[35m2023-10-04T04:33:27,050 [INFO ] W-9004-model_1.0 ACCESS_LOG - /169.254.255.130:59914 \"POST /invocations HTTP/1.1\" 200 541\u001b[0m\n",
      "\u001b[35m2023-10-04T04:33:27,050 [INFO ] W-9004-model_1.0 TS_METRICS - Requests2XX.Count:1.0|#Level:Host|#hostname:b19e4914944d,timestamp:1696394007\u001b[0m\n",
      "\u001b[35m2023-10-04T04:33:27,051 [INFO ] W-9004-model_1.0 TS_METRICS - ts_inference_latency_microseconds.Microseconds:536391.343|#model_name:model,model_version:default|#hostname:b19e4914944d,timestamp:1696394007\u001b[0m\n",
      "\u001b[35m2023-10-04T04:33:27,051 [INFO ] W-9004-model_1.0 TS_METRICS - ts_queue_latency_microseconds.Microseconds:188.976|#model_name:model,model_version:default|#hostname:b19e4914944d,timestamp:1696394007\u001b[0m\n",
      "\u001b[35m2023-10-04T04:33:27,052 [INFO ] W-9004-model_1.0 TS_METRICS - QueueTime.Milliseconds:0.0|#Level:Host|#hostname:b19e4914944d,timestamp:1696394007\u001b[0m\n",
      "\u001b[35m2023-10-04T04:33:27,052 [INFO ] W-9004-model_1.0 org.pytorch.serve.wlm.WorkerThread - Backend response time: 535\u001b[0m\n",
      "\u001b[35m2023-10-04T04:33:27,052 [INFO ] W-9004-model_1.0 TS_METRICS - WorkerThreadTime.Milliseconds:5.0|#Level:Host|#hostname:b19e4914944d,timestamp:1696394007\u001b[0m\n",
      "\u001b[32m2023-10-04T04:33:26.423:[sagemaker logs]: MaxConcurrentTransforms=1, MaxPayloadInMB=100, BatchStrategy=MULTI_RECORD\u001b[0m\n"
     ]
    }
   ],
   "source": [
    "transformer = estimator.transformer(\n",
    "    instance_count=1,\n",
    "    instance_type=instance_type,\n",
    "    max_payload=100,\n",
    ")\n",
    "\n",
    "transformer.transform(\n",
    "    data=test_data,\n",
    "    content_type=\"text/csv\",\n",
    ")"
   ]
  },
  {
   "cell_type": "markdown",
   "id": "54498c7d-dbb6-4098-b927-506e1058b062",
   "metadata": {},
   "source": [
    "Load the test set predictions from S3."
   ]
  },
  {
   "cell_type": "code",
   "execution_count": 19,
   "id": "317bf9e8-69ba-4eed-a8c9-8600fdbf92e9",
   "metadata": {},
   "outputs": [],
   "source": [
    "predictions = sagemaker_session.read_s3_file(\n",
    "    bucket=bucket,\n",
    "    key_prefix=f\"{transformer.latest_transform_job.name}/{dataset_name}_test.csv.out\"\n",
    ")"
   ]
  },
  {
   "cell_type": "code",
   "execution_count": 20,
   "id": "401fed04-1591-4f58-bb89-4dff0f6acfa3",
   "metadata": {},
   "outputs": [],
   "source": [
    "predictions = pd.DataFrame([x.split(\",\") for x in predictions.split(\"\\n\")[:-1]]).replace(\"\", np.nan).astype(float)"
   ]
  },
  {
   "cell_type": "code",
   "execution_count": 21,
   "id": "fe3eb1f5-5a4a-4623-9a4f-dc0958df4802",
   "metadata": {
    "tags": []
   },
   "outputs": [
    {
     "data": {
      "text/plain": [
       "(32000, 2)"
      ]
     },
     "execution_count": 21,
     "metadata": {},
     "output_type": "execute_result"
    }
   ],
   "source": [
    "predictions.shape"
   ]
  },
  {
   "cell_type": "code",
   "execution_count": 22,
   "id": "085ccaeb-c9a3-4735-843e-42b81f387049",
   "metadata": {
    "tags": []
   },
   "outputs": [
    {
     "data": {
      "text/html": [
       "<div>\n",
       "<style scoped>\n",
       "    .dataframe tbody tr th:only-of-type {\n",
       "        vertical-align: middle;\n",
       "    }\n",
       "\n",
       "    .dataframe tbody tr th {\n",
       "        vertical-align: top;\n",
       "    }\n",
       "\n",
       "    .dataframe thead th {\n",
       "        text-align: right;\n",
       "    }\n",
       "</style>\n",
       "<table border=\"1\" class=\"dataframe\">\n",
       "  <thead>\n",
       "    <tr style=\"text-align: right;\">\n",
       "      <th></th>\n",
       "      <th>0</th>\n",
       "      <th>1</th>\n",
       "    </tr>\n",
       "  </thead>\n",
       "  <tbody>\n",
       "    <tr>\n",
       "      <th>0</th>\n",
       "      <td>NaN</td>\n",
       "      <td>NaN</td>\n",
       "    </tr>\n",
       "    <tr>\n",
       "      <th>1</th>\n",
       "      <td>NaN</td>\n",
       "      <td>NaN</td>\n",
       "    </tr>\n",
       "    <tr>\n",
       "      <th>2</th>\n",
       "      <td>NaN</td>\n",
       "      <td>NaN</td>\n",
       "    </tr>\n",
       "    <tr>\n",
       "      <th>3</th>\n",
       "      <td>NaN</td>\n",
       "      <td>NaN</td>\n",
       "    </tr>\n",
       "    <tr>\n",
       "      <th>4</th>\n",
       "      <td>NaN</td>\n",
       "      <td>NaN</td>\n",
       "    </tr>\n",
       "  </tbody>\n",
       "</table>\n",
       "</div>"
      ],
      "text/plain": [
       "    0   1\n",
       "0 NaN NaN\n",
       "1 NaN NaN\n",
       "2 NaN NaN\n",
       "3 NaN NaN\n",
       "4 NaN NaN"
      ]
     },
     "execution_count": 22,
     "metadata": {},
     "output_type": "execute_result"
    }
   ],
   "source": [
    "predictions.head()"
   ]
  },
  {
   "cell_type": "code",
   "execution_count": 23,
   "id": "3e137b23-cddc-4211-9dcc-233575e5c636",
   "metadata": {
    "tags": []
   },
   "outputs": [
    {
     "data": {
      "text/html": [
       "<div>\n",
       "<style scoped>\n",
       "    .dataframe tbody tr th:only-of-type {\n",
       "        vertical-align: middle;\n",
       "    }\n",
       "\n",
       "    .dataframe tbody tr th {\n",
       "        vertical-align: top;\n",
       "    }\n",
       "\n",
       "    .dataframe thead th {\n",
       "        text-align: right;\n",
       "    }\n",
       "</style>\n",
       "<table border=\"1\" class=\"dataframe\">\n",
       "  <thead>\n",
       "    <tr style=\"text-align: right;\">\n",
       "      <th></th>\n",
       "      <th>0</th>\n",
       "      <th>1</th>\n",
       "    </tr>\n",
       "  </thead>\n",
       "  <tbody>\n",
       "    <tr>\n",
       "      <th>31995</th>\n",
       "      <td>-0.623765</td>\n",
       "      <td>7.130296</td>\n",
       "    </tr>\n",
       "    <tr>\n",
       "      <th>31996</th>\n",
       "      <td>0.476733</td>\n",
       "      <td>6.570319</td>\n",
       "    </tr>\n",
       "    <tr>\n",
       "      <th>31997</th>\n",
       "      <td>1.108993</td>\n",
       "      <td>6.211986</td>\n",
       "    </tr>\n",
       "    <tr>\n",
       "      <th>31998</th>\n",
       "      <td>1.513383</td>\n",
       "      <td>6.403463</td>\n",
       "    </tr>\n",
       "    <tr>\n",
       "      <th>31999</th>\n",
       "      <td>1.547802</td>\n",
       "      <td>4.511558</td>\n",
       "    </tr>\n",
       "  </tbody>\n",
       "</table>\n",
       "</div>"
      ],
      "text/plain": [
       "              0         1\n",
       "31995 -0.623765  7.130296\n",
       "31996  0.476733  6.570319\n",
       "31997  1.108993  6.211986\n",
       "31998  1.513383  6.403463\n",
       "31999  1.547802  4.511558"
      ]
     },
     "execution_count": 23,
     "metadata": {},
     "output_type": "execute_result"
    }
   ],
   "source": [
    "predictions.tail()"
   ]
  },
  {
   "cell_type": "markdown",
   "id": "5949c778-c8e5-4f0e-a53f-2a4d1bf1bc0d",
   "metadata": {},
   "source": [
    "Extract the anomalous time steps."
   ]
  },
  {
   "cell_type": "code",
   "execution_count": 24,
   "id": "cfc41486-f63d-41b9-8b60-ff36fbfb7526",
   "metadata": {
    "tags": []
   },
   "outputs": [],
   "source": [
    "anomalies = predictions.iloc[:, 0].sort_values().iloc[:k].index.to_series()"
   ]
  },
  {
   "cell_type": "code",
   "execution_count": 25,
   "id": "937234e7-e2ae-4205-b7d7-9f8226edd097",
   "metadata": {
    "tags": []
   },
   "outputs": [
    {
     "data": {
      "text/plain": [
       "array([29640, 29639])"
      ]
     },
     "execution_count": 25,
     "metadata": {},
     "output_type": "execute_result"
    }
   ],
   "source": [
    "anomalies.values"
   ]
  },
  {
   "cell_type": "markdown",
   "id": "61a8310e-fc8d-4f7f-bc26-c16a3c2941e2",
   "metadata": {},
   "source": [
    "Check if the anomalous time steps are within the anomalous time interval."
   ]
  },
  {
   "cell_type": "code",
   "execution_count": 26,
   "id": "34ea2558-ec58-4bc1-af5c-ef6285d5dcad",
   "metadata": {
    "tags": []
   },
   "outputs": [
    {
     "data": {
      "text/plain": [
       "array([ True,  True])"
      ]
     },
     "execution_count": 26,
     "metadata": {},
     "output_type": "execute_result"
    }
   ],
   "source": [
    "anomalies.between(start - cutoff, end - cutoff).values"
   ]
  },
  {
   "cell_type": "markdown",
   "id": "831fccc6-0e68-45c0-8ec5-e1e47340c365",
   "metadata": {},
   "source": [
    "Visualize the predictions and the normality scores."
   ]
  },
  {
   "cell_type": "code",
   "execution_count": 27,
   "id": "9dba2cf6-3765-4089-bac1-1dfe141cae03",
   "metadata": {
    "tags": []
   },
   "outputs": [
    {
     "data": {
      "image/png": "[encoded data removed]",
      "text/plain": [
       "<Figure size 600x600 with 2 Axes>"
      ]
     },
     "metadata": {},
     "output_type": "display_data"
    }
   ],
   "source": [
    "fig, axs = plt.subplots(nrows=2, ncols=1, sharex=True, figsize=(6, 6))\n",
    "\n",
    "axs[0].set_title(\"Time Series\", size=10)\n",
    "axs[0].plot(test_dataset.values, color=\"#AFB8C1\", lw=0.5, label=\"Actual\")\n",
    "axs[0].plot(predictions.iloc[:, 1], color=\"#009ad3\", lw=0.5, label=\"Predicted\")\n",
    "axs[0].set(xlabel=\"Time\", ylabel=\"Value\")\n",
    "axs[0].xaxis.set_tick_params(labelbottom=True)\n",
    "axs[0].tick_params(axis=\"both\", which=\"major\", labelsize=7)\n",
    "axs[0].tick_params(axis=\"both\", which=\"minor\", labelsize=7)\n",
    "\n",
    "axs[1].set_title(\"Normality Score\", size=10)\n",
    "axs[1].plot(predictions.iloc[:, 0], color=\"#57606a\", lw=0.5)\n",
    "axs[1].set(xlabel=\"Time\", ylabel=\"Value\")\n",
    "axs[1].xaxis.set_tick_params(labelbottom=True)\n",
    "axs[1].tick_params(axis=\"both\", which=\"major\", labelsize=7)\n",
    "axs[1].tick_params(axis=\"both\", which=\"minor\", labelsize=7)\n",
    "\n",
    "fig.tight_layout()\n",
    "fig.legend(bbox_to_anchor=(1.2, 1, 0, 0), frameon=False)\n",
    "fig.show()"
   ]
  }
 ],
 "metadata": {
  "kernelspec": {
   "display_name": "Python 3 (ipykernel)",
   "language": "python",
   "name": "python3"
  },
  "language_info": {
   "codemirror_mode": {
    "name": "ipython",
    "version": 3
   },
   "file_extension": ".py",
   "mimetype": "text/x-python",
   "name": "python",
   "nbconvert_exporter": "python",
   "pygments_lexer": "ipython3",
   "version": "3.8.0"
  }
 },
 "nbformat": 4,
 "nbformat_minor": 5
}
