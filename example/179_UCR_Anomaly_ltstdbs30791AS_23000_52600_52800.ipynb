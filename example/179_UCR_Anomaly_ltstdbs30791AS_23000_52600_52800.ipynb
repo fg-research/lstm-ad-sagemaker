{
 "cells": [
  {
   "cell_type": "markdown",
   "id": "87deba9d-ff5b-4e7b-ade5-b30c341a7afa",
   "metadata": {},
   "source": [
    "# HEX UCR Dataset: 179_UCR_Anomaly_ltstdbs30791AS_23000_52600_52800"
   ]
  },
  {
   "cell_type": "markdown",
   "id": "2161c326-9263-4f5c-b7b0-8c8ed60f956c",
   "metadata": {},
   "source": [
    "**Dataset Link:** https://www.cs.ucr.edu/~eamonn/time_series_data_2018/UCR_TimeSeriesAnomalyDatasets2021.zip"
   ]
  },
  {
   "cell_type": "markdown",
   "id": "f56f1a46-73b9-4cde-b939-a326a6807009",
   "metadata": {},
   "source": [
    "### 1. Environment set-up"
   ]
  },
  {
   "cell_type": "markdown",
   "id": "8ee3df38-2d9f-4377-9931-3525900b6478",
   "metadata": {},
   "source": [
    "1. This notebook contains elements which render correctly in Jupyter interface. Open this notebook from an Amazon SageMaker Notebook Instance or Amazon SageMaker Studio.\n",
    "1. Ensure that IAM role used has **AmazonSageMakerFullAccess**\n",
    "1. Some hands-on experience using [Amazon SageMaker](https://aws.amazon.com/sagemaker/).\n",
    "1. To use this algorithm successfully, ensure that:\n",
    "    1. Either your IAM role has these three permissions and you have authority to make AWS Marketplace subscriptions in the AWS account used: \n",
    "        1. **aws-marketplace:ViewSubscriptions**\n",
    "        1. **aws-marketplace:Unsubscribe**\n",
    "        1. **aws-marketplace:Subscribe**  \n",
    "    2. or your AWS account has a subscription to the [Time Series Anomaly Detection (LSTM-AD) Algorithm from AWS Marketplace](https://aws.amazon.com/marketplace/pp/prodview-4pbvedtnnlphw).\n",
    "\n",
    "To subscribe to the algorithm:\n",
    "1. Open the algorithm listing page.\n",
    "1. On the AWS Marketplace listing, click on the **Continue to subscribe** button.\n",
    "1. On the **Subscribe to this software** page, review and click on **\"Accept Offer\"** if you agree with EULA, pricing, and support terms. \n",
    "1. Once you click on the **Continue to configuration** button and then choose a **region**, you will see a **Product ARN**. This is the algorithm ARN that you need to specify while training a custom ML model. **Copy the ARN corresponding to your region and specify the same in the following cell.**"
   ]
  },
  {
   "cell_type": "code",
   "execution_count": 1,
   "id": "fd89b7a5-3e1c-4fd5-9661-1dcc86626b10",
   "metadata": {
    "tags": []
   },
   "outputs": [],
   "source": [
    "algo_arn = \"arn:aws:sagemaker:eu-west-1:661670223746:algorithm/lstm-ad-algo-v1-8\""
   ]
  },
  {
   "cell_type": "code",
   "execution_count": 2,
   "id": "b72fa188-ea07-4ee4-ad66-a9dfb7d8cd7e",
   "metadata": {
    "tags": []
   },
   "outputs": [],
   "source": [
    "import sagemaker\n",
    "import pandas as pd\n",
    "import numpy as np\n",
    "import matplotlib.pyplot as plt\n",
    "\n",
    "# SageMaker session\n",
    "sagemaker_session = sagemaker.Session()\n",
    "\n",
    "# SageMaker role\n",
    "role = sagemaker.get_execution_role()\n",
    "\n",
    "# S3 bucket\n",
    "bucket = sagemaker_session.default_bucket()\n",
    "\n",
    "# EC2 instance\n",
    "instance_type = \"ml.m5.2xlarge\""
   ]
  },
  {
   "cell_type": "markdown",
   "id": "49491ac8-2585-429f-8acb-8b3d3e082a7b",
   "metadata": {},
   "source": [
    "### 2. Data preparation"
   ]
  },
  {
   "cell_type": "markdown",
   "id": "2fe35c9b-7f7b-4634-a618-6bd18278556f",
   "metadata": {},
   "source": [
    "Load the data."
   ]
  },
  {
   "cell_type": "code",
   "execution_count": 3,
   "id": "1bdf6675-a1c3-4474-9a3e-5a281ab559b9",
   "metadata": {
    "tags": []
   },
   "outputs": [],
   "source": [
    "dataset_name = \"179_UCR_Anomaly_ltstdbs30791AS_23000_52600_52800\"\n",
    "cutoff = 23000  # train-test cutoff\n",
    "start = 52600   # start of anomalous time interval\n",
    "end = 52800     # end of anomalous time interval\n",
    "k = 2           # number of anomalies to extract"
   ]
  },
  {
   "cell_type": "code",
   "execution_count": 4,
   "id": "62b85cf0-9ed0-4499-9c31-ebb9f7aff474",
   "metadata": {
    "tags": []
   },
   "outputs": [],
   "source": [
    "dataset = pd.DataFrame(data=np.genfromtxt(f\"{dataset_name}.txt\"))"
   ]
  },
  {
   "cell_type": "code",
   "execution_count": 5,
   "id": "69ba4b55-ec1d-46c3-9161-c2d6f8b8c671",
   "metadata": {
    "tags": []
   },
   "outputs": [
    {
     "data": {
      "text/plain": [
       "(55000, 1)"
      ]
     },
     "execution_count": 5,
     "metadata": {},
     "output_type": "execute_result"
    }
   ],
   "source": [
    "dataset.shape"
   ]
  },
  {
   "cell_type": "code",
   "execution_count": 6,
   "id": "e399d772-749d-4e3f-8c58-2bbea4261499",
   "metadata": {
    "tags": []
   },
   "outputs": [
    {
     "data": {
      "text/html": [
       "<div>\n",
       "<style scoped>\n",
       "    .dataframe tbody tr th:only-of-type {\n",
       "        vertical-align: middle;\n",
       "    }\n",
       "\n",
       "    .dataframe tbody tr th {\n",
       "        vertical-align: top;\n",
       "    }\n",
       "\n",
       "    .dataframe thead th {\n",
       "        text-align: right;\n",
       "    }\n",
       "</style>\n",
       "<table border=\"1\" class=\"dataframe\">\n",
       "  <thead>\n",
       "    <tr style=\"text-align: right;\">\n",
       "      <th></th>\n",
       "      <th>0</th>\n",
       "    </tr>\n",
       "  </thead>\n",
       "  <tbody>\n",
       "    <tr>\n",
       "      <th>0</th>\n",
       "      <td>-1.0</td>\n",
       "    </tr>\n",
       "    <tr>\n",
       "      <th>1</th>\n",
       "      <td>-1.0</td>\n",
       "    </tr>\n",
       "    <tr>\n",
       "      <th>2</th>\n",
       "      <td>-1.0</td>\n",
       "    </tr>\n",
       "    <tr>\n",
       "      <th>3</th>\n",
       "      <td>-1.0</td>\n",
       "    </tr>\n",
       "    <tr>\n",
       "      <th>4</th>\n",
       "      <td>-1.0</td>\n",
       "    </tr>\n",
       "  </tbody>\n",
       "</table>\n",
       "</div>"
      ],
      "text/plain": [
       "     0\n",
       "0 -1.0\n",
       "1 -1.0\n",
       "2 -1.0\n",
       "3 -1.0\n",
       "4 -1.0"
      ]
     },
     "execution_count": 6,
     "metadata": {},
     "output_type": "execute_result"
    }
   ],
   "source": [
    "dataset.head()"
   ]
  },
  {
   "cell_type": "code",
   "execution_count": 7,
   "id": "c1142757-d2ba-40dc-a389-efc9612649e2",
   "metadata": {
    "tags": []
   },
   "outputs": [
    {
     "data": {
      "text/html": [
       "<div>\n",
       "<style scoped>\n",
       "    .dataframe tbody tr th:only-of-type {\n",
       "        vertical-align: middle;\n",
       "    }\n",
       "\n",
       "    .dataframe tbody tr th {\n",
       "        vertical-align: top;\n",
       "    }\n",
       "\n",
       "    .dataframe thead th {\n",
       "        text-align: right;\n",
       "    }\n",
       "</style>\n",
       "<table border=\"1\" class=\"dataframe\">\n",
       "  <thead>\n",
       "    <tr style=\"text-align: right;\">\n",
       "      <th></th>\n",
       "      <th>0</th>\n",
       "    </tr>\n",
       "  </thead>\n",
       "  <tbody>\n",
       "    <tr>\n",
       "      <th>54995</th>\n",
       "      <td>27.0</td>\n",
       "    </tr>\n",
       "    <tr>\n",
       "      <th>54996</th>\n",
       "      <td>24.0</td>\n",
       "    </tr>\n",
       "    <tr>\n",
       "      <th>54997</th>\n",
       "      <td>22.0</td>\n",
       "    </tr>\n",
       "    <tr>\n",
       "      <th>54998</th>\n",
       "      <td>21.0</td>\n",
       "    </tr>\n",
       "    <tr>\n",
       "      <th>54999</th>\n",
       "      <td>19.0</td>\n",
       "    </tr>\n",
       "  </tbody>\n",
       "</table>\n",
       "</div>"
      ],
      "text/plain": [
       "          0\n",
       "54995  27.0\n",
       "54996  24.0\n",
       "54997  22.0\n",
       "54998  21.0\n",
       "54999  19.0"
      ]
     },
     "execution_count": 7,
     "metadata": {},
     "output_type": "execute_result"
    }
   ],
   "source": [
    "dataset.tail()"
   ]
  },
  {
   "cell_type": "markdown",
   "id": "4ffe7dfe-08cc-4550-bdd0-351e62739558",
   "metadata": {},
   "source": [
    "Visualize the data."
   ]
  },
  {
   "cell_type": "code",
   "execution_count": 8,
   "id": "d79b0a5c-00ec-4df4-898f-a05245281c94",
   "metadata": {
    "tags": []
   },
   "outputs": [
    {
     "data": {
      "image/png": "[encoded data removed]",
      "text/plain": [
       "<Figure size 600x350 with 1 Axes>"
      ]
     },
     "metadata": {},
     "output_type": "display_data"
    }
   ],
   "source": [
    "fig, ax = plt.subplots(nrows=1, ncols=1, sharex=True, figsize=(6, 3.5))\n",
    "ax.set_title(\"Time Series\", size=10)\n",
    "ax.plot(dataset, color=\"#AFB8C1\", lw=0.3)\n",
    "ax.set(xlabel=\"Time\", ylabel=\"Value\")\n",
    "ax.tick_params(axis=\"both\", which=\"major\", labelsize=7)\n",
    "ax.tick_params(axis=\"both\", which=\"minor\", labelsize=7)\n",
    "fig.tight_layout()\n",
    "fig.show()"
   ]
  },
  {
   "cell_type": "markdown",
   "id": "2e0b09b4-ae21-4551-825c-dcd279753b51",
   "metadata": {},
   "source": [
    "Split the data."
   ]
  },
  {
   "cell_type": "code",
   "execution_count": 9,
   "id": "9b0699df-9439-45c2-ba70-ca11983d843f",
   "metadata": {
    "tags": []
   },
   "outputs": [],
   "source": [
    "training_dataset = dataset.iloc[:cutoff]"
   ]
  },
  {
   "cell_type": "code",
   "execution_count": 10,
   "id": "24adddd2-ab77-4137-98ea-faec2ae3d67d",
   "metadata": {
    "tags": []
   },
   "outputs": [
    {
     "data": {
      "text/plain": [
       "(23000, 1)"
      ]
     },
     "execution_count": 10,
     "metadata": {},
     "output_type": "execute_result"
    }
   ],
   "source": [
    "training_dataset.shape"
   ]
  },
  {
   "cell_type": "code",
   "execution_count": 11,
   "id": "34af9186-27ef-4038-a9de-0e206b89202b",
   "metadata": {
    "tags": []
   },
   "outputs": [],
   "source": [
    "test_dataset = dataset.iloc[cutoff:]"
   ]
  },
  {
   "cell_type": "code",
   "execution_count": 12,
   "id": "4dde60d8-0340-44de-9912-acf9fe2a0633",
   "metadata": {
    "tags": []
   },
   "outputs": [
    {
     "data": {
      "text/plain": [
       "(32000, 1)"
      ]
     },
     "execution_count": 12,
     "metadata": {},
     "output_type": "execute_result"
    }
   ],
   "source": [
    "test_dataset.shape"
   ]
  },
  {
   "cell_type": "markdown",
   "id": "7586de04-bfeb-4942-8937-9ff7c42f5931",
   "metadata": {},
   "source": [
    "Upload the data to S3."
   ]
  },
  {
   "cell_type": "code",
   "execution_count": 13,
   "id": "7fe9e74c-6a57-419e-865d-233e51106857",
   "metadata": {
    "tags": []
   },
   "outputs": [],
   "source": [
    "training_data = sagemaker_session.upload_string_as_file_body(\n",
    "    body=training_dataset.to_csv(index=False, header=False),\n",
    "    bucket=bucket,\n",
    "    key=f\"{dataset_name}_train.csv\"\n",
    ")"
   ]
  },
  {
   "cell_type": "code",
   "execution_count": 14,
   "id": "851460a4-32ac-444a-ab90-a61df3257256",
   "metadata": {
    "tags": []
   },
   "outputs": [
    {
     "data": {
      "text/plain": [
       "'s3://sagemaker-eu-west-1-661670223746/179_UCR_Anomaly_ltstdbs30791AS_23000_52600_52800_train.csv'"
      ]
     },
     "execution_count": 14,
     "metadata": {},
     "output_type": "execute_result"
    }
   ],
   "source": [
    "training_data"
   ]
  },
  {
   "cell_type": "code",
   "execution_count": 15,
   "id": "e2062e41-eb07-43c2-9b86-370a63d45599",
   "metadata": {
    "tags": []
   },
   "outputs": [],
   "source": [
    "test_data = sagemaker_session.upload_string_as_file_body(\n",
    "    body=test_dataset.to_csv(index=False, header=False),\n",
    "    bucket=bucket,\n",
    "    key=f\"{dataset_name}_test.csv\"\n",
    ")"
   ]
  },
  {
   "cell_type": "code",
   "execution_count": 16,
   "id": "4225ecdd-a68e-4824-bb64-f2a7ab3426b8",
   "metadata": {
    "tags": []
   },
   "outputs": [
    {
     "data": {
      "text/plain": [
       "'s3://sagemaker-eu-west-1-661670223746/179_UCR_Anomaly_ltstdbs30791AS_23000_52600_52800_test.csv'"
      ]
     },
     "execution_count": 16,
     "metadata": {},
     "output_type": "execute_result"
    }
   ],
   "source": [
    "test_data"
   ]
  },
  {
   "cell_type": "markdown",
   "id": "6a91f5ac-d6bb-4a50-9de3-69436c33b814",
   "metadata": {},
   "source": [
    "### 3. Training"
   ]
  },
  {
   "cell_type": "markdown",
   "id": "6ad88d3f-50cf-4835-9120-fa6a0da910f0",
   "metadata": {},
   "source": [
    "Fit the model to the training set."
   ]
  },
  {
   "cell_type": "code",
   "execution_count": 17,
   "id": "d870d366-06fc-4a7c-a676-bc33795be3aa",
   "metadata": {},
   "outputs": [
    {
     "name": "stderr",
     "output_type": "stream",
     "text": [
      "NOTEBOOK_METADATA_FILE detected but failed to get valid domain and user from it.\n",
      "INFO:sagemaker:Creating training-job with name: lstm-ad-algo-v1-8-2023-09-17-09-33-54-426\n"
     ]
    },
    {
     "name": "stdout",
     "output_type": "stream",
     "text": [
      "2023-09-17 09:33:54 Starting - Starting the training job...\n",
      "2023-09-17 09:34:10 Starting - Preparing the instances for training......\n",
      "2023-09-17 09:35:23 Downloading - Downloading input data\n",
      "2023-09-17 09:35:23 Training - Downloading the training image........................\n",
      "2023-09-17 09:38:59 Training - Training image download completed. Training in progress...\u001b[34mbash: cannot set terminal process group (-1): Inappropriate ioctl for device\u001b[0m\n",
      "\u001b[34mbash: no job control in this shell\u001b[0m\n",
      "\u001b[34m2023-09-17 09:39:32,715 sagemaker-training-toolkit INFO     Imported framework sagemaker_pytorch_container.training\u001b[0m\n",
      "\u001b[34m2023-09-17 09:39:32,716 sagemaker-training-toolkit INFO     No GPUs detected (normal if no gpus installed)\u001b[0m\n",
      "\u001b[34m2023-09-17 09:39:32,717 sagemaker-training-toolkit INFO     No Neurons detected (normal if no neurons installed)\u001b[0m\n",
      "\u001b[34m2023-09-17 09:39:32,726 sagemaker_pytorch_container.training INFO     Block until all host DNS lookups succeed.\u001b[0m\n",
      "\u001b[34m2023-09-17 09:39:32,727 sagemaker_pytorch_container.training INFO     Invoking user training script.\u001b[0m\n",
      "\u001b[34m2023-09-17 09:39:33,951 sagemaker-training-toolkit INFO     No GPUs detected (normal if no gpus installed)\u001b[0m\n",
      "\u001b[34m2023-09-17 09:39:33,952 sagemaker-training-toolkit INFO     No Neurons detected (normal if no neurons installed)\u001b[0m\n",
      "\u001b[34m2023-09-17 09:39:33,963 sagemaker-training-toolkit INFO     No GPUs detected (normal if no gpus installed)\u001b[0m\n",
      "\u001b[34m2023-09-17 09:39:33,964 sagemaker-training-toolkit INFO     No Neurons detected (normal if no neurons installed)\u001b[0m\n",
      "\u001b[34m2023-09-17 09:39:33,974 sagemaker-training-toolkit INFO     No GPUs detected (normal if no gpus installed)\u001b[0m\n",
      "\u001b[34m2023-09-17 09:39:33,974 sagemaker-training-toolkit INFO     No Neurons detected (normal if no neurons installed)\u001b[0m\n",
      "\u001b[34m2023-09-17 09:39:33,983 sagemaker-training-toolkit INFO     Invoking user script\u001b[0m\n",
      "\u001b[34mTraining Env:\u001b[0m\n",
      "\u001b[34m{\n",
      "    \"additional_framework_parameters\": {},\n",
      "    \"channel_input_dirs\": {\n",
      "        \"training\": \"/opt/ml/input/data/training\"\n",
      "    },\n",
      "    \"current_host\": \"algo-1\",\n",
      "    \"current_instance_group\": \"homogeneousCluster\",\n",
      "    \"current_instance_group_hosts\": [\n",
      "        \"algo-1\"\n",
      "    ],\n",
      "    \"current_instance_type\": \"ml.m5.2xlarge\",\n",
      "    \"distribution_hosts\": [],\n",
      "    \"distribution_instance_groups\": [],\n",
      "    \"framework_module\": \"sagemaker_pytorch_container.training:main\",\n",
      "    \"hosts\": [\n",
      "        \"algo-1\"\n",
      "    ],\n",
      "    \"hyperparameters\": {\n",
      "        \"batch-size\": 32,\n",
      "        \"context-length\": 200,\n",
      "        \"dropout\": 0.8,\n",
      "        \"epochs\": 500,\n",
      "        \"hidden-size\": 256,\n",
      "        \"lr\": 0.001,\n",
      "        \"num-layers\": 2,\n",
      "        \"prediction-length\": 50,\n",
      "        \"sequence-stride\": 50\n",
      "    },\n",
      "    \"input_config_dir\": \"/opt/ml/input/config\",\n",
      "    \"input_data_config\": {\n",
      "        \"training\": {\n",
      "            \"TrainingInputMode\": \"File\",\n",
      "            \"S3DistributionType\": \"FullyReplicated\",\n",
      "            \"RecordWrapperType\": \"None\"\n",
      "        }\n",
      "    },\n",
      "    \"input_dir\": \"/opt/ml/input\",\n",
      "    \"instance_groups\": [\n",
      "        \"homogeneousCluster\"\n",
      "    ],\n",
      "    \"instance_groups_dict\": {\n",
      "        \"homogeneousCluster\": {\n",
      "            \"instance_group_name\": \"homogeneousCluster\",\n",
      "            \"instance_type\": \"ml.m5.2xlarge\",\n",
      "            \"hosts\": [\n",
      "                \"algo-1\"\n",
      "            ]\n",
      "        }\n",
      "    },\n",
      "    \"is_hetero\": false,\n",
      "    \"is_master\": true,\n",
      "    \"is_modelparallel_enabled\": null,\n",
      "    \"is_smddpmprun_installed\": true,\n",
      "    \"job_name\": \"lstm-ad-algo-v1-8-2023-09-17-09-33-54-426\",\n",
      "    \"log_level\": 20,\n",
      "    \"master_hostname\": \"algo-1\",\n",
      "    \"model_dir\": \"/opt/ml/model\",\n",
      "    \"module_dir\": \"/opt/ml/code\",\n",
      "    \"module_name\": \"training\",\n",
      "    \"network_interface_name\": \"eth0\",\n",
      "    \"num_cpus\": 8,\n",
      "    \"num_gpus\": 0,\n",
      "    \"num_neurons\": 0,\n",
      "    \"output_data_dir\": \"/opt/ml/output/data\",\n",
      "    \"output_dir\": \"/opt/ml/output\",\n",
      "    \"output_intermediate_dir\": \"/opt/ml/output/intermediate\",\n",
      "    \"resource_config\": {\n",
      "        \"current_host\": \"algo-1\",\n",
      "        \"current_instance_type\": \"ml.m5.2xlarge\",\n",
      "        \"current_group_name\": \"homogeneousCluster\",\n",
      "        \"hosts\": [\n",
      "            \"algo-1\"\n",
      "        ],\n",
      "        \"instance_groups\": [\n",
      "            {\n",
      "                \"instance_group_name\": \"homogeneousCluster\",\n",
      "                \"instance_type\": \"ml.m5.2xlarge\",\n",
      "                \"hosts\": [\n",
      "                    \"algo-1\"\n",
      "                ]\n",
      "            }\n",
      "        ],\n",
      "        \"network_interface_name\": \"eth0\"\n",
      "    },\n",
      "    \"user_entry_point\": \"training.py\"\u001b[0m\n",
      "\u001b[34m}\u001b[0m\n",
      "\u001b[34mEnvironment variables:\u001b[0m\n",
      "\u001b[34mSM_HOSTS=[\"algo-1\"]\u001b[0m\n",
      "\u001b[34mSM_NETWORK_INTERFACE_NAME=eth0\u001b[0m\n",
      "\u001b[34mSM_HPS={\"batch-size\":32,\"context-length\":200,\"dropout\":0.8,\"epochs\":500,\"hidden-size\":256,\"lr\":0.001,\"num-layers\":2,\"prediction-length\":50,\"sequence-stride\":50}\u001b[0m\n",
      "\u001b[34mSM_USER_ENTRY_POINT=training.py\u001b[0m\n",
      "\u001b[34mSM_FRAMEWORK_PARAMS={}\u001b[0m\n",
      "\u001b[34mSM_RESOURCE_CONFIG={\"current_group_name\":\"homogeneousCluster\",\"current_host\":\"algo-1\",\"current_instance_type\":\"ml.m5.2xlarge\",\"hosts\":[\"algo-1\"],\"instance_groups\":[{\"hosts\":[\"algo-1\"],\"instance_group_name\":\"homogeneousCluster\",\"instance_type\":\"ml.m5.2xlarge\"}],\"network_interface_name\":\"eth0\"}\u001b[0m\n",
      "\u001b[34mSM_INPUT_DATA_CONFIG={\"training\":{\"RecordWrapperType\":\"None\",\"S3DistributionType\":\"FullyReplicated\",\"TrainingInputMode\":\"File\"}}\u001b[0m\n",
      "\u001b[34mSM_OUTPUT_DATA_DIR=/opt/ml/output/data\u001b[0m\n",
      "\u001b[34mSM_CHANNELS=[\"training\"]\u001b[0m\n",
      "\u001b[34mSM_CURRENT_HOST=algo-1\u001b[0m\n",
      "\u001b[34mSM_CURRENT_INSTANCE_TYPE=ml.m5.2xlarge\u001b[0m\n",
      "\u001b[34mSM_CURRENT_INSTANCE_GROUP=homogeneousCluster\u001b[0m\n",
      "\u001b[34mSM_CURRENT_INSTANCE_GROUP_HOSTS=[\"algo-1\"]\u001b[0m\n",
      "\u001b[34mSM_INSTANCE_GROUPS=[\"homogeneousCluster\"]\u001b[0m\n",
      "\u001b[34mSM_INSTANCE_GROUPS_DICT={\"homogeneousCluster\":{\"hosts\":[\"algo-1\"],\"instance_group_name\":\"homogeneousCluster\",\"instance_type\":\"ml.m5.2xlarge\"}}\u001b[0m\n",
      "\u001b[34mSM_DISTRIBUTION_INSTANCE_GROUPS=[]\u001b[0m\n",
      "\u001b[34mSM_IS_HETERO=false\u001b[0m\n",
      "\u001b[34mSM_MODULE_NAME=training\u001b[0m\n",
      "\u001b[34mSM_LOG_LEVEL=20\u001b[0m\n",
      "\u001b[34mSM_FRAMEWORK_MODULE=sagemaker_pytorch_container.training:main\u001b[0m\n",
      "\u001b[34mSM_INPUT_DIR=/opt/ml/input\u001b[0m\n",
      "\u001b[34mSM_INPUT_CONFIG_DIR=/opt/ml/input/config\u001b[0m\n",
      "\u001b[34mSM_OUTPUT_DIR=/opt/ml/output\u001b[0m\n",
      "\u001b[34mSM_NUM_CPUS=8\u001b[0m\n",
      "\u001b[34mSM_NUM_GPUS=0\u001b[0m\n",
      "\u001b[34mSM_NUM_NEURONS=0\u001b[0m\n",
      "\u001b[34mSM_MODEL_DIR=/opt/ml/model\u001b[0m\n",
      "\u001b[34mSM_MODULE_DIR=/opt/ml/code\u001b[0m\n",
      "\u001b[34mSM_TRAINING_ENV={\"additional_framework_parameters\":{},\"channel_input_dirs\":{\"training\":\"/opt/ml/input/data/training\"},\"current_host\":\"algo-1\",\"current_instance_group\":\"homogeneousCluster\",\"current_instance_group_hosts\":[\"algo-1\"],\"current_instance_type\":\"ml.m5.2xlarge\",\"distribution_hosts\":[],\"distribution_instance_groups\":[],\"framework_module\":\"sagemaker_pytorch_container.training:main\",\"hosts\":[\"algo-1\"],\"hyperparameters\":{\"batch-size\":32,\"context-length\":200,\"dropout\":0.8,\"epochs\":500,\"hidden-size\":256,\"lr\":0.001,\"num-layers\":2,\"prediction-length\":50,\"sequence-stride\":50},\"input_config_dir\":\"/opt/ml/input/config\",\"input_data_config\":{\"training\":{\"RecordWrapperType\":\"None\",\"S3DistributionType\":\"FullyReplicated\",\"TrainingInputMode\":\"File\"}},\"input_dir\":\"/opt/ml/input\",\"instance_groups\":[\"homogeneousCluster\"],\"instance_groups_dict\":{\"homogeneousCluster\":{\"hosts\":[\"algo-1\"],\"instance_group_name\":\"homogeneousCluster\",\"instance_type\":\"ml.m5.2xlarge\"}},\"is_hetero\":false,\"is_master\":true,\"is_modelparallel_enabled\":null,\"is_smddpmprun_installed\":true,\"job_name\":\"lstm-ad-algo-v1-8-2023-09-17-09-33-54-426\",\"log_level\":20,\"master_hostname\":\"algo-1\",\"model_dir\":\"/opt/ml/model\",\"module_dir\":\"/opt/ml/code\",\"module_name\":\"training\",\"network_interface_name\":\"eth0\",\"num_cpus\":8,\"num_gpus\":0,\"num_neurons\":0,\"output_data_dir\":\"/opt/ml/output/data\",\"output_dir\":\"/opt/ml/output\",\"output_intermediate_dir\":\"/opt/ml/output/intermediate\",\"resource_config\":{\"current_group_name\":\"homogeneousCluster\",\"current_host\":\"algo-1\",\"current_instance_type\":\"ml.m5.2xlarge\",\"hosts\":[\"algo-1\"],\"instance_groups\":[{\"hosts\":[\"algo-1\"],\"instance_group_name\":\"homogeneousCluster\",\"instance_type\":\"ml.m5.2xlarge\"}],\"network_interface_name\":\"eth0\"},\"user_entry_point\":\"training.py\"}\u001b[0m\n",
      "\u001b[34mSM_USER_ARGS=[\"--batch-size\",\"32\",\"--context-length\",\"200\",\"--dropout\",\"0.8\",\"--epochs\",\"500\",\"--hidden-size\",\"256\",\"--lr\",\"0.001\",\"--num-layers\",\"2\",\"--prediction-length\",\"50\",\"--sequence-stride\",\"50\"]\u001b[0m\n",
      "\u001b[34mSM_OUTPUT_INTERMEDIATE_DIR=/opt/ml/output/intermediate\u001b[0m\n",
      "\u001b[34mSM_CHANNEL_TRAINING=/opt/ml/input/data/training\u001b[0m\n",
      "\u001b[34mSM_HP_BATCH-SIZE=32\u001b[0m\n",
      "\u001b[34mSM_HP_CONTEXT-LENGTH=200\u001b[0m\n",
      "\u001b[34mSM_HP_DROPOUT=0.8\u001b[0m\n",
      "\u001b[34mSM_HP_EPOCHS=500\u001b[0m\n",
      "\u001b[34mSM_HP_HIDDEN-SIZE=256\u001b[0m\n",
      "\u001b[34mSM_HP_LR=0.001\u001b[0m\n",
      "\u001b[34mSM_HP_NUM-LAYERS=2\u001b[0m\n",
      "\u001b[34mSM_HP_PREDICTION-LENGTH=50\u001b[0m\n",
      "\u001b[34mSM_HP_SEQUENCE-STRIDE=50\u001b[0m\n",
      "\u001b[34mPYTHONPATH=/opt/ml/code:/opt/conda/bin:/opt/conda/lib/python310.zip:/opt/conda/lib/python3.10:/opt/conda/lib/python3.10/lib-dynload:/opt/conda/lib/python3.10/site-packages\u001b[0m\n",
      "\u001b[34mInvoking script with the following command:\u001b[0m\n",
      "\u001b[34m/opt/conda/bin/python3.10 training.py --batch-size 32 --context-length 200 --dropout 0.8 --epochs 500 --hidden-size 256 --lr 0.001 --num-layers 2 --prediction-length 50 --sequence-stride 50\u001b[0m\n",
      "\u001b[34m2023-09-17 09:39:34,019 sagemaker-training-toolkit INFO     Exceptions not imported for SageMaker TF as Tensorflow is not installed.\u001b[0m\n",
      "\u001b[34m--------------------------------------\u001b[0m\n",
      "\u001b[34mTraining on 1 time series.\u001b[0m\n",
      "\u001b[34mTime series length: 23000\u001b[0m\n",
      "\u001b[34m--------------------------------------\u001b[0m\n",
      "\u001b[34m--------------------------------------\u001b[0m\n",
      "\u001b[34mTraining the model.\u001b[0m\n",
      "\u001b[34m--------------------------------------\u001b[0m\n",
      "\u001b[34mEpoch: 1, Training MSE: 0.01840800, Training MAE: 0.08149358\u001b[0m\n",
      "\u001b[34mEpoch: 2, Training MSE: 0.01498228, Training MAE: 0.06592940\u001b[0m\n",
      "\u001b[34mEpoch: 3, Training MSE: 0.01501758, Training MAE: 0.07423773\u001b[0m\n",
      "\u001b[34mEpoch: 4, Training MSE: 0.01483341, Training MAE: 0.06493685\u001b[0m\n",
      "\u001b[34mEpoch: 5, Training MSE: 0.01451260, Training MAE: 0.06539883\u001b[0m\n",
      "\u001b[34mEpoch: 6, Training MSE: 0.01453474, Training MAE: 0.06676996\u001b[0m\n",
      "\u001b[34mEpoch: 7, Training MSE: 0.01448520, Training MAE: 0.06478040\u001b[0m\n",
      "\u001b[34mEpoch: 8, Training MSE: 0.01452297, Training MAE: 0.06414983\u001b[0m\n",
      "\u001b[34mEpoch: 9, Training MSE: 0.01445943, Training MAE: 0.06520941\u001b[0m\n",
      "\u001b[34mEpoch: 10, Training MSE: 0.01451845, Training MAE: 0.06776106\u001b[0m\n",
      "\u001b[34mEpoch: 11, Training MSE: 0.01438095, Training MAE: 0.06389137\u001b[0m\n",
      "\u001b[34mEpoch: 12, Training MSE: 0.01421787, Training MAE: 0.06515442\u001b[0m\n",
      "\u001b[34mEpoch: 13, Training MSE: 0.01403434, Training MAE: 0.06234569\u001b[0m\n",
      "\u001b[34mEpoch: 14, Training MSE: 0.01390041, Training MAE: 0.06384701\u001b[0m\n",
      "\u001b[34mEpoch: 15, Training MSE: 0.01408772, Training MAE: 0.06181577\u001b[0m\n",
      "\u001b[34mEpoch: 16, Training MSE: 0.01386141, Training MAE: 0.06321214\u001b[0m\n",
      "\u001b[34mEpoch: 17, Training MSE: 0.01376669, Training MAE: 0.05963612\u001b[0m\n",
      "\u001b[34mEpoch: 18, Training MSE: 0.01372633, Training MAE: 0.06859028\u001b[0m\n",
      "\u001b[34mEpoch: 19, Training MSE: 0.01374972, Training MAE: 0.07545820\u001b[0m\n",
      "\u001b[34mEpoch: 20, Training MSE: 0.01263364, Training MAE: 0.05565335\u001b[0m\n",
      "\u001b[34mEpoch: 21, Training MSE: 0.01218840, Training MAE: 0.05869858\u001b[0m\n",
      "\u001b[34mEpoch: 22, Training MSE: 0.01246876, Training MAE: 0.05669785\u001b[0m\n",
      "\u001b[34mEpoch: 23, Training MSE: 0.01187889, Training MAE: 0.05558842\u001b[0m\n",
      "\u001b[34mEpoch: 24, Training MSE: 0.01143369, Training MAE: 0.05900619\u001b[0m\n",
      "\u001b[34mEpoch: 25, Training MSE: 0.01141565, Training MAE: 0.05807800\u001b[0m\n",
      "\u001b[34mEpoch: 26, Training MSE: 0.01178892, Training MAE: 0.05181483\u001b[0m\n",
      "\u001b[34mEpoch: 27, Training MSE: 0.01113424, Training MAE: 0.06146718\u001b[0m\n",
      "\u001b[34mEpoch: 28, Training MSE: 0.01147050, Training MAE: 0.05237413\u001b[0m\n",
      "\u001b[34mEpoch: 29, Training MSE: 0.01005209, Training MAE: 0.05211753\u001b[0m\n",
      "\u001b[34mEpoch: 30, Training MSE: 0.00977812, Training MAE: 0.05322159\u001b[0m\n",
      "\u001b[34mEpoch: 31, Training MSE: 0.01153124, Training MAE: 0.05743952\u001b[0m\n",
      "\u001b[34mEpoch: 32, Training MSE: 0.00918871, Training MAE: 0.05834300\u001b[0m\n",
      "\u001b[34mEpoch: 33, Training MSE: 0.01129913, Training MAE: 0.05722735\u001b[0m\n",
      "\u001b[34mEpoch: 34, Training MSE: 0.01074513, Training MAE: 0.06279225\u001b[0m\n",
      "\u001b[34mEpoch: 35, Training MSE: 0.00931529, Training MAE: 0.05098208\u001b[0m\n",
      "\u001b[34mEpoch: 36, Training MSE: 0.00809657, Training MAE: 0.04987588\u001b[0m\n",
      "\u001b[34mEpoch: 37, Training MSE: 0.00830801, Training MAE: 0.05147238\u001b[0m\n",
      "\u001b[34mEpoch: 38, Training MSE: 0.01024364, Training MAE: 0.05836489\u001b[0m\n",
      "\u001b[34mEpoch: 39, Training MSE: 0.00790938, Training MAE: 0.05438481\u001b[0m\n",
      "\u001b[34mEpoch: 40, Training MSE: 0.00743055, Training MAE: 0.05164312\u001b[0m\n",
      "\u001b[34mEpoch: 41, Training MSE: 0.00694456, Training MAE: 0.04892464\u001b[0m\n",
      "\u001b[34mEpoch: 42, Training MSE: 0.00695240, Training MAE: 0.04917220\u001b[0m\n",
      "\u001b[34mEpoch: 43, Training MSE: 0.00670474, Training MAE: 0.04861014\u001b[0m\n",
      "\u001b[34mEpoch: 44, Training MSE: 0.00620076, Training MAE: 0.04528575\u001b[0m\n",
      "\u001b[34mEpoch: 45, Training MSE: 0.00601737, Training MAE: 0.04259704\u001b[0m\n",
      "\u001b[34mEpoch: 46, Training MSE: 0.00584151, Training MAE: 0.04211940\u001b[0m\n",
      "\u001b[34mEpoch: 47, Training MSE: 0.00601172, Training MAE: 0.04236241\u001b[0m\n",
      "\u001b[34mEpoch: 48, Training MSE: 0.00570176, Training MAE: 0.04300832\u001b[0m\n",
      "\u001b[34mEpoch: 49, Training MSE: 0.00577201, Training MAE: 0.04309074\u001b[0m\n",
      "\u001b[34mEpoch: 50, Training MSE: 0.00542204, Training MAE: 0.04055922\u001b[0m\n",
      "\u001b[34mEpoch: 51, Training MSE: 0.00541160, Training MAE: 0.03922304\u001b[0m\n",
      "\u001b[34mEpoch: 52, Training MSE: 0.00557248, Training MAE: 0.04142900\u001b[0m\n",
      "\u001b[34mEpoch: 53, Training MSE: 0.00537812, Training MAE: 0.03975913\u001b[0m\n",
      "\u001b[34mEpoch: 54, Training MSE: 0.00574537, Training MAE: 0.04462774\u001b[0m\n",
      "\u001b[34mEpoch: 55, Training MSE: 0.00542469, Training MAE: 0.04278331\u001b[0m\n",
      "\u001b[34mEpoch: 56, Training MSE: 0.00526200, Training MAE: 0.03742336\u001b[0m\n",
      "\u001b[34mEpoch: 57, Training MSE: 0.00541680, Training MAE: 0.03887465\u001b[0m\n",
      "\u001b[34mEpoch: 58, Training MSE: 0.00497454, Training MAE: 0.03811572\u001b[0m\n",
      "\u001b[34mEpoch: 59, Training MSE: 0.00520366, Training MAE: 0.03949212\u001b[0m\n",
      "\u001b[34mEpoch: 60, Training MSE: 0.00512236, Training MAE: 0.03875586\u001b[0m\n",
      "\u001b[34mEpoch: 61, Training MSE: 0.00566934, Training MAE: 0.04086210\u001b[0m\n",
      "\u001b[34mEpoch: 62, Training MSE: 0.00784019, Training MAE: 0.05240829\u001b[0m\n",
      "\u001b[34mEpoch: 63, Training MSE: 0.00833843, Training MAE: 0.04968583\u001b[0m\n",
      "\u001b[34mEpoch: 64, Training MSE: 0.00623231, Training MAE: 0.04502918\u001b[0m\n",
      "\u001b[34mEpoch: 65, Training MSE: 0.00693285, Training MAE: 0.05006320\u001b[0m\n",
      "\u001b[34mEpoch: 66, Training MSE: 0.00558911, Training MAE: 0.04149293\u001b[0m\n",
      "\u001b[34mEpoch: 67, Training MSE: 0.00571990, Training MAE: 0.04359120\u001b[0m\n",
      "\u001b[34mEpoch: 68, Training MSE: 0.00558152, Training MAE: 0.04258223\u001b[0m\n",
      "\u001b[34mEpoch: 69, Training MSE: 0.00517258, Training MAE: 0.03876108\u001b[0m\n",
      "\u001b[34mEpoch: 70, Training MSE: 0.00505306, Training MAE: 0.04065978\u001b[0m\n",
      "\u001b[34mEpoch: 71, Training MSE: 0.00518006, Training MAE: 0.04112456\u001b[0m\n",
      "\u001b[34mEpoch: 72, Training MSE: 0.00489460, Training MAE: 0.03739388\u001b[0m\n",
      "\u001b[34mEpoch: 73, Training MSE: 0.00479649, Training MAE: 0.03656651\u001b[0m\n",
      "\u001b[34mEpoch: 74, Training MSE: 0.00484099, Training MAE: 0.03730152\u001b[0m\n",
      "\u001b[34mEpoch: 75, Training MSE: 0.00470500, Training MAE: 0.03575790\u001b[0m\n",
      "\u001b[34mEpoch: 76, Training MSE: 0.00470013, Training MAE: 0.03763363\u001b[0m\n",
      "\u001b[34mEpoch: 77, Training MSE: 0.00465179, Training MAE: 0.03675264\u001b[0m\n",
      "\u001b[34mEpoch: 78, Training MSE: 0.00459884, Training MAE: 0.03563305\u001b[0m\n",
      "\u001b[34mEpoch: 79, Training MSE: 0.00451683, Training MAE: 0.03465365\u001b[0m\n",
      "\u001b[34mEpoch: 80, Training MSE: 0.00448618, Training MAE: 0.03570804\u001b[0m\n",
      "\u001b[34mEpoch: 81, Training MSE: 0.00527177, Training MAE: 0.04083268\u001b[0m\n",
      "\u001b[34mEpoch: 82, Training MSE: 0.00447893, Training MAE: 0.03510980\u001b[0m\n",
      "\u001b[34mEpoch: 83, Training MSE: 0.00437103, Training MAE: 0.03561012\u001b[0m\n",
      "\u001b[34mEpoch: 84, Training MSE: 0.00433114, Training MAE: 0.03457446\u001b[0m\n",
      "\u001b[34mEpoch: 85, Training MSE: 0.00414024, Training MAE: 0.03448502\u001b[0m\n",
      "\u001b[34mEpoch: 86, Training MSE: 0.00411760, Training MAE: 0.03420090\u001b[0m\n",
      "\u001b[34mEpoch: 87, Training MSE: 0.00414252, Training MAE: 0.03345411\u001b[0m\n",
      "\u001b[34mEpoch: 88, Training MSE: 0.00398677, Training MAE: 0.03377467\u001b[0m\n",
      "\u001b[34mEpoch: 89, Training MSE: 0.00404910, Training MAE: 0.03309035\u001b[0m\n",
      "\u001b[34mEpoch: 90, Training MSE: 0.00442799, Training MAE: 0.03389076\u001b[0m\n",
      "\u001b[34mEpoch: 91, Training MSE: 0.00433135, Training MAE: 0.03537988\u001b[0m\n",
      "\u001b[34mEpoch: 92, Training MSE: 0.00395110, Training MAE: 0.03438913\u001b[0m\n",
      "\u001b[34mEpoch: 93, Training MSE: 0.00414053, Training MAE: 0.03552432\u001b[0m\n",
      "\u001b[34mEpoch: 94, Training MSE: 0.00477788, Training MAE: 0.04134396\u001b[0m\n",
      "\u001b[34mEpoch: 95, Training MSE: 0.00414586, Training MAE: 0.03627994\u001b[0m\n",
      "\u001b[34mEpoch: 96, Training MSE: 0.00407075, Training MAE: 0.03735569\u001b[0m\n",
      "\u001b[34mEpoch: 97, Training MSE: 0.00399668, Training MAE: 0.03623130\u001b[0m\n",
      "\u001b[34mEpoch: 98, Training MSE: 0.00356198, Training MAE: 0.03294109\u001b[0m\n",
      "\u001b[34mEpoch: 99, Training MSE: 0.00330441, Training MAE: 0.03111777\u001b[0m\n",
      "\u001b[34mEpoch: 100, Training MSE: 0.00329091, Training MAE: 0.03089856\u001b[0m\n",
      "\u001b[34mEpoch: 101, Training MSE: 0.00360793, Training MAE: 0.02969690\u001b[0m\n",
      "\u001b[34mEpoch: 102, Training MSE: 0.00356764, Training MAE: 0.03285318\u001b[0m\n",
      "\u001b[34mEpoch: 103, Training MSE: 0.00415298, Training MAE: 0.03319518\u001b[0m\n",
      "\u001b[34mEpoch: 104, Training MSE: 0.00387998, Training MAE: 0.03265696\u001b[0m\n",
      "\u001b[34mEpoch: 105, Training MSE: 0.00372887, Training MAE: 0.03136891\u001b[0m\n",
      "\u001b[34mEpoch: 106, Training MSE: 0.00313406, Training MAE: 0.02773007\u001b[0m\n",
      "\u001b[34mEpoch: 107, Training MSE: 0.00377892, Training MAE: 0.03167780\u001b[0m\n",
      "\u001b[34mEpoch: 108, Training MSE: 0.00314047, Training MAE: 0.02926200\u001b[0m\n",
      "\u001b[34mEpoch: 109, Training MSE: 0.00285528, Training MAE: 0.02626633\u001b[0m\n",
      "\u001b[34mEpoch: 110, Training MSE: 0.00280442, Training MAE: 0.02598973\u001b[0m\n",
      "\u001b[34mEpoch: 111, Training MSE: 0.00533037, Training MAE: 0.03894416\u001b[0m\n",
      "\u001b[34mEpoch: 112, Training MSE: 0.00411438, Training MAE: 0.03713620\u001b[0m\n",
      "\u001b[34mEpoch: 113, Training MSE: 0.00383388, Training MAE: 0.03343139\u001b[0m\n",
      "\u001b[34mEpoch: 114, Training MSE: 0.00377094, Training MAE: 0.03797121\u001b[0m\n",
      "\u001b[34mEpoch: 115, Training MSE: 0.00294320, Training MAE: 0.03080573\u001b[0m\n",
      "\u001b[34mEpoch: 116, Training MSE: 0.00287904, Training MAE: 0.02692696\u001b[0m\n",
      "\u001b[34mEpoch: 117, Training MSE: 0.00300238, Training MAE: 0.03117281\u001b[0m\n",
      "\u001b[34mEpoch: 118, Training MSE: 0.00291070, Training MAE: 0.02762722\u001b[0m\n",
      "\u001b[34mEpoch: 119, Training MSE: 0.00286515, Training MAE: 0.02882467\u001b[0m\n",
      "\u001b[34mEpoch: 120, Training MSE: 0.00274583, Training MAE: 0.02725981\u001b[0m\n",
      "\u001b[34mEpoch: 121, Training MSE: 0.00253457, Training MAE: 0.02506098\u001b[0m\n",
      "\u001b[34mEpoch: 122, Training MSE: 0.00241777, Training MAE: 0.02527925\u001b[0m\n",
      "\u001b[34mEpoch: 123, Training MSE: 0.00228495, Training MAE: 0.02470119\u001b[0m\n",
      "\u001b[34mEpoch: 124, Training MSE: 0.00251235, Training MAE: 0.02625477\u001b[0m\n",
      "\u001b[34mEpoch: 125, Training MSE: 0.00685536, Training MAE: 0.04725202\u001b[0m\n",
      "\u001b[34mEpoch: 126, Training MSE: 0.00590125, Training MAE: 0.04396486\u001b[0m\n",
      "\u001b[34mEpoch: 127, Training MSE: 0.00604884, Training MAE: 0.04575954\u001b[0m\n",
      "\u001b[34mEpoch: 128, Training MSE: 0.00786258, Training MAE: 0.04568116\u001b[0m\n",
      "\u001b[34mEpoch: 129, Training MSE: 0.00562378, Training MAE: 0.04173742\u001b[0m\n",
      "\u001b[34mEpoch: 130, Training MSE: 0.00485865, Training MAE: 0.03717981\u001b[0m\n",
      "\u001b[34mEpoch: 131, Training MSE: 0.00440852, Training MAE: 0.03576879\u001b[0m\n",
      "\u001b[34mEpoch: 132, Training MSE: 0.00428426, Training MAE: 0.03824731\u001b[0m\n",
      "\u001b[34mEpoch: 133, Training MSE: 0.00373207, Training MAE: 0.03253268\u001b[0m\n",
      "\u001b[34mEpoch: 134, Training MSE: 0.00363761, Training MAE: 0.03230011\u001b[0m\n",
      "\u001b[34mEpoch: 135, Training MSE: 0.00350443, Training MAE: 0.03292736\u001b[0m\n",
      "\u001b[34mEpoch: 136, Training MSE: 0.00362220, Training MAE: 0.03286439\u001b[0m\n",
      "\u001b[34mEpoch: 137, Training MSE: 0.00312495, Training MAE: 0.02891921\u001b[0m\n",
      "\u001b[34mEpoch: 138, Training MSE: 0.00302812, Training MAE: 0.02827475\u001b[0m\n",
      "\u001b[34mEpoch: 139, Training MSE: 0.00380262, Training MAE: 0.03064045\u001b[0m\n",
      "\u001b[34mEpoch: 140, Training MSE: 0.00401876, Training MAE: 0.03506775\u001b[0m\n",
      "\u001b[34mEpoch: 141, Training MSE: 0.00356573, Training MAE: 0.03524131\u001b[0m\n",
      "\u001b[34mEpoch: 142, Training MSE: 0.00437872, Training MAE: 0.03489945\u001b[0m\n",
      "\u001b[34mEpoch: 143, Training MSE: 0.00312108, Training MAE: 0.03008240\u001b[0m\n",
      "\u001b[34mEpoch: 144, Training MSE: 0.00282027, Training MAE: 0.03002432\u001b[0m\n",
      "\u001b[34mEpoch: 145, Training MSE: 0.00254918, Training MAE: 0.02645572\u001b[0m\n",
      "\u001b[34mEpoch: 146, Training MSE: 0.00252310, Training MAE: 0.02773567\u001b[0m\n",
      "\u001b[34mEpoch: 147, Training MSE: 0.00250072, Training MAE: 0.02742486\u001b[0m\n",
      "\u001b[34mEpoch: 148, Training MSE: 0.00595840, Training MAE: 0.04209478\u001b[0m\n",
      "\u001b[34mEpoch: 149, Training MSE: 0.00437364, Training MAE: 0.03854643\u001b[0m\n",
      "\u001b[34mEpoch: 150, Training MSE: 0.00471400, Training MAE: 0.03941304\u001b[0m\n",
      "\u001b[34mEpoch: 151, Training MSE: 0.00341960, Training MAE: 0.03288532\u001b[0m\n",
      "\u001b[34mEpoch: 152, Training MSE: 0.00628694, Training MAE: 0.04285403\u001b[0m\n",
      "\u001b[34mEpoch: 153, Training MSE: 0.00487987, Training MAE: 0.03999851\u001b[0m\n",
      "\u001b[34mEpoch: 154, Training MSE: 0.00449353, Training MAE: 0.03420690\u001b[0m\n",
      "\u001b[34mEpoch: 155, Training MSE: 0.00413954, Training MAE: 0.03284192\u001b[0m\n",
      "\u001b[34mEpoch: 156, Training MSE: 0.00413615, Training MAE: 0.03395307\u001b[0m\n",
      "\u001b[34mEpoch: 157, Training MSE: 0.00414403, Training MAE: 0.03467108\u001b[0m\n",
      "\u001b[34mEpoch: 158, Training MSE: 0.00439210, Training MAE: 0.03306393\u001b[0m\n",
      "\u001b[34mEpoch: 159, Training MSE: 0.00390675, Training MAE: 0.03142112\u001b[0m\n",
      "\u001b[34mEpoch: 160, Training MSE: 0.00391315, Training MAE: 0.03172505\u001b[0m\n",
      "\u001b[34mEpoch: 161, Training MSE: 0.00375036, Training MAE: 0.03054868\u001b[0m\n",
      "\u001b[34mEpoch: 162, Training MSE: 0.00367235, Training MAE: 0.03092976\u001b[0m\n",
      "\u001b[34mEpoch: 163, Training MSE: 0.00356054, Training MAE: 0.02986109\u001b[0m\n",
      "\u001b[34mEpoch: 164, Training MSE: 0.00349723, Training MAE: 0.03071055\u001b[0m\n",
      "\u001b[34mEpoch: 165, Training MSE: 0.00336021, Training MAE: 0.03122159\u001b[0m\n",
      "\u001b[34mEpoch: 166, Training MSE: 0.00347600, Training MAE: 0.03525573\u001b[0m\n",
      "\u001b[34mEpoch: 167, Training MSE: 0.00323517, Training MAE: 0.03093947\u001b[0m\n",
      "\u001b[34mEpoch: 168, Training MSE: 0.00326762, Training MAE: 0.02812703\u001b[0m\n",
      "\u001b[34mEpoch: 169, Training MSE: 0.00275536, Training MAE: 0.02939606\u001b[0m\n",
      "\u001b[34mEpoch: 170, Training MSE: 0.00253615, Training MAE: 0.02632254\u001b[0m\n",
      "\u001b[34mEpoch: 171, Training MSE: 0.00242260, Training MAE: 0.02452792\u001b[0m\n",
      "\u001b[34mEpoch: 172, Training MSE: 0.00245709, Training MAE: 0.02614205\u001b[0m\n",
      "\u001b[34mEpoch: 173, Training MSE: 0.00238108, Training MAE: 0.02548618\u001b[0m\n",
      "\u001b[34mEpoch: 174, Training MSE: 0.00282250, Training MAE: 0.02860925\u001b[0m\n",
      "\u001b[34mEpoch: 175, Training MSE: 0.00638201, Training MAE: 0.04759330\u001b[0m\n",
      "\u001b[34mEpoch: 176, Training MSE: 0.00596475, Training MAE: 0.04452166\u001b[0m\n",
      "\u001b[34mEpoch: 177, Training MSE: 0.00474297, Training MAE: 0.03767865\u001b[0m\n",
      "\u001b[34mEpoch: 178, Training MSE: 0.00435041, Training MAE: 0.03536498\u001b[0m\n",
      "\u001b[34mEpoch: 179, Training MSE: 0.00405065, Training MAE: 0.03378924\u001b[0m\n",
      "\u001b[34mEpoch: 180, Training MSE: 0.00390260, Training MAE: 0.03123443\u001b[0m\n",
      "\u001b[34mEpoch: 181, Training MSE: 0.00369657, Training MAE: 0.02989511\u001b[0m\n",
      "\u001b[34mEpoch: 182, Training MSE: 0.00361124, Training MAE: 0.02915794\u001b[0m\n",
      "\u001b[34mEpoch: 183, Training MSE: 0.00342231, Training MAE: 0.02900297\u001b[0m\n",
      "\u001b[34mEpoch: 184, Training MSE: 0.00327873, Training MAE: 0.02914831\u001b[0m\n",
      "\u001b[34mEpoch: 185, Training MSE: 0.00305956, Training MAE: 0.02813803\u001b[0m\n",
      "\u001b[34mEpoch: 186, Training MSE: 0.00297057, Training MAE: 0.02837072\u001b[0m\n",
      "\u001b[34mEpoch: 187, Training MSE: 0.00270862, Training MAE: 0.02966017\u001b[0m\n",
      "\u001b[34mEpoch: 188, Training MSE: 0.00241268, Training MAE: 0.02533757\u001b[0m\n",
      "\u001b[34mEpoch: 189, Training MSE: 0.00246976, Training MAE: 0.02532049\u001b[0m\n",
      "\u001b[34mEpoch: 190, Training MSE: 0.00233046, Training MAE: 0.02431123\u001b[0m\n",
      "\u001b[34mEpoch: 191, Training MSE: 0.00228210, Training MAE: 0.02500016\u001b[0m\n",
      "\u001b[34mEpoch: 192, Training MSE: 0.00222100, Training MAE: 0.02280963\u001b[0m\n",
      "\u001b[34mEpoch: 193, Training MSE: 0.00212414, Training MAE: 0.02312986\u001b[0m\n",
      "\u001b[34mEpoch: 194, Training MSE: 0.00210115, Training MAE: 0.02392939\u001b[0m\n",
      "\u001b[34mEpoch: 195, Training MSE: 0.00201050, Training MAE: 0.02218424\u001b[0m\n",
      "\u001b[34mEpoch: 196, Training MSE: 0.00246933, Training MAE: 0.02617471\u001b[0m\n",
      "\u001b[34mEpoch: 197, Training MSE: 0.00238372, Training MAE: 0.02708606\u001b[0m\n",
      "\u001b[34mEpoch: 198, Training MSE: 0.00221412, Training MAE: 0.02404351\u001b[0m\n",
      "\u001b[34mEpoch: 199, Training MSE: 0.00206121, Training MAE: 0.02333237\u001b[0m\n",
      "\u001b[34mEpoch: 200, Training MSE: 0.00202040, Training MAE: 0.02346201\u001b[0m\n",
      "\u001b[34mEpoch: 201, Training MSE: 0.00190554, Training MAE: 0.02109305\u001b[0m\n",
      "\u001b[34mEpoch: 202, Training MSE: 0.00193939, Training MAE: 0.02134633\u001b[0m\n",
      "\u001b[34mEpoch: 203, Training MSE: 0.00200985, Training MAE: 0.02130758\u001b[0m\n",
      "\u001b[34mEpoch: 204, Training MSE: 0.00203431, Training MAE: 0.02384354\u001b[0m\n",
      "\u001b[34mEpoch: 205, Training MSE: 0.00187424, Training MAE: 0.02133880\u001b[0m\n",
      "\u001b[34mEpoch: 206, Training MSE: 0.00193196, Training MAE: 0.02096698\u001b[0m\n",
      "\u001b[34mEpoch: 207, Training MSE: 0.00237506, Training MAE: 0.02246015\u001b[0m\n",
      "\u001b[34mEpoch: 208, Training MSE: 0.00187328, Training MAE: 0.02136611\u001b[0m\n",
      "\u001b[34mEpoch: 209, Training MSE: 0.00184668, Training MAE: 0.02102576\u001b[0m\n",
      "\u001b[34mEpoch: 210, Training MSE: 0.00189196, Training MAE: 0.02014718\u001b[0m\n",
      "\u001b[34mEpoch: 211, Training MSE: 0.00175653, Training MAE: 0.02073122\u001b[0m\n",
      "\u001b[34mEpoch: 212, Training MSE: 0.00191082, Training MAE: 0.02263466\u001b[0m\n",
      "\u001b[34mEpoch: 213, Training MSE: 0.00199597, Training MAE: 0.02502201\u001b[0m\n",
      "\u001b[34mEpoch: 214, Training MSE: 0.00182047, Training MAE: 0.02064143\u001b[0m\n",
      "\u001b[34mEpoch: 215, Training MSE: 0.00249699, Training MAE: 0.02526578\u001b[0m\n",
      "\u001b[34mEpoch: 216, Training MSE: 0.00197769, Training MAE: 0.02402399\u001b[0m\n",
      "\u001b[34mEpoch: 217, Training MSE: 0.00200067, Training MAE: 0.02103127\u001b[0m\n",
      "\u001b[34mEpoch: 218, Training MSE: 0.00189269, Training MAE: 0.02090222\u001b[0m\n",
      "\u001b[34mEpoch: 219, Training MSE: 0.00172953, Training MAE: 0.02103189\u001b[0m\n",
      "\u001b[34mEpoch: 220, Training MSE: 0.00173516, Training MAE: 0.02053845\u001b[0m\n",
      "\u001b[34mEpoch: 221, Training MSE: 0.00172973, Training MAE: 0.01951639\u001b[0m\n",
      "\u001b[34mEpoch: 222, Training MSE: 0.00184230, Training MAE: 0.02149750\u001b[0m\n",
      "\u001b[34mEpoch: 223, Training MSE: 0.00177473, Training MAE: 0.02099938\u001b[0m\n",
      "\u001b[34mEpoch: 224, Training MSE: 0.00178963, Training MAE: 0.02046539\u001b[0m\n",
      "\u001b[34mEpoch: 225, Training MSE: 0.00186225, Training MAE: 0.02072807\u001b[0m\n",
      "\u001b[34mEpoch: 226, Training MSE: 0.00167110, Training MAE: 0.02031383\u001b[0m\n",
      "\u001b[34mEpoch: 227, Training MSE: 0.00167405, Training MAE: 0.01986417\u001b[0m\n",
      "\u001b[34mEpoch: 228, Training MSE: 0.00184284, Training MAE: 0.02114239\u001b[0m\n",
      "\u001b[34mEpoch: 229, Training MSE: 0.00165656, Training MAE: 0.02053586\u001b[0m\n",
      "\u001b[34mEpoch: 230, Training MSE: 0.00169644, Training MAE: 0.02092127\u001b[0m\n",
      "\u001b[34mEpoch: 231, Training MSE: 0.00177850, Training MAE: 0.02093936\u001b[0m\n",
      "\u001b[34mEpoch: 232, Training MSE: 0.00197744, Training MAE: 0.02405332\u001b[0m\n",
      "\u001b[34mEpoch: 233, Training MSE: 0.00179623, Training MAE: 0.02034990\u001b[0m\n",
      "\u001b[34mEpoch: 234, Training MSE: 0.00168478, Training MAE: 0.01965461\u001b[0m\n",
      "\u001b[34mEpoch: 235, Training MSE: 0.00167813, Training MAE: 0.02075103\u001b[0m\n",
      "\u001b[34mEpoch: 236, Training MSE: 0.00161245, Training MAE: 0.01918981\u001b[0m\n",
      "\u001b[34mEpoch: 237, Training MSE: 0.00158806, Training MAE: 0.01964846\u001b[0m\n",
      "\u001b[34mEpoch: 238, Training MSE: 0.00178739, Training MAE: 0.02143086\u001b[0m\n",
      "\u001b[34mEpoch: 239, Training MSE: 0.00161760, Training MAE: 0.01988626\u001b[0m\n",
      "\u001b[34mEpoch: 240, Training MSE: 0.00175725, Training MAE: 0.01925102\u001b[0m\n",
      "\u001b[34mEpoch: 241, Training MSE: 0.00152632, Training MAE: 0.01896596\u001b[0m\n",
      "\u001b[34mEpoch: 242, Training MSE: 0.00159287, Training MAE: 0.02088040\u001b[0m\n",
      "\u001b[34mEpoch: 243, Training MSE: 0.00152146, Training MAE: 0.01857507\u001b[0m\n",
      "\u001b[34mEpoch: 244, Training MSE: 0.00171926, Training MAE: 0.01910390\u001b[0m\n",
      "\u001b[34mEpoch: 245, Training MSE: 0.00188783, Training MAE: 0.02063065\u001b[0m\n",
      "\u001b[34mEpoch: 246, Training MSE: 0.00166496, Training MAE: 0.02086469\u001b[0m\n",
      "\u001b[34mEpoch: 247, Training MSE: 0.00168699, Training MAE: 0.02200129\u001b[0m\n",
      "\u001b[34mEpoch: 248, Training MSE: 0.00161393, Training MAE: 0.01921756\u001b[0m\n",
      "\u001b[34mEpoch: 249, Training MSE: 0.00161675, Training MAE: 0.01917868\u001b[0m\n",
      "\u001b[34mEpoch: 250, Training MSE: 0.00146308, Training MAE: 0.01821921\u001b[0m\n",
      "\u001b[34mEpoch: 251, Training MSE: 0.00157168, Training MAE: 0.01968313\u001b[0m\n",
      "\u001b[34mEpoch: 252, Training MSE: 0.00173234, Training MAE: 0.01951377\u001b[0m\n",
      "\u001b[34mEpoch: 253, Training MSE: 0.00162750, Training MAE: 0.02109356\u001b[0m\n",
      "\u001b[34mEpoch: 254, Training MSE: 0.00150641, Training MAE: 0.01891939\u001b[0m\n",
      "\u001b[34mEpoch: 255, Training MSE: 0.00144775, Training MAE: 0.01773162\u001b[0m\n",
      "\u001b[34mEpoch: 256, Training MSE: 0.00146496, Training MAE: 0.01832865\u001b[0m\n",
      "\u001b[34mEpoch: 257, Training MSE: 0.00144313, Training MAE: 0.01872584\u001b[0m\n",
      "\u001b[34mEpoch: 258, Training MSE: 0.00148384, Training MAE: 0.01812055\u001b[0m\n",
      "\u001b[34mEpoch: 259, Training MSE: 0.00151704, Training MAE: 0.01916038\u001b[0m\n",
      "\u001b[34mEpoch: 260, Training MSE: 0.00146162, Training MAE: 0.01879667\u001b[0m\n",
      "\u001b[34mEpoch: 261, Training MSE: 0.00191504, Training MAE: 0.02523065\u001b[0m\n",
      "\u001b[34mEpoch: 262, Training MSE: 0.00225223, Training MAE: 0.02500393\u001b[0m\n",
      "\u001b[34mEpoch: 263, Training MSE: 0.00709291, Training MAE: 0.05411493\u001b[0m\n",
      "\u001b[34mEpoch: 264, Training MSE: 0.00560418, Training MAE: 0.04410479\u001b[0m\n",
      "\u001b[34mEpoch: 265, Training MSE: 0.00448110, Training MAE: 0.03961914\u001b[0m\n",
      "\u001b[34mEpoch: 266, Training MSE: 0.00367399, Training MAE: 0.03292752\u001b[0m\n",
      "\u001b[34mEpoch: 267, Training MSE: 0.00308763, Training MAE: 0.02938551\u001b[0m\n",
      "\u001b[34mEpoch: 268, Training MSE: 0.00282227, Training MAE: 0.03021904\u001b[0m\n",
      "\u001b[34mEpoch: 269, Training MSE: 0.00245375, Training MAE: 0.02556651\u001b[0m\n",
      "\u001b[34mEpoch: 270, Training MSE: 0.00220887, Training MAE: 0.02310645\u001b[0m\n",
      "\u001b[34mEpoch: 271, Training MSE: 0.00226481, Training MAE: 0.02437544\u001b[0m\n",
      "\u001b[34mEpoch: 272, Training MSE: 0.00291324, Training MAE: 0.02750016\u001b[0m\n",
      "\u001b[34mEpoch: 273, Training MSE: 0.00259425, Training MAE: 0.02753286\u001b[0m\n",
      "\u001b[34mEpoch: 274, Training MSE: 0.00230073, Training MAE: 0.02376933\u001b[0m\n",
      "\u001b[34mEpoch: 275, Training MSE: 0.00220957, Training MAE: 0.02315974\u001b[0m\n",
      "\u001b[34mEpoch: 276, Training MSE: 0.00194655, Training MAE: 0.02174541\u001b[0m\n",
      "\u001b[34mEpoch: 277, Training MSE: 0.00194263, Training MAE: 0.02138644\u001b[0m\n",
      "\u001b[34mEpoch: 278, Training MSE: 0.00183748, Training MAE: 0.02134709\u001b[0m\n",
      "\u001b[34mEpoch: 279, Training MSE: 0.00179927, Training MAE: 0.02047287\u001b[0m\n",
      "\u001b[34mEpoch: 280, Training MSE: 0.00178314, Training MAE: 0.02108048\u001b[0m\n",
      "\u001b[34mEpoch: 281, Training MSE: 0.00199634, Training MAE: 0.02238278\u001b[0m\n",
      "\u001b[34mEpoch: 282, Training MSE: 0.00186363, Training MAE: 0.02124218\u001b[0m\n",
      "\u001b[34mEpoch: 283, Training MSE: 0.00174001, Training MAE: 0.01962209\u001b[0m\n",
      "\u001b[34mEpoch: 284, Training MSE: 0.00167167, Training MAE: 0.01960017\u001b[0m\n",
      "\u001b[34mEpoch: 285, Training MSE: 0.00160436, Training MAE: 0.01916231\u001b[0m\n",
      "\u001b[34mEpoch: 286, Training MSE: 0.00164974, Training MAE: 0.01992772\u001b[0m\n",
      "\u001b[34mEpoch: 287, Training MSE: 0.00161350, Training MAE: 0.02005716\u001b[0m\n",
      "\u001b[34mEpoch: 288, Training MSE: 0.00165976, Training MAE: 0.02115819\u001b[0m\n",
      "\u001b[34mEpoch: 289, Training MSE: 0.00153861, Training MAE: 0.01926719\u001b[0m\n",
      "\u001b[34mEpoch: 290, Training MSE: 0.00151610, Training MAE: 0.01944462\u001b[0m\n",
      "\u001b[34mEpoch: 291, Training MSE: 0.00285015, Training MAE: 0.02806788\u001b[0m\n",
      "\u001b[34mEpoch: 292, Training MSE: 0.00270838, Training MAE: 0.02782659\u001b[0m\n",
      "\u001b[34mEpoch: 293, Training MSE: 0.00247303, Training MAE: 0.02629626\u001b[0m\n",
      "\u001b[34mEpoch: 294, Training MSE: 0.00220362, Training MAE: 0.02531598\u001b[0m\n",
      "\u001b[34mEpoch: 295, Training MSE: 0.00207119, Training MAE: 0.02492743\u001b[0m\n",
      "\u001b[34mEpoch: 296, Training MSE: 0.00198844, Training MAE: 0.02182057\u001b[0m\n",
      "\u001b[34mEpoch: 297, Training MSE: 0.00188180, Training MAE: 0.02114221\u001b[0m\n",
      "\u001b[34mEpoch: 298, Training MSE: 0.00174145, Training MAE: 0.02076349\u001b[0m\n",
      "\u001b[34mEpoch: 299, Training MSE: 0.00168005, Training MAE: 0.01964039\u001b[0m\n",
      "\u001b[34mEpoch: 300, Training MSE: 0.00167522, Training MAE: 0.01955939\u001b[0m\n",
      "\u001b[34mEpoch: 301, Training MSE: 0.00162205, Training MAE: 0.01944090\u001b[0m\n",
      "\u001b[34mEpoch: 302, Training MSE: 0.00164945, Training MAE: 0.02016245\u001b[0m\n",
      "\u001b[34mEpoch: 303, Training MSE: 0.00159475, Training MAE: 0.01925038\u001b[0m\n",
      "\u001b[34mEpoch: 304, Training MSE: 0.00154075, Training MAE: 0.01955103\u001b[0m\n",
      "\u001b[34mEpoch: 305, Training MSE: 0.00194466, Training MAE: 0.01961046\u001b[0m\n",
      "\u001b[34mEpoch: 306, Training MSE: 0.00209570, Training MAE: 0.02389152\u001b[0m\n",
      "\u001b[34mEpoch: 307, Training MSE: 0.00210052, Training MAE: 0.02487302\u001b[0m\n",
      "\u001b[34mEpoch: 308, Training MSE: 0.00180367, Training MAE: 0.02209992\u001b[0m\n",
      "\u001b[34mEpoch: 309, Training MSE: 0.00162262, Training MAE: 0.02014958\u001b[0m\n",
      "\u001b[34mEpoch: 310, Training MSE: 0.00154437, Training MAE: 0.01873572\u001b[0m\n",
      "\u001b[34mEpoch: 311, Training MSE: 0.00144071, Training MAE: 0.01757251\u001b[0m\n",
      "\u001b[34mEpoch: 312, Training MSE: 0.00150332, Training MAE: 0.01833224\u001b[0m\n",
      "\u001b[34mEpoch: 313, Training MSE: 0.00149700, Training MAE: 0.01798573\u001b[0m\n",
      "\u001b[34mEpoch: 314, Training MSE: 0.00145284, Training MAE: 0.01893420\u001b[0m\n",
      "\u001b[34mEpoch: 315, Training MSE: 0.00140968, Training MAE: 0.01754959\u001b[0m\n",
      "\u001b[34mEpoch: 316, Training MSE: 0.00143810, Training MAE: 0.01823600\u001b[0m\n",
      "\u001b[34mEpoch: 317, Training MSE: 0.00139416, Training MAE: 0.01828912\u001b[0m\n",
      "\u001b[34mEpoch: 318, Training MSE: 0.00138521, Training MAE: 0.01805338\u001b[0m\n",
      "\u001b[34mEpoch: 319, Training MSE: 0.00146341, Training MAE: 0.01872431\u001b[0m\n",
      "\u001b[34mEpoch: 320, Training MSE: 0.00140403, Training MAE: 0.01950247\u001b[0m\n",
      "\u001b[34mEpoch: 321, Training MSE: 0.00138308, Training MAE: 0.01770055\u001b[0m\n",
      "\u001b[34mEpoch: 322, Training MSE: 0.00135131, Training MAE: 0.01861803\u001b[0m\n",
      "\u001b[34mEpoch: 323, Training MSE: 0.00138621, Training MAE: 0.01816931\u001b[0m\n",
      "\u001b[34mEpoch: 324, Training MSE: 0.00137397, Training MAE: 0.01750604\u001b[0m\n",
      "\u001b[34mEpoch: 325, Training MSE: 0.00130856, Training MAE: 0.01716505\u001b[0m\n",
      "\u001b[34mEpoch: 326, Training MSE: 0.00126110, Training MAE: 0.01664029\u001b[0m\n",
      "\u001b[34mEpoch: 327, Training MSE: 0.00619899, Training MAE: 0.04866677\u001b[0m\n",
      "\u001b[34mEpoch: 328, Training MSE: 0.00992093, Training MAE: 0.05885173\u001b[0m\n",
      "\u001b[34mEpoch: 329, Training MSE: 0.00699373, Training MAE: 0.04910515\u001b[0m\n",
      "\u001b[34mEpoch: 330, Training MSE: 0.00621435, Training MAE: 0.04396094\u001b[0m\n",
      "\u001b[34mEpoch: 331, Training MSE: 0.00602150, Training MAE: 0.04312259\u001b[0m\n",
      "\u001b[34mEpoch: 332, Training MSE: 0.00519652, Training MAE: 0.03826612\u001b[0m\n",
      "\u001b[34mEpoch: 333, Training MSE: 0.00430519, Training MAE: 0.03699262\u001b[0m\n",
      "\u001b[34mEpoch: 334, Training MSE: 0.00462718, Training MAE: 0.03818638\u001b[0m\n",
      "\u001b[34mEpoch: 335, Training MSE: 0.00345858, Training MAE: 0.03102391\u001b[0m\n",
      "\u001b[34mEpoch: 336, Training MSE: 0.00361272, Training MAE: 0.03048330\u001b[0m\n",
      "\u001b[34mEpoch: 337, Training MSE: 0.00221480, Training MAE: 0.02758684\u001b[0m\n",
      "\u001b[34mEpoch: 338, Training MSE: 0.00224787, Training MAE: 0.02778298\u001b[0m\n",
      "\u001b[34mEpoch: 339, Training MSE: 0.00205420, Training MAE: 0.02485904\u001b[0m\n",
      "\u001b[34mEpoch: 340, Training MSE: 0.00187315, Training MAE: 0.02247605\u001b[0m\n",
      "\u001b[34mEpoch: 341, Training MSE: 0.00184293, Training MAE: 0.02184391\u001b[0m\n",
      "\u001b[34mEpoch: 342, Training MSE: 0.00162218, Training MAE: 0.02109142\u001b[0m\n",
      "\u001b[34mEpoch: 343, Training MSE: 0.00154329, Training MAE: 0.01990008\u001b[0m\n",
      "\u001b[34mEpoch: 344, Training MSE: 0.00145843, Training MAE: 0.01939023\u001b[0m\n",
      "\u001b[34mEpoch: 345, Training MSE: 0.00205228, Training MAE: 0.02080330\u001b[0m\n",
      "\u001b[34mEpoch: 346, Training MSE: 0.00153213, Training MAE: 0.02049163\u001b[0m\n",
      "\u001b[34mEpoch: 347, Training MSE: 0.00153396, Training MAE: 0.01887711\u001b[0m\n",
      "\u001b[34mEpoch: 348, Training MSE: 0.00152032, Training MAE: 0.01896642\u001b[0m\n",
      "\u001b[34mEpoch: 349, Training MSE: 0.00155560, Training MAE: 0.02009261\u001b[0m\n",
      "\u001b[34mEpoch: 350, Training MSE: 0.00139969, Training MAE: 0.01872653\u001b[0m\n",
      "\u001b[34mEpoch: 351, Training MSE: 0.00140515, Training MAE: 0.01788294\u001b[0m\n",
      "\u001b[34mEpoch: 352, Training MSE: 0.00131992, Training MAE: 0.01791728\u001b[0m\n",
      "\u001b[34mEpoch: 353, Training MSE: 0.00130217, Training MAE: 0.01760791\u001b[0m\n",
      "\u001b[34mEpoch: 354, Training MSE: 0.00134280, Training MAE: 0.01841084\u001b[0m\n",
      "\u001b[34mEpoch: 355, Training MSE: 0.00137050, Training MAE: 0.01896620\u001b[0m\n",
      "\u001b[34mEpoch: 356, Training MSE: 0.00129467, Training MAE: 0.01727097\u001b[0m\n",
      "\u001b[34mEpoch: 357, Training MSE: 0.00120891, Training MAE: 0.01670205\u001b[0m\n",
      "\u001b[34mEpoch: 358, Training MSE: 0.00148990, Training MAE: 0.02005788\u001b[0m\n",
      "\u001b[34mEpoch: 359, Training MSE: 0.00138532, Training MAE: 0.01684457\u001b[0m\n",
      "\u001b[34mEpoch: 360, Training MSE: 0.00130745, Training MAE: 0.01757787\u001b[0m\n",
      "\u001b[34mEpoch: 361, Training MSE: 0.00122121, Training MAE: 0.01666148\u001b[0m\n",
      "\u001b[34mEpoch: 362, Training MSE: 0.00124145, Training MAE: 0.01687152\u001b[0m\n",
      "\u001b[34mEpoch: 363, Training MSE: 0.00123161, Training MAE: 0.01696093\u001b[0m\n",
      "\u001b[34mEpoch: 364, Training MSE: 0.00121957, Training MAE: 0.01750785\u001b[0m\n",
      "\u001b[34mEpoch: 365, Training MSE: 0.00116429, Training MAE: 0.01639793\u001b[0m\n",
      "\u001b[34mEpoch: 366, Training MSE: 0.00118309, Training MAE: 0.01644759\u001b[0m\n",
      "\u001b[34mEpoch: 367, Training MSE: 0.00114324, Training MAE: 0.01633668\u001b[0m\n",
      "\u001b[34mEpoch: 368, Training MSE: 0.00144313, Training MAE: 0.01815815\u001b[0m\n",
      "\u001b[34mEpoch: 369, Training MSE: 0.00113761, Training MAE: 0.01615442\u001b[0m\n",
      "\u001b[34mEpoch: 370, Training MSE: 0.00106125, Training MAE: 0.01567252\u001b[0m\n",
      "\u001b[34mEpoch: 371, Training MSE: 0.00108647, Training MAE: 0.01567142\u001b[0m\n",
      "\u001b[34mEpoch: 372, Training MSE: 0.00319741, Training MAE: 0.02336618\u001b[0m\n",
      "\u001b[34mEpoch: 373, Training MSE: 0.00180104, Training MAE: 0.02221074\u001b[0m\n",
      "\u001b[34mEpoch: 374, Training MSE: 0.00135923, Training MAE: 0.01884945\u001b[0m\n",
      "\u001b[34mEpoch: 375, Training MSE: 0.00124272, Training MAE: 0.01694429\u001b[0m\n",
      "\u001b[34mEpoch: 376, Training MSE: 0.00128094, Training MAE: 0.01698358\u001b[0m\n",
      "\u001b[34mEpoch: 377, Training MSE: 0.00145143, Training MAE: 0.01870568\u001b[0m\n",
      "\u001b[34mEpoch: 378, Training MSE: 0.00116545, Training MAE: 0.01606390\u001b[0m\n",
      "\u001b[34mEpoch: 379, Training MSE: 0.00118568, Training MAE: 0.01656149\u001b[0m\n",
      "\u001b[34mEpoch: 380, Training MSE: 0.00107727, Training MAE: 0.01540723\u001b[0m\n",
      "\u001b[34mEpoch: 381, Training MSE: 0.00111315, Training MAE: 0.01597686\u001b[0m\n",
      "\u001b[34mEpoch: 382, Training MSE: 0.00113789, Training MAE: 0.01649329\u001b[0m\n",
      "\u001b[34mEpoch: 383, Training MSE: 0.00108067, Training MAE: 0.01568506\u001b[0m\n",
      "\u001b[34mEpoch: 384, Training MSE: 0.00111512, Training MAE: 0.01533247\u001b[0m\n",
      "\u001b[34mEpoch: 385, Training MSE: 0.00117303, Training MAE: 0.01667319\u001b[0m\n",
      "\u001b[34mEpoch: 386, Training MSE: 0.00107391, Training MAE: 0.01596999\u001b[0m\n",
      "\u001b[34mEpoch: 387, Training MSE: 0.00113415, Training MAE: 0.01655647\u001b[0m\n",
      "\u001b[34mEpoch: 388, Training MSE: 0.00105448, Training MAE: 0.01545763\u001b[0m\n",
      "\u001b[34mEpoch: 389, Training MSE: 0.00112374, Training MAE: 0.01646878\u001b[0m\n",
      "\u001b[34mEpoch: 390, Training MSE: 0.00103600, Training MAE: 0.01575083\u001b[0m\n",
      "\u001b[34mEpoch: 391, Training MSE: 0.00110453, Training MAE: 0.01613914\u001b[0m\n",
      "\u001b[34mEpoch: 392, Training MSE: 0.00115478, Training MAE: 0.01614711\u001b[0m\n",
      "\u001b[34mEpoch: 393, Training MSE: 0.00141408, Training MAE: 0.02050272\u001b[0m\n",
      "\u001b[34mEpoch: 394, Training MSE: 0.00120637, Training MAE: 0.01766213\u001b[0m\n",
      "\u001b[34mEpoch: 395, Training MSE: 0.00126145, Training MAE: 0.01675594\u001b[0m\n",
      "\u001b[34mEpoch: 396, Training MSE: 0.00144719, Training MAE: 0.01949400\u001b[0m\n",
      "\u001b[34mEpoch: 397, Training MSE: 0.00111621, Training MAE: 0.01590144\u001b[0m\n",
      "\u001b[34mEpoch: 398, Training MSE: 0.00134301, Training MAE: 0.01891490\u001b[0m\n",
      "\u001b[34mEpoch: 399, Training MSE: 0.00118680, Training MAE: 0.01638072\u001b[0m\n",
      "\u001b[34mEpoch: 400, Training MSE: 0.00108435, Training MAE: 0.01601317\u001b[0m\n",
      "\u001b[34mEpoch: 401, Training MSE: 0.00109620, Training MAE: 0.01578259\u001b[0m\n",
      "\u001b[34mEpoch: 402, Training MSE: 0.00099712, Training MAE: 0.01550286\u001b[0m\n",
      "\u001b[34mEpoch: 403, Training MSE: 0.00100524, Training MAE: 0.01570710\u001b[0m\n",
      "\u001b[34mEpoch: 404, Training MSE: 0.00093128, Training MAE: 0.01505584\u001b[0m\n",
      "\u001b[34mEpoch: 405, Training MSE: 0.00112405, Training MAE: 0.01548349\u001b[0m\n",
      "\u001b[34mEpoch: 406, Training MSE: 0.00132498, Training MAE: 0.01892993\u001b[0m\n",
      "\u001b[34mEpoch: 407, Training MSE: 0.00103950, Training MAE: 0.01650869\u001b[0m\n",
      "\u001b[34mEpoch: 408, Training MSE: 0.00102206, Training MAE: 0.01648200\u001b[0m\n",
      "\u001b[34mEpoch: 409, Training MSE: 0.00095812, Training MAE: 0.01552917\u001b[0m\n",
      "\u001b[34mEpoch: 410, Training MSE: 0.00101283, Training MAE: 0.01540287\u001b[0m\n",
      "\u001b[34mEpoch: 411, Training MSE: 0.00145488, Training MAE: 0.01882657\u001b[0m\n",
      "\u001b[34mEpoch: 412, Training MSE: 0.00120053, Training MAE: 0.01890773\u001b[0m\n",
      "\u001b[34mEpoch: 413, Training MSE: 0.00091645, Training MAE: 0.01575796\u001b[0m\n",
      "\u001b[34mEpoch: 414, Training MSE: 0.00117060, Training MAE: 0.01728774\u001b[0m\n",
      "\u001b[34mEpoch: 415, Training MSE: 0.00109768, Training MAE: 0.01730750\u001b[0m\n",
      "\u001b[34mEpoch: 416, Training MSE: 0.00092064, Training MAE: 0.01538706\u001b[0m\n",
      "\u001b[34mEpoch: 417, Training MSE: 0.00089661, Training MAE: 0.01491729\u001b[0m\n",
      "\u001b[34mEpoch: 418, Training MSE: 0.00092916, Training MAE: 0.01589241\u001b[0m\n",
      "\u001b[34mEpoch: 419, Training MSE: 0.00097905, Training MAE: 0.01667898\u001b[0m\n",
      "\u001b[34mEpoch: 420, Training MSE: 0.00096808, Training MAE: 0.01582036\u001b[0m\n",
      "\u001b[34mEpoch: 421, Training MSE: 0.00103051, Training MAE: 0.01686188\u001b[0m\n",
      "\u001b[34mEpoch: 422, Training MSE: 0.00108770, Training MAE: 0.01749318\u001b[0m\n",
      "\u001b[34mEpoch: 423, Training MSE: 0.00094695, Training MAE: 0.01551651\u001b[0m\n",
      "\u001b[34mEpoch: 424, Training MSE: 0.00103583, Training MAE: 0.01612248\u001b[0m\n",
      "\u001b[34mEpoch: 425, Training MSE: 0.00094535, Training MAE: 0.01608893\u001b[0m\n",
      "\u001b[34mEpoch: 426, Training MSE: 0.00100550, Training MAE: 0.01643167\u001b[0m\n",
      "\u001b[34mEpoch: 427, Training MSE: 0.00092202, Training MAE: 0.01486938\u001b[0m\n",
      "\u001b[34mEpoch: 428, Training MSE: 0.00087225, Training MAE: 0.01430714\u001b[0m\n",
      "\u001b[34mEpoch: 429, Training MSE: 0.00093442, Training MAE: 0.01544228\u001b[0m\n",
      "\u001b[34mEpoch: 430, Training MSE: 0.00078202, Training MAE: 0.01475994\u001b[0m\n",
      "\u001b[34mEpoch: 431, Training MSE: 0.00077956, Training MAE: 0.01432443\u001b[0m\n",
      "\u001b[34mEpoch: 432, Training MSE: 0.00086099, Training MAE: 0.01550974\u001b[0m\n",
      "\u001b[34mEpoch: 433, Training MSE: 0.00074432, Training MAE: 0.01463216\u001b[0m\n",
      "\u001b[34mEpoch: 434, Training MSE: 0.00082982, Training MAE: 0.01505357\u001b[0m\n",
      "\u001b[34mEpoch: 435, Training MSE: 0.00082161, Training MAE: 0.01455930\u001b[0m\n",
      "\u001b[34mEpoch: 436, Training MSE: 0.00083074, Training MAE: 0.01456574\u001b[0m\n",
      "\u001b[34mEpoch: 437, Training MSE: 0.00077137, Training MAE: 0.01410256\u001b[0m\n",
      "\u001b[34mEpoch: 438, Training MSE: 0.00087403, Training MAE: 0.01520475\u001b[0m\n",
      "\u001b[34mEpoch: 439, Training MSE: 0.00086761, Training MAE: 0.01563678\u001b[0m\n",
      "\u001b[34mEpoch: 440, Training MSE: 0.00108253, Training MAE: 0.01767523\u001b[0m\n",
      "\u001b[34mEpoch: 441, Training MSE: 0.00097216, Training MAE: 0.01508732\u001b[0m\n",
      "\u001b[34mEpoch: 442, Training MSE: 0.00089707, Training MAE: 0.01691392\u001b[0m\n",
      "\u001b[34mEpoch: 443, Training MSE: 0.00096266, Training MAE: 0.01509588\u001b[0m\n",
      "\u001b[34mEpoch: 444, Training MSE: 0.00095799, Training MAE: 0.01492697\u001b[0m\n",
      "\u001b[34mEpoch: 445, Training MSE: 0.00110534, Training MAE: 0.01649397\u001b[0m\n",
      "\u001b[34mEpoch: 446, Training MSE: 0.00086745, Training MAE: 0.01423777\u001b[0m\n",
      "\u001b[34mEpoch: 447, Training MSE: 0.00113388, Training MAE: 0.01777635\u001b[0m\n",
      "\u001b[34mEpoch: 448, Training MSE: 0.00101326, Training MAE: 0.01542554\u001b[0m\n",
      "\u001b[34mEpoch: 449, Training MSE: 0.00081769, Training MAE: 0.01425319\u001b[0m\n",
      "\u001b[34mEpoch: 450, Training MSE: 0.00082579, Training MAE: 0.01430401\u001b[0m\n",
      "\u001b[34mEpoch: 451, Training MSE: 0.00086907, Training MAE: 0.01470702\u001b[0m\n",
      "\u001b[34mEpoch: 452, Training MSE: 0.00084533, Training MAE: 0.01483594\u001b[0m\n",
      "\u001b[34mEpoch: 453, Training MSE: 0.00072335, Training MAE: 0.01382679\u001b[0m\n",
      "\u001b[34mEpoch: 454, Training MSE: 0.00144596, Training MAE: 0.01825470\u001b[0m\n",
      "\u001b[34mEpoch: 455, Training MSE: 0.00146733, Training MAE: 0.01860667\u001b[0m\n",
      "\u001b[34mEpoch: 456, Training MSE: 0.00096995, Training MAE: 0.01554642\u001b[0m\n",
      "\u001b[34mEpoch: 457, Training MSE: 0.00090665, Training MAE: 0.01525622\u001b[0m\n",
      "\u001b[34mEpoch: 458, Training MSE: 0.00089707, Training MAE: 0.01547270\u001b[0m\n",
      "\u001b[34mEpoch: 459, Training MSE: 0.00075621, Training MAE: 0.01430900\u001b[0m\n",
      "\u001b[34mEpoch: 460, Training MSE: 0.00080046, Training MAE: 0.01424420\u001b[0m\n",
      "\u001b[34mEpoch: 461, Training MSE: 0.00127923, Training MAE: 0.01695388\u001b[0m\n",
      "\u001b[34mEpoch: 462, Training MSE: 0.00110870, Training MAE: 0.01608084\u001b[0m\n",
      "\u001b[34mEpoch: 463, Training MSE: 0.00092072, Training MAE: 0.01448759\u001b[0m\n",
      "\u001b[34mEpoch: 464, Training MSE: 0.00098322, Training MAE: 0.01570082\u001b[0m\n",
      "\u001b[34mEpoch: 465, Training MSE: 0.00087468, Training MAE: 0.01461193\u001b[0m\n",
      "\u001b[34mEpoch: 466, Training MSE: 0.00079895, Training MAE: 0.01358469\u001b[0m\n",
      "\u001b[34mEpoch: 467, Training MSE: 0.00073461, Training MAE: 0.01339153\u001b[0m\n",
      "\u001b[34mEpoch: 468, Training MSE: 0.00073680, Training MAE: 0.01309407\u001b[0m\n",
      "\u001b[34mEpoch: 469, Training MSE: 0.00079046, Training MAE: 0.01406871\u001b[0m\n",
      "\u001b[34mEpoch: 470, Training MSE: 0.00076918, Training MAE: 0.01416143\u001b[0m\n",
      "\u001b[34mEpoch: 471, Training MSE: 0.00069203, Training MAE: 0.01351861\u001b[0m\n",
      "\u001b[34mEpoch: 472, Training MSE: 0.00066987, Training MAE: 0.01321894\u001b[0m\n",
      "\u001b[34mEpoch: 473, Training MSE: 0.00073087, Training MAE: 0.01433191\u001b[0m\n",
      "\u001b[34mEpoch: 474, Training MSE: 0.00069528, Training MAE: 0.01413775\u001b[0m\n",
      "\u001b[34mEpoch: 475, Training MSE: 0.00075900, Training MAE: 0.01343378\u001b[0m\n",
      "\u001b[34mEpoch: 476, Training MSE: 0.00064411, Training MAE: 0.01273897\u001b[0m\n",
      "\u001b[34mEpoch: 477, Training MSE: 0.00072082, Training MAE: 0.01338115\u001b[0m\n",
      "\u001b[34mEpoch: 478, Training MSE: 0.00068647, Training MAE: 0.01339906\u001b[0m\n",
      "\u001b[34mEpoch: 479, Training MSE: 0.00077333, Training MAE: 0.01376919\u001b[0m\n",
      "\u001b[34mEpoch: 480, Training MSE: 0.00090692, Training MAE: 0.01670636\u001b[0m\n",
      "\u001b[34mEpoch: 481, Training MSE: 0.00074798, Training MAE: 0.01478665\u001b[0m\n",
      "\u001b[34mEpoch: 482, Training MSE: 0.00067626, Training MAE: 0.01295227\u001b[0m\n",
      "\u001b[34mEpoch: 483, Training MSE: 0.00175199, Training MAE: 0.02199644\u001b[0m\n",
      "\u001b[34mEpoch: 484, Training MSE: 0.00142587, Training MAE: 0.01967658\u001b[0m\n",
      "\u001b[34mEpoch: 485, Training MSE: 0.00122391, Training MAE: 0.01854156\u001b[0m\n",
      "\u001b[34mEpoch: 486, Training MSE: 0.00098589, Training MAE: 0.01591814\u001b[0m\n",
      "\u001b[34mEpoch: 487, Training MSE: 0.00094631, Training MAE: 0.01492526\u001b[0m\n",
      "\u001b[34mEpoch: 488, Training MSE: 0.00083524, Training MAE: 0.01392948\u001b[0m\n",
      "\u001b[34mEpoch: 489, Training MSE: 0.00077812, Training MAE: 0.01364841\u001b[0m\n",
      "\u001b[34mEpoch: 490, Training MSE: 0.00095481, Training MAE: 0.01465904\u001b[0m\n",
      "\u001b[34mEpoch: 491, Training MSE: 0.00076543, Training MAE: 0.01342621\u001b[0m\n",
      "\u001b[34mEpoch: 492, Training MSE: 0.00073971, Training MAE: 0.01389637\u001b[0m\n",
      "\u001b[34mEpoch: 493, Training MSE: 0.00062532, Training MAE: 0.01259696\u001b[0m\n",
      "\u001b[34mEpoch: 494, Training MSE: 0.00066034, Training MAE: 0.01347683\u001b[0m\n",
      "\u001b[34mEpoch: 495, Training MSE: 0.00087695, Training MAE: 0.01534327\u001b[0m\n",
      "\u001b[34mEpoch: 496, Training MSE: 0.00068752, Training MAE: 0.01322790\u001b[0m\n",
      "\u001b[34mEpoch: 497, Training MSE: 0.00093650, Training MAE: 0.01530517\u001b[0m\n",
      "\u001b[34mEpoch: 498, Training MSE: 0.00151763, Training MAE: 0.01946431\u001b[0m\n",
      "\u001b[34mEpoch: 499, Training MSE: 0.00111017, Training MAE: 0.01931709\u001b[0m\n",
      "\n",
      "2023-09-17 10:06:00 Uploading - Uploading generated training model\u001b[34mEpoch: 500, Training MSE: 0.00082490, Training MAE: 0.01527958\u001b[0m\n",
      "\u001b[34m--------------------------------------\u001b[0m\n",
      "\u001b[34mScoring the model.\u001b[0m\n",
      "\u001b[34mtrain:mse 0.00082490\u001b[0m\n",
      "\u001b[34mtrain:mae 0.01527958\u001b[0m\n",
      "\u001b[34m--------------------------------------\u001b[0m\n",
      "\u001b[34m2023-09-17 10:05:52,176 sagemaker-training-toolkit INFO     Waiting for the process to finish and give a return code.\u001b[0m\n",
      "\u001b[34m2023-09-17 10:05:52,176 sagemaker-training-toolkit INFO     Done waiting for a return code. Received 0 from exiting process.\u001b[0m\n",
      "\u001b[34m2023-09-17 10:05:52,177 sagemaker-training-toolkit INFO     Reporting training SUCCESS\u001b[0m\n",
      "\n",
      "2023-09-17 10:06:11 Completed - Training job completed\n",
      "Training seconds: 1864\n",
      "Billable seconds: 1864\n"
     ]
    }
   ],
   "source": [
    "estimator = sagemaker.algorithm.AlgorithmEstimator(\n",
    "    algorithm_arn=algo_arn,\n",
    "    role=role,\n",
    "    instance_count=1,\n",
    "    instance_type=instance_type,\n",
    "    input_mode=\"File\",\n",
    "    sagemaker_session=sagemaker_session,\n",
    "    hyperparameters={\n",
    "        \"context-length\": 200,\n",
    "        \"prediction-length\": 50,\n",
    "        \"sequence-stride\": 50,\n",
    "        \"hidden-size\": 256,\n",
    "        \"num-layers\": 2,\n",
    "        \"dropout\": 0.8,\n",
    "        \"lr\": 0.001,\n",
    "        \"batch-size\": 32,\n",
    "        \"epochs\": 500,\n",
    "    }\n",
    ")\n",
    "\n",
    "estimator.fit({\"training\": training_data})"
   ]
  },
  {
   "cell_type": "markdown",
   "id": "929a3d35-a4ba-4a39-a7b0-8dbd4f9c2601",
   "metadata": {},
   "source": [
    "### 4. Inference"
   ]
  },
  {
   "cell_type": "markdown",
   "id": "8aecf50e-4c75-4273-a6c3-ce7004a8220b",
   "metadata": {},
   "source": [
    "Generate the test set predictions."
   ]
  },
  {
   "cell_type": "code",
   "execution_count": 18,
   "id": "a4657c35-0687-413a-829c-a028e6a9e9d7",
   "metadata": {},
   "outputs": [
    {
     "name": "stderr",
     "output_type": "stream",
     "text": [
      "INFO:sagemaker:Creating model package with name: lstm-ad-algo-v1-8-2023-09-17-10-06-47-094\n"
     ]
    },
    {
     "name": "stdout",
     "output_type": "stream",
     "text": [
      "........."
     ]
    },
    {
     "name": "stderr",
     "output_type": "stream",
     "text": [
      "INFO:sagemaker:Creating model with name: lstm-ad-algo-v1-8-2023-09-17-10-06-47-0-2023-09-17-10-07-32-508\n"
     ]
    },
    {
     "name": "stdout",
     "output_type": "stream",
     "text": [
      "\n"
     ]
    },
    {
     "name": "stderr",
     "output_type": "stream",
     "text": [
      "INFO:sagemaker:Creating transform job with name: lstm-ad-algo-v1-8-2023-09-17-10-07-33-176\n"
     ]
    },
    {
     "name": "stdout",
     "output_type": "stream",
     "text": [
      "............................................\u001b[34mWarning: TorchServe is using non-default JVM parameters: -XX:-UseContainerSupport\u001b[0m\n",
      "\u001b[34mWARNING: sun.reflect.Reflection.getCallerClass is not supported. This will impact performance.\u001b[0m\n",
      "\u001b[34m2023-09-17T10:14:54,393 [WARN ] main org.pytorch.serve.util.ConfigManager - Your torchserve instance can access any URL to load models. When deploying to production, make sure to limit the set of allowed_urls in config.properties\u001b[0m\n",
      "\u001b[34m2023-09-17T10:14:54,397 [INFO ] main org.pytorch.serve.servingsdk.impl.PluginsManager - Initializing plugins manager...\u001b[0m\n",
      "\u001b[34m2023-09-17T10:14:54,475 [INFO ] main org.pytorch.serve.metrics.configuration.MetricConfiguration - Successfully loaded metrics configuration from /opt/conda/lib/python3.10/site-packages/ts/configs/metrics.yaml\u001b[0m\n",
      "\u001b[34m2023-09-17T10:14:54,571 [INFO ] main org.pytorch.serve.ModelServer - \u001b[0m\n",
      "\u001b[34mTorchserve version: 0.8.2\u001b[0m\n",
      "\u001b[34mTS Home: /opt/conda/lib/python3.10/site-packages\u001b[0m\n",
      "\u001b[34mCurrent directory: /\u001b[0m\n",
      "\u001b[34mTemp directory: /home/model-server/tmp\u001b[0m\n",
      "\u001b[34mMetrics config path: /opt/conda/lib/python3.10/site-packages/ts/configs/metrics.yaml\u001b[0m\n",
      "\u001b[34mNumber of GPUs: 0\u001b[0m\n",
      "\u001b[34mNumber of CPUs: 8\u001b[0m\n",
      "\u001b[34mMax heap size: 7924 M\u001b[0m\n",
      "\u001b[34mPython executable: /opt/conda/bin/python3.10\u001b[0m\n",
      "\u001b[34mConfig file: /etc/sagemaker-ts.properties\u001b[0m\n",
      "\u001b[34mInference address: http://0.0.0.0:8080\u001b[0m\n",
      "\u001b[34mManagement address: http://0.0.0.0:8080\u001b[0m\n",
      "\u001b[34mMetrics address: http://127.0.0.1:8082\u001b[0m\n",
      "\u001b[34mModel Store: /.sagemaker/ts/models\u001b[0m\n",
      "\u001b[34mInitial Models: model=/opt/ml/model\u001b[0m\n",
      "\u001b[34mLog dir: /logs\u001b[0m\n",
      "\u001b[34mMetrics dir: /logs\u001b[0m\n",
      "\u001b[34mNetty threads: 0\u001b[0m\n",
      "\u001b[34mNetty client threads: 0\u001b[0m\n",
      "\u001b[34mDefault workers per model: 8\u001b[0m\n",
      "\u001b[34mBlacklist Regex: N/A\u001b[0m\n",
      "\u001b[34mMaximum Response Size: 6553500\u001b[0m\n",
      "\u001b[34mMaximum Request Size: 6553500\u001b[0m\n",
      "\u001b[34mLimit Maximum Image Pixels: true\u001b[0m\n",
      "\u001b[34mPrefer direct buffer: false\u001b[0m\n",
      "\u001b[34mAllowed Urls: [file://.*|http(s)?://.*]\u001b[0m\n",
      "\u001b[34mCustom python dependency for model allowed: false\u001b[0m\n",
      "\u001b[34mEnable metrics API: true\u001b[0m\n",
      "\u001b[34mMetrics mode: log\u001b[0m\n",
      "\u001b[34mDisable system metrics: true\u001b[0m\n",
      "\u001b[34mWorkflow Store: /.sagemaker/ts/models\u001b[0m\n",
      "\u001b[34mModel config: N/A\u001b[0m\n",
      "\u001b[34m2023-09-17T10:14:54,578 [INFO ] main org.pytorch.serve.servingsdk.impl.PluginsManager -  Loading snapshot serializer plugin...\u001b[0m\n",
      "\u001b[34m2023-09-17T10:14:54,598 [INFO ] main org.pytorch.serve.ModelServer - Loading initial models: /opt/ml/model\u001b[0m\n",
      "\u001b[34m2023-09-17T10:14:54,603 [WARN ] main org.pytorch.serve.archive.model.ModelArchive - Model archive version is not defined. Please upgrade to torch-model-archiver 0.2.0 or higher\u001b[0m\n",
      "\u001b[34m2023-09-17T10:14:54,603 [WARN ] main org.pytorch.serve.archive.model.ModelArchive - Model archive createdOn is not defined. Please upgrade to torch-model-archiver 0.2.0 or higher\u001b[0m\n",
      "\u001b[34m2023-09-17T10:14:54,606 [INFO ] main org.pytorch.serve.wlm.ModelManager - Model model loaded.\u001b[0m\n",
      "\u001b[34m2023-09-17T10:14:54,621 [INFO ] main org.pytorch.serve.ModelServer - Initialize Inference server with: EpollServerSocketChannel.\u001b[0m\n",
      "\u001b[34m2023-09-17T10:14:54,891 [INFO ] main org.pytorch.serve.ModelServer - Inference API bind to: http://0.0.0.0:8080\u001b[0m\n",
      "\u001b[34m2023-09-17T10:14:54,891 [INFO ] main org.pytorch.serve.ModelServer - Initialize Metrics server with: EpollServerSocketChannel.\u001b[0m\n",
      "\u001b[34m2023-09-17T10:14:54,986 [INFO ] main org.pytorch.serve.ModelServer - Metrics API bind to: http://127.0.0.1:8082\u001b[0m\n",
      "\u001b[34mModel server started.\u001b[0m\n",
      "\u001b[34m2023-09-17T10:14:57,178 [INFO ] W-9005-model_1.0-stdout MODEL_LOG - s_name_part0=/home/model-server/tmp/.ts.sock, s_name_part1=9005, pid=67\u001b[0m\n",
      "\u001b[34m2023-09-17T10:14:57,180 [INFO ] W-9005-model_1.0-stdout MODEL_LOG - Listening on port: /home/model-server/tmp/.ts.sock.9005\u001b[0m\n",
      "\u001b[34m2023-09-17T10:14:57,193 [INFO ] W-9005-model_1.0-stdout MODEL_LOG - Successfully loaded /opt/conda/lib/python3.10/site-packages/ts/configs/metrics.yaml.\u001b[0m\n",
      "\u001b[34m2023-09-17T10:14:57,201 [INFO ] W-9005-model_1.0-stdout MODEL_LOG - [PID]67\u001b[0m\n",
      "\u001b[34m2023-09-17T10:14:57,202 [INFO ] W-9005-model_1.0-stdout MODEL_LOG - Torch worker started.\u001b[0m\n",
      "\u001b[34m2023-09-17T10:14:57,203 [INFO ] W-9005-model_1.0-stdout MODEL_LOG - Python runtime: 3.10.9\u001b[0m\n",
      "\u001b[34m2023-09-17T10:14:57,208 [INFO ] W-9005-model_1.0 org.pytorch.serve.wlm.WorkerThread - Connecting to: /home/model-server/tmp/.ts.sock.9005\u001b[0m\n",
      "\u001b[34m2023-09-17T10:14:57,228 [INFO ] W-9001-model_1.0-stdout MODEL_LOG - s_name_part0=/home/model-server/tmp/.ts.sock, s_name_part1=9001, pid=65\u001b[0m\n",
      "\u001b[34m2023-09-17T10:14:57,229 [INFO ] W-9001-model_1.0-stdout MODEL_LOG - Listening on port: /home/model-server/tmp/.ts.sock.9001\u001b[0m\n",
      "\u001b[34m2023-09-17T10:14:57,236 [INFO ] W-9005-model_1.0-stdout MODEL_LOG - Connection accepted: /home/model-server/tmp/.ts.sock.9005.\u001b[0m\n",
      "\u001b[34m2023-09-17T10:14:57,240 [INFO ] W-9005-model_1.0 org.pytorch.serve.wlm.WorkerThread - Flushing req.cmd LOAD to backend at: 1694945697240\u001b[0m\n",
      "\u001b[34m2023-09-17T10:14:57,246 [INFO ] W-9001-model_1.0-stdout MODEL_LOG - Successfully loaded /opt/conda/lib/python3.10/site-packages/ts/configs/metrics.yaml.\u001b[0m\n",
      "\u001b[34m2023-09-17T10:14:57,247 [INFO ] W-9001-model_1.0-stdout MODEL_LOG - [PID]65\u001b[0m\n",
      "\u001b[34m2023-09-17T10:14:57,247 [INFO ] W-9001-model_1.0-stdout MODEL_LOG - Torch worker started.\u001b[0m\n",
      "\u001b[34m2023-09-17T10:14:57,248 [INFO ] W-9001-model_1.0 org.pytorch.serve.wlm.WorkerThread - Connecting to: /home/model-server/tmp/.ts.sock.9001\u001b[0m\n",
      "\u001b[34m2023-09-17T10:14:57,249 [INFO ] W-9001-model_1.0-stdout MODEL_LOG - Python runtime: 3.10.9\u001b[0m\n",
      "\u001b[34m2023-09-17T10:14:57,251 [INFO ] W-9001-model_1.0-stdout MODEL_LOG - Connection accepted: /home/model-server/tmp/.ts.sock.9001.\u001b[0m\n",
      "\u001b[34m2023-09-17T10:14:57,251 [INFO ] W-9001-model_1.0 org.pytorch.serve.wlm.WorkerThread - Flushing req.cmd LOAD to backend at: 1694945697251\u001b[0m\n",
      "\u001b[34m2023-09-17T10:14:57,258 [INFO ] W-9007-model_1.0-stdout MODEL_LOG - s_name_part0=/home/model-server/tmp/.ts.sock, s_name_part1=9007, pid=63\u001b[0m\n",
      "\u001b[34m2023-09-17T10:14:57,259 [INFO ] W-9007-model_1.0-stdout MODEL_LOG - Listening on port: /home/model-server/tmp/.ts.sock.9007\u001b[0m\n",
      "\u001b[34m2023-09-17T10:14:57,264 [INFO ] W-9002-model_1.0-stdout MODEL_LOG - s_name_part0=/home/model-server/tmp/.ts.sock, s_name_part1=9002, pid=70\u001b[0m\n",
      "\u001b[34m2023-09-17T10:14:57,266 [INFO ] W-9002-model_1.0-stdout MODEL_LOG - Listening on port: /home/model-server/tmp/.ts.sock.9002\u001b[0m\n",
      "\u001b[34m2023-09-17T10:14:57,283 [INFO ] W-9002-model_1.0-stdout MODEL_LOG - Successfully loaded /opt/conda/lib/python3.10/site-packages/ts/configs/metrics.yaml.\u001b[0m\n",
      "\u001b[34m2023-09-17T10:14:57,284 [INFO ] W-9002-model_1.0-stdout MODEL_LOG - [PID]70\u001b[0m\n",
      "\u001b[34m2023-09-17T10:14:57,284 [INFO ] W-9002-model_1.0-stdout MODEL_LOG - Torch worker started.\u001b[0m\n",
      "\u001b[34m2023-09-17T10:14:57,285 [INFO ] W-9002-model_1.0 org.pytorch.serve.wlm.WorkerThread - Connecting to: /home/model-server/tmp/.ts.sock.9002\u001b[0m\n",
      "\u001b[34m2023-09-17T10:14:57,286 [INFO ] W-9002-model_1.0-stdout MODEL_LOG - Python runtime: 3.10.9\u001b[0m\n",
      "\u001b[34m2023-09-17T10:14:57,293 [INFO ] W-9007-model_1.0-stdout MODEL_LOG - Successfully loaded /opt/conda/lib/python3.10/site-packages/ts/configs/metrics.yaml.\u001b[0m\n",
      "\u001b[34m2023-09-17T10:14:57,293 [INFO ] W-9007-model_1.0-stdout MODEL_LOG - [PID]63\u001b[0m\n",
      "\u001b[34m2023-09-17T10:14:57,293 [INFO ] W-9007-model_1.0-stdout MODEL_LOG - Torch worker started.\u001b[0m\n",
      "\u001b[34m2023-09-17T10:14:57,294 [INFO ] W-9007-model_1.0-stdout MODEL_LOG - Python runtime: 3.10.9\u001b[0m\n",
      "\u001b[34m2023-09-17T10:14:57,295 [INFO ] W-9007-model_1.0 org.pytorch.serve.wlm.WorkerThread - Connecting to: /home/model-server/tmp/.ts.sock.9007\u001b[0m\n",
      "\u001b[34m2023-09-17T10:14:57,310 [INFO ] W-9002-model_1.0 org.pytorch.serve.wlm.WorkerThread - Flushing req.cmd LOAD to backend at: 1694945697310\u001b[0m\n",
      "\u001b[34m2023-09-17T10:14:57,311 [INFO ] W-9002-model_1.0-stdout MODEL_LOG - Connection accepted: /home/model-server/tmp/.ts.sock.9002.\u001b[0m\n",
      "\u001b[34m2023-09-17T10:14:57,318 [INFO ] W-9007-model_1.0 org.pytorch.serve.wlm.WorkerThread - Flushing req.cmd LOAD to backend at: 1694945697318\u001b[0m\n",
      "\u001b[34m2023-09-17T10:14:57,318 [INFO ] W-9007-model_1.0-stdout MODEL_LOG - Connection accepted: /home/model-server/tmp/.ts.sock.9007.\u001b[0m\n",
      "\u001b[34m2023-09-17T10:14:57,328 [INFO ] W-9005-model_1.0-stdout MODEL_LOG - model_name: model, batchSize: 1\u001b[0m\n",
      "\u001b[34m2023-09-17T10:14:57,329 [INFO ] W-9001-model_1.0-stdout MODEL_LOG - model_name: model, batchSize: 1\u001b[0m\n",
      "\u001b[34m2023-09-17T10:14:57,333 [INFO ] W-9000-model_1.0-stdout MODEL_LOG - s_name_part0=/home/model-server/tmp/.ts.sock, s_name_part1=9000, pid=66\u001b[0m\n",
      "\u001b[34m2023-09-17T10:14:57,334 [INFO ] W-9000-model_1.0-stdout MODEL_LOG - Listening on port: /home/model-server/tmp/.ts.sock.9000\u001b[0m\n",
      "\u001b[34m2023-09-17T10:14:57,355 [INFO ] W-9000-model_1.0-stdout MODEL_LOG - Successfully loaded /opt/conda/lib/python3.10/site-packages/ts/configs/metrics.yaml.\u001b[0m\n",
      "\u001b[34m2023-09-17T10:14:57,356 [INFO ] W-9000-model_1.0-stdout MODEL_LOG - [PID]66\u001b[0m\n",
      "\u001b[34m2023-09-17T10:14:57,357 [INFO ] W-9000-model_1.0-stdout MODEL_LOG - Torch worker started.\u001b[0m\n",
      "\u001b[34m2023-09-17T10:14:57,357 [INFO ] W-9000-model_1.0 org.pytorch.serve.wlm.WorkerThread - Connecting to: /home/model-server/tmp/.ts.sock.9000\u001b[0m\n",
      "\u001b[34m2023-09-17T10:14:57,358 [INFO ] W-9000-model_1.0-stdout MODEL_LOG - Python runtime: 3.10.9\u001b[0m\n",
      "\u001b[34m2023-09-17T10:14:57,374 [INFO ] W-9000-model_1.0-stdout MODEL_LOG - Connection accepted: /home/model-server/tmp/.ts.sock.9000.\u001b[0m\n",
      "\u001b[34m2023-09-17T10:14:57,374 [INFO ] W-9000-model_1.0 org.pytorch.serve.wlm.WorkerThread - Flushing req.cmd LOAD to backend at: 1694945697374\u001b[0m\n",
      "\u001b[34m2023-09-17T10:14:57,378 [INFO ] W-9007-model_1.0-stdout MODEL_LOG - model_name: model, batchSize: 1\u001b[0m\n",
      "\u001b[34m2023-09-17T10:14:57,389 [INFO ] W-9002-model_1.0-stdout MODEL_LOG - model_name: model, batchSize: 1\u001b[0m\n",
      "\u001b[34m2023-09-17T10:14:57,407 [INFO ] W-9000-model_1.0-stdout MODEL_LOG - model_name: model, batchSize: 1\u001b[0m\n",
      "\u001b[34m2023-09-17T10:14:57,449 [INFO ] W-9004-model_1.0-stdout MODEL_LOG - s_name_part0=/home/model-server/tmp/.ts.sock, s_name_part1=9004, pid=68\u001b[0m\n",
      "\u001b[34m2023-09-17T10:14:57,450 [INFO ] W-9004-model_1.0-stdout MODEL_LOG - Listening on port: /home/model-server/tmp/.ts.sock.9004\u001b[0m\n",
      "\u001b[34m2023-09-17T10:14:57,479 [INFO ] W-9004-model_1.0-stdout MODEL_LOG - Successfully loaded /opt/conda/lib/python3.10/site-packages/ts/configs/metrics.yaml.\u001b[0m\n",
      "\u001b[34m2023-09-17T10:14:57,480 [INFO ] W-9004-model_1.0-stdout MODEL_LOG - [PID]68\u001b[0m\n",
      "\u001b[34m2023-09-17T10:14:57,480 [INFO ] W-9004-model_1.0-stdout MODEL_LOG - Torch worker started.\u001b[0m\n",
      "\u001b[34m2023-09-17T10:14:57,481 [INFO ] W-9004-model_1.0-stdout MODEL_LOG - Python runtime: 3.10.9\u001b[0m\n",
      "\u001b[34m2023-09-17T10:14:57,481 [INFO ] W-9004-model_1.0 org.pytorch.serve.wlm.WorkerThread - Connecting to: /home/model-server/tmp/.ts.sock.9004\u001b[0m\n",
      "\u001b[34m2023-09-17T10:14:57,489 [INFO ] W-9004-model_1.0-stdout MODEL_LOG - Connection accepted: /home/model-server/tmp/.ts.sock.9004.\u001b[0m\n",
      "\u001b[34m2023-09-17T10:14:57,490 [INFO ] W-9004-model_1.0 org.pytorch.serve.wlm.WorkerThread - Flushing req.cmd LOAD to backend at: 1694945697490\u001b[0m\n",
      "\u001b[34m2023-09-17T10:14:57,492 [INFO ] W-9006-model_1.0-stdout MODEL_LOG - s_name_part0=/home/model-server/tmp/.ts.sock, s_name_part1=9006, pid=69\u001b[0m\n",
      "\u001b[34m2023-09-17T10:14:57,493 [INFO ] W-9006-model_1.0-stdout MODEL_LOG - Listening on port: /home/model-server/tmp/.ts.sock.9006\u001b[0m\n",
      "\u001b[34m2023-09-17T10:14:57,532 [INFO ] W-9004-model_1.0-stdout MODEL_LOG - model_name: model, batchSize: 1\u001b[0m\n",
      "\u001b[34m2023-09-17T10:14:57,533 [INFO ] W-9006-model_1.0-stdout MODEL_LOG - Successfully loaded /opt/conda/lib/python3.10/site-packages/ts/configs/metrics.yaml.\u001b[0m\n",
      "\u001b[34m2023-09-17T10:14:57,546 [INFO ] W-9006-model_1.0-stdout MODEL_LOG - [PID]69\u001b[0m\n",
      "\u001b[34m2023-09-17T10:14:57,564 [INFO ] W-9006-model_1.0-stdout MODEL_LOG - Torch worker started.\u001b[0m\n",
      "\u001b[34m2023-09-17T10:14:57,564 [INFO ] W-9006-model_1.0-stdout MODEL_LOG - Python runtime: 3.10.9\u001b[0m\n",
      "\u001b[34m2023-09-17T10:14:57,564 [INFO ] W-9006-model_1.0 org.pytorch.serve.wlm.WorkerThread - Connecting to: /home/model-server/tmp/.ts.sock.9006\u001b[0m\n",
      "\u001b[34m2023-09-17T10:14:57,578 [INFO ] W-9006-model_1.0 org.pytorch.serve.wlm.WorkerThread - Flushing req.cmd LOAD to backend at: 1694945697578\u001b[0m\n",
      "\u001b[34m2023-09-17T10:14:57,578 [INFO ] W-9006-model_1.0-stdout MODEL_LOG - Connection accepted: /home/model-server/tmp/.ts.sock.9006.\u001b[0m\n",
      "\u001b[34m2023-09-17T10:14:57,675 [INFO ] W-9006-model_1.0-stdout MODEL_LOG - model_name: model, batchSize: 1\u001b[0m\n",
      "\u001b[34m2023-09-17T10:14:57,744 [INFO ] W-9003-model_1.0-stdout MODEL_LOG - s_name_part0=/home/model-server/tmp/.ts.sock, s_name_part1=9003, pid=64\u001b[0m\n",
      "\u001b[34m2023-09-17T10:14:57,745 [INFO ] W-9003-model_1.0-stdout MODEL_LOG - Listening on port: /home/model-server/tmp/.ts.sock.9003\u001b[0m\n",
      "\u001b[34m2023-09-17T10:14:57,772 [INFO ] W-9003-model_1.0-stdout MODEL_LOG - Successfully loaded /opt/conda/lib/python3.10/site-packages/ts/configs/metrics.yaml.\u001b[0m\n",
      "\u001b[34m2023-09-17T10:14:57,782 [INFO ] W-9003-model_1.0-stdout MODEL_LOG - [PID]64\u001b[0m\n",
      "\u001b[34m2023-09-17T10:14:57,783 [INFO ] W-9003-model_1.0-stdout MODEL_LOG - Torch worker started.\u001b[0m\n",
      "\u001b[34m2023-09-17T10:14:57,784 [INFO ] W-9003-model_1.0 org.pytorch.serve.wlm.WorkerThread - Connecting to: /home/model-server/tmp/.ts.sock.9003\u001b[0m\n",
      "\u001b[34m2023-09-17T10:14:57,786 [INFO ] W-9003-model_1.0-stdout MODEL_LOG - Python runtime: 3.10.9\u001b[0m\n",
      "\u001b[34m2023-09-17T10:14:57,789 [INFO ] W-9003-model_1.0-stdout MODEL_LOG - Connection accepted: /home/model-server/tmp/.ts.sock.9003.\u001b[0m\n",
      "\u001b[34m2023-09-17T10:14:57,790 [INFO ] W-9003-model_1.0 org.pytorch.serve.wlm.WorkerThread - Flushing req.cmd LOAD to backend at: 1694945697790\u001b[0m\n",
      "\u001b[34m2023-09-17T10:14:57,853 [INFO ] W-9003-model_1.0-stdout MODEL_LOG - model_name: model, batchSize: 1\u001b[0m\n",
      "\u001b[34m2023-09-17T10:14:58,238 [INFO ] W-9005-model_1.0 org.pytorch.serve.wlm.WorkerThread - Backend response time: 904\u001b[0m\n",
      "\u001b[34m2023-09-17T10:14:58,240 [INFO ] W-9005-model_1.0 TS_METRICS - WorkerLoadTime.Milliseconds:3622.0|#WorkerName:W-9005-model_1.0,Level:Host|#hostname:cfdc8b5aac24,timestamp:1694945698\u001b[0m\n",
      "\u001b[34m2023-09-17T10:14:58,241 [INFO ] W-9005-model_1.0 TS_METRICS - WorkerThreadTime.Milliseconds:97.0|#Level:Host|#hostname:cfdc8b5aac24,timestamp:1694945698\u001b[0m\n",
      "\u001b[34m2023-09-17T10:14:58,259 [INFO ] W-9007-model_1.0 org.pytorch.serve.wlm.WorkerThread - Backend response time: 884\u001b[0m\n",
      "\u001b[34m2023-09-17T10:14:58,260 [INFO ] W-9007-model_1.0 TS_METRICS - WorkerLoadTime.Milliseconds:3642.0|#WorkerName:W-9007-model_1.0,Level:Host|#hostname:cfdc8b5aac24,timestamp:1694945698\u001b[0m\n",
      "\u001b[34m2023-09-17T10:14:58,260 [INFO ] W-9007-model_1.0 TS_METRICS - WorkerThreadTime.Milliseconds:58.0|#Level:Host|#hostname:cfdc8b5aac24,timestamp:1694945698\u001b[0m\n",
      "\u001b[34m2023-09-17T10:14:58,303 [INFO ] W-9001-model_1.0 org.pytorch.serve.wlm.WorkerThread - Backend response time: 977\u001b[0m\n",
      "\u001b[34m2023-09-17T10:14:58,304 [INFO ] W-9001-model_1.0 TS_METRICS - WorkerLoadTime.Milliseconds:3687.0|#WorkerName:W-9001-model_1.0,Level:Host|#hostname:cfdc8b5aac24,timestamp:1694945698\u001b[0m\n",
      "\u001b[34m2023-09-17T10:14:58,304 [INFO ] W-9001-model_1.0 TS_METRICS - WorkerThreadTime.Milliseconds:76.0|#Level:Host|#hostname:cfdc8b5aac24,timestamp:1694945698\u001b[0m\n",
      "\u001b[34m2023-09-17T10:14:58,318 [INFO ] W-9000-model_1.0 org.pytorch.serve.wlm.WorkerThread - Backend response time: 896\u001b[0m\n",
      "\u001b[34m2023-09-17T10:14:58,318 [INFO ] W-9000-model_1.0 TS_METRICS - WorkerLoadTime.Milliseconds:3704.0|#WorkerName:W-9000-model_1.0,Level:Host|#hostname:cfdc8b5aac24,timestamp:1694945698\u001b[0m\n",
      "\u001b[34m2023-09-17T10:14:58,319 [INFO ] W-9000-model_1.0 TS_METRICS - WorkerThreadTime.Milliseconds:49.0|#Level:Host|#hostname:cfdc8b5aac24,timestamp:1694945698\u001b[0m\n",
      "\u001b[34m2023-09-17T10:14:58,461 [INFO ] W-9002-model_1.0 org.pytorch.serve.wlm.WorkerThread - Backend response time: 1071\u001b[0m\n",
      "\u001b[34m2023-09-17T10:14:58,461 [INFO ] W-9002-model_1.0 TS_METRICS - WorkerLoadTime.Milliseconds:3844.0|#WorkerName:W-9002-model_1.0,Level:Host|#hostname:cfdc8b5aac24,timestamp:1694945698\u001b[0m\n",
      "\u001b[34m2023-09-17T10:14:58,462 [INFO ] W-9002-model_1.0 TS_METRICS - WorkerThreadTime.Milliseconds:81.0|#Level:Host|#hostname:cfdc8b5aac24,timestamp:1694945698\u001b[0m\n",
      "\u001b[34m2023-09-17T10:14:58,543 [INFO ] W-9003-model_1.0 org.pytorch.serve.wlm.WorkerThread - Backend response time: 679\u001b[0m\n",
      "\u001b[34m2023-09-17T10:14:58,543 [INFO ] W-9003-model_1.0 TS_METRICS - WorkerLoadTime.Milliseconds:3926.0|#WorkerName:W-9003-model_1.0,Level:Host|#hostname:cfdc8b5aac24,timestamp:1694945698\u001b[0m\n",
      "\u001b[34m2023-09-17T10:14:58,543 [INFO ] W-9003-model_1.0 TS_METRICS - WorkerThreadTime.Milliseconds:74.0|#Level:Host|#hostname:cfdc8b5aac24,timestamp:1694945698\u001b[0m\n",
      "\u001b[34m2023-09-17T10:14:58,546 [INFO ] W-9004-model_1.0 org.pytorch.serve.wlm.WorkerThread - Backend response time: 1001\u001b[0m\n",
      "\u001b[34m2023-09-17T10:14:58,547 [INFO ] W-9004-model_1.0 TS_METRICS - WorkerLoadTime.Milliseconds:3930.0|#WorkerName:W-9004-model_1.0,Level:Host|#hostname:cfdc8b5aac24,timestamp:1694945698\u001b[0m\n",
      "\u001b[34m2023-09-17T10:14:58,548 [INFO ] W-9004-model_1.0 TS_METRICS - WorkerThreadTime.Milliseconds:57.0|#Level:Host|#hostname:cfdc8b5aac24,timestamp:1694945698\u001b[0m\n",
      "\u001b[34m2023-09-17T10:14:58,593 [INFO ] W-9006-model_1.0 org.pytorch.serve.wlm.WorkerThread - Backend response time: 919\u001b[0m\n",
      "\u001b[34m2023-09-17T10:14:58,594 [INFO ] W-9006-model_1.0 TS_METRICS - WorkerLoadTime.Milliseconds:3975.0|#WorkerName:W-9006-model_1.0,Level:Host|#hostname:cfdc8b5aac24,timestamp:1694945698\u001b[0m\n",
      "\u001b[34m2023-09-17T10:14:58,594 [INFO ] W-9006-model_1.0 TS_METRICS - WorkerThreadTime.Milliseconds:97.0|#Level:Host|#hostname:cfdc8b5aac24,timestamp:1694945698\u001b[0m\n",
      "\u001b[34m2023-09-17T10:15:00,344 [INFO ] pool-2-thread-9 ACCESS_LOG - /169.254.255.130:58186 \"GET /ping HTTP/1.1\" 200 10\u001b[0m\n",
      "\u001b[34m2023-09-17T10:15:00,345 [INFO ] pool-2-thread-9 TS_METRICS - Requests2XX.Count:1.0|#Level:Host|#hostname:cfdc8b5aac24,timestamp:1694945700\u001b[0m\n",
      "\u001b[34m2023-09-17T10:15:00,361 [INFO ] epollEventLoopGroup-3-2 ACCESS_LOG - /169.254.255.130:58190 \"GET /execution-parameters HTTP/1.1\" 404 1\u001b[0m\n",
      "\u001b[34m2023-09-17T10:15:00,362 [INFO ] epollEventLoopGroup-3-2 TS_METRICS - Requests4XX.Count:1.0|#Level:Host|#hostname:cfdc8b5aac24,timestamp:1694945700\u001b[0m\n",
      "\u001b[34m2023-09-17T10:15:00,475 [INFO ] epollEventLoopGroup-3-3 TS_METRICS - ts_inference_requests_total.Count:1.0|#model_name:model,model_version:default|#hostname:cfdc8b5aac24,timestamp:1694945700\u001b[0m\n",
      "\u001b[34m2023-09-17T10:15:00,476 [INFO ] W-9005-model_1.0 org.pytorch.serve.wlm.WorkerThread - Flushing req.cmd PREDICT to backend at: 1694945700476\u001b[0m\n",
      "\u001b[34m2023-09-17T10:15:00,477 [INFO ] W-9005-model_1.0-stdout MODEL_LOG - Backend received inference at: 1694945700\u001b[0m\n",
      "\n",
      "\u001b[32m2023-09-17T10:15:00.367:[sagemaker logs]: MaxConcurrentTransforms=1, MaxPayloadInMB=100, BatchStrategy=MULTI_RECORD\u001b[0m\n",
      "\u001b[34m2023-09-17T10:15:06,731 [INFO ] W-9005-model_1.0-stdout org.pytorch.serve.wlm.WorkerLifeCycle - result=[METRICS]PredictionTime.Milliseconds:6252.04|#ModelName:model,Level:Model|#hostname:cfdc8b5aac24,1694945706,ea781ff4-9349-468f-b34c-9e084f2f18f1, pattern=[METRICS]\u001b[0m\n",
      "\u001b[34m2023-09-17T10:15:06,734 [INFO ] W-9005-model_1.0-stdout MODEL_METRICS - PredictionTime.ms:6252.04|#ModelName:model,Level:Model|#hostname:cfdc8b5aac24,requestID:ea781ff4-9349-468f-b34c-9e084f2f18f1,timestamp:1694945706\u001b[0m\n",
      "\u001b[34m2023-09-17T10:15:06,741 [INFO ] W-9005-model_1.0 ACCESS_LOG - /169.254.255.130:58198 \"POST /invocations HTTP/1.1\" 200 6268\u001b[0m\n",
      "\u001b[34m2023-09-17T10:15:06,742 [INFO ] W-9005-model_1.0 TS_METRICS - Requests2XX.Count:1.0|#Level:Host|#hostname:cfdc8b5aac24,timestamp:1694945706\u001b[0m\n",
      "\u001b[34m2023-09-17T10:15:06,743 [INFO ] W-9005-model_1.0 TS_METRICS - ts_inference_latency_microseconds.Microseconds:6263433.084|#model_name:model,model_version:default|#hostname:cfdc8b5aac24,timestamp:1694945706\u001b[0m\n",
      "\u001b[34m2023-09-17T10:15:06,744 [INFO ] W-9005-model_1.0 TS_METRICS - ts_queue_latency_microseconds.Microseconds:170.055|#model_name:model,model_version:default|#hostname:cfdc8b5aac24,timestamp:1694945706\u001b[0m\n",
      "\u001b[34m2023-09-17T10:15:06,744 [INFO ] W-9005-model_1.0 TS_METRICS - QueueTime.Milliseconds:0.0|#Level:Host|#hostname:cfdc8b5aac24,timestamp:1694945706\u001b[0m\n",
      "\u001b[34m2023-09-17T10:15:06,745 [INFO ] W-9005-model_1.0 org.pytorch.serve.wlm.WorkerThread - Backend response time: 6262\u001b[0m\n",
      "\u001b[34m2023-09-17T10:15:06,745 [INFO ] W-9005-model_1.0 TS_METRICS - WorkerThreadTime.Milliseconds:7.0|#Level:Host|#hostname:cfdc8b5aac24,timestamp:1694945706\u001b[0m\n",
      "\u001b[35m2023-09-17T10:15:06,731 [INFO ] W-9005-model_1.0-stdout org.pytorch.serve.wlm.WorkerLifeCycle - result=[METRICS]PredictionTime.Milliseconds:6252.04|#ModelName:model,Level:Model|#hostname:cfdc8b5aac24,1694945706,ea781ff4-9349-468f-b34c-9e084f2f18f1, pattern=[METRICS]\u001b[0m\n",
      "\u001b[35m2023-09-17T10:15:06,734 [INFO ] W-9005-model_1.0-stdout MODEL_METRICS - PredictionTime.ms:6252.04|#ModelName:model,Level:Model|#hostname:cfdc8b5aac24,requestID:ea781ff4-9349-468f-b34c-9e084f2f18f1,timestamp:1694945706\u001b[0m\n",
      "\u001b[35m2023-09-17T10:15:06,741 [INFO ] W-9005-model_1.0 ACCESS_LOG - /169.254.255.130:58198 \"POST /invocations HTTP/1.1\" 200 6268\u001b[0m\n",
      "\u001b[35m2023-09-17T10:15:06,742 [INFO ] W-9005-model_1.0 TS_METRICS - Requests2XX.Count:1.0|#Level:Host|#hostname:cfdc8b5aac24,timestamp:1694945706\u001b[0m\n",
      "\u001b[35m2023-09-17T10:15:06,743 [INFO ] W-9005-model_1.0 TS_METRICS - ts_inference_latency_microseconds.Microseconds:6263433.084|#model_name:model,model_version:default|#hostname:cfdc8b5aac24,timestamp:1694945706\u001b[0m\n",
      "\u001b[35m2023-09-17T10:15:06,744 [INFO ] W-9005-model_1.0 TS_METRICS - ts_queue_latency_microseconds.Microseconds:170.055|#model_name:model,model_version:default|#hostname:cfdc8b5aac24,timestamp:1694945706\u001b[0m\n",
      "\u001b[35m2023-09-17T10:15:06,744 [INFO ] W-9005-model_1.0 TS_METRICS - QueueTime.Milliseconds:0.0|#Level:Host|#hostname:cfdc8b5aac24,timestamp:1694945706\u001b[0m\n",
      "\u001b[35m2023-09-17T10:15:06,745 [INFO ] W-9005-model_1.0 org.pytorch.serve.wlm.WorkerThread - Backend response time: 6262\u001b[0m\n",
      "\u001b[35m2023-09-17T10:15:06,745 [INFO ] W-9005-model_1.0 TS_METRICS - WorkerThreadTime.Milliseconds:7.0|#Level:Host|#hostname:cfdc8b5aac24,timestamp:1694945706\u001b[0m\n"
     ]
    }
   ],
   "source": [
    "transformer = estimator.transformer(\n",
    "    instance_count=1,\n",
    "    instance_type=instance_type,\n",
    "    max_payload=100,\n",
    ")\n",
    "\n",
    "transformer.transform(\n",
    "    data=test_data,\n",
    "    content_type=\"text/csv\",\n",
    ")"
   ]
  },
  {
   "cell_type": "markdown",
   "id": "54498c7d-dbb6-4098-b927-506e1058b062",
   "metadata": {},
   "source": [
    "Load the test set predictions from S3."
   ]
  },
  {
   "cell_type": "code",
   "execution_count": 19,
   "id": "317bf9e8-69ba-4eed-a8c9-8600fdbf92e9",
   "metadata": {},
   "outputs": [],
   "source": [
    "predictions = sagemaker_session.read_s3_file(\n",
    "    bucket=bucket,\n",
    "    key_prefix=f\"{transformer.latest_transform_job.name}/{dataset_name}_test.csv.out\"\n",
    ")"
   ]
  },
  {
   "cell_type": "code",
   "execution_count": 20,
   "id": "401fed04-1591-4f58-bb89-4dff0f6acfa3",
   "metadata": {},
   "outputs": [],
   "source": [
    "predictions = pd.DataFrame([x.split(\",\") for x in predictions.split(\"\\n\")[:-1]]).replace(\"\", np.nan).astype(float)"
   ]
  },
  {
   "cell_type": "code",
   "execution_count": 21,
   "id": "fe3eb1f5-5a4a-4623-9a4f-dc0958df4802",
   "metadata": {
    "tags": []
   },
   "outputs": [
    {
     "data": {
      "text/plain": [
       "(32000, 2)"
      ]
     },
     "execution_count": 21,
     "metadata": {},
     "output_type": "execute_result"
    }
   ],
   "source": [
    "predictions.shape"
   ]
  },
  {
   "cell_type": "code",
   "execution_count": 22,
   "id": "085ccaeb-c9a3-4735-843e-42b81f387049",
   "metadata": {
    "tags": []
   },
   "outputs": [
    {
     "data": {
      "text/html": [
       "<div>\n",
       "<style scoped>\n",
       "    .dataframe tbody tr th:only-of-type {\n",
       "        vertical-align: middle;\n",
       "    }\n",
       "\n",
       "    .dataframe tbody tr th {\n",
       "        vertical-align: top;\n",
       "    }\n",
       "\n",
       "    .dataframe thead th {\n",
       "        text-align: right;\n",
       "    }\n",
       "</style>\n",
       "<table border=\"1\" class=\"dataframe\">\n",
       "  <thead>\n",
       "    <tr style=\"text-align: right;\">\n",
       "      <th></th>\n",
       "      <th>0</th>\n",
       "      <th>1</th>\n",
       "    </tr>\n",
       "  </thead>\n",
       "  <tbody>\n",
       "    <tr>\n",
       "      <th>0</th>\n",
       "      <td>NaN</td>\n",
       "      <td>NaN</td>\n",
       "    </tr>\n",
       "    <tr>\n",
       "      <th>1</th>\n",
       "      <td>NaN</td>\n",
       "      <td>NaN</td>\n",
       "    </tr>\n",
       "    <tr>\n",
       "      <th>2</th>\n",
       "      <td>NaN</td>\n",
       "      <td>NaN</td>\n",
       "    </tr>\n",
       "    <tr>\n",
       "      <th>3</th>\n",
       "      <td>NaN</td>\n",
       "      <td>NaN</td>\n",
       "    </tr>\n",
       "    <tr>\n",
       "      <th>4</th>\n",
       "      <td>NaN</td>\n",
       "      <td>NaN</td>\n",
       "    </tr>\n",
       "  </tbody>\n",
       "</table>\n",
       "</div>"
      ],
      "text/plain": [
       "    0   1\n",
       "0 NaN NaN\n",
       "1 NaN NaN\n",
       "2 NaN NaN\n",
       "3 NaN NaN\n",
       "4 NaN NaN"
      ]
     },
     "execution_count": 22,
     "metadata": {},
     "output_type": "execute_result"
    }
   ],
   "source": [
    "predictions.head()"
   ]
  },
  {
   "cell_type": "code",
   "execution_count": 23,
   "id": "3e137b23-cddc-4211-9dcc-233575e5c636",
   "metadata": {
    "tags": []
   },
   "outputs": [
    {
     "data": {
      "text/html": [
       "<div>\n",
       "<style scoped>\n",
       "    .dataframe tbody tr th:only-of-type {\n",
       "        vertical-align: middle;\n",
       "    }\n",
       "\n",
       "    .dataframe tbody tr th {\n",
       "        vertical-align: top;\n",
       "    }\n",
       "\n",
       "    .dataframe thead th {\n",
       "        text-align: right;\n",
       "    }\n",
       "</style>\n",
       "<table border=\"1\" class=\"dataframe\">\n",
       "  <thead>\n",
       "    <tr style=\"text-align: right;\">\n",
       "      <th></th>\n",
       "      <th>0</th>\n",
       "      <th>1</th>\n",
       "    </tr>\n",
       "  </thead>\n",
       "  <tbody>\n",
       "    <tr>\n",
       "      <th>31995</th>\n",
       "      <td>0.362301</td>\n",
       "      <td>-2.801771</td>\n",
       "    </tr>\n",
       "    <tr>\n",
       "      <th>31996</th>\n",
       "      <td>1.069608</td>\n",
       "      <td>-1.038090</td>\n",
       "    </tr>\n",
       "    <tr>\n",
       "      <th>31997</th>\n",
       "      <td>1.456760</td>\n",
       "      <td>0.162712</td>\n",
       "    </tr>\n",
       "    <tr>\n",
       "      <th>31998</th>\n",
       "      <td>1.562210</td>\n",
       "      <td>0.153141</td>\n",
       "    </tr>\n",
       "    <tr>\n",
       "      <th>31999</th>\n",
       "      <td>1.879804</td>\n",
       "      <td>1.643794</td>\n",
       "    </tr>\n",
       "  </tbody>\n",
       "</table>\n",
       "</div>"
      ],
      "text/plain": [
       "              0         1\n",
       "31995  0.362301 -2.801771\n",
       "31996  1.069608 -1.038090\n",
       "31997  1.456760  0.162712\n",
       "31998  1.562210  0.153141\n",
       "31999  1.879804  1.643794"
      ]
     },
     "execution_count": 23,
     "metadata": {},
     "output_type": "execute_result"
    }
   ],
   "source": [
    "predictions.tail()"
   ]
  },
  {
   "cell_type": "markdown",
   "id": "5949c778-c8e5-4f0e-a53f-2a4d1bf1bc0d",
   "metadata": {},
   "source": [
    "Extract the anomalous time steps."
   ]
  },
  {
   "cell_type": "code",
   "execution_count": 24,
   "id": "cfc41486-f63d-41b9-8b60-ff36fbfb7526",
   "metadata": {
    "tags": []
   },
   "outputs": [],
   "source": [
    "anomalies = predictions.iloc[:, 0].sort_values().iloc[:k].index.to_series()"
   ]
  },
  {
   "cell_type": "code",
   "execution_count": 25,
   "id": "937234e7-e2ae-4205-b7d7-9f8226edd097",
   "metadata": {
    "tags": []
   },
   "outputs": [
    {
     "data": {
      "text/plain": [
       "array([29639, 29640])"
      ]
     },
     "execution_count": 25,
     "metadata": {},
     "output_type": "execute_result"
    }
   ],
   "source": [
    "anomalies.values"
   ]
  },
  {
   "cell_type": "markdown",
   "id": "61a8310e-fc8d-4f7f-bc26-c16a3c2941e2",
   "metadata": {},
   "source": [
    "Check if the anomalous time steps are within the anomalous time interval."
   ]
  },
  {
   "cell_type": "code",
   "execution_count": 26,
   "id": "34ea2558-ec58-4bc1-af5c-ef6285d5dcad",
   "metadata": {
    "tags": []
   },
   "outputs": [
    {
     "data": {
      "text/plain": [
       "array([ True,  True])"
      ]
     },
     "execution_count": 26,
     "metadata": {},
     "output_type": "execute_result"
    }
   ],
   "source": [
    "anomalies.between(start - cutoff, end - cutoff).values"
   ]
  },
  {
   "cell_type": "markdown",
   "id": "831fccc6-0e68-45c0-8ec5-e1e47340c365",
   "metadata": {},
   "source": [
    "Visualize the predictions and the normality scores."
   ]
  },
  {
   "cell_type": "code",
   "execution_count": 27,
   "id": "9dba2cf6-3765-4089-bac1-1dfe141cae03",
   "metadata": {
    "tags": []
   },
   "outputs": [
    {
     "data": {
      "image/png": "[encoded data removed]",
      "text/plain": [
       "<Figure size 600x600 with 2 Axes>"
      ]
     },
     "metadata": {},
     "output_type": "display_data"
    }
   ],
   "source": [
    "fig, axs = plt.subplots(nrows=2, ncols=1, sharex=True, figsize=(6, 6))\n",
    "\n",
    "axs[0].set_title(\"Time Series\", size=10)\n",
    "axs[0].plot(test_dataset.values, color=\"#AFB8C1\", lw=0.5, label=\"Actual\")\n",
    "axs[0].plot(predictions.iloc[:, 1], color=\"#009ad3\", lw=0.5, label=\"Predicted\")\n",
    "axs[0].set(xlabel=\"Time\", ylabel=\"Value\")\n",
    "axs[0].xaxis.set_tick_params(labelbottom=True)\n",
    "axs[0].tick_params(axis=\"both\", which=\"major\", labelsize=7)\n",
    "axs[0].tick_params(axis=\"both\", which=\"minor\", labelsize=7)\n",
    "\n",
    "axs[1].set_title(\"Normality Score\", size=10)\n",
    "axs[1].plot(predictions.iloc[:, 0], color=\"#57606a\", lw=0.5)\n",
    "axs[1].set(xlabel=\"Time\", ylabel=\"Value\")\n",
    "axs[1].xaxis.set_tick_params(labelbottom=True)\n",
    "axs[1].tick_params(axis=\"both\", which=\"major\", labelsize=7)\n",
    "axs[1].tick_params(axis=\"both\", which=\"minor\", labelsize=7)\n",
    "\n",
    "fig.tight_layout()\n",
    "fig.legend(bbox_to_anchor=(1.2, 1, 0, 0), frameon=False)\n",
    "fig.show()"
   ]
  }
 ],
 "metadata": {
  "kernelspec": {
   "display_name": "conda_python3",
   "language": "python",
   "name": "conda_python3"
  },
  "language_info": {
   "codemirror_mode": {
    "name": "ipython",
    "version": 3
   },
   "file_extension": ".py",
   "mimetype": "text/x-python",
   "name": "python",
   "nbconvert_exporter": "python",
   "pygments_lexer": "ipython3",
   "version": "3.10.12"
  }
 },
 "nbformat": 4,
 "nbformat_minor": 5
}
