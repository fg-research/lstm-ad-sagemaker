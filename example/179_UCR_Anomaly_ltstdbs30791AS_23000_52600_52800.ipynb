{
 "cells": [
  {
   "cell_type": "markdown",
   "id": "87deba9d-ff5b-4e7b-ade5-b30c341a7afa",
   "metadata": {},
   "source": [
    "# HEX UCR Dataset: 179_UCR_Anomaly_ltstdbs30791AS_23000_52600_52800"
   ]
  },
  {
   "cell_type": "markdown",
   "id": "2161c326-9263-4f5c-b7b0-8c8ed60f956c",
   "metadata": {},
   "source": [
    "**Dataset Link:** https://www.cs.ucr.edu/~eamonn/time_series_data_2018/UCR_TimeSeriesAnomalyDatasets2021.zip"
   ]
  },
  {
   "cell_type": "markdown",
   "id": "f56f1a46-73b9-4cde-b939-a326a6807009",
   "metadata": {},
   "source": [
    "### 1. Environment set-up"
   ]
  },
  {
   "cell_type": "markdown",
   "id": "8ee3df38-2d9f-4377-9931-3525900b6478",
   "metadata": {},
   "source": [
    "1. This notebook contains elements which render correctly in Jupyter interface. Open this notebook from an Amazon SageMaker Notebook Instance or Amazon SageMaker Studio.\n",
    "1. Ensure that IAM role used has **AmazonSageMakerFullAccess**\n",
    "1. Some hands-on experience using [Amazon SageMaker](https://aws.amazon.com/sagemaker/).\n",
    "1. To use this algorithm successfully, ensure that:\n",
    "    1. Either your IAM role has these three permissions and you have authority to make AWS Marketplace subscriptions in the AWS account used: \n",
    "        1. **aws-marketplace:ViewSubscriptions**\n",
    "        1. **aws-marketplace:Unsubscribe**\n",
    "        1. **aws-marketplace:Subscribe**  \n",
    "    2. or your AWS account has a subscription to the [Time Series Anomaly Detection (LSTM-AD) Algorithm from AWS Marketplace](https://aws.amazon.com/marketplace/pp/prodview-4pbvedtnnlphw).\n",
    "\n",
    "To subscribe to the algorithm:\n",
    "1. Open the algorithm listing page.\n",
    "1. On the AWS Marketplace listing, click on the **Continue to subscribe** button.\n",
    "1. On the **Subscribe to this software** page, review and click on **\"Accept Offer\"** if you agree with EULA, pricing, and support terms. \n",
    "1. Once you click on the **Continue to configuration** button and then choose a **region**, you will see a **Product ARN**. This is the algorithm ARN that you need to specify while training a custom ML model. **Copy the ARN corresponding to your region and specify the same in the following cell.**"
   ]
  },
  {
   "cell_type": "code",
   "execution_count": 1,
   "id": "fd89b7a5-3e1c-4fd5-9661-1dcc86626b10",
   "metadata": {
    "tags": []
   },
   "outputs": [],
   "source": [
    "algo_arn = \"arn:aws:sagemaker:eu-west-1:661670223746:algorithm/lstm-ad-algo-v1-7\""
   ]
  },
  {
   "cell_type": "code",
   "execution_count": 2,
   "id": "b72fa188-ea07-4ee4-ad66-a9dfb7d8cd7e",
   "metadata": {
    "tags": []
   },
   "outputs": [],
   "source": [
    "import sagemaker\n",
    "import pandas as pd\n",
    "import numpy as np\n",
    "import matplotlib.pyplot as plt\n",
    "\n",
    "# SageMaker session\n",
    "sagemaker_session = sagemaker.Session()\n",
    "\n",
    "# SageMaker role\n",
    "role = sagemaker.get_execution_role()\n",
    "\n",
    "# S3 bucket\n",
    "bucket = sagemaker_session.default_bucket()\n",
    "\n",
    "# EC2 instance\n",
    "instance_type = \"ml.m5.2xlarge\""
   ]
  },
  {
   "cell_type": "markdown",
   "id": "49491ac8-2585-429f-8acb-8b3d3e082a7b",
   "metadata": {},
   "source": [
    "### 2. Data preparation"
   ]
  },
  {
   "cell_type": "markdown",
   "id": "2fe35c9b-7f7b-4634-a618-6bd18278556f",
   "metadata": {},
   "source": [
    "Load the data."
   ]
  },
  {
   "cell_type": "code",
   "execution_count": 3,
   "id": "1bdf6675-a1c3-4474-9a3e-5a281ab559b9",
   "metadata": {
    "tags": []
   },
   "outputs": [],
   "source": [
    "dataset_name = \"179_UCR_Anomaly_ltstdbs30791AS_23000_52600_52800\"\n",
    "cutoff = 23000  # train-test cutoff\n",
    "start = 52600   # start of anomalous time interval\n",
    "end = 52800     # end of anomalous time interval\n",
    "k = 2           # number of anomalies to extract"
   ]
  },
  {
   "cell_type": "code",
   "execution_count": 4,
   "id": "62b85cf0-9ed0-4499-9c31-ebb9f7aff474",
   "metadata": {
    "tags": []
   },
   "outputs": [],
   "source": [
    "dataset = pd.DataFrame(data=np.genfromtxt(f\"{dataset_name}.txt\"))"
   ]
  },
  {
   "cell_type": "code",
   "execution_count": 5,
   "id": "69ba4b55-ec1d-46c3-9161-c2d6f8b8c671",
   "metadata": {
    "tags": []
   },
   "outputs": [
    {
     "data": {
      "text/plain": [
       "(55000, 1)"
      ]
     },
     "execution_count": 5,
     "metadata": {},
     "output_type": "execute_result"
    }
   ],
   "source": [
    "dataset.shape"
   ]
  },
  {
   "cell_type": "code",
   "execution_count": 6,
   "id": "e399d772-749d-4e3f-8c58-2bbea4261499",
   "metadata": {
    "tags": []
   },
   "outputs": [
    {
     "data": {
      "text/html": [
       "<div>\n",
       "<style scoped>\n",
       "    .dataframe tbody tr th:only-of-type {\n",
       "        vertical-align: middle;\n",
       "    }\n",
       "\n",
       "    .dataframe tbody tr th {\n",
       "        vertical-align: top;\n",
       "    }\n",
       "\n",
       "    .dataframe thead th {\n",
       "        text-align: right;\n",
       "    }\n",
       "</style>\n",
       "<table border=\"1\" class=\"dataframe\">\n",
       "  <thead>\n",
       "    <tr style=\"text-align: right;\">\n",
       "      <th></th>\n",
       "      <th>0</th>\n",
       "    </tr>\n",
       "  </thead>\n",
       "  <tbody>\n",
       "    <tr>\n",
       "      <th>0</th>\n",
       "      <td>-1.0</td>\n",
       "    </tr>\n",
       "    <tr>\n",
       "      <th>1</th>\n",
       "      <td>-1.0</td>\n",
       "    </tr>\n",
       "    <tr>\n",
       "      <th>2</th>\n",
       "      <td>-1.0</td>\n",
       "    </tr>\n",
       "    <tr>\n",
       "      <th>3</th>\n",
       "      <td>-1.0</td>\n",
       "    </tr>\n",
       "    <tr>\n",
       "      <th>4</th>\n",
       "      <td>-1.0</td>\n",
       "    </tr>\n",
       "  </tbody>\n",
       "</table>\n",
       "</div>"
      ],
      "text/plain": [
       "     0\n",
       "0 -1.0\n",
       "1 -1.0\n",
       "2 -1.0\n",
       "3 -1.0\n",
       "4 -1.0"
      ]
     },
     "execution_count": 6,
     "metadata": {},
     "output_type": "execute_result"
    }
   ],
   "source": [
    "dataset.head()"
   ]
  },
  {
   "cell_type": "code",
   "execution_count": 7,
   "id": "c1142757-d2ba-40dc-a389-efc9612649e2",
   "metadata": {
    "tags": []
   },
   "outputs": [
    {
     "data": {
      "text/html": [
       "<div>\n",
       "<style scoped>\n",
       "    .dataframe tbody tr th:only-of-type {\n",
       "        vertical-align: middle;\n",
       "    }\n",
       "\n",
       "    .dataframe tbody tr th {\n",
       "        vertical-align: top;\n",
       "    }\n",
       "\n",
       "    .dataframe thead th {\n",
       "        text-align: right;\n",
       "    }\n",
       "</style>\n",
       "<table border=\"1\" class=\"dataframe\">\n",
       "  <thead>\n",
       "    <tr style=\"text-align: right;\">\n",
       "      <th></th>\n",
       "      <th>0</th>\n",
       "    </tr>\n",
       "  </thead>\n",
       "  <tbody>\n",
       "    <tr>\n",
       "      <th>54995</th>\n",
       "      <td>27.0</td>\n",
       "    </tr>\n",
       "    <tr>\n",
       "      <th>54996</th>\n",
       "      <td>24.0</td>\n",
       "    </tr>\n",
       "    <tr>\n",
       "      <th>54997</th>\n",
       "      <td>22.0</td>\n",
       "    </tr>\n",
       "    <tr>\n",
       "      <th>54998</th>\n",
       "      <td>21.0</td>\n",
       "    </tr>\n",
       "    <tr>\n",
       "      <th>54999</th>\n",
       "      <td>19.0</td>\n",
       "    </tr>\n",
       "  </tbody>\n",
       "</table>\n",
       "</div>"
      ],
      "text/plain": [
       "          0\n",
       "54995  27.0\n",
       "54996  24.0\n",
       "54997  22.0\n",
       "54998  21.0\n",
       "54999  19.0"
      ]
     },
     "execution_count": 7,
     "metadata": {},
     "output_type": "execute_result"
    }
   ],
   "source": [
    "dataset.tail()"
   ]
  },
  {
   "cell_type": "markdown",
   "id": "4ffe7dfe-08cc-4550-bdd0-351e62739558",
   "metadata": {},
   "source": [
    "Visualize the data."
   ]
  },
  {
   "cell_type": "code",
   "execution_count": 8,
   "id": "d79b0a5c-00ec-4df4-898f-a05245281c94",
   "metadata": {
    "tags": []
   },
   "outputs": [
    {
     "data": {
      "image/png": "[encoded data removed]",
      "text/plain": [
       "<Figure size 600x350 with 1 Axes>"
      ]
     },
     "metadata": {},
     "output_type": "display_data"
    }
   ],
   "source": [
    "fig, ax = plt.subplots(nrows=1, ncols=1, sharex=True, figsize=(6, 3.5))\n",
    "ax.set_title(\"Time Series\", size=10)\n",
    "ax.plot(dataset, color=\"#AFB8C1\", lw=0.3)\n",
    "ax.set(xlabel=\"Time\", ylabel=\"Value\")\n",
    "ax.tick_params(axis=\"both\", which=\"major\", labelsize=7)\n",
    "ax.tick_params(axis=\"both\", which=\"minor\", labelsize=7)\n",
    "fig.tight_layout()\n",
    "fig.show()"
   ]
  },
  {
   "cell_type": "markdown",
   "id": "2e0b09b4-ae21-4551-825c-dcd279753b51",
   "metadata": {},
   "source": [
    "Split the data."
   ]
  },
  {
   "cell_type": "code",
   "execution_count": 9,
   "id": "9b0699df-9439-45c2-ba70-ca11983d843f",
   "metadata": {
    "tags": []
   },
   "outputs": [],
   "source": [
    "training_dataset = dataset.iloc[:cutoff]"
   ]
  },
  {
   "cell_type": "code",
   "execution_count": 10,
   "id": "24adddd2-ab77-4137-98ea-faec2ae3d67d",
   "metadata": {
    "tags": []
   },
   "outputs": [
    {
     "data": {
      "text/plain": [
       "(23000, 1)"
      ]
     },
     "execution_count": 10,
     "metadata": {},
     "output_type": "execute_result"
    }
   ],
   "source": [
    "training_dataset.shape"
   ]
  },
  {
   "cell_type": "code",
   "execution_count": 11,
   "id": "34af9186-27ef-4038-a9de-0e206b89202b",
   "metadata": {
    "tags": []
   },
   "outputs": [],
   "source": [
    "test_dataset = dataset.iloc[cutoff:]"
   ]
  },
  {
   "cell_type": "code",
   "execution_count": 12,
   "id": "4dde60d8-0340-44de-9912-acf9fe2a0633",
   "metadata": {
    "tags": []
   },
   "outputs": [
    {
     "data": {
      "text/plain": [
       "(32000, 1)"
      ]
     },
     "execution_count": 12,
     "metadata": {},
     "output_type": "execute_result"
    }
   ],
   "source": [
    "test_dataset.shape"
   ]
  },
  {
   "cell_type": "markdown",
   "id": "7586de04-bfeb-4942-8937-9ff7c42f5931",
   "metadata": {},
   "source": [
    "Upload the data to S3."
   ]
  },
  {
   "cell_type": "code",
   "execution_count": 13,
   "id": "7fe9e74c-6a57-419e-865d-233e51106857",
   "metadata": {
    "tags": []
   },
   "outputs": [],
   "source": [
    "training_data = sagemaker_session.upload_string_as_file_body(\n",
    "    body=training_dataset.to_csv(index=False, header=False),\n",
    "    bucket=bucket,\n",
    "    key=f\"{dataset_name}_train.csv\"\n",
    ")"
   ]
  },
  {
   "cell_type": "code",
   "execution_count": 14,
   "id": "851460a4-32ac-444a-ab90-a61df3257256",
   "metadata": {
    "tags": []
   },
   "outputs": [
    {
     "data": {
      "text/plain": [
       "'s3://sagemaker-eu-west-1-661670223746/179_UCR_Anomaly_ltstdbs30791AS_23000_52600_52800_train.csv'"
      ]
     },
     "execution_count": 14,
     "metadata": {},
     "output_type": "execute_result"
    }
   ],
   "source": [
    "training_data"
   ]
  },
  {
   "cell_type": "code",
   "execution_count": 15,
   "id": "e2062e41-eb07-43c2-9b86-370a63d45599",
   "metadata": {
    "tags": []
   },
   "outputs": [],
   "source": [
    "test_data = sagemaker_session.upload_string_as_file_body(\n",
    "    body=test_dataset.to_csv(index=False, header=False),\n",
    "    bucket=bucket,\n",
    "    key=f\"{dataset_name}_test.csv\"\n",
    ")"
   ]
  },
  {
   "cell_type": "code",
   "execution_count": 16,
   "id": "4225ecdd-a68e-4824-bb64-f2a7ab3426b8",
   "metadata": {
    "tags": []
   },
   "outputs": [
    {
     "data": {
      "text/plain": [
       "'s3://sagemaker-eu-west-1-661670223746/179_UCR_Anomaly_ltstdbs30791AS_23000_52600_52800_test.csv'"
      ]
     },
     "execution_count": 16,
     "metadata": {},
     "output_type": "execute_result"
    }
   ],
   "source": [
    "test_data"
   ]
  },
  {
   "cell_type": "markdown",
   "id": "6a91f5ac-d6bb-4a50-9de3-69436c33b814",
   "metadata": {},
   "source": [
    "### 3. Training"
   ]
  },
  {
   "cell_type": "markdown",
   "id": "6ad88d3f-50cf-4835-9120-fa6a0da910f0",
   "metadata": {},
   "source": [
    "Fit the model to the training set."
   ]
  },
  {
   "cell_type": "code",
   "execution_count": 17,
   "id": "d870d366-06fc-4a7c-a676-bc33795be3aa",
   "metadata": {},
   "outputs": [
    {
     "name": "stderr",
     "output_type": "stream",
     "text": [
      "NOTEBOOK_METADATA_FILE detected but failed to get valid domain and user from it.\n",
      "INFO:sagemaker:Creating training-job with name: lstm-ad-algo-v1-7-2023-09-16-18-51-59-896\n"
     ]
    },
    {
     "name": "stdout",
     "output_type": "stream",
     "text": [
      "2023-09-16 18:52:00 Starting - Starting the training job...\n",
      "2023-09-16 18:52:15 Starting - Preparing the instances for training......\n",
      "2023-09-16 18:53:30 Downloading - Downloading input data\n",
      "2023-09-16 18:53:30 Training - Downloading the training image.....................\n",
      "2023-09-16 18:56:41 Training - Training image download completed. Training in progress...\u001b[34mbash: cannot set terminal process group (-1): Inappropriate ioctl for device\u001b[0m\n",
      "\u001b[34mbash: no job control in this shell\u001b[0m\n",
      "\u001b[34m2023-09-16 18:57:11,973 sagemaker-training-toolkit INFO     Imported framework sagemaker_pytorch_container.training\u001b[0m\n",
      "\u001b[34m2023-09-16 18:57:11,974 sagemaker-training-toolkit INFO     No GPUs detected (normal if no gpus installed)\u001b[0m\n",
      "\u001b[34m2023-09-16 18:57:11,975 sagemaker-training-toolkit INFO     No Neurons detected (normal if no neurons installed)\u001b[0m\n",
      "\u001b[34m2023-09-16 18:57:11,984 sagemaker_pytorch_container.training INFO     Block until all host DNS lookups succeed.\u001b[0m\n",
      "\u001b[34m2023-09-16 18:57:11,986 sagemaker_pytorch_container.training INFO     Invoking user training script.\u001b[0m\n",
      "\u001b[34m2023-09-16 18:57:13,254 sagemaker-training-toolkit INFO     No GPUs detected (normal if no gpus installed)\u001b[0m\n",
      "\u001b[34m2023-09-16 18:57:13,255 sagemaker-training-toolkit INFO     No Neurons detected (normal if no neurons installed)\u001b[0m\n",
      "\u001b[34m2023-09-16 18:57:13,266 sagemaker-training-toolkit INFO     No GPUs detected (normal if no gpus installed)\u001b[0m\n",
      "\u001b[34m2023-09-16 18:57:13,267 sagemaker-training-toolkit INFO     No Neurons detected (normal if no neurons installed)\u001b[0m\n",
      "\u001b[34m2023-09-16 18:57:13,277 sagemaker-training-toolkit INFO     No GPUs detected (normal if no gpus installed)\u001b[0m\n",
      "\u001b[34m2023-09-16 18:57:13,277 sagemaker-training-toolkit INFO     No Neurons detected (normal if no neurons installed)\u001b[0m\n",
      "\u001b[34m2023-09-16 18:57:13,287 sagemaker-training-toolkit INFO     Invoking user script\u001b[0m\n",
      "\u001b[34mTraining Env:\u001b[0m\n",
      "\u001b[34m{\n",
      "    \"additional_framework_parameters\": {},\n",
      "    \"channel_input_dirs\": {\n",
      "        \"training\": \"/opt/ml/input/data/training\"\n",
      "    },\n",
      "    \"current_host\": \"algo-1\",\n",
      "    \"current_instance_group\": \"homogeneousCluster\",\n",
      "    \"current_instance_group_hosts\": [\n",
      "        \"algo-1\"\n",
      "    ],\n",
      "    \"current_instance_type\": \"ml.m5.2xlarge\",\n",
      "    \"distribution_hosts\": [],\n",
      "    \"distribution_instance_groups\": [],\n",
      "    \"framework_module\": \"sagemaker_pytorch_container.training:main\",\n",
      "    \"hosts\": [\n",
      "        \"algo-1\"\n",
      "    ],\n",
      "    \"hyperparameters\": {\n",
      "        \"batch-size\": 16,\n",
      "        \"context-length\": 200,\n",
      "        \"dropout\": 0.8,\n",
      "        \"epochs\": 500,\n",
      "        \"hidden-size\": 256,\n",
      "        \"lr\": 0.001,\n",
      "        \"num-layers\": 2,\n",
      "        \"prediction-length\": 100,\n",
      "        \"sequence-stride\": 100\n",
      "    },\n",
      "    \"input_config_dir\": \"/opt/ml/input/config\",\n",
      "    \"input_data_config\": {\n",
      "        \"training\": {\n",
      "            \"TrainingInputMode\": \"File\",\n",
      "            \"S3DistributionType\": \"FullyReplicated\",\n",
      "            \"RecordWrapperType\": \"None\"\n",
      "        }\n",
      "    },\n",
      "    \"input_dir\": \"/opt/ml/input\",\n",
      "    \"instance_groups\": [\n",
      "        \"homogeneousCluster\"\n",
      "    ],\n",
      "    \"instance_groups_dict\": {\n",
      "        \"homogeneousCluster\": {\n",
      "            \"instance_group_name\": \"homogeneousCluster\",\n",
      "            \"instance_type\": \"ml.m5.2xlarge\",\n",
      "            \"hosts\": [\n",
      "                \"algo-1\"\n",
      "            ]\n",
      "        }\n",
      "    },\n",
      "    \"is_hetero\": false,\n",
      "    \"is_master\": true,\n",
      "    \"is_modelparallel_enabled\": null,\n",
      "    \"is_smddpmprun_installed\": true,\n",
      "    \"job_name\": \"lstm-ad-algo-v1-7-2023-09-16-18-51-59-896\",\n",
      "    \"log_level\": 20,\n",
      "    \"master_hostname\": \"algo-1\",\n",
      "    \"model_dir\": \"/opt/ml/model\",\n",
      "    \"module_dir\": \"/opt/ml/code\",\n",
      "    \"module_name\": \"training\",\n",
      "    \"network_interface_name\": \"eth0\",\n",
      "    \"num_cpus\": 8,\n",
      "    \"num_gpus\": 0,\n",
      "    \"num_neurons\": 0,\n",
      "    \"output_data_dir\": \"/opt/ml/output/data\",\n",
      "    \"output_dir\": \"/opt/ml/output\",\n",
      "    \"output_intermediate_dir\": \"/opt/ml/output/intermediate\",\n",
      "    \"resource_config\": {\n",
      "        \"current_host\": \"algo-1\",\n",
      "        \"current_instance_type\": \"ml.m5.2xlarge\",\n",
      "        \"current_group_name\": \"homogeneousCluster\",\n",
      "        \"hosts\": [\n",
      "            \"algo-1\"\n",
      "        ],\n",
      "        \"instance_groups\": [\n",
      "            {\n",
      "                \"instance_group_name\": \"homogeneousCluster\",\n",
      "                \"instance_type\": \"ml.m5.2xlarge\",\n",
      "                \"hosts\": [\n",
      "                    \"algo-1\"\n",
      "                ]\n",
      "            }\n",
      "        ],\n",
      "        \"network_interface_name\": \"eth0\"\n",
      "    },\n",
      "    \"user_entry_point\": \"training.py\"\u001b[0m\n",
      "\u001b[34m}\u001b[0m\n",
      "\u001b[34mEnvironment variables:\u001b[0m\n",
      "\u001b[34mSM_HOSTS=[\"algo-1\"]\u001b[0m\n",
      "\u001b[34mSM_NETWORK_INTERFACE_NAME=eth0\u001b[0m\n",
      "\u001b[34mSM_HPS={\"batch-size\":16,\"context-length\":200,\"dropout\":0.8,\"epochs\":500,\"hidden-size\":256,\"lr\":0.001,\"num-layers\":2,\"prediction-length\":100,\"sequence-stride\":100}\u001b[0m\n",
      "\u001b[34mSM_USER_ENTRY_POINT=training.py\u001b[0m\n",
      "\u001b[34mSM_FRAMEWORK_PARAMS={}\u001b[0m\n",
      "\u001b[34mSM_RESOURCE_CONFIG={\"current_group_name\":\"homogeneousCluster\",\"current_host\":\"algo-1\",\"current_instance_type\":\"ml.m5.2xlarge\",\"hosts\":[\"algo-1\"],\"instance_groups\":[{\"hosts\":[\"algo-1\"],\"instance_group_name\":\"homogeneousCluster\",\"instance_type\":\"ml.m5.2xlarge\"}],\"network_interface_name\":\"eth0\"}\u001b[0m\n",
      "\u001b[34mSM_INPUT_DATA_CONFIG={\"training\":{\"RecordWrapperType\":\"None\",\"S3DistributionType\":\"FullyReplicated\",\"TrainingInputMode\":\"File\"}}\u001b[0m\n",
      "\u001b[34mSM_OUTPUT_DATA_DIR=/opt/ml/output/data\u001b[0m\n",
      "\u001b[34mSM_CHANNELS=[\"training\"]\u001b[0m\n",
      "\u001b[34mSM_CURRENT_HOST=algo-1\u001b[0m\n",
      "\u001b[34mSM_CURRENT_INSTANCE_TYPE=ml.m5.2xlarge\u001b[0m\n",
      "\u001b[34mSM_CURRENT_INSTANCE_GROUP=homogeneousCluster\u001b[0m\n",
      "\u001b[34mSM_CURRENT_INSTANCE_GROUP_HOSTS=[\"algo-1\"]\u001b[0m\n",
      "\u001b[34mSM_INSTANCE_GROUPS=[\"homogeneousCluster\"]\u001b[0m\n",
      "\u001b[34mSM_INSTANCE_GROUPS_DICT={\"homogeneousCluster\":{\"hosts\":[\"algo-1\"],\"instance_group_name\":\"homogeneousCluster\",\"instance_type\":\"ml.m5.2xlarge\"}}\u001b[0m\n",
      "\u001b[34mSM_DISTRIBUTION_INSTANCE_GROUPS=[]\u001b[0m\n",
      "\u001b[34mSM_IS_HETERO=false\u001b[0m\n",
      "\u001b[34mSM_MODULE_NAME=training\u001b[0m\n",
      "\u001b[34mSM_LOG_LEVEL=20\u001b[0m\n",
      "\u001b[34mSM_FRAMEWORK_MODULE=sagemaker_pytorch_container.training:main\u001b[0m\n",
      "\u001b[34mSM_INPUT_DIR=/opt/ml/input\u001b[0m\n",
      "\u001b[34mSM_INPUT_CONFIG_DIR=/opt/ml/input/config\u001b[0m\n",
      "\u001b[34mSM_OUTPUT_DIR=/opt/ml/output\u001b[0m\n",
      "\u001b[34mSM_NUM_CPUS=8\u001b[0m\n",
      "\u001b[34mSM_NUM_GPUS=0\u001b[0m\n",
      "\u001b[34mSM_NUM_NEURONS=0\u001b[0m\n",
      "\u001b[34mSM_MODEL_DIR=/opt/ml/model\u001b[0m\n",
      "\u001b[34mSM_MODULE_DIR=/opt/ml/code\u001b[0m\n",
      "\u001b[34mSM_TRAINING_ENV={\"additional_framework_parameters\":{},\"channel_input_dirs\":{\"training\":\"/opt/ml/input/data/training\"},\"current_host\":\"algo-1\",\"current_instance_group\":\"homogeneousCluster\",\"current_instance_group_hosts\":[\"algo-1\"],\"current_instance_type\":\"ml.m5.2xlarge\",\"distribution_hosts\":[],\"distribution_instance_groups\":[],\"framework_module\":\"sagemaker_pytorch_container.training:main\",\"hosts\":[\"algo-1\"],\"hyperparameters\":{\"batch-size\":16,\"context-length\":200,\"dropout\":0.8,\"epochs\":500,\"hidden-size\":256,\"lr\":0.001,\"num-layers\":2,\"prediction-length\":100,\"sequence-stride\":100},\"input_config_dir\":\"/opt/ml/input/config\",\"input_data_config\":{\"training\":{\"RecordWrapperType\":\"None\",\"S3DistributionType\":\"FullyReplicated\",\"TrainingInputMode\":\"File\"}},\"input_dir\":\"/opt/ml/input\",\"instance_groups\":[\"homogeneousCluster\"],\"instance_groups_dict\":{\"homogeneousCluster\":{\"hosts\":[\"algo-1\"],\"instance_group_name\":\"homogeneousCluster\",\"instance_type\":\"ml.m5.2xlarge\"}},\"is_hetero\":false,\"is_master\":true,\"is_modelparallel_enabled\":null,\"is_smddpmprun_installed\":true,\"job_name\":\"lstm-ad-algo-v1-7-2023-09-16-18-51-59-896\",\"log_level\":20,\"master_hostname\":\"algo-1\",\"model_dir\":\"/opt/ml/model\",\"module_dir\":\"/opt/ml/code\",\"module_name\":\"training\",\"network_interface_name\":\"eth0\",\"num_cpus\":8,\"num_gpus\":0,\"num_neurons\":0,\"output_data_dir\":\"/opt/ml/output/data\",\"output_dir\":\"/opt/ml/output\",\"output_intermediate_dir\":\"/opt/ml/output/intermediate\",\"resource_config\":{\"current_group_name\":\"homogeneousCluster\",\"current_host\":\"algo-1\",\"current_instance_type\":\"ml.m5.2xlarge\",\"hosts\":[\"algo-1\"],\"instance_groups\":[{\"hosts\":[\"algo-1\"],\"instance_group_name\":\"homogeneousCluster\",\"instance_type\":\"ml.m5.2xlarge\"}],\"network_interface_name\":\"eth0\"},\"user_entry_point\":\"training.py\"}\u001b[0m\n",
      "\u001b[34mSM_USER_ARGS=[\"--batch-size\",\"16\",\"--context-length\",\"200\",\"--dropout\",\"0.8\",\"--epochs\",\"500\",\"--hidden-size\",\"256\",\"--lr\",\"0.001\",\"--num-layers\",\"2\",\"--prediction-length\",\"100\",\"--sequence-stride\",\"100\"]\u001b[0m\n",
      "\u001b[34mSM_OUTPUT_INTERMEDIATE_DIR=/opt/ml/output/intermediate\u001b[0m\n",
      "\u001b[34mSM_CHANNEL_TRAINING=/opt/ml/input/data/training\u001b[0m\n",
      "\u001b[34mSM_HP_BATCH-SIZE=16\u001b[0m\n",
      "\u001b[34mSM_HP_CONTEXT-LENGTH=200\u001b[0m\n",
      "\u001b[34mSM_HP_DROPOUT=0.8\u001b[0m\n",
      "\u001b[34mSM_HP_EPOCHS=500\u001b[0m\n",
      "\u001b[34mSM_HP_HIDDEN-SIZE=256\u001b[0m\n",
      "\u001b[34mSM_HP_LR=0.001\u001b[0m\n",
      "\u001b[34mSM_HP_NUM-LAYERS=2\u001b[0m\n",
      "\u001b[34mSM_HP_PREDICTION-LENGTH=100\u001b[0m\n",
      "\u001b[34mSM_HP_SEQUENCE-STRIDE=100\u001b[0m\n",
      "\u001b[34mPYTHONPATH=/opt/ml/code:/opt/conda/bin:/opt/conda/lib/python310.zip:/opt/conda/lib/python3.10:/opt/conda/lib/python3.10/lib-dynload:/opt/conda/lib/python3.10/site-packages\u001b[0m\n",
      "\u001b[34mInvoking script with the following command:\u001b[0m\n",
      "\u001b[34m/opt/conda/bin/python3.10 training.py --batch-size 16 --context-length 200 --dropout 0.8 --epochs 500 --hidden-size 256 --lr 0.001 --num-layers 2 --prediction-length 100 --sequence-stride 100\u001b[0m\n",
      "\u001b[34m2023-09-16 18:57:13,319 sagemaker-training-toolkit INFO     Exceptions not imported for SageMaker TF as Tensorflow is not installed.\u001b[0m\n",
      "\u001b[34m--------------------------------------\u001b[0m\n",
      "\u001b[34mTraining on 1 time series.\u001b[0m\n",
      "\u001b[34mTime series length: 23000\u001b[0m\n",
      "\u001b[34m--------------------------------------\u001b[0m\n",
      "\u001b[34m--------------------------------------\u001b[0m\n",
      "\u001b[34mTraining the model.\u001b[0m\n",
      "\u001b[34m--------------------------------------\u001b[0m\n",
      "\u001b[34mEpoch: 1, Training MSE: 0.01596049, Training MAE: 0.07064278\u001b[0m\n",
      "\u001b[34mEpoch: 2, Training MSE: 0.01507284, Training MAE: 0.06616945\u001b[0m\n",
      "\u001b[34mEpoch: 3, Training MSE: 0.01462195, Training MAE: 0.06459768\u001b[0m\n",
      "\u001b[34mEpoch: 4, Training MSE: 0.01450661, Training MAE: 0.06594563\u001b[0m\n",
      "\u001b[34mEpoch: 5, Training MSE: 0.01457928, Training MAE: 0.06817256\u001b[0m\n",
      "\u001b[34mEpoch: 6, Training MSE: 0.01455769, Training MAE: 0.06426240\u001b[0m\n",
      "\u001b[34mEpoch: 7, Training MSE: 0.01449546, Training MAE: 0.06444384\u001b[0m\n",
      "\u001b[34mEpoch: 8, Training MSE: 0.01462780, Training MAE: 0.06946925\u001b[0m\n",
      "\u001b[34mEpoch: 9, Training MSE: 0.01453300, Training MAE: 0.06716355\u001b[0m\n",
      "\u001b[34mEpoch: 10, Training MSE: 0.01454771, Training MAE: 0.06775112\u001b[0m\n",
      "\u001b[34mEpoch: 11, Training MSE: 0.01466133, Training MAE: 0.06445429\u001b[0m\n",
      "\u001b[34mEpoch: 12, Training MSE: 0.01446551, Training MAE: 0.06436516\u001b[0m\n",
      "\u001b[34mEpoch: 13, Training MSE: 0.01441606, Training MAE: 0.06472118\u001b[0m\n",
      "\u001b[34mEpoch: 14, Training MSE: 0.01440345, Training MAE: 0.06450169\u001b[0m\n",
      "\u001b[34mEpoch: 15, Training MSE: 0.01441102, Training MAE: 0.06433443\u001b[0m\n",
      "\u001b[34mEpoch: 16, Training MSE: 0.01446670, Training MAE: 0.06510393\u001b[0m\n",
      "\u001b[34mEpoch: 17, Training MSE: 0.01430621, Training MAE: 0.06519507\u001b[0m\n",
      "\u001b[34mEpoch: 18, Training MSE: 0.01422414, Training MAE: 0.06536263\u001b[0m\n",
      "\u001b[34mEpoch: 19, Training MSE: 0.01429922, Training MAE: 0.06282648\u001b[0m\n",
      "\u001b[34mEpoch: 20, Training MSE: 0.01454417, Training MAE: 0.06359289\u001b[0m\n",
      "\u001b[34mEpoch: 21, Training MSE: 0.01408884, Training MAE: 0.06379618\u001b[0m\n",
      "\u001b[34mEpoch: 22, Training MSE: 0.01424929, Training MAE: 0.06928114\u001b[0m\n",
      "\u001b[34mEpoch: 23, Training MSE: 0.01399136, Training MAE: 0.06452349\u001b[0m\n",
      "\u001b[34mEpoch: 24, Training MSE: 0.01408079, Training MAE: 0.06639965\u001b[0m\n",
      "\u001b[34mEpoch: 25, Training MSE: 0.01405295, Training MAE: 0.06655589\u001b[0m\n",
      "\u001b[34mEpoch: 26, Training MSE: 0.01396673, Training MAE: 0.06186914\u001b[0m\n",
      "\u001b[34mEpoch: 27, Training MSE: 0.01385395, Training MAE: 0.06211771\u001b[0m\n",
      "\u001b[34mEpoch: 28, Training MSE: 0.01379585, Training MAE: 0.06262330\u001b[0m\n",
      "\u001b[34mEpoch: 29, Training MSE: 0.01386662, Training MAE: 0.06849951\u001b[0m\n",
      "\u001b[34mEpoch: 30, Training MSE: 0.01334472, Training MAE: 0.06239522\u001b[0m\n",
      "\u001b[34mEpoch: 31, Training MSE: 0.01328844, Training MAE: 0.06040884\u001b[0m\n",
      "\u001b[34mEpoch: 32, Training MSE: 0.01334610, Training MAE: 0.06158491\u001b[0m\n",
      "\u001b[34mEpoch: 33, Training MSE: 0.01336374, Training MAE: 0.06453256\u001b[0m\n",
      "\u001b[34mEpoch: 34, Training MSE: 0.01300847, Training MAE: 0.06314915\u001b[0m\n",
      "\u001b[34mEpoch: 35, Training MSE: 0.01291617, Training MAE: 0.06050048\u001b[0m\n",
      "\u001b[34mEpoch: 36, Training MSE: 0.01279165, Training MAE: 0.06423147\u001b[0m\n",
      "\u001b[34mEpoch: 37, Training MSE: 0.01266863, Training MAE: 0.06310289\u001b[0m\n",
      "\u001b[34mEpoch: 38, Training MSE: 0.01269819, Training MAE: 0.06038597\u001b[0m\n",
      "\u001b[34mEpoch: 39, Training MSE: 0.01272402, Training MAE: 0.06964797\u001b[0m\n",
      "\u001b[34mEpoch: 40, Training MSE: 0.01219746, Training MAE: 0.06154158\u001b[0m\n",
      "\u001b[34mEpoch: 41, Training MSE: 0.01220038, Training MAE: 0.06030471\u001b[0m\n",
      "\u001b[34mEpoch: 42, Training MSE: 0.01632934, Training MAE: 0.07424217\u001b[0m\n",
      "\u001b[34mEpoch: 43, Training MSE: 0.01390335, Training MAE: 0.07124762\u001b[0m\n",
      "\u001b[34mEpoch: 44, Training MSE: 0.01322531, Training MAE: 0.06769746\u001b[0m\n",
      "\u001b[34mEpoch: 45, Training MSE: 0.01366948, Training MAE: 0.06367590\u001b[0m\n",
      "\u001b[34mEpoch: 46, Training MSE: 0.01379427, Training MAE: 0.06843536\u001b[0m\n",
      "\u001b[34mEpoch: 47, Training MSE: 0.01333261, Training MAE: 0.06338861\u001b[0m\n",
      "\u001b[34mEpoch: 48, Training MSE: 0.01306572, Training MAE: 0.06154445\u001b[0m\n",
      "\u001b[34mEpoch: 49, Training MSE: 0.01285628, Training MAE: 0.06042527\u001b[0m\n",
      "\u001b[34mEpoch: 50, Training MSE: 0.01285507, Training MAE: 0.06383521\u001b[0m\n",
      "\u001b[34mEpoch: 51, Training MSE: 0.01257408, Training MAE: 0.06332607\u001b[0m\n",
      "\u001b[34mEpoch: 52, Training MSE: 0.01247923, Training MAE: 0.06162966\u001b[0m\n",
      "\u001b[34mEpoch: 53, Training MSE: 0.01244994, Training MAE: 0.06658795\u001b[0m\n",
      "\u001b[34mEpoch: 54, Training MSE: 0.01210896, Training MAE: 0.05808511\u001b[0m\n",
      "\u001b[34mEpoch: 55, Training MSE: 0.01223554, Training MAE: 0.06103894\u001b[0m\n",
      "\u001b[34mEpoch: 56, Training MSE: 0.01158630, Training MAE: 0.05776045\u001b[0m\n",
      "\u001b[34mEpoch: 57, Training MSE: 0.01111447, Training MAE: 0.05585627\u001b[0m\n",
      "\u001b[34mEpoch: 58, Training MSE: 0.01144577, Training MAE: 0.06228785\u001b[0m\n",
      "\u001b[34mEpoch: 59, Training MSE: 0.01096467, Training MAE: 0.05810508\u001b[0m\n",
      "\u001b[34mEpoch: 60, Training MSE: 0.01079452, Training MAE: 0.05790006\u001b[0m\n",
      "\u001b[34mEpoch: 61, Training MSE: 0.01099981, Training MAE: 0.05815416\u001b[0m\n",
      "\u001b[34mEpoch: 62, Training MSE: 0.01099546, Training MAE: 0.05894468\u001b[0m\n",
      "\u001b[34mEpoch: 63, Training MSE: 0.01080202, Training MAE: 0.06341118\u001b[0m\n",
      "\u001b[34mEpoch: 64, Training MSE: 0.01084752, Training MAE: 0.05703695\u001b[0m\n",
      "\u001b[34mEpoch: 65, Training MSE: 0.01064915, Training MAE: 0.05696819\u001b[0m\n",
      "\u001b[34mEpoch: 66, Training MSE: 0.01070569, Training MAE: 0.05731845\u001b[0m\n",
      "\u001b[34mEpoch: 67, Training MSE: 0.01005766, Training MAE: 0.05267874\u001b[0m\n",
      "\u001b[34mEpoch: 68, Training MSE: 0.00995748, Training MAE: 0.05475987\u001b[0m\n",
      "\u001b[34mEpoch: 69, Training MSE: 0.00986025, Training MAE: 0.05351193\u001b[0m\n",
      "\u001b[34mEpoch: 70, Training MSE: 0.00950336, Training MAE: 0.05220823\u001b[0m\n",
      "\u001b[34mEpoch: 71, Training MSE: 0.00958875, Training MAE: 0.05175911\u001b[0m\n",
      "\u001b[34mEpoch: 72, Training MSE: 0.00927213, Training MAE: 0.04955848\u001b[0m\n",
      "\u001b[34mEpoch: 73, Training MSE: 0.01002821, Training MAE: 0.05574101\u001b[0m\n",
      "\u001b[34mEpoch: 74, Training MSE: 0.00995089, Training MAE: 0.05414905\u001b[0m\n",
      "\u001b[34mEpoch: 75, Training MSE: 0.00983424, Training MAE: 0.05629107\u001b[0m\n",
      "\u001b[34mEpoch: 76, Training MSE: 0.00992145, Training MAE: 0.05313463\u001b[0m\n",
      "\u001b[34mEpoch: 77, Training MSE: 0.00918779, Training MAE: 0.04943900\u001b[0m\n",
      "\u001b[34mEpoch: 78, Training MSE: 0.00980299, Training MAE: 0.05733157\u001b[0m\n",
      "\u001b[34mEpoch: 79, Training MSE: 0.00924419, Training MAE: 0.05054019\u001b[0m\n",
      "\u001b[34mEpoch: 80, Training MSE: 0.00883931, Training MAE: 0.05081478\u001b[0m\n",
      "\u001b[34mEpoch: 81, Training MSE: 0.00872706, Training MAE: 0.04890915\u001b[0m\n",
      "\u001b[34mEpoch: 82, Training MSE: 0.00835928, Training MAE: 0.04745014\u001b[0m\n",
      "\u001b[34mEpoch: 83, Training MSE: 0.01116677, Training MAE: 0.05521804\u001b[0m\n",
      "\u001b[34mEpoch: 84, Training MSE: 0.00970105, Training MAE: 0.05201614\u001b[0m\n",
      "\u001b[34mEpoch: 85, Training MSE: 0.01480724, Training MAE: 0.06683943\u001b[0m\n",
      "\u001b[34mEpoch: 86, Training MSE: 0.00986837, Training MAE: 0.05841706\u001b[0m\n",
      "\u001b[34mEpoch: 87, Training MSE: 0.00948143, Training MAE: 0.05594912\u001b[0m\n",
      "\u001b[34mEpoch: 88, Training MSE: 0.00993600, Training MAE: 0.05669741\u001b[0m\n",
      "\u001b[34mEpoch: 89, Training MSE: 0.00942492, Training MAE: 0.05458038\u001b[0m\n",
      "\u001b[34mEpoch: 90, Training MSE: 0.00838877, Training MAE: 0.04723790\u001b[0m\n",
      "\u001b[34mEpoch: 91, Training MSE: 0.00828574, Training MAE: 0.04533764\u001b[0m\n",
      "\u001b[34mEpoch: 92, Training MSE: 0.00844843, Training MAE: 0.04641722\u001b[0m\n",
      "\u001b[34mEpoch: 93, Training MSE: 0.00803020, Training MAE: 0.04646922\u001b[0m\n",
      "\u001b[34mEpoch: 94, Training MSE: 0.00759205, Training MAE: 0.04403993\u001b[0m\n",
      "\u001b[34mEpoch: 95, Training MSE: 0.00871752, Training MAE: 0.05021884\u001b[0m\n",
      "\u001b[34mEpoch: 96, Training MSE: 0.00837346, Training MAE: 0.04637969\u001b[0m\n",
      "\u001b[34mEpoch: 97, Training MSE: 0.01499075, Training MAE: 0.07019049\u001b[0m\n",
      "\u001b[34mEpoch: 98, Training MSE: 0.01314744, Training MAE: 0.06569840\u001b[0m\n",
      "\u001b[34mEpoch: 99, Training MSE: 0.01260756, Training MAE: 0.06116425\u001b[0m\n",
      "\u001b[34mEpoch: 100, Training MSE: 0.01231494, Training MAE: 0.05874936\u001b[0m\n",
      "\u001b[34mEpoch: 101, Training MSE: 0.01200493, Training MAE: 0.05608524\u001b[0m\n",
      "\u001b[34mEpoch: 102, Training MSE: 0.01185210, Training MAE: 0.05912688\u001b[0m\n",
      "\u001b[34mEpoch: 103, Training MSE: 0.00987901, Training MAE: 0.05424817\u001b[0m\n",
      "\u001b[34mEpoch: 104, Training MSE: 0.00948300, Training MAE: 0.05411128\u001b[0m\n",
      "\u001b[34mEpoch: 105, Training MSE: 0.00905720, Training MAE: 0.04883623\u001b[0m\n",
      "\u001b[34mEpoch: 106, Training MSE: 0.00898150, Training MAE: 0.05014483\u001b[0m\n",
      "\u001b[34mEpoch: 107, Training MSE: 0.00905927, Training MAE: 0.04886213\u001b[0m\n",
      "\u001b[34mEpoch: 108, Training MSE: 0.00877812, Training MAE: 0.04970599\u001b[0m\n",
      "\u001b[34mEpoch: 109, Training MSE: 0.00842376, Training MAE: 0.04935441\u001b[0m\n",
      "\u001b[34mEpoch: 110, Training MSE: 0.00855609, Training MAE: 0.04695936\u001b[0m\n",
      "\u001b[34mEpoch: 111, Training MSE: 0.00807495, Training MAE: 0.04663585\u001b[0m\n",
      "\u001b[34mEpoch: 112, Training MSE: 0.00798481, Training MAE: 0.04614995\u001b[0m\n",
      "\u001b[34mEpoch: 113, Training MSE: 0.00819012, Training MAE: 0.04784030\u001b[0m\n",
      "\u001b[34mEpoch: 114, Training MSE: 0.00825269, Training MAE: 0.04640304\u001b[0m\n",
      "\u001b[34mEpoch: 115, Training MSE: 0.00787968, Training MAE: 0.04805637\u001b[0m\n",
      "\u001b[34mEpoch: 116, Training MSE: 0.00759179, Training MAE: 0.04445519\u001b[0m\n",
      "\u001b[34mEpoch: 117, Training MSE: 0.00728160, Training MAE: 0.04415200\u001b[0m\n",
      "\u001b[34mEpoch: 118, Training MSE: 0.00763627, Training MAE: 0.04502138\u001b[0m\n",
      "\u001b[34mEpoch: 119, Training MSE: 0.00757253, Training MAE: 0.04400242\u001b[0m\n",
      "\u001b[34mEpoch: 120, Training MSE: 0.00757542, Training MAE: 0.04289046\u001b[0m\n",
      "\u001b[34mEpoch: 121, Training MSE: 0.00727733, Training MAE: 0.04604319\u001b[0m\n",
      "\u001b[34mEpoch: 122, Training MSE: 0.00829052, Training MAE: 0.04747247\u001b[0m\n",
      "\u001b[34mEpoch: 123, Training MSE: 0.00759934, Training MAE: 0.04720059\u001b[0m\n",
      "\u001b[34mEpoch: 124, Training MSE: 0.00745514, Training MAE: 0.04667123\u001b[0m\n",
      "\u001b[34mEpoch: 125, Training MSE: 0.00741130, Training MAE: 0.04431962\u001b[0m\n",
      "\u001b[34mEpoch: 126, Training MSE: 0.00696978, Training MAE: 0.04384447\u001b[0m\n",
      "\u001b[34mEpoch: 127, Training MSE: 0.00692135, Training MAE: 0.04269155\u001b[0m\n",
      "\u001b[34mEpoch: 128, Training MSE: 0.00646788, Training MAE: 0.03896698\u001b[0m\n",
      "\u001b[34mEpoch: 129, Training MSE: 0.00675527, Training MAE: 0.04106135\u001b[0m\n",
      "\u001b[34mEpoch: 130, Training MSE: 0.00677719, Training MAE: 0.04176020\u001b[0m\n",
      "\u001b[34mEpoch: 131, Training MSE: 0.00737381, Training MAE: 0.04444727\u001b[0m\n",
      "\u001b[34mEpoch: 132, Training MSE: 0.00736852, Training MAE: 0.04646387\u001b[0m\n",
      "\u001b[34mEpoch: 133, Training MSE: 0.00690048, Training MAE: 0.04155121\u001b[0m\n",
      "\u001b[34mEpoch: 134, Training MSE: 0.00663367, Training MAE: 0.04085957\u001b[0m\n",
      "\u001b[34mEpoch: 135, Training MSE: 0.00708490, Training MAE: 0.04118841\u001b[0m\n",
      "\u001b[34mEpoch: 136, Training MSE: 0.00683029, Training MAE: 0.04240591\u001b[0m\n",
      "\u001b[34mEpoch: 137, Training MSE: 0.00670352, Training MAE: 0.04539914\u001b[0m\n",
      "\u001b[34mEpoch: 138, Training MSE: 0.00642849, Training MAE: 0.04085571\u001b[0m\n",
      "\u001b[34mEpoch: 139, Training MSE: 0.00634267, Training MAE: 0.04078787\u001b[0m\n",
      "\u001b[34mEpoch: 140, Training MSE: 0.00580712, Training MAE: 0.03852735\u001b[0m\n",
      "\u001b[34mEpoch: 141, Training MSE: 0.00893002, Training MAE: 0.04952900\u001b[0m\n",
      "\u001b[34mEpoch: 142, Training MSE: 0.00664677, Training MAE: 0.03947432\u001b[0m\n",
      "\u001b[34mEpoch: 143, Training MSE: 0.00639373, Training MAE: 0.04043271\u001b[0m\n",
      "\u001b[34mEpoch: 144, Training MSE: 0.00600833, Training MAE: 0.03757798\u001b[0m\n",
      "\u001b[34mEpoch: 145, Training MSE: 0.00605982, Training MAE: 0.03850119\u001b[0m\n",
      "\u001b[34mEpoch: 146, Training MSE: 0.00550213, Training MAE: 0.03589388\u001b[0m\n",
      "\u001b[34mEpoch: 147, Training MSE: 0.00633655, Training MAE: 0.03956724\u001b[0m\n",
      "\u001b[34mEpoch: 148, Training MSE: 0.00595446, Training MAE: 0.03856551\u001b[0m\n",
      "\u001b[34mEpoch: 149, Training MSE: 0.00567382, Training MAE: 0.03847999\u001b[0m\n",
      "\u001b[34mEpoch: 150, Training MSE: 0.00801692, Training MAE: 0.04518064\u001b[0m\n",
      "\u001b[34mEpoch: 151, Training MSE: 0.00589119, Training MAE: 0.03909422\u001b[0m\n",
      "\u001b[34mEpoch: 152, Training MSE: 0.00590222, Training MAE: 0.03777058\u001b[0m\n",
      "\u001b[34mEpoch: 153, Training MSE: 0.00570511, Training MAE: 0.03770645\u001b[0m\n",
      "\u001b[34mEpoch: 154, Training MSE: 0.00535299, Training MAE: 0.03565094\u001b[0m\n",
      "\u001b[34mEpoch: 155, Training MSE: 0.00595767, Training MAE: 0.03734583\u001b[0m\n",
      "\u001b[34mEpoch: 156, Training MSE: 0.00546554, Training MAE: 0.03669063\u001b[0m\n",
      "\u001b[34mEpoch: 157, Training MSE: 0.00521157, Training MAE: 0.03683342\u001b[0m\n",
      "\u001b[34mEpoch: 158, Training MSE: 0.00502320, Training MAE: 0.03571821\u001b[0m\n",
      "\u001b[34mEpoch: 159, Training MSE: 0.00510408, Training MAE: 0.03472664\u001b[0m\n",
      "\u001b[34mEpoch: 160, Training MSE: 0.00525195, Training MAE: 0.03544786\u001b[0m\n",
      "\u001b[34mEpoch: 161, Training MSE: 0.00566732, Training MAE: 0.03743514\u001b[0m\n",
      "\u001b[34mEpoch: 162, Training MSE: 0.00535269, Training MAE: 0.03633294\u001b[0m\n",
      "\u001b[34mEpoch: 163, Training MSE: 0.00524102, Training MAE: 0.03789250\u001b[0m\n",
      "\u001b[34mEpoch: 164, Training MSE: 0.00523703, Training MAE: 0.03545495\u001b[0m\n",
      "\u001b[34mEpoch: 165, Training MSE: 0.00521539, Training MAE: 0.03530202\u001b[0m\n",
      "\u001b[34mEpoch: 166, Training MSE: 0.00512696, Training MAE: 0.03623133\u001b[0m\n",
      "\u001b[34mEpoch: 167, Training MSE: 0.00473639, Training MAE: 0.03432731\u001b[0m\n",
      "\u001b[34mEpoch: 168, Training MSE: 0.00483517, Training MAE: 0.03392288\u001b[0m\n",
      "\u001b[34mEpoch: 169, Training MSE: 0.00459735, Training MAE: 0.03279182\u001b[0m\n",
      "\u001b[34mEpoch: 170, Training MSE: 0.00631686, Training MAE: 0.03911873\u001b[0m\n",
      "\u001b[34mEpoch: 171, Training MSE: 0.00594571, Training MAE: 0.03857601\u001b[0m\n",
      "\u001b[34mEpoch: 172, Training MSE: 0.00487235, Training MAE: 0.03480884\u001b[0m\n",
      "\u001b[34mEpoch: 173, Training MSE: 0.00459358, Training MAE: 0.03353130\u001b[0m\n",
      "\u001b[34mEpoch: 174, Training MSE: 0.00485201, Training MAE: 0.03502919\u001b[0m\n",
      "\u001b[34mEpoch: 175, Training MSE: 0.00463469, Training MAE: 0.03270062\u001b[0m\n",
      "\u001b[34mEpoch: 176, Training MSE: 0.00499517, Training MAE: 0.03341839\u001b[0m\n",
      "\u001b[34mEpoch: 177, Training MSE: 0.00616513, Training MAE: 0.03781635\u001b[0m\n",
      "\u001b[34mEpoch: 178, Training MSE: 0.00444270, Training MAE: 0.03158575\u001b[0m\n",
      "\u001b[34mEpoch: 179, Training MSE: 0.00441602, Training MAE: 0.03223425\u001b[0m\n",
      "\u001b[34mEpoch: 180, Training MSE: 0.00444372, Training MAE: 0.03155359\u001b[0m\n",
      "\u001b[34mEpoch: 181, Training MSE: 0.00445119, Training MAE: 0.03107278\u001b[0m\n",
      "\u001b[34mEpoch: 182, Training MSE: 0.00509546, Training MAE: 0.03413795\u001b[0m\n",
      "\u001b[34mEpoch: 183, Training MSE: 0.00442370, Training MAE: 0.03344476\u001b[0m\n",
      "\u001b[34mEpoch: 184, Training MSE: 0.00423414, Training MAE: 0.03168702\u001b[0m\n",
      "\u001b[34mEpoch: 185, Training MSE: 0.00417037, Training MAE: 0.03172293\u001b[0m\n",
      "\u001b[34mEpoch: 186, Training MSE: 0.00665811, Training MAE: 0.03828082\u001b[0m\n",
      "\u001b[34mEpoch: 187, Training MSE: 0.00534789, Training MAE: 0.03690925\u001b[0m\n",
      "\u001b[34mEpoch: 188, Training MSE: 0.00486212, Training MAE: 0.03427892\u001b[0m\n",
      "\u001b[34mEpoch: 189, Training MSE: 0.00426442, Training MAE: 0.03204801\u001b[0m\n",
      "\u001b[34mEpoch: 190, Training MSE: 0.00433766, Training MAE: 0.03281963\u001b[0m\n",
      "\u001b[34mEpoch: 191, Training MSE: 0.00448079, Training MAE: 0.03389977\u001b[0m\n",
      "\u001b[34mEpoch: 192, Training MSE: 0.00491782, Training MAE: 0.03619109\u001b[0m\n",
      "\u001b[34mEpoch: 193, Training MSE: 0.00539242, Training MAE: 0.03625012\u001b[0m\n",
      "\u001b[34mEpoch: 194, Training MSE: 0.00580386, Training MAE: 0.03936078\u001b[0m\n",
      "\u001b[34mEpoch: 195, Training MSE: 0.00461167, Training MAE: 0.03322843\u001b[0m\n",
      "\u001b[34mEpoch: 196, Training MSE: 0.01404578, Training MAE: 0.07383737\u001b[0m\n",
      "\u001b[34mEpoch: 197, Training MSE: 0.01338257, Training MAE: 0.06320578\u001b[0m\n",
      "\u001b[34mEpoch: 198, Training MSE: 0.01222390, Training MAE: 0.06121447\u001b[0m\n",
      "\u001b[34mEpoch: 199, Training MSE: 0.01279353, Training MAE: 0.06696597\u001b[0m\n",
      "\u001b[34mEpoch: 200, Training MSE: 0.01302063, Training MAE: 0.06314404\u001b[0m\n",
      "\u001b[34mEpoch: 201, Training MSE: 0.01271792, Training MAE: 0.06389047\u001b[0m\n",
      "\u001b[34mEpoch: 202, Training MSE: 0.01206406, Training MAE: 0.05923706\u001b[0m\n",
      "\u001b[34mEpoch: 203, Training MSE: 0.01239795, Training MAE: 0.06036459\u001b[0m\n",
      "\u001b[34mEpoch: 204, Training MSE: 0.01204977, Training MAE: 0.06372412\u001b[0m\n",
      "\u001b[34mEpoch: 205, Training MSE: 0.01101501, Training MAE: 0.05537852\u001b[0m\n",
      "\u001b[34mEpoch: 206, Training MSE: 0.01150930, Training MAE: 0.06300037\u001b[0m\n",
      "\u001b[34mEpoch: 207, Training MSE: 0.00867930, Training MAE: 0.05446487\u001b[0m\n",
      "\u001b[34mEpoch: 208, Training MSE: 0.00848622, Training MAE: 0.04901097\u001b[0m\n",
      "\u001b[34mEpoch: 209, Training MSE: 0.00743778, Training MAE: 0.04633809\u001b[0m\n",
      "\u001b[34mEpoch: 210, Training MSE: 0.00700121, Training MAE: 0.04312408\u001b[0m\n",
      "\u001b[34mEpoch: 211, Training MSE: 0.00701557, Training MAE: 0.04330233\u001b[0m\n",
      "\u001b[34mEpoch: 212, Training MSE: 0.00630532, Training MAE: 0.03910638\u001b[0m\n",
      "\u001b[34mEpoch: 213, Training MSE: 0.00599185, Training MAE: 0.03919098\u001b[0m\n",
      "\u001b[34mEpoch: 214, Training MSE: 0.00569140, Training MAE: 0.03788595\u001b[0m\n",
      "\u001b[34mEpoch: 215, Training MSE: 0.00535683, Training MAE: 0.03585664\u001b[0m\n",
      "\u001b[34mEpoch: 216, Training MSE: 0.00506613, Training MAE: 0.03487739\u001b[0m\n",
      "\u001b[34mEpoch: 217, Training MSE: 0.00497697, Training MAE: 0.03467363\u001b[0m\n",
      "\u001b[34mEpoch: 218, Training MSE: 0.00624816, Training MAE: 0.03966120\u001b[0m\n",
      "\u001b[34mEpoch: 219, Training MSE: 0.00589930, Training MAE: 0.03847804\u001b[0m\n",
      "\u001b[34mEpoch: 220, Training MSE: 0.00506571, Training MAE: 0.03547253\u001b[0m\n",
      "\u001b[34mEpoch: 221, Training MSE: 0.00451304, Training MAE: 0.03237513\u001b[0m\n",
      "\u001b[34mEpoch: 222, Training MSE: 0.00431460, Training MAE: 0.03217025\u001b[0m\n",
      "\u001b[34mEpoch: 223, Training MSE: 0.00430052, Training MAE: 0.03160778\u001b[0m\n",
      "\u001b[34mEpoch: 224, Training MSE: 0.00448828, Training MAE: 0.03215653\u001b[0m\n",
      "\u001b[34mEpoch: 225, Training MSE: 0.00450359, Training MAE: 0.03190591\u001b[0m\n",
      "\u001b[34mEpoch: 226, Training MSE: 0.00409368, Training MAE: 0.03053808\u001b[0m\n",
      "\u001b[34mEpoch: 227, Training MSE: 0.00509986, Training MAE: 0.03457038\u001b[0m\n",
      "\u001b[34mEpoch: 228, Training MSE: 0.00449989, Training MAE: 0.03227226\u001b[0m\n",
      "\u001b[34mEpoch: 229, Training MSE: 0.00433502, Training MAE: 0.03186123\u001b[0m\n",
      "\u001b[34mEpoch: 230, Training MSE: 0.00465771, Training MAE: 0.03271701\u001b[0m\n",
      "\u001b[34mEpoch: 231, Training MSE: 0.00506792, Training MAE: 0.03356792\u001b[0m\n",
      "\u001b[34mEpoch: 232, Training MSE: 0.00401425, Training MAE: 0.03014283\u001b[0m\n",
      "\u001b[34mEpoch: 233, Training MSE: 0.00442803, Training MAE: 0.03120405\u001b[0m\n",
      "\u001b[34mEpoch: 234, Training MSE: 0.00672353, Training MAE: 0.03895641\u001b[0m\n",
      "\u001b[34mEpoch: 235, Training MSE: 0.01263097, Training MAE: 0.06629556\u001b[0m\n",
      "\u001b[34mEpoch: 236, Training MSE: 0.01258721, Training MAE: 0.06427912\u001b[0m\n",
      "\u001b[34mEpoch: 237, Training MSE: 0.01069202, Training MAE: 0.05452591\u001b[0m\n",
      "\u001b[34mEpoch: 238, Training MSE: 0.00972885, Training MAE: 0.05354647\u001b[0m\n",
      "\u001b[34mEpoch: 239, Training MSE: 0.00941289, Training MAE: 0.05032992\u001b[0m\n",
      "\u001b[34mEpoch: 240, Training MSE: 0.00893268, Training MAE: 0.04914587\u001b[0m\n",
      "\u001b[34mEpoch: 241, Training MSE: 0.00867465, Training MAE: 0.04893677\u001b[0m\n",
      "\u001b[34mEpoch: 242, Training MSE: 0.00835807, Training MAE: 0.04690094\u001b[0m\n",
      "\u001b[34mEpoch: 243, Training MSE: 0.00814989, Training MAE: 0.04588926\u001b[0m\n",
      "\u001b[34mEpoch: 244, Training MSE: 0.00802823, Training MAE: 0.04359080\u001b[0m\n",
      "\u001b[34mEpoch: 245, Training MSE: 0.00779071, Training MAE: 0.04467066\u001b[0m\n",
      "\u001b[34mEpoch: 246, Training MSE: 0.00751419, Training MAE: 0.04331474\u001b[0m\n",
      "\u001b[34mEpoch: 247, Training MSE: 0.00731858, Training MAE: 0.04214929\u001b[0m\n",
      "\u001b[34mEpoch: 248, Training MSE: 0.00691158, Training MAE: 0.04051803\u001b[0m\n",
      "\u001b[34mEpoch: 249, Training MSE: 0.00814470, Training MAE: 0.04487598\u001b[0m\n",
      "\u001b[34mEpoch: 250, Training MSE: 0.00684195, Training MAE: 0.04129016\u001b[0m\n",
      "\u001b[34mEpoch: 251, Training MSE: 0.00666640, Training MAE: 0.04368658\u001b[0m\n",
      "\u001b[34mEpoch: 252, Training MSE: 0.00612017, Training MAE: 0.04108276\u001b[0m\n",
      "\u001b[34mEpoch: 253, Training MSE: 0.00601762, Training MAE: 0.03857122\u001b[0m\n",
      "\u001b[34mEpoch: 254, Training MSE: 0.00737387, Training MAE: 0.04511331\u001b[0m\n",
      "\u001b[34mEpoch: 255, Training MSE: 0.00708637, Training MAE: 0.04139382\u001b[0m\n",
      "\u001b[34mEpoch: 256, Training MSE: 0.00593070, Training MAE: 0.03990718\u001b[0m\n",
      "\u001b[34mEpoch: 257, Training MSE: 0.00662885, Training MAE: 0.04253251\u001b[0m\n",
      "\u001b[34mEpoch: 258, Training MSE: 0.00588455, Training MAE: 0.03954881\u001b[0m\n",
      "\u001b[34mEpoch: 259, Training MSE: 0.00548748, Training MAE: 0.03673750\u001b[0m\n",
      "\u001b[34mEpoch: 260, Training MSE: 0.00509624, Training MAE: 0.03448056\u001b[0m\n",
      "\u001b[34mEpoch: 261, Training MSE: 0.00489446, Training MAE: 0.03355045\u001b[0m\n",
      "\u001b[34mEpoch: 262, Training MSE: 0.00480269, Training MAE: 0.03362166\u001b[0m\n",
      "\u001b[34mEpoch: 263, Training MSE: 0.00475249, Training MAE: 0.03309502\u001b[0m\n",
      "\u001b[34mEpoch: 264, Training MSE: 0.00519679, Training MAE: 0.03730468\u001b[0m\n",
      "\u001b[34mEpoch: 265, Training MSE: 0.00487210, Training MAE: 0.03351330\u001b[0m\n",
      "\u001b[34mEpoch: 266, Training MSE: 0.00523225, Training MAE: 0.03373715\u001b[0m\n",
      "\u001b[34mEpoch: 267, Training MSE: 0.00441829, Training MAE: 0.03174116\u001b[0m\n",
      "\u001b[34mEpoch: 268, Training MSE: 0.00449398, Training MAE: 0.03145194\u001b[0m\n",
      "\u001b[34mEpoch: 269, Training MSE: 0.00500173, Training MAE: 0.03283672\u001b[0m\n",
      "\u001b[34mEpoch: 270, Training MSE: 0.00569999, Training MAE: 0.03697748\u001b[0m\n",
      "\u001b[34mEpoch: 271, Training MSE: 0.00583338, Training MAE: 0.03811132\u001b[0m\n",
      "\u001b[34mEpoch: 272, Training MSE: 0.00477881, Training MAE: 0.03550037\u001b[0m\n",
      "\u001b[34mEpoch: 273, Training MSE: 0.00436954, Training MAE: 0.03332928\u001b[0m\n",
      "\u001b[34mEpoch: 274, Training MSE: 0.00437724, Training MAE: 0.03144357\u001b[0m\n",
      "\u001b[34mEpoch: 275, Training MSE: 0.00421267, Training MAE: 0.03109239\u001b[0m\n",
      "\u001b[34mEpoch: 276, Training MSE: 0.00399164, Training MAE: 0.02931410\u001b[0m\n",
      "\u001b[34mEpoch: 277, Training MSE: 0.00491344, Training MAE: 0.03306443\u001b[0m\n",
      "\u001b[34mEpoch: 278, Training MSE: 0.00387415, Training MAE: 0.02959401\u001b[0m\n",
      "\u001b[34mEpoch: 279, Training MSE: 0.00420118, Training MAE: 0.03159308\u001b[0m\n",
      "\u001b[34mEpoch: 280, Training MSE: 0.00403563, Training MAE: 0.03038918\u001b[0m\n",
      "\u001b[34mEpoch: 281, Training MSE: 0.00394916, Training MAE: 0.02899985\u001b[0m\n",
      "\u001b[34mEpoch: 282, Training MSE: 0.00379650, Training MAE: 0.02926555\u001b[0m\n",
      "\u001b[34mEpoch: 283, Training MSE: 0.00382960, Training MAE: 0.02865588\u001b[0m\n",
      "\u001b[34mEpoch: 284, Training MSE: 0.00385335, Training MAE: 0.02813856\u001b[0m\n",
      "\u001b[34mEpoch: 285, Training MSE: 0.00371931, Training MAE: 0.02799980\u001b[0m\n",
      "\u001b[34mEpoch: 286, Training MSE: 0.00400834, Training MAE: 0.02859533\u001b[0m\n",
      "\u001b[34mEpoch: 287, Training MSE: 0.00368056, Training MAE: 0.02771244\u001b[0m\n",
      "\u001b[34mEpoch: 288, Training MSE: 0.00425798, Training MAE: 0.02895442\u001b[0m\n",
      "\u001b[34mEpoch: 289, Training MSE: 0.00380544, Training MAE: 0.02783907\u001b[0m\n",
      "\u001b[34mEpoch: 290, Training MSE: 0.00446925, Training MAE: 0.03079102\u001b[0m\n",
      "\u001b[34mEpoch: 291, Training MSE: 0.00413854, Training MAE: 0.03069633\u001b[0m\n",
      "\u001b[34mEpoch: 292, Training MSE: 0.00416259, Training MAE: 0.03039050\u001b[0m\n",
      "\u001b[34mEpoch: 293, Training MSE: 0.00369285, Training MAE: 0.02788025\u001b[0m\n",
      "\u001b[34mEpoch: 294, Training MSE: 0.00387814, Training MAE: 0.02782176\u001b[0m\n",
      "\u001b[34mEpoch: 295, Training MSE: 0.00350046, Training MAE: 0.02704274\u001b[0m\n",
      "\u001b[34mEpoch: 296, Training MSE: 0.00365223, Training MAE: 0.02727141\u001b[0m\n",
      "\u001b[34mEpoch: 297, Training MSE: 0.00338577, Training MAE: 0.02584924\u001b[0m\n",
      "\u001b[34mEpoch: 298, Training MSE: 0.00492186, Training MAE: 0.03106878\u001b[0m\n",
      "\u001b[34mEpoch: 299, Training MSE: 0.00388350, Training MAE: 0.02878183\u001b[0m\n",
      "\u001b[34mEpoch: 300, Training MSE: 0.00372175, Training MAE: 0.02791165\u001b[0m\n",
      "\u001b[34mEpoch: 301, Training MSE: 0.00358767, Training MAE: 0.02658798\u001b[0m\n",
      "\u001b[34mEpoch: 302, Training MSE: 0.00401828, Training MAE: 0.02826687\u001b[0m\n",
      "\u001b[34mEpoch: 303, Training MSE: 0.00356443, Training MAE: 0.02718415\u001b[0m\n",
      "\u001b[34mEpoch: 304, Training MSE: 0.00418112, Training MAE: 0.02943572\u001b[0m\n",
      "\u001b[34mEpoch: 305, Training MSE: 0.00360655, Training MAE: 0.02677166\u001b[0m\n",
      "\u001b[34mEpoch: 306, Training MSE: 0.00338210, Training MAE: 0.02621632\u001b[0m\n",
      "\u001b[34mEpoch: 307, Training MSE: 0.00347928, Training MAE: 0.02677945\u001b[0m\n",
      "\u001b[34mEpoch: 308, Training MSE: 0.00339831, Training MAE: 0.02654266\u001b[0m\n",
      "\u001b[34mEpoch: 309, Training MSE: 0.00342678, Training MAE: 0.02603424\u001b[0m\n",
      "\u001b[34mEpoch: 310, Training MSE: 0.00393378, Training MAE: 0.02893308\u001b[0m\n",
      "\u001b[34mEpoch: 311, Training MSE: 0.00364141, Training MAE: 0.02752276\u001b[0m\n",
      "\u001b[34mEpoch: 312, Training MSE: 0.00329631, Training MAE: 0.02597733\u001b[0m\n",
      "\u001b[34mEpoch: 313, Training MSE: 0.00334287, Training MAE: 0.02517926\u001b[0m\n",
      "\u001b[34mEpoch: 314, Training MSE: 0.00321235, Training MAE: 0.02579655\u001b[0m\n",
      "\u001b[34mEpoch: 315, Training MSE: 0.00331756, Training MAE: 0.02685103\u001b[0m\n",
      "\u001b[34mEpoch: 316, Training MSE: 0.00348400, Training MAE: 0.02742511\u001b[0m\n",
      "\u001b[34mEpoch: 317, Training MSE: 0.00363571, Training MAE: 0.02756171\u001b[0m\n",
      "\u001b[34mEpoch: 318, Training MSE: 0.00343442, Training MAE: 0.02776730\u001b[0m\n",
      "\u001b[34mEpoch: 319, Training MSE: 0.00345409, Training MAE: 0.02600639\u001b[0m\n",
      "\u001b[34mEpoch: 320, Training MSE: 0.00341019, Training MAE: 0.02625214\u001b[0m\n",
      "\u001b[34mEpoch: 321, Training MSE: 0.00337630, Training MAE: 0.02570532\u001b[0m\n",
      "\u001b[34mEpoch: 322, Training MSE: 0.00337841, Training MAE: 0.02675182\u001b[0m\n",
      "\u001b[34mEpoch: 323, Training MSE: 0.00321495, Training MAE: 0.02610478\u001b[0m\n",
      "\u001b[34mEpoch: 324, Training MSE: 0.00321464, Training MAE: 0.02620768\u001b[0m\n",
      "\u001b[34mEpoch: 325, Training MSE: 0.00378901, Training MAE: 0.02753185\u001b[0m\n",
      "\u001b[34mEpoch: 326, Training MSE: 0.00329142, Training MAE: 0.02745359\u001b[0m\n",
      "\u001b[34mEpoch: 327, Training MSE: 0.00323252, Training MAE: 0.02551444\u001b[0m\n",
      "\u001b[34mEpoch: 328, Training MSE: 0.00560615, Training MAE: 0.03413488\u001b[0m\n",
      "\u001b[34mEpoch: 329, Training MSE: 0.00435898, Training MAE: 0.03001529\u001b[0m\n",
      "\u001b[34mEpoch: 330, Training MSE: 0.00417037, Training MAE: 0.03135427\u001b[0m\n",
      "\u001b[34mEpoch: 331, Training MSE: 0.00388424, Training MAE: 0.02956469\u001b[0m\n",
      "\u001b[34mEpoch: 332, Training MSE: 0.00375284, Training MAE: 0.02848862\u001b[0m\n",
      "\u001b[34mEpoch: 333, Training MSE: 0.00427754, Training MAE: 0.03125013\u001b[0m\n",
      "\u001b[34mEpoch: 334, Training MSE: 0.00368443, Training MAE: 0.02850966\u001b[0m\n",
      "\u001b[34mEpoch: 335, Training MSE: 0.00356453, Training MAE: 0.02935961\u001b[0m\n",
      "\u001b[34mEpoch: 336, Training MSE: 0.00409074, Training MAE: 0.02865664\u001b[0m\n",
      "\u001b[34mEpoch: 337, Training MSE: 0.00349109, Training MAE: 0.02714517\u001b[0m\n",
      "\u001b[34mEpoch: 338, Training MSE: 0.00364530, Training MAE: 0.02852720\u001b[0m\n",
      "\u001b[34mEpoch: 339, Training MSE: 0.00355707, Training MAE: 0.02875156\u001b[0m\n",
      "\u001b[34mEpoch: 340, Training MSE: 0.00342838, Training MAE: 0.02581369\u001b[0m\n",
      "\u001b[34mEpoch: 341, Training MSE: 0.00310209, Training MAE: 0.02497989\u001b[0m\n",
      "\u001b[34mEpoch: 342, Training MSE: 0.00302355, Training MAE: 0.02438382\u001b[0m\n",
      "\u001b[34mEpoch: 343, Training MSE: 0.00299127, Training MAE: 0.02434463\u001b[0m\n",
      "\u001b[34mEpoch: 344, Training MSE: 0.00324149, Training MAE: 0.02482555\u001b[0m\n",
      "\u001b[34mEpoch: 345, Training MSE: 0.00335451, Training MAE: 0.02590013\u001b[0m\n",
      "\u001b[34mEpoch: 346, Training MSE: 0.00309393, Training MAE: 0.02436697\u001b[0m\n",
      "\u001b[34mEpoch: 347, Training MSE: 0.00343249, Training MAE: 0.02683894\u001b[0m\n",
      "\u001b[34mEpoch: 348, Training MSE: 0.00304345, Training MAE: 0.02501377\u001b[0m\n",
      "\u001b[34mEpoch: 349, Training MSE: 0.00454721, Training MAE: 0.02900720\u001b[0m\n",
      "\u001b[34mEpoch: 350, Training MSE: 0.00358201, Training MAE: 0.02759876\u001b[0m\n",
      "\u001b[34mEpoch: 351, Training MSE: 0.00384888, Training MAE: 0.02727568\u001b[0m\n",
      "\u001b[34mEpoch: 352, Training MSE: 0.00372026, Training MAE: 0.02788226\u001b[0m\n",
      "\u001b[34mEpoch: 353, Training MSE: 0.00326268, Training MAE: 0.02615484\u001b[0m\n",
      "\u001b[34mEpoch: 354, Training MSE: 0.00304235, Training MAE: 0.02567720\u001b[0m\n",
      "\u001b[34mEpoch: 355, Training MSE: 0.00302376, Training MAE: 0.02473141\u001b[0m\n",
      "\u001b[34mEpoch: 356, Training MSE: 0.00314414, Training MAE: 0.02521790\u001b[0m\n",
      "\u001b[34mEpoch: 357, Training MSE: 0.00355098, Training MAE: 0.02588488\u001b[0m\n",
      "\u001b[34mEpoch: 358, Training MSE: 0.00316688, Training MAE: 0.02515682\u001b[0m\n",
      "\u001b[34mEpoch: 359, Training MSE: 0.00325139, Training MAE: 0.02626787\u001b[0m\n",
      "\u001b[34mEpoch: 360, Training MSE: 0.00366641, Training MAE: 0.02651590\u001b[0m\n",
      "\u001b[34mEpoch: 361, Training MSE: 0.00455600, Training MAE: 0.03444351\u001b[0m\n",
      "\u001b[34mEpoch: 362, Training MSE: 0.00339076, Training MAE: 0.02823325\u001b[0m\n",
      "\u001b[34mEpoch: 363, Training MSE: 0.00334492, Training MAE: 0.02667804\u001b[0m\n",
      "\u001b[34mEpoch: 364, Training MSE: 0.00343682, Training MAE: 0.02628549\u001b[0m\n",
      "\u001b[34mEpoch: 365, Training MSE: 0.00328433, Training MAE: 0.02574401\u001b[0m\n",
      "\u001b[34mEpoch: 366, Training MSE: 0.00308757, Training MAE: 0.02556792\u001b[0m\n",
      "\u001b[34mEpoch: 367, Training MSE: 0.00293726, Training MAE: 0.02559747\u001b[0m\n",
      "\u001b[34mEpoch: 368, Training MSE: 0.00318099, Training MAE: 0.02638174\u001b[0m\n",
      "\u001b[34mEpoch: 369, Training MSE: 0.00284353, Training MAE: 0.02404067\u001b[0m\n",
      "\u001b[34mEpoch: 370, Training MSE: 0.00300133, Training MAE: 0.02440375\u001b[0m\n",
      "\u001b[34mEpoch: 371, Training MSE: 0.00280834, Training MAE: 0.02357370\u001b[0m\n",
      "\u001b[34mEpoch: 372, Training MSE: 0.00323284, Training MAE: 0.02576405\u001b[0m\n",
      "\u001b[34mEpoch: 373, Training MSE: 0.00306193, Training MAE: 0.02457710\u001b[0m\n",
      "\u001b[34mEpoch: 374, Training MSE: 0.00347599, Training MAE: 0.02750798\u001b[0m\n",
      "\u001b[34mEpoch: 375, Training MSE: 0.00413358, Training MAE: 0.03007343\u001b[0m\n",
      "\u001b[34mEpoch: 376, Training MSE: 0.00349180, Training MAE: 0.02698076\u001b[0m\n",
      "\u001b[34mEpoch: 377, Training MSE: 0.00312681, Training MAE: 0.02771520\u001b[0m\n",
      "\u001b[34mEpoch: 378, Training MSE: 0.00322485, Training MAE: 0.02739610\u001b[0m\n",
      "\u001b[34mEpoch: 379, Training MSE: 0.00296528, Training MAE: 0.02555214\u001b[0m\n",
      "\u001b[34mEpoch: 380, Training MSE: 0.00279740, Training MAE: 0.02455624\u001b[0m\n",
      "\u001b[34mEpoch: 381, Training MSE: 0.00265937, Training MAE: 0.02280246\u001b[0m\n",
      "\u001b[34mEpoch: 382, Training MSE: 0.00294171, Training MAE: 0.02415100\u001b[0m\n",
      "\u001b[34mEpoch: 383, Training MSE: 0.00266638, Training MAE: 0.02309591\u001b[0m\n",
      "\u001b[34mEpoch: 384, Training MSE: 0.00310796, Training MAE: 0.02555320\u001b[0m\n",
      "\u001b[34mEpoch: 385, Training MSE: 0.00277445, Training MAE: 0.02370857\u001b[0m\n",
      "\u001b[34mEpoch: 386, Training MSE: 0.00274068, Training MAE: 0.02394481\u001b[0m\n",
      "\u001b[34mEpoch: 387, Training MSE: 0.00289420, Training MAE: 0.02424271\u001b[0m\n",
      "\u001b[34mEpoch: 388, Training MSE: 0.00268194, Training MAE: 0.02379776\u001b[0m\n",
      "\u001b[34mEpoch: 389, Training MSE: 0.00375539, Training MAE: 0.03006064\u001b[0m\n",
      "\u001b[34mEpoch: 390, Training MSE: 0.00396687, Training MAE: 0.03257825\u001b[0m\n",
      "\u001b[34mEpoch: 391, Training MSE: 0.00386020, Training MAE: 0.03103070\u001b[0m\n",
      "\u001b[34mEpoch: 392, Training MSE: 0.00335719, Training MAE: 0.02884126\u001b[0m\n",
      "\u001b[34mEpoch: 393, Training MSE: 0.00300138, Training MAE: 0.02509676\u001b[0m\n",
      "\u001b[34mEpoch: 394, Training MSE: 0.00318487, Training MAE: 0.02667225\u001b[0m\n",
      "\u001b[34mEpoch: 395, Training MSE: 0.00289499, Training MAE: 0.02459864\u001b[0m\n",
      "\u001b[34mEpoch: 396, Training MSE: 0.00314876, Training MAE: 0.02773393\u001b[0m\n",
      "\u001b[34mEpoch: 397, Training MSE: 0.00299641, Training MAE: 0.02574229\u001b[0m\n",
      "\u001b[34mEpoch: 398, Training MSE: 0.00272864, Training MAE: 0.02367372\u001b[0m\n",
      "\u001b[34mEpoch: 399, Training MSE: 0.00291943, Training MAE: 0.02529739\u001b[0m\n",
      "\u001b[34mEpoch: 400, Training MSE: 0.00348912, Training MAE: 0.02668425\u001b[0m\n",
      "\u001b[34mEpoch: 401, Training MSE: 0.00350701, Training MAE: 0.02786505\u001b[0m\n",
      "\u001b[34mEpoch: 402, Training MSE: 0.00327052, Training MAE: 0.02757042\u001b[0m\n",
      "\u001b[34mEpoch: 403, Training MSE: 0.00375119, Training MAE: 0.03000904\u001b[0m\n",
      "\u001b[34mEpoch: 404, Training MSE: 0.00336827, Training MAE: 0.02721171\u001b[0m\n",
      "\u001b[34mEpoch: 405, Training MSE: 0.00300188, Training MAE: 0.02548593\u001b[0m\n",
      "\u001b[34mEpoch: 406, Training MSE: 0.00278053, Training MAE: 0.02411664\u001b[0m\n",
      "\u001b[34mEpoch: 407, Training MSE: 0.00322910, Training MAE: 0.02441901\u001b[0m\n",
      "\u001b[34mEpoch: 408, Training MSE: 0.00269789, Training MAE: 0.02336051\u001b[0m\n",
      "\u001b[34mEpoch: 409, Training MSE: 0.00290178, Training MAE: 0.02463042\u001b[0m\n",
      "\u001b[34mEpoch: 410, Training MSE: 0.00269533, Training MAE: 0.02485090\u001b[0m\n",
      "\u001b[34mEpoch: 411, Training MSE: 0.00259582, Training MAE: 0.02259320\u001b[0m\n",
      "\u001b[34mEpoch: 412, Training MSE: 0.00236727, Training MAE: 0.02165519\u001b[0m\n",
      "\u001b[34mEpoch: 413, Training MSE: 0.00252255, Training MAE: 0.02342786\u001b[0m\n",
      "\u001b[34mEpoch: 414, Training MSE: 0.00242195, Training MAE: 0.02262045\u001b[0m\n",
      "\u001b[34mEpoch: 415, Training MSE: 0.00230628, Training MAE: 0.02205948\u001b[0m\n",
      "\u001b[34mEpoch: 416, Training MSE: 0.00340628, Training MAE: 0.02576152\u001b[0m\n",
      "\u001b[34mEpoch: 417, Training MSE: 0.00272524, Training MAE: 0.02644502\u001b[0m\n",
      "\u001b[34mEpoch: 418, Training MSE: 0.00300591, Training MAE: 0.02906718\u001b[0m\n",
      "\u001b[34mEpoch: 419, Training MSE: 0.00284032, Training MAE: 0.02528984\u001b[0m\n",
      "\u001b[34mEpoch: 420, Training MSE: 0.00358955, Training MAE: 0.02586153\u001b[0m\n",
      "\u001b[34mEpoch: 421, Training MSE: 0.00272122, Training MAE: 0.02354648\u001b[0m\n",
      "\u001b[34mEpoch: 422, Training MSE: 0.00350630, Training MAE: 0.02694723\u001b[0m\n",
      "\u001b[34mEpoch: 423, Training MSE: 0.00282938, Training MAE: 0.02523703\u001b[0m\n",
      "\u001b[34mEpoch: 424, Training MSE: 0.00300807, Training MAE: 0.02487815\u001b[0m\n",
      "\u001b[34mEpoch: 425, Training MSE: 0.00283431, Training MAE: 0.02448368\u001b[0m\n",
      "\u001b[34mEpoch: 426, Training MSE: 0.00301166, Training MAE: 0.02507664\u001b[0m\n",
      "\u001b[34mEpoch: 427, Training MSE: 0.00301841, Training MAE: 0.02487404\u001b[0m\n",
      "\u001b[34mEpoch: 428, Training MSE: 0.00256704, Training MAE: 0.02311658\u001b[0m\n",
      "\u001b[34mEpoch: 429, Training MSE: 0.00359453, Training MAE: 0.02825873\u001b[0m\n",
      "\u001b[34mEpoch: 430, Training MSE: 0.00263650, Training MAE: 0.02422522\u001b[0m\n",
      "\u001b[34mEpoch: 431, Training MSE: 0.00241384, Training MAE: 0.02265797\u001b[0m\n",
      "\u001b[34mEpoch: 432, Training MSE: 0.00228543, Training MAE: 0.02232687\u001b[0m\n",
      "\u001b[34mEpoch: 433, Training MSE: 0.00220774, Training MAE: 0.02290132\u001b[0m\n",
      "\u001b[34mEpoch: 434, Training MSE: 0.00338195, Training MAE: 0.03015217\u001b[0m\n",
      "\u001b[34mEpoch: 435, Training MSE: 0.00286832, Training MAE: 0.02424121\u001b[0m\n",
      "\u001b[34mEpoch: 436, Training MSE: 0.00254159, Training MAE: 0.02441704\u001b[0m\n",
      "\u001b[34mEpoch: 437, Training MSE: 0.00233598, Training MAE: 0.02341086\u001b[0m\n",
      "\u001b[34mEpoch: 438, Training MSE: 0.00227412, Training MAE: 0.02454096\u001b[0m\n",
      "\u001b[34mEpoch: 439, Training MSE: 0.00343071, Training MAE: 0.02821987\u001b[0m\n",
      "\u001b[34mEpoch: 440, Training MSE: 0.00259449, Training MAE: 0.02506659\u001b[0m\n",
      "\u001b[34mEpoch: 441, Training MSE: 0.00463931, Training MAE: 0.03424131\u001b[0m\n",
      "\u001b[34mEpoch: 442, Training MSE: 0.00321802, Training MAE: 0.02794724\u001b[0m\n",
      "\u001b[34mEpoch: 443, Training MSE: 0.00262469, Training MAE: 0.02459911\u001b[0m\n",
      "\u001b[34mEpoch: 444, Training MSE: 0.00296945, Training MAE: 0.02651455\u001b[0m\n",
      "\u001b[34mEpoch: 445, Training MSE: 0.00354706, Training MAE: 0.03095266\u001b[0m\n",
      "\u001b[34mEpoch: 446, Training MSE: 0.00401106, Training MAE: 0.03493589\u001b[0m\n",
      "\u001b[34mEpoch: 447, Training MSE: 0.00677919, Training MAE: 0.04804612\u001b[0m\n",
      "\u001b[34mEpoch: 448, Training MSE: 0.00643954, Training MAE: 0.04657064\u001b[0m\n",
      "\u001b[34mEpoch: 449, Training MSE: 0.00787656, Training MAE: 0.04757794\u001b[0m\n",
      "\u001b[34mEpoch: 450, Training MSE: 0.00553625, Training MAE: 0.03975774\u001b[0m\n",
      "\u001b[34mEpoch: 451, Training MSE: 0.00464508, Training MAE: 0.03630131\u001b[0m\n",
      "\u001b[34mEpoch: 452, Training MSE: 0.00407655, Training MAE: 0.03279229\u001b[0m\n",
      "\u001b[34mEpoch: 453, Training MSE: 0.00365027, Training MAE: 0.02927756\u001b[0m\n",
      "\u001b[34mEpoch: 454, Training MSE: 0.00324033, Training MAE: 0.02783316\u001b[0m\n",
      "\u001b[34mEpoch: 455, Training MSE: 0.00372169, Training MAE: 0.02827123\u001b[0m\n",
      "\u001b[34mEpoch: 456, Training MSE: 0.00297411, Training MAE: 0.02563195\u001b[0m\n",
      "\u001b[34mEpoch: 457, Training MSE: 0.00366226, Training MAE: 0.02724740\u001b[0m\n",
      "\u001b[34mEpoch: 458, Training MSE: 0.00289229, Training MAE: 0.02598010\u001b[0m\n",
      "\u001b[34mEpoch: 459, Training MSE: 0.00298559, Training MAE: 0.02515903\u001b[0m\n",
      "\u001b[34mEpoch: 460, Training MSE: 0.00277068, Training MAE: 0.02482718\u001b[0m\n",
      "\u001b[34mEpoch: 461, Training MSE: 0.00302287, Training MAE: 0.02607747\u001b[0m\n",
      "\u001b[34mEpoch: 462, Training MSE: 0.00275805, Training MAE: 0.02478884\u001b[0m\n",
      "\u001b[34mEpoch: 463, Training MSE: 0.00260157, Training MAE: 0.02393741\u001b[0m\n",
      "\u001b[34mEpoch: 464, Training MSE: 0.00348019, Training MAE: 0.02690472\u001b[0m\n",
      "\u001b[34mEpoch: 465, Training MSE: 0.00276443, Training MAE: 0.02425176\u001b[0m\n",
      "\u001b[34mEpoch: 466, Training MSE: 0.00261704, Training MAE: 0.02387542\u001b[0m\n",
      "\u001b[34mEpoch: 467, Training MSE: 0.00237905, Training MAE: 0.02288648\u001b[0m\n",
      "\u001b[34mEpoch: 468, Training MSE: 0.00359395, Training MAE: 0.02873634\u001b[0m\n",
      "\u001b[34mEpoch: 469, Training MSE: 0.00291280, Training MAE: 0.02600008\u001b[0m\n",
      "\u001b[34mEpoch: 470, Training MSE: 0.00226360, Training MAE: 0.02307449\u001b[0m\n",
      "\u001b[34mEpoch: 471, Training MSE: 0.00276752, Training MAE: 0.02444176\u001b[0m\n",
      "\u001b[34mEpoch: 472, Training MSE: 0.00246907, Training MAE: 0.02270304\u001b[0m\n",
      "\u001b[34mEpoch: 473, Training MSE: 0.00246786, Training MAE: 0.02297651\u001b[0m\n",
      "\u001b[34mEpoch: 474, Training MSE: 0.00254237, Training MAE: 0.02371286\u001b[0m\n",
      "\u001b[34mEpoch: 475, Training MSE: 0.00245849, Training MAE: 0.02318618\u001b[0m\n",
      "\u001b[34mEpoch: 476, Training MSE: 0.00294193, Training MAE: 0.02576361\u001b[0m\n",
      "\u001b[34mEpoch: 477, Training MSE: 0.00215119, Training MAE: 0.02213660\u001b[0m\n",
      "\u001b[34mEpoch: 478, Training MSE: 0.00214969, Training MAE: 0.02336026\u001b[0m\n",
      "\u001b[34mEpoch: 479, Training MSE: 0.00228804, Training MAE: 0.02326715\u001b[0m\n",
      "\u001b[34mEpoch: 480, Training MSE: 0.00216649, Training MAE: 0.02169487\u001b[0m\n",
      "\u001b[34mEpoch: 481, Training MSE: 0.00202495, Training MAE: 0.02105763\u001b[0m\n",
      "\u001b[34mEpoch: 482, Training MSE: 0.00222359, Training MAE: 0.02318970\u001b[0m\n",
      "\u001b[34mEpoch: 483, Training MSE: 0.00199704, Training MAE: 0.02084358\u001b[0m\n",
      "\u001b[34mEpoch: 484, Training MSE: 0.00206236, Training MAE: 0.02144851\u001b[0m\n",
      "\u001b[34mEpoch: 485, Training MSE: 0.00200694, Training MAE: 0.02080729\u001b[0m\n",
      "\u001b[34mEpoch: 486, Training MSE: 0.00206067, Training MAE: 0.02148290\u001b[0m\n",
      "\u001b[34mEpoch: 487, Training MSE: 0.00194544, Training MAE: 0.02079239\u001b[0m\n",
      "\u001b[34mEpoch: 488, Training MSE: 0.00228587, Training MAE: 0.02279948\u001b[0m\n",
      "\u001b[34mEpoch: 489, Training MSE: 0.00200319, Training MAE: 0.02073334\u001b[0m\n",
      "\u001b[34mEpoch: 490, Training MSE: 0.00179469, Training MAE: 0.02001667\u001b[0m\n",
      "\u001b[34mEpoch: 491, Training MSE: 0.00215812, Training MAE: 0.02315514\u001b[0m\n",
      "\u001b[34mEpoch: 492, Training MSE: 0.00270171, Training MAE: 0.02535066\u001b[0m\n",
      "\u001b[34mEpoch: 493, Training MSE: 0.00242420, Training MAE: 0.02376576\u001b[0m\n",
      "\u001b[34mEpoch: 494, Training MSE: 0.00249563, Training MAE: 0.02260014\u001b[0m\n",
      "\u001b[34mEpoch: 495, Training MSE: 0.00214627, Training MAE: 0.02094853\u001b[0m\n",
      "\u001b[34mEpoch: 496, Training MSE: 0.00207746, Training MAE: 0.02090260\u001b[0m\n",
      "\u001b[34mEpoch: 497, Training MSE: 0.00199320, Training MAE: 0.02184247\u001b[0m\n",
      "\u001b[34mEpoch: 498, Training MSE: 0.00229375, Training MAE: 0.02317631\u001b[0m\n",
      "\n",
      "2023-09-16 19:15:51 Uploading - Uploading generated training model\u001b[34mEpoch: 499, Training MSE: 0.00197640, Training MAE: 0.02146457\u001b[0m\n",
      "\u001b[34mEpoch: 500, Training MSE: 0.00183063, Training MAE: 0.02215786\u001b[0m\n",
      "\u001b[34m--------------------------------------\u001b[0m\n",
      "\u001b[34mScoring the model.\u001b[0m\n",
      "\u001b[34mtrain:mse 0.00183063\u001b[0m\n",
      "\u001b[34mtrain:mae 0.02215786\u001b[0m\n",
      "\u001b[34m--------------------------------------\u001b[0m\n",
      "\u001b[34m2023-09-16 19:15:48,947 sagemaker-training-toolkit INFO     Waiting for the process to finish and give a return code.\u001b[0m\n",
      "\u001b[34m2023-09-16 19:15:48,947 sagemaker-training-toolkit INFO     Done waiting for a return code. Received 0 from exiting process.\u001b[0m\n",
      "\u001b[34m2023-09-16 19:15:48,948 sagemaker-training-toolkit INFO     Reporting training SUCCESS\u001b[0m\n",
      "\n",
      "2023-09-16 19:16:02 Completed - Training job completed\n",
      "Training seconds: 1377\n",
      "Billable seconds: 1377\n"
     ]
    }
   ],
   "source": [
    "estimator = sagemaker.algorithm.AlgorithmEstimator(\n",
    "    algorithm_arn=algo_arn,\n",
    "    role=role,\n",
    "    instance_count=1,\n",
    "    instance_type=instance_type,\n",
    "    input_mode=\"File\",\n",
    "    sagemaker_session=sagemaker_session,\n",
    "    hyperparameters={\n",
    "        \"context-length\": 200,\n",
    "        \"prediction-length\": 100,\n",
    "        \"sequence-stride\": 100,\n",
    "        \"hidden-size\": 256,\n",
    "        \"num-layers\": 2,\n",
    "        \"dropout\": 0.8,\n",
    "        \"lr\": 0.001,\n",
    "        \"batch-size\": 16,\n",
    "        \"epochs\": 500,\n",
    "    }\n",
    ")\n",
    "\n",
    "estimator.fit({\"training\": training_data})"
   ]
  },
  {
   "cell_type": "markdown",
   "id": "929a3d35-a4ba-4a39-a7b0-8dbd4f9c2601",
   "metadata": {},
   "source": [
    "### 4. Inference"
   ]
  },
  {
   "cell_type": "markdown",
   "id": "8aecf50e-4c75-4273-a6c3-ce7004a8220b",
   "metadata": {},
   "source": [
    "Generate the test set predictions."
   ]
  },
  {
   "cell_type": "code",
   "execution_count": 18,
   "id": "a4657c35-0687-413a-829c-a028e6a9e9d7",
   "metadata": {},
   "outputs": [
    {
     "name": "stderr",
     "output_type": "stream",
     "text": [
      "INFO:sagemaker:Creating model package with name: lstm-ad-algo-v1-7-2023-09-16-19-16-40-988\n"
     ]
    },
    {
     "name": "stdout",
     "output_type": "stream",
     "text": [
      "........."
     ]
    },
    {
     "name": "stderr",
     "output_type": "stream",
     "text": [
      "INFO:sagemaker:Creating model with name: lstm-ad-algo-v1-7-2023-09-16-19-16-40-9-2023-09-16-19-17-26-459\n"
     ]
    },
    {
     "name": "stdout",
     "output_type": "stream",
     "text": [
      "\n"
     ]
    },
    {
     "name": "stderr",
     "output_type": "stream",
     "text": [
      "INFO:sagemaker:Creating transform job with name: lstm-ad-algo-v1-7-2023-09-16-19-17-27-199\n"
     ]
    },
    {
     "name": "stdout",
     "output_type": "stream",
     "text": [
      "............................................\u001b[34mWarning: TorchServe is using non-default JVM parameters: -XX:-UseContainerSupport\u001b[0m\n",
      "\u001b[34mWARNING: sun.reflect.Reflection.getCallerClass is not supported. This will impact performance.\u001b[0m\n",
      "\u001b[34m2023-09-16T19:24:50,667 [WARN ] main org.pytorch.serve.util.ConfigManager - Your torchserve instance can access any URL to load models. When deploying to production, make sure to limit the set of allowed_urls in config.properties\u001b[0m\n",
      "\u001b[34m2023-09-16T19:24:50,670 [INFO ] main org.pytorch.serve.servingsdk.impl.PluginsManager - Initializing plugins manager...\u001b[0m\n",
      "\u001b[34m2023-09-16T19:24:50,736 [INFO ] main org.pytorch.serve.metrics.configuration.MetricConfiguration - Successfully loaded metrics configuration from /opt/conda/lib/python3.10/site-packages/ts/configs/metrics.yaml\u001b[0m\n",
      "\u001b[34m2023-09-16T19:24:50,846 [INFO ] main org.pytorch.serve.ModelServer - \u001b[0m\n",
      "\u001b[34mTorchserve version: 0.8.2\u001b[0m\n",
      "\u001b[34mTS Home: /opt/conda/lib/python3.10/site-packages\u001b[0m\n",
      "\u001b[34mCurrent directory: /\u001b[0m\n",
      "\u001b[34mTemp directory: /home/model-server/tmp\u001b[0m\n",
      "\u001b[34mMetrics config path: /opt/conda/lib/python3.10/site-packages/ts/configs/metrics.yaml\u001b[0m\n",
      "\u001b[34mNumber of GPUs: 0\u001b[0m\n",
      "\u001b[34mNumber of CPUs: 8\u001b[0m\n",
      "\u001b[34mMax heap size: 7840 M\u001b[0m\n",
      "\u001b[34mPython executable: /opt/conda/bin/python3.10\u001b[0m\n",
      "\u001b[34mConfig file: /etc/sagemaker-ts.properties\u001b[0m\n",
      "\u001b[34mInference address: http://0.0.0.0:8080\u001b[0m\n",
      "\u001b[34mManagement address: http://0.0.0.0:8080\u001b[0m\n",
      "\u001b[34mMetrics address: http://127.0.0.1:8082\u001b[0m\n",
      "\u001b[34mModel Store: /.sagemaker/ts/models\u001b[0m\n",
      "\u001b[34mInitial Models: model=/opt/ml/model\u001b[0m\n",
      "\u001b[34mLog dir: /logs\u001b[0m\n",
      "\u001b[34mMetrics dir: /logs\u001b[0m\n",
      "\u001b[34mNetty threads: 0\u001b[0m\n",
      "\u001b[34mNetty client threads: 0\u001b[0m\n",
      "\u001b[34mDefault workers per model: 8\u001b[0m\n",
      "\u001b[34mBlacklist Regex: N/A\u001b[0m\n",
      "\u001b[34mMaximum Response Size: 6553500\u001b[0m\n",
      "\u001b[34mMaximum Request Size: 6553500\u001b[0m\n",
      "\u001b[34mLimit Maximum Image Pixels: true\u001b[0m\n",
      "\u001b[34mPrefer direct buffer: false\u001b[0m\n",
      "\u001b[34mAllowed Urls: [file://.*|http(s)?://.*]\u001b[0m\n",
      "\u001b[34mCustom python dependency for model allowed: false\u001b[0m\n",
      "\u001b[34mEnable metrics API: true\u001b[0m\n",
      "\u001b[34mMetrics mode: log\u001b[0m\n",
      "\u001b[34mDisable system metrics: true\u001b[0m\n",
      "\u001b[34mWorkflow Store: /.sagemaker/ts/models\u001b[0m\n",
      "\u001b[34mModel config: N/A\u001b[0m\n",
      "\u001b[34m2023-09-16T19:24:50,853 [INFO ] main org.pytorch.serve.servingsdk.impl.PluginsManager -  Loading snapshot serializer plugin...\u001b[0m\n",
      "\u001b[34m2023-09-16T19:24:50,871 [INFO ] main org.pytorch.serve.ModelServer - Loading initial models: /opt/ml/model\u001b[0m\n",
      "\u001b[34m2023-09-16T19:24:50,876 [WARN ] main org.pytorch.serve.archive.model.ModelArchive - Model archive version is not defined. Please upgrade to torch-model-archiver 0.2.0 or higher\u001b[0m\n",
      "\u001b[34m2023-09-16T19:24:50,876 [WARN ] main org.pytorch.serve.archive.model.ModelArchive - Model archive createdOn is not defined. Please upgrade to torch-model-archiver 0.2.0 or higher\u001b[0m\n",
      "\u001b[34m2023-09-16T19:24:50,879 [INFO ] main org.pytorch.serve.wlm.ModelManager - Model model loaded.\u001b[0m\n",
      "\u001b[34m2023-09-16T19:24:50,893 [INFO ] main org.pytorch.serve.ModelServer - Initialize Inference server with: EpollServerSocketChannel.\u001b[0m\n",
      "\u001b[34m2023-09-16T19:24:51,093 [INFO ] main org.pytorch.serve.ModelServer - Inference API bind to: http://0.0.0.0:8080\u001b[0m\n",
      "\u001b[34m2023-09-16T19:24:51,094 [INFO ] main org.pytorch.serve.ModelServer - Initialize Metrics server with: EpollServerSocketChannel.\u001b[0m\n",
      "\u001b[34m2023-09-16T19:24:51,170 [INFO ] main org.pytorch.serve.ModelServer - Metrics API bind to: http://127.0.0.1:8082\u001b[0m\n",
      "\u001b[34mModel server started.\u001b[0m\n",
      "\u001b[34m2023-09-16T19:24:53,534 [INFO ] W-9000-model_1.0-stdout MODEL_LOG - s_name_part0=/home/model-server/tmp/.ts.sock, s_name_part1=9000, pid=69\u001b[0m\n",
      "\u001b[34m2023-09-16T19:24:53,537 [INFO ] W-9000-model_1.0-stdout MODEL_LOG - Listening on port: /home/model-server/tmp/.ts.sock.9000\u001b[0m\n",
      "\u001b[34m2023-09-16T19:24:53,545 [INFO ] W-9002-model_1.0-stdout MODEL_LOG - s_name_part0=/home/model-server/tmp/.ts.sock, s_name_part1=9002, pid=65\u001b[0m\n",
      "\u001b[34m2023-09-16T19:24:53,546 [INFO ] W-9002-model_1.0-stdout MODEL_LOG - Listening on port: /home/model-server/tmp/.ts.sock.9002\u001b[0m\n",
      "\u001b[34m2023-09-16T19:24:53,553 [INFO ] W-9000-model_1.0-stdout MODEL_LOG - Successfully loaded /opt/conda/lib/python3.10/site-packages/ts/configs/metrics.yaml.\u001b[0m\n",
      "\u001b[34m2023-09-16T19:24:53,554 [INFO ] W-9000-model_1.0-stdout MODEL_LOG - [PID]69\u001b[0m\n",
      "\u001b[34m2023-09-16T19:24:53,554 [INFO ] W-9000-model_1.0-stdout MODEL_LOG - Torch worker started.\u001b[0m\n",
      "\u001b[34m2023-09-16T19:24:53,555 [INFO ] W-9000-model_1.0-stdout MODEL_LOG - Python runtime: 3.10.9\u001b[0m\n",
      "\u001b[34m2023-09-16T19:24:53,560 [INFO ] W-9000-model_1.0 org.pytorch.serve.wlm.WorkerThread - Connecting to: /home/model-server/tmp/.ts.sock.9000\u001b[0m\n",
      "\u001b[34m2023-09-16T19:24:53,562 [INFO ] W-9002-model_1.0-stdout MODEL_LOG - Successfully loaded /opt/conda/lib/python3.10/site-packages/ts/configs/metrics.yaml.\u001b[0m\n",
      "\u001b[34m2023-09-16T19:24:53,562 [INFO ] W-9002-model_1.0-stdout MODEL_LOG - [PID]65\u001b[0m\n",
      "\u001b[34m2023-09-16T19:24:53,563 [INFO ] W-9002-model_1.0-stdout MODEL_LOG - Torch worker started.\u001b[0m\n",
      "\u001b[34m2023-09-16T19:24:53,563 [INFO ] W-9002-model_1.0-stdout MODEL_LOG - Python runtime: 3.10.9\u001b[0m\n",
      "\u001b[34m2023-09-16T19:24:53,563 [INFO ] W-9002-model_1.0 org.pytorch.serve.wlm.WorkerThread - Connecting to: /home/model-server/tmp/.ts.sock.9002\u001b[0m\n",
      "\u001b[34m2023-09-16T19:24:53,580 [INFO ] W-9000-model_1.0-stdout MODEL_LOG - Connection accepted: /home/model-server/tmp/.ts.sock.9000.\u001b[0m\n",
      "\u001b[34m2023-09-16T19:24:53,580 [INFO ] W-9002-model_1.0-stdout MODEL_LOG - Connection accepted: /home/model-server/tmp/.ts.sock.9002.\u001b[0m\n",
      "\u001b[34m2023-09-16T19:24:53,584 [INFO ] W-9002-model_1.0 org.pytorch.serve.wlm.WorkerThread - Flushing req.cmd LOAD to backend at: 1694892293584\u001b[0m\n",
      "\u001b[34m2023-09-16T19:24:53,584 [INFO ] W-9007-model_1.0-stdout MODEL_LOG - s_name_part0=/home/model-server/tmp/.ts.sock, s_name_part1=9007, pid=68\u001b[0m\n",
      "\u001b[34m2023-09-16T19:24:53,585 [INFO ] W-9007-model_1.0-stdout MODEL_LOG - Listening on port: /home/model-server/tmp/.ts.sock.9007\u001b[0m\n",
      "\u001b[34m2023-09-16T19:24:53,588 [INFO ] W-9000-model_1.0 org.pytorch.serve.wlm.WorkerThread - Flushing req.cmd LOAD to backend at: 1694892293588\u001b[0m\n",
      "\u001b[34m2023-09-16T19:24:53,601 [INFO ] W-9007-model_1.0-stdout MODEL_LOG - Successfully loaded /opt/conda/lib/python3.10/site-packages/ts/configs/metrics.yaml.\u001b[0m\n",
      "\u001b[34m2023-09-16T19:24:53,602 [INFO ] W-9007-model_1.0-stdout MODEL_LOG - [PID]68\u001b[0m\n",
      "\u001b[34m2023-09-16T19:24:53,602 [INFO ] W-9007-model_1.0-stdout MODEL_LOG - Torch worker started.\u001b[0m\n",
      "\u001b[34m2023-09-16T19:24:53,603 [INFO ] W-9007-model_1.0-stdout MODEL_LOG - Python runtime: 3.10.9\u001b[0m\n",
      "\u001b[34m2023-09-16T19:24:53,602 [INFO ] W-9007-model_1.0 org.pytorch.serve.wlm.WorkerThread - Connecting to: /home/model-server/tmp/.ts.sock.9007\u001b[0m\n",
      "\u001b[34m2023-09-16T19:24:53,619 [INFO ] W-9003-model_1.0-stdout MODEL_LOG - s_name_part0=/home/model-server/tmp/.ts.sock, s_name_part1=9003, pid=63\u001b[0m\n",
      "\u001b[34m2023-09-16T19:24:53,621 [INFO ] W-9003-model_1.0-stdout MODEL_LOG - Listening on port: /home/model-server/tmp/.ts.sock.9003\u001b[0m\n",
      "\u001b[34m2023-09-16T19:24:53,633 [INFO ] W-9007-model_1.0-stdout MODEL_LOG - Connection accepted: /home/model-server/tmp/.ts.sock.9007.\u001b[0m\n",
      "\u001b[34m2023-09-16T19:24:53,634 [INFO ] W-9007-model_1.0 org.pytorch.serve.wlm.WorkerThread - Flushing req.cmd LOAD to backend at: 1694892293634\u001b[0m\n",
      "\u001b[34m2023-09-16T19:24:53,658 [INFO ] W-9003-model_1.0-stdout MODEL_LOG - Successfully loaded /opt/conda/lib/python3.10/site-packages/ts/configs/metrics.yaml.\u001b[0m\n",
      "\u001b[34m2023-09-16T19:24:53,660 [INFO ] W-9003-model_1.0-stdout MODEL_LOG - [PID]63\u001b[0m\n",
      "\u001b[34m2023-09-16T19:24:53,661 [INFO ] W-9003-model_1.0-stdout MODEL_LOG - Torch worker started.\u001b[0m\n",
      "\u001b[34m2023-09-16T19:24:53,661 [INFO ] W-9003-model_1.0 org.pytorch.serve.wlm.WorkerThread - Connecting to: /home/model-server/tmp/.ts.sock.9003\u001b[0m\n",
      "\u001b[34m2023-09-16T19:24:53,663 [INFO ] W-9003-model_1.0-stdout MODEL_LOG - Python runtime: 3.10.9\u001b[0m\n",
      "\u001b[34m2023-09-16T19:24:53,667 [INFO ] W-9000-model_1.0-stdout MODEL_LOG - model_name: model, batchSize: 1\u001b[0m\n",
      "\u001b[34m2023-09-16T19:24:53,673 [INFO ] W-9002-model_1.0-stdout MODEL_LOG - model_name: model, batchSize: 1\u001b[0m\n",
      "\u001b[34m2023-09-16T19:24:53,675 [INFO ] W-9003-model_1.0 org.pytorch.serve.wlm.WorkerThread - Flushing req.cmd LOAD to backend at: 1694892293675\u001b[0m\n",
      "\u001b[34m2023-09-16T19:24:53,673 [INFO ] W-9007-model_1.0-stdout MODEL_LOG - model_name: model, batchSize: 1\u001b[0m\n",
      "\u001b[34m2023-09-16T19:24:53,680 [INFO ] W-9003-model_1.0-stdout MODEL_LOG - Connection accepted: /home/model-server/tmp/.ts.sock.9003.\u001b[0m\n",
      "\u001b[34m2023-09-16T19:24:53,687 [INFO ] W-9004-model_1.0-stdout MODEL_LOG - s_name_part0=/home/model-server/tmp/.ts.sock, s_name_part1=9004, pid=67\u001b[0m\n",
      "\u001b[34m2023-09-16T19:24:53,688 [INFO ] W-9004-model_1.0-stdout MODEL_LOG - Listening on port: /home/model-server/tmp/.ts.sock.9004\u001b[0m\n",
      "\u001b[34m2023-09-16T19:24:53,715 [INFO ] W-9004-model_1.0-stdout MODEL_LOG - Successfully loaded /opt/conda/lib/python3.10/site-packages/ts/configs/metrics.yaml.\u001b[0m\n",
      "\u001b[34m2023-09-16T19:24:53,716 [INFO ] W-9004-model_1.0-stdout MODEL_LOG - [PID]67\u001b[0m\n",
      "\u001b[34m2023-09-16T19:24:53,716 [INFO ] W-9004-model_1.0-stdout MODEL_LOG - Torch worker started.\u001b[0m\n",
      "\u001b[34m2023-09-16T19:24:53,717 [INFO ] W-9004-model_1.0 org.pytorch.serve.wlm.WorkerThread - Connecting to: /home/model-server/tmp/.ts.sock.9004\u001b[0m\n",
      "\u001b[34m2023-09-16T19:24:53,717 [INFO ] W-9004-model_1.0-stdout MODEL_LOG - Python runtime: 3.10.9\u001b[0m\n",
      "\u001b[34m2023-09-16T19:24:53,728 [INFO ] W-9004-model_1.0-stdout MODEL_LOG - Connection accepted: /home/model-server/tmp/.ts.sock.9004.\u001b[0m\n",
      "\u001b[34m2023-09-16T19:24:53,728 [INFO ] W-9004-model_1.0 org.pytorch.serve.wlm.WorkerThread - Flushing req.cmd LOAD to backend at: 1694892293728\u001b[0m\n",
      "\u001b[34m2023-09-16T19:24:53,736 [INFO ] W-9003-model_1.0-stdout MODEL_LOG - model_name: model, batchSize: 1\u001b[0m\n",
      "\u001b[34m2023-09-16T19:24:53,775 [INFO ] W-9005-model_1.0-stdout MODEL_LOG - s_name_part0=/home/model-server/tmp/.ts.sock, s_name_part1=9005, pid=64\u001b[0m\n",
      "\u001b[34m2023-09-16T19:24:53,778 [INFO ] W-9005-model_1.0-stdout MODEL_LOG - Listening on port: /home/model-server/tmp/.ts.sock.9005\u001b[0m\n",
      "\u001b[34m2023-09-16T19:24:53,781 [INFO ] W-9004-model_1.0-stdout MODEL_LOG - model_name: model, batchSize: 1\u001b[0m\n",
      "\u001b[34m2023-09-16T19:24:53,797 [INFO ] W-9005-model_1.0-stdout MODEL_LOG - Successfully loaded /opt/conda/lib/python3.10/site-packages/ts/configs/metrics.yaml.\u001b[0m\n",
      "\u001b[34m2023-09-16T19:24:53,800 [INFO ] W-9005-model_1.0-stdout MODEL_LOG - [PID]64\u001b[0m\n",
      "\u001b[34m2023-09-16T19:24:53,800 [INFO ] W-9005-model_1.0-stdout MODEL_LOG - Torch worker started.\u001b[0m\n",
      "\u001b[34m2023-09-16T19:24:53,801 [INFO ] W-9005-model_1.0 org.pytorch.serve.wlm.WorkerThread - Connecting to: /home/model-server/tmp/.ts.sock.9005\u001b[0m\n",
      "\u001b[34m2023-09-16T19:24:53,805 [INFO ] W-9005-model_1.0-stdout MODEL_LOG - Python runtime: 3.10.9\u001b[0m\n",
      "\u001b[34m2023-09-16T19:24:53,807 [INFO ] W-9005-model_1.0-stdout MODEL_LOG - Connection accepted: /home/model-server/tmp/.ts.sock.9005.\u001b[0m\n",
      "\u001b[34m2023-09-16T19:24:53,808 [INFO ] W-9005-model_1.0 org.pytorch.serve.wlm.WorkerThread - Flushing req.cmd LOAD to backend at: 1694892293808\u001b[0m\n",
      "\u001b[34m2023-09-16T19:24:53,835 [INFO ] W-9005-model_1.0-stdout MODEL_LOG - model_name: model, batchSize: 1\u001b[0m\n",
      "\u001b[34m2023-09-16T19:24:54,132 [INFO ] W-9006-model_1.0-stdout MODEL_LOG - s_name_part0=/home/model-server/tmp/.ts.sock, s_name_part1=9006, pid=66\u001b[0m\n",
      "\u001b[34m2023-09-16T19:24:54,133 [INFO ] W-9006-model_1.0-stdout MODEL_LOG - Listening on port: /home/model-server/tmp/.ts.sock.9006\u001b[0m\n",
      "\u001b[34m2023-09-16T19:24:54,173 [INFO ] W-9006-model_1.0-stdout MODEL_LOG - Successfully loaded /opt/conda/lib/python3.10/site-packages/ts/configs/metrics.yaml.\u001b[0m\n",
      "\u001b[34m2023-09-16T19:24:54,175 [INFO ] W-9006-model_1.0-stdout MODEL_LOG - [PID]66\u001b[0m\n",
      "\u001b[34m2023-09-16T19:24:54,176 [INFO ] W-9006-model_1.0-stdout MODEL_LOG - Torch worker started.\u001b[0m\n",
      "\u001b[34m2023-09-16T19:24:54,177 [INFO ] W-9006-model_1.0-stdout MODEL_LOG - Python runtime: 3.10.9\u001b[0m\n",
      "\u001b[34m2023-09-16T19:24:54,176 [INFO ] W-9006-model_1.0 org.pytorch.serve.wlm.WorkerThread - Connecting to: /home/model-server/tmp/.ts.sock.9006\u001b[0m\n",
      "\u001b[34m2023-09-16T19:24:54,189 [INFO ] W-9006-model_1.0-stdout MODEL_LOG - Connection accepted: /home/model-server/tmp/.ts.sock.9006.\u001b[0m\n",
      "\u001b[34m2023-09-16T19:24:54,191 [INFO ] W-9006-model_1.0 org.pytorch.serve.wlm.WorkerThread - Flushing req.cmd LOAD to backend at: 1694892294191\u001b[0m\n",
      "\u001b[34m2023-09-16T19:24:54,260 [INFO ] W-9006-model_1.0-stdout MODEL_LOG - model_name: model, batchSize: 1\u001b[0m\n",
      "\u001b[34m2023-09-16T19:24:54,573 [INFO ] W-9001-model_1.0-stdout MODEL_LOG - s_name_part0=/home/model-server/tmp/.ts.sock, s_name_part1=9001, pid=62\u001b[0m\n",
      "\u001b[34m2023-09-16T19:24:54,574 [INFO ] W-9001-model_1.0-stdout MODEL_LOG - Listening on port: /home/model-server/tmp/.ts.sock.9001\u001b[0m\n",
      "\u001b[34m2023-09-16T19:24:54,590 [INFO ] W-9001-model_1.0-stdout MODEL_LOG - Successfully loaded /opt/conda/lib/python3.10/site-packages/ts/configs/metrics.yaml.\u001b[0m\n",
      "\u001b[34m2023-09-16T19:24:54,591 [INFO ] W-9001-model_1.0-stdout MODEL_LOG - [PID]62\u001b[0m\n",
      "\u001b[34m2023-09-16T19:24:54,591 [INFO ] W-9001-model_1.0-stdout MODEL_LOG - Torch worker started.\u001b[0m\n",
      "\u001b[34m2023-09-16T19:24:54,592 [INFO ] W-9001-model_1.0-stdout MODEL_LOG - Python runtime: 3.10.9\u001b[0m\n",
      "\u001b[34m2023-09-16T19:24:54,592 [INFO ] W-9001-model_1.0 org.pytorch.serve.wlm.WorkerThread - Connecting to: /home/model-server/tmp/.ts.sock.9001\u001b[0m\n",
      "\u001b[34m2023-09-16T19:24:54,609 [INFO ] W-9001-model_1.0-stdout MODEL_LOG - Connection accepted: /home/model-server/tmp/.ts.sock.9001.\u001b[0m\n",
      "\u001b[34m2023-09-16T19:24:54,610 [INFO ] W-9001-model_1.0 org.pytorch.serve.wlm.WorkerThread - Flushing req.cmd LOAD to backend at: 1694892294610\u001b[0m\n",
      "\u001b[34m2023-09-16T19:24:54,652 [INFO ] W-9003-model_1.0 org.pytorch.serve.wlm.WorkerThread - Backend response time: 917\u001b[0m\n",
      "\u001b[34m2023-09-16T19:24:54,654 [INFO ] W-9003-model_1.0 TS_METRICS - WorkerLoadTime.Milliseconds:3764.0|#WorkerName:W-9003-model_1.0,Level:Host|#hostname:a611c435808e,timestamp:1694892294\u001b[0m\n",
      "\u001b[34m2023-09-16T19:24:54,654 [INFO ] W-9003-model_1.0 TS_METRICS - WorkerThreadTime.Milliseconds:62.0|#Level:Host|#hostname:a611c435808e,timestamp:1694892294\u001b[0m\n",
      "\u001b[34m2023-09-16T19:24:54,652 [INFO ] W-9002-model_1.0 org.pytorch.serve.wlm.WorkerThread - Backend response time: 964\u001b[0m\n",
      "\u001b[34m2023-09-16T19:24:54,655 [INFO ] W-9002-model_1.0 TS_METRICS - WorkerLoadTime.Milliseconds:3766.0|#WorkerName:W-9002-model_1.0,Level:Host|#hostname:a611c435808e,timestamp:1694892294\u001b[0m\n",
      "\u001b[34m2023-09-16T19:24:54,656 [INFO ] W-9002-model_1.0 TS_METRICS - WorkerThreadTime.Milliseconds:108.0|#Level:Host|#hostname:a611c435808e,timestamp:1694892294\u001b[0m\n",
      "\u001b[34m2023-09-16T19:24:54,671 [INFO ] W-9001-model_1.0-stdout MODEL_LOG - model_name: model, batchSize: 1\u001b[0m\n",
      "\u001b[34m2023-09-16T19:24:54,685 [INFO ] W-9007-model_1.0 org.pytorch.serve.wlm.WorkerThread - Backend response time: 993\u001b[0m\n",
      "\u001b[34m2023-09-16T19:24:54,686 [INFO ] W-9007-model_1.0 TS_METRICS - WorkerLoadTime.Milliseconds:3795.0|#WorkerName:W-9007-model_1.0,Level:Host|#hostname:a611c435808e,timestamp:1694892294\u001b[0m\n",
      "\u001b[34m2023-09-16T19:24:54,687 [INFO ] W-9007-model_1.0 TS_METRICS - WorkerThreadTime.Milliseconds:60.0|#Level:Host|#hostname:a611c435808e,timestamp:1694892294\u001b[0m\n",
      "\u001b[34m2023-09-16T19:24:54,713 [INFO ] W-9005-model_1.0 org.pytorch.serve.wlm.WorkerThread - Backend response time: 865\u001b[0m\n",
      "\u001b[34m2023-09-16T19:24:54,714 [INFO ] W-9005-model_1.0 TS_METRICS - WorkerLoadTime.Milliseconds:3824.0|#WorkerName:W-9005-model_1.0,Level:Host|#hostname:a611c435808e,timestamp:1694892294\u001b[0m\n",
      "\u001b[34m2023-09-16T19:24:54,715 [INFO ] W-9005-model_1.0 TS_METRICS - WorkerThreadTime.Milliseconds:42.0|#Level:Host|#hostname:a611c435808e,timestamp:1694892294\u001b[0m\n",
      "\u001b[34m2023-09-16T19:24:54,716 [INFO ] W-9000-model_1.0 org.pytorch.serve.wlm.WorkerThread - Backend response time: 1055\u001b[0m\n",
      "\u001b[34m2023-09-16T19:24:54,717 [INFO ] W-9000-model_1.0 TS_METRICS - WorkerLoadTime.Milliseconds:3831.0|#WorkerName:W-9000-model_1.0,Level:Host|#hostname:a611c435808e,timestamp:1694892294\u001b[0m\n",
      "\u001b[34m2023-09-16T19:24:54,717 [INFO ] W-9000-model_1.0 TS_METRICS - WorkerThreadTime.Milliseconds:74.0|#Level:Host|#hostname:a611c435808e,timestamp:1694892294\u001b[0m\n",
      "\u001b[34m2023-09-16T19:24:54,763 [INFO ] W-9004-model_1.0 org.pytorch.serve.wlm.WorkerThread - Backend response time: 983\u001b[0m\n",
      "\u001b[34m2023-09-16T19:24:54,764 [INFO ] W-9004-model_1.0 TS_METRICS - WorkerLoadTime.Milliseconds:3874.0|#WorkerName:W-9004-model_1.0,Level:Host|#hostname:a611c435808e,timestamp:1694892294\u001b[0m\n",
      "\u001b[34m2023-09-16T19:24:54,764 [INFO ] W-9004-model_1.0 TS_METRICS - WorkerThreadTime.Milliseconds:53.0|#Level:Host|#hostname:a611c435808e,timestamp:1694892294\u001b[0m\n",
      "\u001b[34m2023-09-16T19:24:55,014 [INFO ] W-9006-model_1.0 org.pytorch.serve.wlm.WorkerThread - Backend response time: 755\u001b[0m\n",
      "\u001b[34m2023-09-16T19:24:55,014 [INFO ] W-9006-model_1.0 TS_METRICS - WorkerLoadTime.Milliseconds:4124.0|#WorkerName:W-9006-model_1.0,Level:Host|#hostname:a611c435808e,timestamp:1694892295\u001b[0m\n",
      "\u001b[34m2023-09-16T19:24:55,015 [INFO ] W-9006-model_1.0 TS_METRICS - WorkerThreadTime.Milliseconds:69.0|#Level:Host|#hostname:a611c435808e,timestamp:1694892295\u001b[0m\n",
      "\u001b[34m2023-09-16T19:24:55,226 [INFO ] W-9001-model_1.0 org.pytorch.serve.wlm.WorkerThread - Backend response time: 543\u001b[0m\n",
      "\u001b[34m2023-09-16T19:24:55,227 [INFO ] W-9001-model_1.0 TS_METRICS - WorkerLoadTime.Milliseconds:4339.0|#WorkerName:W-9001-model_1.0,Level:Host|#hostname:a611c435808e,timestamp:1694892295\u001b[0m\n",
      "\u001b[34m2023-09-16T19:24:55,227 [INFO ] W-9001-model_1.0 TS_METRICS - WorkerThreadTime.Milliseconds:74.0|#Level:Host|#hostname:a611c435808e,timestamp:1694892295\u001b[0m\n",
      "\n",
      "\u001b[34m2023-09-16T19:24:56,602 [INFO ] pool-2-thread-9 ACCESS_LOG - /169.254.255.130:47974 \"GET /ping HTTP/1.1\" 200 13\u001b[0m\n",
      "\u001b[35m2023-09-16T19:24:56,602 [INFO ] pool-2-thread-9 ACCESS_LOG - /169.254.255.130:47974 \"GET /ping HTTP/1.1\" 200 13\u001b[0m\n",
      "\u001b[34m2023-09-16T19:24:56,602 [INFO ] pool-2-thread-9 TS_METRICS - Requests2XX.Count:1.0|#Level:Host|#hostname:a611c435808e,timestamp:1694892296\u001b[0m\n",
      "\u001b[34m2023-09-16T19:24:56,619 [INFO ] epollEventLoopGroup-3-2 ACCESS_LOG - /169.254.255.130:47984 \"GET /execution-parameters HTTP/1.1\" 404 1\u001b[0m\n",
      "\u001b[34m2023-09-16T19:24:56,619 [INFO ] epollEventLoopGroup-3-2 TS_METRICS - Requests4XX.Count:1.0|#Level:Host|#hostname:a611c435808e,timestamp:1694892296\u001b[0m\n",
      "\u001b[35m2023-09-16T19:24:56,602 [INFO ] pool-2-thread-9 TS_METRICS - Requests2XX.Count:1.0|#Level:Host|#hostname:a611c435808e,timestamp:1694892296\u001b[0m\n",
      "\u001b[35m2023-09-16T19:24:56,619 [INFO ] epollEventLoopGroup-3-2 ACCESS_LOG - /169.254.255.130:47984 \"GET /execution-parameters HTTP/1.1\" 404 1\u001b[0m\n",
      "\u001b[35m2023-09-16T19:24:56,619 [INFO ] epollEventLoopGroup-3-2 TS_METRICS - Requests4XX.Count:1.0|#Level:Host|#hostname:a611c435808e,timestamp:1694892296\u001b[0m\n",
      "\u001b[32m2023-09-16T19:24:56.625:[sagemaker logs]: MaxConcurrentTransforms=1, MaxPayloadInMB=100, BatchStrategy=MULTI_RECORD\u001b[0m\n",
      "\u001b[34m2023-09-16T19:24:56,751 [INFO ] epollEventLoopGroup-3-3 TS_METRICS - ts_inference_requests_total.Count:1.0|#model_name:model,model_version:default|#hostname:a611c435808e,timestamp:1694892296\u001b[0m\n",
      "\u001b[35m2023-09-16T19:24:56,751 [INFO ] epollEventLoopGroup-3-3 TS_METRICS - ts_inference_requests_total.Count:1.0|#model_name:model,model_version:default|#hostname:a611c435808e,timestamp:1694892296\u001b[0m\n",
      "\u001b[34m2023-09-16T19:24:56,752 [INFO ] W-9003-model_1.0 org.pytorch.serve.wlm.WorkerThread - Flushing req.cmd PREDICT to backend at: 1694892296752\u001b[0m\n",
      "\u001b[34m2023-09-16T19:24:56,753 [INFO ] W-9003-model_1.0-stdout MODEL_LOG - Backend received inference at: 1694892296\u001b[0m\n",
      "\u001b[35m2023-09-16T19:24:56,752 [INFO ] W-9003-model_1.0 org.pytorch.serve.wlm.WorkerThread - Flushing req.cmd PREDICT to backend at: 1694892296752\u001b[0m\n",
      "\u001b[35m2023-09-16T19:24:56,753 [INFO ] W-9003-model_1.0-stdout MODEL_LOG - Backend received inference at: 1694892296\u001b[0m\n",
      "\u001b[34m2023-09-16T19:24:59,876 [INFO ] W-9003-model_1.0-stdout org.pytorch.serve.wlm.WorkerLifeCycle - result=[METRICS]PredictionTime.Milliseconds:3121.29|#ModelName:model,Level:Model|#hostname:a611c435808e,1694892299,c6e1efb2-098c-486d-9c5e-0caaa7258efb, pattern=[METRICS]\u001b[0m\n",
      "\u001b[35m2023-09-16T19:24:59,876 [INFO ] W-9003-model_1.0-stdout org.pytorch.serve.wlm.WorkerLifeCycle - result=[METRICS]PredictionTime.Milliseconds:3121.29|#ModelName:model,Level:Model|#hostname:a611c435808e,1694892299,c6e1efb2-098c-486d-9c5e-0caaa7258efb, pattern=[METRICS]\u001b[0m\n",
      "\u001b[34m2023-09-16T19:24:59,878 [INFO ] W-9003-model_1.0-stdout MODEL_METRICS - PredictionTime.ms:3121.29|#ModelName:model,Level:Model|#hostname:a611c435808e,requestID:c6e1efb2-098c-486d-9c5e-0caaa7258efb,timestamp:1694892299\u001b[0m\n",
      "\u001b[34m2023-09-16T19:24:59,886 [INFO ] W-9003-model_1.0 ACCESS_LOG - /169.254.255.130:47986 \"POST /invocations HTTP/1.1\" 200 3137\u001b[0m\n",
      "\u001b[34m2023-09-16T19:24:59,887 [INFO ] W-9003-model_1.0 TS_METRICS - Requests2XX.Count:1.0|#Level:Host|#hostname:a611c435808e,timestamp:1694892299\u001b[0m\n",
      "\u001b[34m2023-09-16T19:24:59,889 [INFO ] W-9003-model_1.0 TS_METRICS - ts_inference_latency_microseconds.Microseconds:3132973.74|#model_name:model,model_version:default|#hostname:a611c435808e,timestamp:1694892299\u001b[0m\n",
      "\u001b[34m2023-09-16T19:24:59,889 [INFO ] W-9003-model_1.0 TS_METRICS - ts_queue_latency_microseconds.Microseconds:186.146|#model_name:model,model_version:default|#hostname:a611c435808e,timestamp:1694892299\u001b[0m\n",
      "\u001b[34m2023-09-16T19:24:59,890 [INFO ] W-9003-model_1.0 TS_METRICS - QueueTime.Milliseconds:0.0|#Level:Host|#hostname:a611c435808e,timestamp:1694892299\u001b[0m\n",
      "\u001b[34m2023-09-16T19:24:59,890 [INFO ] W-9003-model_1.0 org.pytorch.serve.wlm.WorkerThread - Backend response time: 3131\u001b[0m\n",
      "\u001b[34m2023-09-16T19:24:59,891 [INFO ] W-9003-model_1.0 TS_METRICS - WorkerThreadTime.Milliseconds:8.0|#Level:Host|#hostname:a611c435808e,timestamp:1694892299\u001b[0m\n",
      "\u001b[35m2023-09-16T19:24:59,878 [INFO ] W-9003-model_1.0-stdout MODEL_METRICS - PredictionTime.ms:3121.29|#ModelName:model,Level:Model|#hostname:a611c435808e,requestID:c6e1efb2-098c-486d-9c5e-0caaa7258efb,timestamp:1694892299\u001b[0m\n",
      "\u001b[35m2023-09-16T19:24:59,886 [INFO ] W-9003-model_1.0 ACCESS_LOG - /169.254.255.130:47986 \"POST /invocations HTTP/1.1\" 200 3137\u001b[0m\n",
      "\u001b[35m2023-09-16T19:24:59,887 [INFO ] W-9003-model_1.0 TS_METRICS - Requests2XX.Count:1.0|#Level:Host|#hostname:a611c435808e,timestamp:1694892299\u001b[0m\n",
      "\u001b[35m2023-09-16T19:24:59,889 [INFO ] W-9003-model_1.0 TS_METRICS - ts_inference_latency_microseconds.Microseconds:3132973.74|#model_name:model,model_version:default|#hostname:a611c435808e,timestamp:1694892299\u001b[0m\n",
      "\u001b[35m2023-09-16T19:24:59,889 [INFO ] W-9003-model_1.0 TS_METRICS - ts_queue_latency_microseconds.Microseconds:186.146|#model_name:model,model_version:default|#hostname:a611c435808e,timestamp:1694892299\u001b[0m\n",
      "\u001b[35m2023-09-16T19:24:59,890 [INFO ] W-9003-model_1.0 TS_METRICS - QueueTime.Milliseconds:0.0|#Level:Host|#hostname:a611c435808e,timestamp:1694892299\u001b[0m\n",
      "\u001b[35m2023-09-16T19:24:59,890 [INFO ] W-9003-model_1.0 org.pytorch.serve.wlm.WorkerThread - Backend response time: 3131\u001b[0m\n",
      "\u001b[35m2023-09-16T19:24:59,891 [INFO ] W-9003-model_1.0 TS_METRICS - WorkerThreadTime.Milliseconds:8.0|#Level:Host|#hostname:a611c435808e,timestamp:1694892299\u001b[0m\n"
     ]
    }
   ],
   "source": [
    "transformer = estimator.transformer(\n",
    "    instance_count=1,\n",
    "    instance_type=instance_type,\n",
    "    max_payload=100,\n",
    ")\n",
    "\n",
    "transformer.transform(\n",
    "    data=test_data,\n",
    "    content_type=\"text/csv\",\n",
    ")"
   ]
  },
  {
   "cell_type": "markdown",
   "id": "54498c7d-dbb6-4098-b927-506e1058b062",
   "metadata": {},
   "source": [
    "Load the test set predictions from S3."
   ]
  },
  {
   "cell_type": "code",
   "execution_count": 19,
   "id": "317bf9e8-69ba-4eed-a8c9-8600fdbf92e9",
   "metadata": {},
   "outputs": [],
   "source": [
    "predictions = sagemaker_session.read_s3_file(\n",
    "    bucket=bucket,\n",
    "    key_prefix=f\"{transformer.latest_transform_job.name}/{dataset_name}_test.csv.out\"\n",
    ")"
   ]
  },
  {
   "cell_type": "code",
   "execution_count": 20,
   "id": "401fed04-1591-4f58-bb89-4dff0f6acfa3",
   "metadata": {},
   "outputs": [],
   "source": [
    "predictions = pd.DataFrame([x.split(\",\") for x in predictions.split(\"\\n\")[:-1]]).replace(\"\", np.nan).astype(float)"
   ]
  },
  {
   "cell_type": "code",
   "execution_count": 21,
   "id": "fe3eb1f5-5a4a-4623-9a4f-dc0958df4802",
   "metadata": {
    "tags": []
   },
   "outputs": [
    {
     "data": {
      "text/plain": [
       "(32000, 2)"
      ]
     },
     "execution_count": 21,
     "metadata": {},
     "output_type": "execute_result"
    }
   ],
   "source": [
    "predictions.shape"
   ]
  },
  {
   "cell_type": "code",
   "execution_count": 22,
   "id": "085ccaeb-c9a3-4735-843e-42b81f387049",
   "metadata": {
    "tags": []
   },
   "outputs": [
    {
     "data": {
      "text/html": [
       "<div>\n",
       "<style scoped>\n",
       "    .dataframe tbody tr th:only-of-type {\n",
       "        vertical-align: middle;\n",
       "    }\n",
       "\n",
       "    .dataframe tbody tr th {\n",
       "        vertical-align: top;\n",
       "    }\n",
       "\n",
       "    .dataframe thead th {\n",
       "        text-align: right;\n",
       "    }\n",
       "</style>\n",
       "<table border=\"1\" class=\"dataframe\">\n",
       "  <thead>\n",
       "    <tr style=\"text-align: right;\">\n",
       "      <th></th>\n",
       "      <th>0</th>\n",
       "      <th>1</th>\n",
       "    </tr>\n",
       "  </thead>\n",
       "  <tbody>\n",
       "    <tr>\n",
       "      <th>0</th>\n",
       "      <td>NaN</td>\n",
       "      <td>NaN</td>\n",
       "    </tr>\n",
       "    <tr>\n",
       "      <th>1</th>\n",
       "      <td>NaN</td>\n",
       "      <td>NaN</td>\n",
       "    </tr>\n",
       "    <tr>\n",
       "      <th>2</th>\n",
       "      <td>NaN</td>\n",
       "      <td>NaN</td>\n",
       "    </tr>\n",
       "    <tr>\n",
       "      <th>3</th>\n",
       "      <td>NaN</td>\n",
       "      <td>NaN</td>\n",
       "    </tr>\n",
       "    <tr>\n",
       "      <th>4</th>\n",
       "      <td>NaN</td>\n",
       "      <td>NaN</td>\n",
       "    </tr>\n",
       "  </tbody>\n",
       "</table>\n",
       "</div>"
      ],
      "text/plain": [
       "    0   1\n",
       "0 NaN NaN\n",
       "1 NaN NaN\n",
       "2 NaN NaN\n",
       "3 NaN NaN\n",
       "4 NaN NaN"
      ]
     },
     "execution_count": 22,
     "metadata": {},
     "output_type": "execute_result"
    }
   ],
   "source": [
    "predictions.head()"
   ]
  },
  {
   "cell_type": "code",
   "execution_count": 23,
   "id": "3e137b23-cddc-4211-9dcc-233575e5c636",
   "metadata": {
    "tags": []
   },
   "outputs": [
    {
     "data": {
      "text/html": [
       "<div>\n",
       "<style scoped>\n",
       "    .dataframe tbody tr th:only-of-type {\n",
       "        vertical-align: middle;\n",
       "    }\n",
       "\n",
       "    .dataframe tbody tr th {\n",
       "        vertical-align: top;\n",
       "    }\n",
       "\n",
       "    .dataframe thead th {\n",
       "        text-align: right;\n",
       "    }\n",
       "</style>\n",
       "<table border=\"1\" class=\"dataframe\">\n",
       "  <thead>\n",
       "    <tr style=\"text-align: right;\">\n",
       "      <th></th>\n",
       "      <th>0</th>\n",
       "      <th>1</th>\n",
       "    </tr>\n",
       "  </thead>\n",
       "  <tbody>\n",
       "    <tr>\n",
       "      <th>31995</th>\n",
       "      <td>1.250345</td>\n",
       "      <td>-6.506207</td>\n",
       "    </tr>\n",
       "    <tr>\n",
       "      <th>31996</th>\n",
       "      <td>1.344912</td>\n",
       "      <td>-6.583544</td>\n",
       "    </tr>\n",
       "    <tr>\n",
       "      <th>31997</th>\n",
       "      <td>1.435532</td>\n",
       "      <td>-5.249293</td>\n",
       "    </tr>\n",
       "    <tr>\n",
       "      <th>31998</th>\n",
       "      <td>1.479056</td>\n",
       "      <td>-4.343917</td>\n",
       "    </tr>\n",
       "    <tr>\n",
       "      <th>31999</th>\n",
       "      <td>1.528201</td>\n",
       "      <td>-3.776419</td>\n",
       "    </tr>\n",
       "  </tbody>\n",
       "</table>\n",
       "</div>"
      ],
      "text/plain": [
       "              0         1\n",
       "31995  1.250345 -6.506207\n",
       "31996  1.344912 -6.583544\n",
       "31997  1.435532 -5.249293\n",
       "31998  1.479056 -4.343917\n",
       "31999  1.528201 -3.776419"
      ]
     },
     "execution_count": 23,
     "metadata": {},
     "output_type": "execute_result"
    }
   ],
   "source": [
    "predictions.tail()"
   ]
  },
  {
   "cell_type": "markdown",
   "id": "5949c778-c8e5-4f0e-a53f-2a4d1bf1bc0d",
   "metadata": {},
   "source": [
    "Extract the anomalous time steps."
   ]
  },
  {
   "cell_type": "code",
   "execution_count": 24,
   "id": "cfc41486-f63d-41b9-8b60-ff36fbfb7526",
   "metadata": {
    "tags": []
   },
   "outputs": [],
   "source": [
    "anomalies = predictions.iloc[:, 0].sort_values().iloc[:k].index.to_series()"
   ]
  },
  {
   "cell_type": "code",
   "execution_count": 25,
   "id": "937234e7-e2ae-4205-b7d7-9f8226edd097",
   "metadata": {
    "tags": []
   },
   "outputs": [
    {
     "data": {
      "text/plain": [
       "array([29639, 29640])"
      ]
     },
     "execution_count": 25,
     "metadata": {},
     "output_type": "execute_result"
    }
   ],
   "source": [
    "anomalies.values"
   ]
  },
  {
   "cell_type": "markdown",
   "id": "61a8310e-fc8d-4f7f-bc26-c16a3c2941e2",
   "metadata": {},
   "source": [
    "Check if the anomalous time steps are within the anomalous time interval."
   ]
  },
  {
   "cell_type": "code",
   "execution_count": 26,
   "id": "34ea2558-ec58-4bc1-af5c-ef6285d5dcad",
   "metadata": {
    "tags": []
   },
   "outputs": [
    {
     "data": {
      "text/plain": [
       "array([ True,  True])"
      ]
     },
     "execution_count": 26,
     "metadata": {},
     "output_type": "execute_result"
    }
   ],
   "source": [
    "anomalies.between(start - cutoff, end - cutoff).values"
   ]
  },
  {
   "cell_type": "markdown",
   "id": "831fccc6-0e68-45c0-8ec5-e1e47340c365",
   "metadata": {},
   "source": [
    "Visualize the predictions and the normality scores."
   ]
  },
  {
   "cell_type": "code",
   "execution_count": 27,
   "id": "9dba2cf6-3765-4089-bac1-1dfe141cae03",
   "metadata": {
    "tags": []
   },
   "outputs": [
    {
     "data": {
      "image/png": "[encoded data removed]",
      "text/plain": [
       "<Figure size 600x600 with 2 Axes>"
      ]
     },
     "metadata": {},
     "output_type": "display_data"
    }
   ],
   "source": [
    "fig, axs = plt.subplots(nrows=2, ncols=1, sharex=True, figsize=(6, 6))\n",
    "\n",
    "axs[0].set_title(\"Time Series\", size=10)\n",
    "axs[0].plot(test_dataset.values, color=\"#AFB8C1\", lw=0.5, label=\"Actual\")\n",
    "axs[0].plot(predictions.iloc[:, 1], color=\"#009ad3\", lw=0.5, label=\"Predicted\")\n",
    "axs[0].set(xlabel=\"Time\", ylabel=\"Value\")\n",
    "axs[0].xaxis.set_tick_params(labelbottom=True)\n",
    "axs[0].tick_params(axis=\"both\", which=\"major\", labelsize=7)\n",
    "axs[0].tick_params(axis=\"both\", which=\"minor\", labelsize=7)\n",
    "\n",
    "axs[1].set_title(\"Normality Score\", size=10)\n",
    "axs[1].plot(predictions.iloc[:, 0], color=\"#57606a\", lw=0.5)\n",
    "axs[1].set(xlabel=\"Time\", ylabel=\"Value\")\n",
    "axs[1].xaxis.set_tick_params(labelbottom=True)\n",
    "axs[1].tick_params(axis=\"both\", which=\"major\", labelsize=7)\n",
    "axs[1].tick_params(axis=\"both\", which=\"minor\", labelsize=7)\n",
    "\n",
    "fig.tight_layout()\n",
    "fig.legend(bbox_to_anchor=(1.2, 1, 0, 0), frameon=False)\n",
    "fig.show()"
   ]
  }
 ],
 "metadata": {
  "kernelspec": {
   "display_name": "conda_python3",
   "language": "python",
   "name": "conda_python3"
  },
  "language_info": {
   "codemirror_mode": {
    "name": "ipython",
    "version": 3
   },
   "file_extension": ".py",
   "mimetype": "text/x-python",
   "name": "python",
   "nbconvert_exporter": "python",
   "pygments_lexer": "ipython3",
   "version": "3.10.12"
  }
 },
 "nbformat": 4,
 "nbformat_minor": 5
}
